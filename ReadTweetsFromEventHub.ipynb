{
 "cells": [
  {
   "cell_type": "code",
   "execution_count": 0,
   "metadata": {
    "application/vnd.databricks.v1+cell": {
     "inputWidgets": {},
     "nuid": "87efef81-a789-4d01-8449-72f76d71c733",
     "showTitle": false,
     "title": ""
    }
   },
   "outputs": [
    {
     "data": {
      "text/html": [
       "<style scoped>\n",
       "  .ansiout {\n",
       "    display: block;\n",
       "    unicode-bidi: embed;\n",
       "    white-space: pre-wrap;\n",
       "    word-wrap: break-word;\n",
       "    word-break: break-all;\n",
       "    font-family: \"Source Code Pro\", \"Menlo\", monospace;;\n",
       "    font-size: 13px;\n",
       "    color: #555;\n",
       "    margin-left: 4px;\n",
       "    line-height: 19px;\n",
       "  }\n",
       "</style>\n",
       "<div class=\"ansiout\">root\n",
       "-- body: binary (nullable = true)\n",
       "-- partition: string (nullable = true)\n",
       "-- offset: string (nullable = true)\n",
       "-- sequenceNumber: long (nullable = true)\n",
       "-- enqueuedTime: timestamp (nullable = true)\n",
       "-- publisher: string (nullable = true)\n",
       "-- partitionKey: string (nullable = true)\n",
       "-- properties: map (nullable = true)\n",
       "    |-- key: string\n",
       "    |-- value: string (valueContainsNull = true)\n",
       "-- systemProperties: map (nullable = true)\n",
       "    |-- key: string\n",
       "    |-- value: string (valueContainsNull = true)\n",
       "\n",
       "import org.apache.spark.eventhubs._\n",
       "import com.microsoft.azure.eventhubs._\n",
       "namespaceName: String = AyushEH\n",
       "eventHubName: String = myeventhub\n",
       "sasKeyName: String = myeventhubpolicy\n",
       "sasKey: String = 3QGg6sx5dB3deb9/y1o9V8qB6l7kyho14fbt1qWb5BM=\n",
       "connStr: com.microsoft.azure.eventhubs.ConnectionStringBuilder = Endpoint=sb://AyushEH.servicebus.windows.net;EntityPath=myeventhub;SharedAccessKeyName=myeventhubpolicy;SharedAccessKey=3QGg6sx5dB3deb9/y1o9V8qB6l7kyho14fbt1qWb5BM=\n",
       "customEventhubParameters: org.apache.spark.eventhubs.EventHubsConf = org.apache.spark.eventhubs.EventHubsConf@370e7ccc\n",
       "incomingStream: org.apache.spark.sql.DataFrame = [body: binary, partition: string ... 7 more fields]\n",
       "res0: org.apache.spark.sql.streaming.StreamingQuery = org.apache.spark.sql.execution.streaming.StreamingQueryWrapper@657e1b92\n",
       "</div>"
      ]
     },
     "metadata": {
      "application/vnd.databricks.v1+output": {
       "addedWidgets": {},
       "arguments": {},
       "data": "<div class=\"ansiout\">root\n |-- body: binary (nullable = true)\n |-- partition: string (nullable = true)\n |-- offset: string (nullable = true)\n |-- sequenceNumber: long (nullable = true)\n |-- enqueuedTime: timestamp (nullable = true)\n |-- publisher: string (nullable = true)\n |-- partitionKey: string (nullable = true)\n |-- properties: map (nullable = true)\n |    |-- key: string\n |    |-- value: string (valueContainsNull = true)\n |-- systemProperties: map (nullable = true)\n |    |-- key: string\n |    |-- value: string (valueContainsNull = true)\n\nimport org.apache.spark.eventhubs._\nimport com.microsoft.azure.eventhubs._\nnamespaceName: String = AyushEH\neventHubName: String = myeventhub\nsasKeyName: String = myeventhubpolicy\nsasKey: String = 3QGg6sx5dB3deb9/y1o9V8qB6l7kyho14fbt1qWb5BM=\nconnStr: com.microsoft.azure.eventhubs.ConnectionStringBuilder = Endpoint=sb://AyushEH.servicebus.windows.net;EntityPath=myeventhub;SharedAccessKeyName=myeventhubpolicy;SharedAccessKey=3QGg6sx5dB3deb9/y1o9V8qB6l7kyho14fbt1qWb5BM=\ncustomEventhubParameters: org.apache.spark.eventhubs.EventHubsConf = org.apache.spark.eventhubs.EventHubsConf@370e7ccc\nincomingStream: org.apache.spark.sql.DataFrame = [body: binary, partition: string ... 7 more fields]\nres0: org.apache.spark.sql.streaming.StreamingQuery = org.apache.spark.sql.execution.streaming.StreamingQueryWrapper@657e1b92\n</div>",
       "datasetInfos": [
        {
         "name": "incomingStream",
         "schema": {
          "fields": [
           {
            "metadata": {},
            "name": "body",
            "nullable": true,
            "type": "binary"
           },
           {
            "metadata": {},
            "name": "partition",
            "nullable": true,
            "type": "string"
           },
           {
            "metadata": {},
            "name": "offset",
            "nullable": true,
            "type": "string"
           },
           {
            "metadata": {},
            "name": "sequenceNumber",
            "nullable": true,
            "type": "long"
           },
           {
            "metadata": {},
            "name": "enqueuedTime",
            "nullable": true,
            "type": "timestamp"
           },
           {
            "metadata": {},
            "name": "publisher",
            "nullable": true,
            "type": "string"
           },
           {
            "metadata": {},
            "name": "partitionKey",
            "nullable": true,
            "type": "string"
           },
           {
            "metadata": {},
            "name": "properties",
            "nullable": true,
            "type": {
             "keyType": "string",
             "type": "map",
             "valueContainsNull": true,
             "valueType": "string"
            }
           },
           {
            "metadata": {},
            "name": "systemProperties",
            "nullable": true,
            "type": {
             "keyType": "string",
             "type": "map",
             "valueContainsNull": true,
             "valueType": "string"
            }
           }
          ],
          "type": "struct"
         },
         "tableIdentifier": null,
         "typeStr": "org.apache.spark.sql.DataFrame"
        }
       ],
       "removedWidgets": [],
       "type": "html"
      }
     },
     "output_type": "display_data"
    }
   ],
   "source": [
    "//Here I started streaming the tweets from the EventHub but while streaming it from EventHub it comes in binary format.\n",
    "%scala\n",
    "import org.apache.spark.eventhubs._\n",
    "import com.microsoft.azure.eventhubs._\n",
    "\n",
    "    // Build connection string with the above information\n",
    "    val namespaceName = \"*********\"\n",
    "    val eventHubName = \"**********\"\n",
    "    val sasKeyName = \"*************\"\n",
    "    val sasKey = \"*********************\"\n",
    "    val connStr = new com.microsoft.azure.eventhubs.ConnectionStringBuilder()\n",
    "                .setNamespaceName(namespaceName)\n",
    "                .setEventHubName(eventHubName)\n",
    "                .setSasKeyName(sasKeyName)\n",
    "                .setSasKey(sasKey)\n",
    "\n",
    "    val customEventhubParameters =\n",
    "      EventHubsConf(connStr.toString())\n",
    "      .setMaxEventsPerTrigger(5)\n",
    "\n",
    "    val incomingStream = spark.readStream.format(\"eventhubs\").options(customEventhubParameters.toMap).load()\n",
    "\n",
    "    incomingStream.printSchema\n",
    "\n",
    "    // Sending the incoming stream into the console.\n",
    "    // Data comes in batches!\n",
    "    incomingStream.writeStream.outputMode(\"append\").format(\"console\").option(\"truncate\", false).start()"
   ]
  },
  {
   "cell_type": "code",
   "execution_count": 0,
   "metadata": {
    "application/vnd.databricks.v1+cell": {
     "inputWidgets": {},
     "nuid": "493700ef-7183-4231-adaa-8f28558f6fc0",
     "showTitle": false,
     "title": ""
    }
   },
   "outputs": [
    {
     "data": {
      "text/html": [
       "<style scoped>\n",
       "  .ansiout {\n",
       "    display: block;\n",
       "    unicode-bidi: embed;\n",
       "    white-space: pre-wrap;\n",
       "    word-wrap: break-word;\n",
       "    word-break: break-all;\n",
       "    font-family: \"Source Code Pro\", \"Menlo\", monospace;;\n",
       "    font-size: 13px;\n",
       "    color: #555;\n",
       "    margin-left: 4px;\n",
       "    line-height: 19px;\n",
       "  }\n",
       "</style>\n",
       "<div class=\"ansiout\">import org.apache.spark.sql.types._\n",
       "import org.apache.spark.sql.functions._\n",
       "messages: org.apache.spark.sql.DataFrame = [Offset: bigint, TimeReadable: timestamp ... 2 more fields]\n",
       "res5: org.apache.spark.sql.streaming.StreamingQuery = org.apache.spark.sql.execution.streaming.StreamingQueryWrapper@4b0b7f82\n",
       "</div>"
      ]
     },
     "metadata": {
      "application/vnd.databricks.v1+output": {
       "addedWidgets": {},
       "arguments": {},
       "data": "<div class=\"ansiout\">import org.apache.spark.sql.types._\nimport org.apache.spark.sql.functions._\nmessages: org.apache.spark.sql.DataFrame = [Offset: bigint, TimeReadable: timestamp ... 2 more fields]\nres5: org.apache.spark.sql.streaming.StreamingQuery = org.apache.spark.sql.execution.streaming.StreamingQueryWrapper@4b0b7f82\n</div>",
       "datasetInfos": [
        {
         "name": "messages",
         "schema": {
          "fields": [
           {
            "metadata": {},
            "name": "Offset",
            "nullable": true,
            "type": "long"
           },
           {
            "metadata": {},
            "name": "TimeReadable",
            "nullable": true,
            "type": "timestamp"
           },
           {
            "metadata": {},
            "name": "Timestamp",
            "nullable": true,
            "type": "long"
           },
           {
            "metadata": {},
            "name": "Body",
            "nullable": true,
            "type": "string"
           }
          ],
          "type": "struct"
         },
         "tableIdentifier": null,
         "typeStr": "org.apache.spark.sql.DataFrame"
        }
       ],
       "removedWidgets": [],
       "type": "html"
      }
     },
     "output_type": "display_data"
    }
   ],
   "source": [
    "//Converting the binary stream into the readable format and writing it to mounted ADLS gen2.\n",
    "%scala\n",
    "import org.apache.spark.sql.types._\n",
    "import org.apache.spark.sql.functions._\n",
    "\n",
    "    // Event Hub message format is JSON and contains \"body\" field\n",
    "    // Body is binary, so we cast it to string to see the actual content of the message\n",
    "    val messages =\n",
    "      incomingStream\n",
    "      .withColumn(\"Offset\", $\"offset\".cast(LongType))\n",
    "      .withColumn(\"TimeReadable\", $\"enqueuedTime\".cast(TimestampType))\n",
    "      .withColumn(\"Timestamp\", $\"enqueuedTime\".cast(LongType))\n",
    "      .withColumn(\"Body\", $\"body\".cast(StringType))\n",
    "      .select(\"Offset\", \"TimeReadable\", \"Timestamp\", \"Body\")\n",
    "\n",
    "    //messages.printSchema\n",
    "\n",
    "    messages.writeStream.outputMode(\"append\").format(\"delta\").option(\"checkpointLocation\", \"/mnt/mymount1/Data\").table(\"USElectionResults\")"
   ]
  },
  {
   "cell_type": "code",
   "execution_count": 0,
   "metadata": {
    "application/vnd.databricks.v1+cell": {
     "inputWidgets": {},
     "nuid": "7e809434-acae-4cb1-b515-edb31f969fcc",
     "showTitle": false,
     "title": ""
    }
   },
   "outputs": [
    {
     "data": {
      "text/html": [
       "<style scoped>\n",
       "  .table-result-container {\n",
       "    max-height: 300px;\n",
       "    overflow: auto;\n",
       "  }\n",
       "  table, th, td {\n",
       "    border: 1px solid black;\n",
       "    border-collapse: collapse;\n",
       "  }\n",
       "  th, td {\n",
       "    padding: 5px;\n",
       "  }\n",
       "  th {\n",
       "    text-align: left;\n",
       "  }\n",
       "</style><div class='table-result-container'><table class='table-result'><thead style='background-color: white'><tr><th>Offset</th><th>TimeReadable</th><th>Timestamp</th><th>Body</th></tr></thead><tbody><tr><td>8590992208</td><td>2020-11-22T07:21:35.618+0000</td><td>1606029695</td><td>#ม็อบ17พฤศจิกา #whatishappeninginthailand #ประชุมสภา #แก้รัฐธรรมนูญ #หยุดคุกคามประชาชน #กูสั่งให้มึงอยู่ใต้รัฐธรรมนูญ #ThailandProtest2020 #ม็อบ17พฤศจิกา\n",
       "unknown\n",
       "Giannis\n",
       "Ningning\n",
       "Jrue\n",
       "giselle\n",
       "#SignThePapers \n",
       "\n",
       "#USElectionResults \n",
       "#VarunChakravarthy \n",
       "#whatshappeninginthailand\n",
       "あ https://t.co/DX6BpDM0NF</td></tr><tr><td>8591008440</td><td>2020-11-22T07:21:40.622+0000</td><td>1606029700</td><td>#ม็อบ17พฤศจิกา #whatishappeninginthailand #ประชุมสภา #แก้รัฐธรรมนูญ #หยุดคุกคามประชาชน #กูสั่งให้มึงอยู่ใต้รัฐธรรมนูญ #ThailandProtest2020 #ม็อบ17พฤศจิกา\n",
       "unknown\n",
       "Giannis\n",
       "Ningning\n",
       "Jrue\n",
       "giselle\n",
       "#SignThePapers \n",
       "\n",
       "#USElectionResults \n",
       "#VarunChakravarthy \n",
       "#whatshappeninginthailand https://t.co/DX6BpDM0NF</td></tr><tr><td>8590993384</td><td>2020-11-22T07:22:15.608+0000</td><td>1606029735</td><td>#ม็อบ17พฤศจิกา #whatishappeninginthailand #ประชุมสภา #แก้รัฐธรรมนูญ #หยุดคุกคามประชาชน #กูสั่งให้มึงอยู่ใต้รัฐธรรมนูญ #ThailandProtest2020 #ม็อบ17พฤศจิกา\n",
       "unknown\n",
       "Giannis\n",
       "Ningning\n",
       "Jrue\n",
       "giselle\n",
       "#SignThePapers \n",
       "\n",
       "#USElectionResults \n",
       "#VarunChakravarthy \n",
       "#whatshappeninginthailand https://t.co/DX6BpDM0NF</td></tr><tr><td>8591028688</td><td>2020-11-22T07:34:44.645+0000</td><td>1606030484</td><td>@samirsinh189 @WalteRiley @ManuelPMicaller @JoshAdams_1 @JessicaBrown53 @AndyMason001 @WetherbeeJon @gakatt @mavawna @RichardRossow @dds_sugano Regional Comprehensive Economic Partnership (#RCEP) is made up of 10 Southeast Asian countries, as well as South Korea, China, Japan, Australia and New Zealand. The pact is seen as an extension of China's influence in the region, #USElectionResults link? And #US pressure?</td></tr><tr><td>8591051344</td><td>2020-11-22T07:49:38.850+0000</td><td>1606031378</td><td>@GenFlynn @DanScavino @lofly727 @BarbaraRedgate @JosephJFlynn1 @GoJackFlynn @flynn_neill @realDonaldTrump In all honesty and with your hand on your heart, would you say @realDonaldTrump used his Presidency to drain the swamp? To wake people up? To reveal to them the scam that is the global financial system? To reveal the secret societies and their agendas? #USElectionResults</td></tr><tr><td>8591086472</td><td>2020-11-22T08:23:33.454+0000</td><td>1606033413</td><td>@AviFlyGirl @harrisonjaime @Georgia_AG @LindseyGrahamSC Also show up for this if in SC. #LindseyGrahamResign #georgiacheating #GrahamResign #2020Elections #2020Election #USElection2020 #KrakenReleased #USElectionResults #uspoli #USAelection2020 #gop #SouthCarolinaRecountNow #SouthCarolinaRecount #SouthCarolina #LadyG https://t.co/pq8GwtJ22O</td></tr><tr><td>8590986808</td><td>2020-11-22T07:17:54.125+0000</td><td>1606029474</td><td>@AviFlyGirl @harrisonjaime @Georgia_AG @LindseyGrahamSC Also show up for this if in SC. #LindseyGrahamResign #georgiacheating #GrahamResign #2020Elections #2020Election #USElection2020 #KrakenReleased #USElectionResults #uspoli #USAelection2020 #gop #SouthCarolinaRecountNow #SouthCarolinaRecount #SouthCarolina #LadyG https://t.co/pq8GwtJ22O</td></tr><tr><td>8591010776</td><td>2020-11-22T07:33:08.261+0000</td><td>1606030388</td><td>@MirrorNow @NitishKumar @RJDforIndia @manojkjhadu @scribe_prashant Trump fantasising in #USElectionResults his Country Cousin playing out in #BiharElectionResults \n",
       "\n",
       "#बिहार_मे_लोकतंत्र_कि_हत्या \n",
       "#बिहार_मांगें_रिकॉउंटिंग https://t.co/NvBj51mlcr</td></tr><tr><td>8591058016</td><td>2020-11-22T08:04:52.609+0000</td><td>1606032292</td><td>@ellis_march @mmpadellan Thinking about the #USElectionResults and the refusal to concede defeat. This verse refers to self-harm and harm to those around you (Trump does this). It's relevant to, as Bono refers to him 'the candidate' (He refuses to call him president). #U2songs #Bono #BidenHarris2020 https://t.co/cW9HnSGmhp</td></tr><tr><td>8591084432</td><td>2020-11-22T08:22:19.448+0000</td><td>1606033339</td><td>How to steal an American Election...🤔\n",
       "\n",
       "✔️ Rig the polls making your candidate look like a winner\n",
       "✔️ Use large scale mail-in ballots to hide your fraud\n",
       "✔️ Alter the ballot counting algorithms for insurance\n",
       "✔️ Use the media to amplify your claims of legitimacy\n",
       "\n",
       "#USElectionResults https://t.co/WHjPbOfjZn</td></tr><tr><td>8590984768</td><td>2020-11-22T07:16:40.268+0000</td><td>1606029400</td><td>How to steal an American Election...🤔\n",
       "\n",
       "✔️ Rig the polls making your candidate look like a winner\n",
       "✔️ Use large scale mail-in ballots to hide your fraud\n",
       "✔️ Alter the ballot counting algorithms for insurance\n",
       "✔️ Use the media to amplify your claims of legitimacy\n",
       "\n",
       "#USElectionResults https://t.co/WHjPbOfjZn</td></tr><tr><td>8591023432</td><td>2020-11-22T07:41:01.015+0000</td><td>1606030861</td><td>@Phantom2Phlyer @EricShawnTV @FoxNews @realDonaldTrump @FoxNews should be talking 24/7 about #VoterCorruption in this #USElectionResults but NOOO only talking about @JoeBiden as president elect which is NOT true   I'm through with @FoxNews the #Traitors to @realDonaldTrump 😡😡😡😡😡😡😡😡😡😡😡😡</td></tr><tr><td>8591058400</td><td>2020-11-22T08:05:02.611+0000</td><td>1606032302</td><td>@mmpadellan Thinking about the #USElectionResults and the refusal to concede defeat. This verse refers to self-harm and harm to those around you (Trump does this). It's relevant to, as Bono refers to him 'the candidate' (He refuses to call him president). #U2songs #Bono #BidenHarris2020 https://t.co/MOmZfuUZDO</td></tr><tr><td>8591072264</td><td>2020-11-22T08:05:07.603+0000</td><td>1606032307</td><td>@mmpadellan Thinking about the #USElectionResults and the refusal to concede defeat. This verse refers to self-harm and harm to those around you (Trump does this). It's relevant to, as Bono refers to him 'the candidate' (He refuses to call him president). #U2songs #Bono #BidenHarris2020 https://t.co/X7Id3X9Nhd</td></tr><tr><td>8591017952</td><td>2020-11-22T07:37:19.646+0000</td><td>1606030639</td><td>“And in July, after a drawn-out battle over the integrity of elections in Guyana, Pompeo appeared on camera and said it was “long past due for a peaceful transition of power.”\n",
       "They should get on with it,” he said.”\n",
       "\n",
       "Yup. Get on with it. \n",
       "\n",
       "#guyanaelections2020 \n",
       "#USElectionResults https://t.co/avYvF6dqqL</td></tr><tr><td>8591052344</td><td>2020-11-22T07:50:08.838+0000</td><td>1606031408</td><td>Trump Supporters: THIS ENTIRE US ELECTION IS SO BIASED IN FAVOUR OF JOE BIDEN JUST BECAUSE A LOT MORE PEOPLE VOTED FOR HIM THAN TRUMP!! DISGRACEFUL!!! \n",
       "Everyone else: 🤷🏻‍♂️🤦🏻‍♂️\n",
       "\n",
       "#USElection #USElectionResults #BidenHarris2020 #BidenPresidentElect #TrumpIsALaughingStock #TrumpTantrum</td></tr><tr><td>8591026280</td><td>2020-11-22T07:33:03.269+0000</td><td>1606030383</td><td>#USElectionResults Give away at #rarible\n",
       "🕐(T3) Trump in Time Travel\n",
       "3 winners!\n",
       "① Follow me\n",
       "② Retweet this post\n",
       "③ Comment your Rarible Address\n",
       "\n",
       "Winner selected on 16th midnight(UTC+8)\n",
       "#Collectible #digitalart #artwork #NFTs #NFT #election #trump #biden #USElection #president https://t.co/1VUH1F2YHh</td></tr><tr><td>8591090672</td><td>2020-11-22T08:17:10.123+0000</td><td>1606033030</td><td>#US House passes bipartisan Resolution on #Tibet, we hope #USSenate will follow the same, a issue that very much related to Human kind https://t.co/puMPO9snuJ #FreeTibet #FreeHK #EU #India #China #XiJinping #ChineseVirus #HoldChinaAccountable #ExpansionistChina #USElectionResults https://t.co/hP8ICnTTlt</td></tr><tr><td>8591084072</td><td>2020-11-22T08:22:08.494+0000</td><td>1606033328</td><td>The #Republican Canvassers #MonicaPalmer & #WilliamHartman have now voted to certify the Nov 3. #USElectionResults but not before a massive outcry about their #racist attempt to disenfranchise hundreds of thousands of #BlackVoters in #Detriot.\n",
       "#Trump #TrumpLies #USElection #Biden https://t.co/oEm0Xyj45i</td></tr><tr><td>8591006760</td><td>2020-11-22T07:20:40.599+0000</td><td>1606029640</td><td>Retweet for a chance to get yours done!\n",
       "\n",
       "#sabc #disneyplus #FreeEromz #tuesdayvibe #tremor #tuesdaymotivations #WinWithCapeTownGuy #Election2020 #USElectionResults #Uzalo #ProudlySouthAfrican #aespa #KarachiKings #covid19SA #CovidVaccine #vaccine #BTC #Bushiri #MotivationalQuotes https://t.co/MrYyXIx4j6</td></tr><tr><td>8590992888</td><td>2020-11-22T07:11:31.027+0000</td><td>1606029091</td><td>#US House passes bipartisan Resolution on #Tibet, we hope #USSenate will follow the same, a issue that very much related to Human kind https://t.co/puMPO9snuJ #FreeTibet #FreeHK #EU #India #China #XiJinping #ChineseVirus #HoldChinaAccountable #ExpansionistChina #USElectionResults https://t.co/hP8ICnTTlt</td></tr><tr><td>8590984408</td><td>2020-11-22T07:16:29.314+0000</td><td>1606029389</td><td>The #Republican Canvassers #MonicaPalmer & #WilliamHartman have now voted to certify the Nov 3. #USElectionResults but not before a massive outcry about their #racist attempt to disenfranchise hundreds of thousands of #BlackVoters in #Detriot.\n",
       "#Trump #TrumpLies #USElection #Biden https://t.co/oEm0Xyj45i</td></tr><tr><td>8591067584</td><td>2020-11-22T08:01:54.209+0000</td><td>1606032114</td><td>Y am I not surprised! But happening too soon! I knew with Biden a new war wud come in this part of the world, this is an indication on whats to come! Irans turn is coming! IF Biden pulls frm Afghanistan (which is very unlikely now) #USElectionResults #USPresidentialElections2020 https://t.co/MwRcyL5zHo</td></tr><tr><td>8591071784</td><td>2020-11-22T08:13:33.862+0000</td><td>1606032813</td><td>Republicans bowed down to this criminal and now he threatening and mocking the United states of America \n",
       "\n",
       "Take this scanning criminal power and prosecute him to the higher court of law \n",
       "It’s ridiculous the people we have in offices or seats to play these myths #USElectionResults https://t.co/lHqB08bo3Q</td></tr><tr><td>8590972120</td><td>2020-11-22T07:07:54.812+0000</td><td>1606028874</td><td>Republicans bowed down to this criminal and now he threatening and mocking the United states of America \n",
       "\n",
       "Take this scanning criminal power and prosecute him to the higher court of law \n",
       "It’s ridiculous the people we have in offices or seats to play these myths #USElectionResults https://t.co/lHqB08bo3Q</td></tr><tr><td>8591045456</td><td>2020-11-22T07:56:46.479+0000</td><td>1606031806</td><td>Between the #USElectionResults in question, the #Covid19 pandemic and just generally precarious times, equity and #cryptocurrency markets both look poised to make a major move soon.. The latter's option/future prices suggest the same..\n",
       "\n",
       "Via @Cointelegraph:\n",
       "https://t.co/bsUkrcGtgM https://t.co/KifqecqDPq</td></tr><tr><td>8591036136</td><td>2020-11-22T07:39:46.006+0000</td><td>1606030786</td><td>This is the type of media used to demonise people who oppose right-wing policies that affect and leave millions in poverty. \n",
       "\n",
       "This family it's not being followed or harassed, in fact, they are walking with sufficient distance & alongside  anti-Trump supporters\n",
       "#USElectionResults https://t.co/4khPh994L0</td></tr><tr><td>8590998312</td><td>2020-11-22T07:25:05.625+0000</td><td>1606029905</td><td>@ames_1233 @realDonaldTrump It is true, a new wave brings new restrictions to Europe. How do I know? Because I am an europan. Stop trusting #bigmedia, and especially @cnn Most of what they are saying about #trump is either just part of the truth or totally fake. #USElection2020 #USElectionResults #Covid</td></tr><tr><td>8591050984</td><td>2020-11-22T07:49:28.817+0000</td><td>1606031368</td><td>Who believes unelected #dominiccummimgs and #LeeCain's  departure is because of an office spat between #unelected #CarrieSymonds sticking up for #AllegraStratton?  \n",
       "\n",
       "Completely staged.  It's to do with #JoeBiden winning the #USElectionResults & #BrexitReality.  Pure face-saving. https://t.co/BV6dR5Mxkf</td></tr><tr><td>8591100112</td><td>2020-11-22T08:23:38.436+0000</td><td>1606033418</td><td>If @JoeBiden & @KamalaHarris & @TheDemocrats position is to ignore crimes in the name of bringing people together, they've already lost. You don't save democracy by ignoring some rules for political expediency. POTUS shouldn't tell DOJ who not to investigate! #USElectionResults https://t.co/h3BycgUXDE</td></tr><tr><td>8591002328</td><td>2020-11-22T07:17:59.121+0000</td><td>1606029479</td><td>If @JoeBiden & @KamalaHarris & @TheDemocrats position is to ignore crimes in the name of bringing people together, they've already lost. You don't save democracy by ignoring some rules for political expediency. POTUS shouldn't tell DOJ who not to investigate! #USElectionResults https://t.co/h3BycgUXDE</td></tr><tr><td>8590991848</td><td>2020-11-22T07:21:25.616+0000</td><td>1606029685</td><td>#ISBFDailies \n",
       "As Joe Biden becomes the New President of the USA, there is a lot of anticipation of strengthening #economic ties between the USA and India. Which of the following developments would be beneficial for India?\n",
       "#JoeBidenKamalaHarris2020 #JOEBIDEN2020 #USElectionResults https://t.co/UITg7g3VG5</td></tr><tr><td>8591037296</td><td>2020-11-22T07:40:26.013+0000</td><td>1606030826</td><td>Time for some humour. \n",
       "The election results have been analyzed: President Trump did extremely well with women, men, minorities, seniors. Where he fell short and where Basement Joe dominated was in the dead population & those aged 125-150 years of age. #USElectionResults @Davos https://t.co/9FBxXOwGk2</td></tr><tr><td>8591001872</td><td>2020-11-22T07:27:06.942+0000</td><td>1606030026</td><td>Clearly this is the attitude we need in academia. When your 6 day experiment doesn’t work, just pretend that it did or when a grant application gets rejected...it’s prob been accepted and they just don’t know it yet. #delusion #USElectionResults #phdchat #AcademicChatter https://t.co/yxJEJI5zzN</td></tr><tr><td>8591008072</td><td>2020-11-22T07:31:08.265+0000</td><td>1606030268</td><td>The once-special partnership  #Germany #US which already lost some of its luster in the decades after the Cold War, sunk to a post-World War II low during #DonaldTrump administration. Most Germans wanted to see him gone — with reason #USElectionResults\n",
       "https://t.co/3sa2REmzbD https://t.co/wMlFLhhJXE</td></tr><tr><td>8591035912</td><td>2020-11-22T07:49:43.835+0000</td><td>1606031383</td><td>Checkout my Gigon Fiverr:Minimalist vector https://t.co/PjXIZMuFtj\n",
       "\n",
       "#RepublicansForBiden #Capricorn #Philadelphia #coronavirus #boycottfrenchproducts #USElectionResults #JoeBidenKamalaHarris2020 #WhatsApp #JOEBIDEN2020 #TrumpvsBiden #Islam #Japan #BidenHarris2020 #TrumpMeltdown https://t.co/Wq96omhlMb</td></tr><tr><td>8590983536</td><td>2020-11-22T07:05:19.816+0000</td><td>1606028719</td><td>Wow this mind boggling. I'm finding it hard to fathom how any person can believe any of this, let alone why the #GOP leadership is sanctioning it. It's conspiracy upon deranged conspiracy, without a shred of evidence.\n",
       "#Trump #SydneyPowell #Republicans #Biden #USElectionResults https://t.co/hnKq1KsSGM</td></tr><tr><td>8591081320</td><td>2020-11-22T08:10:58.872+0000</td><td>1606032658</td><td>Wow this mind boggling. I'm finding it hard to fathom how any person can believe any of this, let alone why the #GOP leadership is sanctioning it. It's conspiracy upon deranged conspiracy, without a shred of evidence.\n",
       "#Trump #SydneyPowell #Republicans #Biden #USElectionResults https://t.co/hnKq1KsSGM</td></tr><tr><td>8590997952</td><td>2020-11-22T07:24:55.622+0000</td><td>1606029895</td><td>Check out my Gig on Fiverr: t shirt design https://t.co/csbIVXeou2\n",
       "\n",
       "#RepublicansForBiden #Capricorn #Philadelphia #coronavirus #boycottfrenchproducts #USElectionResults #JoeBidenKamalaHarris2020 #WhatsApp #JOEBIDEN2020 #TrumpvsBiden #Election2020 #BidenHarris2020 #Spotify #Japan https://t.co/9sqAzPMKpi</td></tr><tr><td>8591046312</td><td>2020-11-22T07:57:16.481+0000</td><td>1606031836</td><td>How did the world react to the #USElectionResults ? What will change in US foreign policy under @JoeBiden  ? Our #HEADLINESERIES panel discussion chaired by Dean @AdilNajam with my colleagues @VeskoGarcevic, Eric Goldstein, Manjari Miller + Zoliswa Mali https://t.co/9PMKUSKqqe https://t.co/uNaPIwrsyj</td></tr><tr><td>8591052640</td><td>2020-11-22T08:01:09.229+0000</td><td>1606032069</td><td>Frustrated seeing Indian plan to attack Pakistan after 13 Nov  jeopardised in the wake of #USElectionResults the #IndianArmy has started shelling Civilian population in Azad #Kashmir. 4 civilians including kids martyred in shelling \n",
       "@UN\n",
       "#Leepa.\n",
       "@amnesty\n",
       "@AJEnglish\n",
       "#NeelumValley https://t.co/nXOlm4eytq</td></tr><tr><td>8591001968</td><td>2020-11-22T07:17:49.121+0000</td><td>1606029469</td><td>It wouldn't be wrong to be worried.\n",
       "\n",
       "The masses have been misled about the election process and Biden winning. If this keeps up, and MSM has to cover this, they will make it look like a coup.\n",
       "\n",
       "Then, political violence will escalate. #USAvaalit2020 #usavaalit #USElectionResults https://t.co/9clyL7jp37</td></tr><tr><td>8591099752</td><td>2020-11-22T08:23:28.449+0000</td><td>1606033408</td><td>It wouldn't be wrong to be worried.\n",
       "\n",
       "The masses have been misled about the election process and Biden winning. If this keeps up, and MSM has to cover this, they will make it look like a coup.\n",
       "\n",
       "Then, political violence will escalate. #USAvaalit2020 #usavaalit #USElectionResults https://t.co/9clyL7jp37</td></tr><tr><td>8591012032</td><td>2020-11-22T07:33:49.644+0000</td><td>1606030429</td><td>Pay us to do your;\n",
       "English \n",
       "Someone help\n",
       "Maths\n",
       "Essays due \n",
       "PowerPoint\n",
       "History\n",
       "Geography\n",
       "Assignments \n",
       "Nursing\n",
       "Economics\n",
       "Biology\n",
       "Paper write\n",
       "Homework\n",
       "Sociology\n",
       "Accounting\n",
       "Essay due\n",
       "Essay help\n",
       "Pay final \n",
       "Term paper\n",
       "Pay history \n",
       "Research paper\n",
       "@prudent_writers\n",
       " \n",
       "#USElectionResults https://t.co/llmYf17JnF</td></tr><tr><td>8591004408</td><td>2020-11-22T07:28:46.952+0000</td><td>1606030126</td><td>@cheapaccounting Do you need a virtual Accountant? If yes, then hire me. I am here to serve you. Please contact with me by: https://t.co/v61HQqxQUS\n",
       "#Quickbooks #Xero #virtualaccountant #VirtualJobsFair #virtualassistant #USElectionResults #KamalaHarris #JoeBidenKamalaHarris2020 https://t.co/AqoJmUvxXx</td></tr><tr><td>8591047272</td><td>2020-11-22T07:57:46.484+0000</td><td>1606031866</td><td>Check out my Gig on Fiverr: stencil art https://t.co/9dYg70kWNj\n",
       "\n",
       "#RepublicansForBiden #Capricorn #Philadelphia #coronavirus #boycottfrenchproducts #USElectionResults #JoeBidenKamalaHarris2020 #WhatsApp #JOEBIDEN2020 #TrumpvsBiden #Election2020 #BidenHarris2020 #TrumpMeltdown https://t.co/wHZgpVagV7</td></tr><tr><td>8591046432</td><td>2020-11-22T07:46:17.400+0000</td><td>1606031177</td><td>'JIRA Administration Step by Step'\n",
       "https://t.co/9Gi2teyPGJ\n",
       "\n",
       "#BookTwitter #Germany #readerscommunity #booklover #books #EmmanuelMacron #ElectionDay #Elections2020 #ElectionResults2020 #JOEBIDEN2020 #AWS  #USElectionResults #JoeBidenKamalaHarris2020 #HappyJakeDay Festival of Lights https://t.co/UAZPngFW8P</td></tr><tr><td>8590981296</td><td>2020-11-22T07:03:29.800+0000</td><td>1606028609</td><td>How can so many people be so useless & incompetant at their jobs? #Trump & his lawyers claim there was a widespread conspiracy to rob him of the #USelection. They're claiming election fraud in #Michigan but their \"evidence\" cites towns in #Minnesota. \n",
       "#USElectionResults #Biden https://t.co/qQcGoIS2uR</td></tr><tr><td>8591034088</td><td>2020-11-22T07:38:24.649+0000</td><td>1606030704</td><td>#USElectionResults\n",
       "#JoeBiden defeats #DonaldTrump to WIN presidency--#Biden has won US election, while Georgia RECOUNTS, & #Trump refuses to concede; Biden wins #Georgia & Trump wins #NorthCarolina.\n",
       "\n",
       "This's brings the FINAL Electoral vote tally to 306 for Biden & 232 for Trump! https://t.co/X4JJIzu3OG</td></tr><tr><td>8591079080</td><td>2020-11-22T08:09:08.863+0000</td><td>1606032548</td><td>How can so many people be so useless & incompetant at their jobs? #Trump & his lawyers claim there was a widespread conspiracy to rob him of the #USelection. They're claiming election fraud in #Michigan but their \"evidence\" cites towns in #Minnesota. \n",
       "#USElectionResults #Biden https://t.co/qQcGoIS2uR</td></tr><tr><td>8591030688</td><td>2020-11-22T07:46:02.377+0000</td><td>1606031162</td><td>Pay us to do your;\n",
       "English \n",
       "Someone help\n",
       "Maths\n",
       "Essays due \n",
       "PowerPoint\n",
       "History\n",
       "Geography\n",
       "Assignments \n",
       "Nursing\n",
       "Economics\n",
       "Biology\n",
       "Paper write\n",
       "Homework\n",
       "Sociology\n",
       "Accounting\n",
       "Essay due\n",
       "Essay help\n",
       "Pay final \n",
       "Term paper\n",
       "Pay history \n",
       "Research paper\n",
       "@prudent_writers \n",
       "#USElectionResults https://t.co/Bje3ZQQg1W</td></tr><tr><td>8591054296</td><td>2020-11-22T08:02:19.221+0000</td><td>1606032139</td><td>Can the following betting companys give me their positions on #USElectionResults  betting. \n",
       "\n",
       "Have you paid out on Joe Biden or are you awaiting claims of fraud from Donald Trump being settled\n",
       "\n",
       "@paddypower \n",
       "@SkyBet \n",
       "@WilliamHill \n",
       "@Pinnacle \n",
       "@ladbrokes\n",
       "@BetfairExchange \n",
       "@bet365 https://t.co/NKNstmFSo9</td></tr><tr><td>8591004048</td><td>2020-11-22T07:28:36.936+0000</td><td>1606030116</td><td>@VRbookkeepers Do you need a virtual Accountant? If yes, then hire me. I am here to serve you. Please contact with me by: https://t.co/v61HQqxQUS\n",
       "#Quickbooks #Xero #virtualaccountant #VirtualJobsFair #virtualassistant #USElectionResults #KamalaHarris #JoeBidenKamalaHarris2020 https://t.co/rHP2s1Vx5X</td></tr><tr><td>8591022352</td><td>2020-11-22T07:40:21.007+0000</td><td>1606030821</td><td>US ELECTION 2020 - THE CAT IS OUT OF THE BAG! Bye-bye #JOEBIDEN, Cabal & #NWO #USElections2020 #USElectionResults #USElection2020 #USAelection2020 #USPresidentialElections2020 @BeNosey @UN @wef @Davos @DavidJHarrisJr @JLPtalk @99freemind @MichaelTelling2 @Hawk_Montgomery @OUTASA https://t.co/cFcedO2eJV</td></tr><tr><td>8591019568</td><td>2020-11-22T07:28:51.925+0000</td><td>1606030131</td><td>@VirtualFocusAc1 Do you need a virtual Accountant? If yes, then hire me. I am here to serve you. Please contact with me by: https://t.co/v61HQqxQUS\n",
       "#Quickbooks #Xero #virtualaccountant #VirtualJobsFair #virtualassistant #USElectionResults #KamalaHarris #JoeBidenKamalaHarris2020 https://t.co/qtr9h9JMka</td></tr><tr><td>8591016480</td><td>2020-11-22T07:26:41.928+0000</td><td>1606030001</td><td>Going backwards in time! Tell me your actions & deep feelings & that reveals How Truly you are living God's Law! #EvangelicalsForTrump #CatholicsforTrump #LatinosForTrump #JewsForTrump #TrumpTantrum #USElectionResults #ElectionResults2020 #Biden2020 #COVID19 #TrumpDeathToll246K https://t.co/gRo6uADHMw</td></tr><tr><td>8591020272</td><td>2020-11-22T07:29:11.927+0000</td><td>1606030151</td><td>US President Donald Trump tweeted I won the election has gone viral with users quoting it with false claims like I am Batman, I won Noble prize another twitter user wrote The game is to type I WON and let autocorrect finish the sentence...\n",
       "#USElections2020 \n",
       "#USElectionResults https://t.co/5Momf4YzjK</td></tr><tr><td>8591058768</td><td>2020-11-22T08:05:12.596+0000</td><td>1606032312</td><td>Thinking about the #USElectionResults and the refusal to concede defeat. This verse refers to self-harm and harm to those around you (Trump does this). It's relevant to, as Bono refers to him 'the candidate' (He refuses to call him president). #U2songs #Bono #BidenHarris2020 https://t.co/LfDmdznv9W</td></tr><tr><td>8591043800</td><td>2020-11-22T07:55:25.202+0000</td><td>1606031725</td><td>While the synchronicity of the Electoral College is a nice hook, it is meaningless in the context of 2020 without mentioning that Biden won the popular vote by five million plus - the disparity in real terms between 2016 and 2020 is stark #USElectionResults #USAElections2020 https://t.co/jzNeTbtKw9</td></tr><tr><td>8590986176</td><td>2020-11-22T07:06:59.832+0000</td><td>1606028819</td><td>I continue to be astonished and frightened at what the still incumbent government a civilised western nation can be, and is allowed to be, capable of. And how easily people can be misled (cf Hitler’s Germany). From ⁦@TheEconomist⁩ morning briefing. #USElectionResults https://t.co/thB9cMMJaV</td></tr><tr><td>8590999808</td><td>2020-11-22T07:25:56.927+0000</td><td>1606029956</td><td>@realDonaldTrump The race is OVER\n",
       "You LOST\n",
       "You can't control what happens with Biden's presidency\n",
       "But, HE WILL be the POTUS\n",
       "NOT YOU\n",
       "Stop with the scare tactics\n",
       "Soon, you'll be completely irrelevant & it will be a beautiful day\n",
       "\n",
       "#GullibleWhiteMaleTrumpVoters\n",
       "#AmericaDecides2020\n",
       "#USElectionResults</td></tr><tr><td>8591021160</td><td>2020-11-22T07:39:31.016+0000</td><td>1606030771</td><td>📯Account Management Service Available📊📊\n",
       "📯Minimum Deposit 500$ upto 1000K$ 🧑‍💻\n",
       "📯Profit Sharing 50/50 ⏳⏳\n",
       "📯Sharing Method Skrill, Netteller,Btc📬\n",
       " Contact@+17023819583. #forexsignals #RealEstate #USAelection2020 #invetsors #CardiB #USElectionResults #LasVegas #NewYork</td></tr><tr><td>8591018864</td><td>2020-11-22T07:28:31.924+0000</td><td>1606030111</td><td>@calderon_aa4 Do you need a virtual Accountant? If yes, then hire me. I am here to serve you. Please contact with me by: https://t.co/v61HQqxQUS\n",
       "#Quickbooks #Xero #virtualaccountant #VirtualJobsFair #virtualassistant #USElectionResults #KamalaHarris #JoeBidenKamalaHarris2020 https://t.co/kN39m0o9P6</td></tr><tr><td>8590979960</td><td>2020-11-22T07:13:17.110+0000</td><td>1606029197</td><td>@ChuckChesnut @ScottBaio Oh yeh, weren't there so many right-wingers beating people up on the streets.\n",
       "\n",
       "Wait now...no, it was #BlackLivesMatter protestors  doing it, wasn't it, people who hated Trump.\n",
       "\n",
       "So it can't have been the right. It must have been...wait for it...the left! #USElectionResults</td></tr><tr><td>8591079624</td><td>2020-11-22T08:18:56.260+0000</td><td>1606033136</td><td>@ChuckChesnut @ScottBaio Oh yeh, weren't there so many right-wingers beating people up on the streets.\n",
       "\n",
       "Wait now...no, it was #BlackLivesMatter protestors  doing it, wasn't it, people who hated Trump.\n",
       "\n",
       "So it can't have been the right. It must have been...wait for it...the left! #USElectionResults</td></tr><tr><td>8591025192</td><td>2020-11-22T07:32:23.264+0000</td><td>1606030343</td><td>1/2 I usually do not take a lot of interest in other countries politics, however the US election had a lot of incidents which spiked the interest of many people not in the US including Trump's tweets and Kanye running for the presidency. #canschufollowme #USElectionResults https://t.co/xSaoKnfKjI</td></tr><tr><td>8591013104</td><td>2020-11-22T07:34:29.649+0000</td><td>1606030469</td><td>#President of #USA 20th January 2021 must #SaveAmerica  & #UnitedStates #Citizen from Heavy Burden of Money arising due to #elections #Loopholes. Ultimate #Loser are #Americans. \n",
       "#USAElections2020 #USElectionResults #USAelection2020 #USElections2020 #AmericaDecides2020 #Trump https://t.co/o0U0fX1yVU</td></tr><tr><td>8591035128</td><td>2020-11-22T07:39:06.019+0000</td><td>1606030746</td><td>Help to retweeting & commenting & giving like,\n",
       "Instagram link 👇\n",
       "https://t.co/zKMpLvdWQU\n",
       "\n",
       "[#painting #NobodyArtistClub #Spotify #feluda #painterofthenight #ElectionNight #Elecciones2020 #USElectionResults #USElections2020 #USA #USAElections2020 #WENDY #SHINee #sundayvibes ] https://t.co/T8LWzhgfqo</td></tr><tr><td>8591019216</td><td>2020-11-22T07:28:41.925+0000</td><td>1606030121</td><td>@VirtualJobs Do you need a virtual Accountant? If yes, then hire me. I am here to serve you. Please contact with me by: https://t.co/v61HQqxQUS\n",
       "#Quickbooks #Xero #virtualaccountant #VirtualJobsFair #virtualassistant #USElectionResults #KamalaHarris #JoeBidenKamalaHarris2020 https://t.co/QR60upKrGu</td></tr><tr><td>8591061032</td><td>2020-11-22T08:06:22.608+0000</td><td>1606032382</td><td>@realDonaldTrump Biden won because of Chinese and believers of Evil book and secular liberandus Devils advocate, They want USA for all and they for None, Good job America\n",
       "#elections\n",
       "#USElectionResults\n",
       "#AmericaFirst\n",
       "#TrumpvsBiden \n",
       "Trump\n",
       "#DonaldTrump\n",
       "Donald Trump\n",
       "#USElections2020\n",
       "\n",
       "#BidenHarris2020</td></tr><tr><td>8590961368</td><td>2020-11-22T07:00:43.410+0000</td><td>1606028443</td><td>@realDonaldTrump Biden won because of Chinese and believers of Evil book and secular liberandus Devils advocate, They want USA for all and they for None, Good job America\n",
       "#elections\n",
       "#USElectionResults\n",
       "#AmericaFirst\n",
       "#TrumpvsBiden \n",
       "Trump\n",
       "#DonaldTrump\n",
       "Donald Trump\n",
       "#USElections2020\n",
       "\n",
       "#BidenHarris2020</td></tr><tr><td>8590996960</td><td>2020-11-22T07:24:25.618+0000</td><td>1606029865</td><td>Check out my Gig on Fiverr: stencil art https://t.co/9dYg70kWNj\n",
       "\n",
       "#RepublicansForBiden #Capricorn #Philadelphia #coronavirus #boycottfrenchproducts #USElectionResults #Israel #WhatsApp #Covid_19 #Amazon #TrumpvsBiden #Election2020 #Muslim_Pro #Islam #Dubai #Diana #Oops https://t.co/q6x8GU0tkd</td></tr><tr><td>8591017016</td><td>2020-11-22T07:36:49.654+0000</td><td>1606030609</td><td>I agree. Possibly the best activism is to stay off the streets until January, and wait to see if #JoeBiden is President in Jan. If not that can be protested in Jan. Democrats won the election #Election2020results #USElectionResults #TrumpConcede #PresidentElect Joe Biden. https://t.co/Bbq6Hx49C1</td></tr><tr><td>8591004768</td><td>2020-11-22T07:28:56.953+0000</td><td>1606030136</td><td>@lgboomer Do you need a virtual Accountant? If yes, then hire me. I am here to serve you. Please contact with me by: https://t.co/v61HQqxQUS\n",
       "#Quickbooks #Xero #virtualaccountant #VirtualJobsFair #virtualassistant #USElectionResults #KamalaHarris #JoeBidenKamalaHarris2020 https://t.co/wqffCyCNZd</td></tr><tr><td>8591051776</td><td>2020-11-22T07:49:48.851+0000</td><td>1606031388</td><td>Check out my Gig on Fiverr: stencil art https://t.co/9dYg70kWNj\n",
       "\n",
       "#RepublicansForBiden #Capricorn #Philadelphia #coronavirus #boycottfrenchproducts #USElectionResults #JoeBidenKamalaHarris2020 #WhatsApp #JOEBIDEN2020 #TrumpvsBiden #Election2020 #BidenHarris2020 #Islam https://t.co/5mjYyZARJo</td></tr><tr><td>8590997312</td><td>2020-11-22T07:24:35.620+0000</td><td>1606029875</td><td>Check out my Gig on Fiverr: stencil art https://t.co/9dYg70kWNj\n",
       "\n",
       "#RepublicansForBiden #Capricorn #Philadelphia #coronavirus #boycottfrenchproducts #USElectionResults #JoeBidenKamalaHarris2020 #WhatsApp #JOEBIDEN2020 #TrumpvsBiden #Election2020 #BidenHarris2020 #Islam https://t.co/gvOSyzMWDL</td></tr><tr><td>8591006144</td><td>2020-11-22T07:20:20.626+0000</td><td>1606029620</td><td>Check out my Gig on Fiverr: stencil art https://t.co/9dYg70kWNj\n",
       "\n",
       "#RepublicansForBiden #Capricorn #Philadelphia #coronavirus #boycottfrenchproducts #USElectionResults #JoeBidenKamalaHarris2020 #WhatsApp #JOEBIDEN2020 #TrumpvsBiden #Election2020 #BidenHarris2020 #Islam https://t.co/jYWLS4PBze</td></tr><tr><td>8591065440</td><td>2020-11-22T08:00:12.867+0000</td><td>1606032012</td><td>@realDonaldTrump You embarrass yourself.  This will be your political epitaph.  Your actions are disrespectful to the victims of Covid.  Stand aside and allow positive action to be taken.  You will be the New Nixon and you’ll never avoid that.  #Hypocrite #BidenTransition #USElectionResults</td></tr><tr><td>8591074704</td><td>2020-11-22T08:06:27.599+0000</td><td>1606032387</td><td>@realDonaldTrump Trump is a great leader and he knows, what to do what is good what is Evil\n",
       "TRUMP did his best to avoid the war, he is a very understanding intelligent nice man and we know that\n",
       "( He avoided war with Iran }\n",
       "#elections\n",
       "#USElectionResults2020\n",
       "#USElectionResults\n",
       "#TrumpvsBiden \n",
       "Trump</td></tr><tr><td>8590976920</td><td>2020-11-22T07:00:48.403+0000</td><td>1606028448</td><td>@realDonaldTrump Trump is a great leader and he knows, what to do what is good what is Evil\n",
       "TRUMP did his best to avoid the war, he is a very understanding intelligent nice man and we know that\n",
       "( He avoided war with Iran }\n",
       "#elections\n",
       "#USElectionResults2020\n",
       "#USElectionResults\n",
       "#TrumpvsBiden \n",
       "Trump</td></tr><tr><td>8591010608</td><td>2020-11-22T07:23:00.612+0000</td><td>1606029780</td><td>Lamestream Media - STOP LYING @cnnbrk @BBCNews @SkyNews @FoxNews @BreitbartNews @Telegraph @eNCA @SABCNews #USElectionResults #USElection2020 #USElections2020 #USAElections2020 #USAelection2020 @BeNosey @GuyMcDonald @KFMza @BigDaddyLiberty @CliffCentralCom @RobHutchinson8 https://t.co/nfz2Of99wT</td></tr><tr><td>8591027032</td><td>2020-11-22T07:43:42.384+0000</td><td>1606031022</td><td>@nytpolitics Global ups and downs for 2019-2020 global presence of certainly is needed to give the #WhiteHouse a chance to have faith in the political process of ballots and voting system within America #USElectionResults shouldn't take so long or have this much litigation : #TrumpIsPathetic</td></tr><tr><td>8591059984</td><td>2020-11-22T08:05:52.602+0000</td><td>1606032352</td><td>@realDonaldTrump Trump is the only person who made a compromise between Israel and UAE and Bahrain, it is the strategy UAE to tackle Iran and on other hand Turkey who wants to be the leader of Arabs\n",
       "\n",
       "@realDonaldTrump\n",
       "#elections\n",
       "#USElectionResults\n",
       "#AmericaFirst\n",
       "#TrumpvsBiden \n",
       "Trump\n",
       "#DonaldTrump</td></tr><tr><td>8590960320</td><td>2020-11-22T07:00:13.415+0000</td><td>1606028413</td><td>@realDonaldTrump Trump is the only person who made a compromise between Israel and UAE and Bahrain, it is the strategy UAE to tackle Iran and on other hand Turkey who wants to be the leader of Arabs\n",
       "\n",
       "@realDonaldTrump\n",
       "#elections\n",
       "#USElectionResults\n",
       "#AmericaFirst\n",
       "#TrumpvsBiden \n",
       "Trump\n",
       "#DonaldTrump</td></tr><tr><td>8591060336</td><td>2020-11-22T08:06:02.604+0000</td><td>1606032362</td><td>@realDonaldTrump Mr. Trump is already billionaire and Right Wing persons never run after money, Nation and World is always first for Right Wing man and he is a Right man in Right Wing, so SUPPORT him\n",
       "\n",
       "@realDonaldTrump\n",
       "#elections\n",
       "#USElectionResults\n",
       "#AmericaFirst\n",
       "#TrumpvsBiden \n",
       "Trump\n",
       "#DonaldTrump</td></tr><tr><td>8590960672</td><td>2020-11-22T07:00:23.431+0000</td><td>1606028423</td><td>@realDonaldTrump Mr. Trump is already billionaire and Right Wing persons never run after money, Nation and World is always first for Right Wing man and he is a Right man in Right Wing, so SUPPORT him\n",
       "\n",
       "@realDonaldTrump\n",
       "#elections\n",
       "#USElectionResults\n",
       "#AmericaFirst\n",
       "#TrumpvsBiden \n",
       "Trump\n",
       "#DonaldTrump</td></tr><tr><td>8591048984</td><td>2020-11-22T07:58:57.853+0000</td><td>1606031937</td><td>@therecount @atrupar Navarro’s interactions with Canada over trade, and his ignorant analysis of our trade history with the US, were egregious and disruptive. This magical thinking about your #USElectionResults is just one more example of the widespread lunacy of the Trump administration.</td></tr><tr><td>8591001240</td><td>2020-11-22T07:26:46.940+0000</td><td>1606030006</td><td>Observation: the #MAGA woman didn't notice she isn't \"White\" if talking of race she is a MIX, 2nd Socialism is NOT that! Totally \"Ignorance\" at its finest! #TrumpTantrum #USElectionResults #BidenHarrisToEndThisNightmare #COVID19 #TrumpDeathToll246K #LatinosForTrump https://t.co/LR64KbyhJa</td></tr><tr><td>8591007936</td><td>2020-11-22T07:21:20.622+0000</td><td>1606029680</td><td>@realDonaldTrump The media in America refuses to admit the obvious. This #USElection2020 was a mess and the #USElectionResults cannot be considered fair. The counting processes and mail-in ballot discrepancies clearly presented a problem. America NEEDS to VOTE AGAIN. https://t.co/ct2o9q6ICl</td></tr><tr><td>8591009928</td><td>2020-11-22T07:22:30.603+0000</td><td>1606029750</td><td>@BBCWorld If there is no evidence so, BBC, what are the affidavits and law suites filed so far classified?\n",
       "Yet again, impartial reporting is no longer you... just like the FAKE NEWS media!!!!!\n",
       "#NFSC #USElectionResults @JudicialWatch @realDonaldTrump @RudyGiuliani @dbongino @marklevinshow</td></tr><tr><td>8591073320</td><td>2020-11-22T08:05:47.591+0000</td><td>1606032347</td><td>@realDonaldTrump Evil State China played his game But even today also, Left Wing Librandus blaming, Mr. Trump for pandemic\n",
       "\n",
       "@realDonaldTrump\n",
       "#elections\n",
       "#USElectionResults\n",
       "#AmericaFirst\n",
       "#TrumpvsBiden \n",
       "Trump\n",
       "#DonaldTrump\n",
       "Donald Trump\n",
       "#USElections2020\n",
       "#Usa2020\n",
       "#TrumpVsBidenFight\n",
       "#BidenHarris2020</td></tr><tr><td>8590975536</td><td>2020-11-22T07:00:08.414+0000</td><td>1606028408</td><td>@realDonaldTrump Evil State China played his game But even today also, Left Wing Librandus blaming, Mr. Trump for pandemic\n",
       "\n",
       "@realDonaldTrump\n",
       "#elections\n",
       "#USElectionResults\n",
       "#AmericaFirst\n",
       "#TrumpvsBiden \n",
       "Trump\n",
       "#DonaldTrump\n",
       "Donald Trump\n",
       "#USElections2020\n",
       "#Usa2020\n",
       "#TrumpVsBidenFight\n",
       "#BidenHarris2020</td></tr><tr><td>8591074352</td><td>2020-11-22T08:06:17.596+0000</td><td>1606032377</td><td>@realDonaldTrump All the enemies of America with Joe Biden to win, They are forcing there all power\n",
       "\n",
       "@realDonaldTrump\n",
       "#elections\n",
       "#USElectionResults\n",
       "#AmericaFirst\n",
       "#TrumpvsBiden \n",
       "Trump\n",
       "#DonaldTrump\n",
       "Donald Trump\n",
       "#USElections2020\n",
       "#TrumpVsBidenFight\n",
       "#BidenHarris2020 \n",
       "#USElectionResults2020\n",
       "#Usa2020</td></tr><tr><td>8590976568</td><td>2020-11-22T07:00:38.403+0000</td><td>1606028438</td><td>@realDonaldTrump All the enemies of America with Joe Biden to win, They are forcing there all power\n",
       "\n",
       "@realDonaldTrump\n",
       "#elections\n",
       "#USElectionResults\n",
       "#AmericaFirst\n",
       "#TrumpvsBiden \n",
       "Trump\n",
       "#DonaldTrump\n",
       "Donald Trump\n",
       "#USElections2020\n",
       "#TrumpVsBidenFight\n",
       "#BidenHarris2020 \n",
       "#USElectionResults2020\n",
       "#Usa2020</td></tr><tr><td>8591040696</td><td>2020-11-22T07:53:15.186+0000</td><td>1606031595</td><td>This week was defo one of the better ones in 2020:\n",
       "1. 🇺🇸 #USElectionResults \n",
       "2. #COVID19 #vaccine\n",
       "3. 🏴󠁧󠁢󠁳󠁣󠁴󠁿⚽ #NoScotlandNoParty \n",
       "4. @Number10cat confirmed he was not in the box Dom carried out of N10\n",
       "Oh and it's #worldkindnessday2020 😀 #FridayMotivation</td></tr><tr><td>8591016136</td><td>2020-11-22T07:26:31.923+0000</td><td>1606029991</td><td>\"The pressure on Raffensperger, who has bucked his party in defending the state’s voting process, comes in the midst of a GA laborious hand recount of about 5M ballots. President-elect Joe Biden has a 14K-vote lead in the initial count.\" #USElectionResults https://t.co/zUNc7VbQwZ</td></tr><tr><td>8591073672</td><td>2020-11-22T08:05:57.592+0000</td><td>1606032357</td><td>@realDonaldTrump Mr. Trump handling china and Iran and all the evils of the world at a time, he is a great leader knows very well how to tackle them\n",
       "\n",
       "@realDonaldTrump\n",
       "#elections\n",
       "#USElectionResults\n",
       "#AmericaFirst\n",
       "#TrumpvsBiden \n",
       "Trump\n",
       "#DonaldTrump\n",
       "Donald Trump\n",
       "#USElections2020\n",
       "#Usa2020\n",
       "#Trump</td></tr><tr><td>8590961024</td><td>2020-11-22T07:00:33.422+0000</td><td>1606028433</td><td>@realDonaldTrump Countries like china Iran Pakistan turkey wants Mr. Joe Biden to win, so they can flourish again, so they throw, all power to make him win\n",
       "\n",
       "@realDonaldTrump\n",
       "#elections\n",
       "#USElectionResults\n",
       "#AmericaFirst\n",
       "#TrumpvsBiden \n",
       "Trump\n",
       "#DonaldTrump\n",
       "Donald Trump\n",
       "#USElections2020\n",
       "#Usa2020</td></tr><tr><td>8590975888</td><td>2020-11-22T07:00:18.400+0000</td><td>1606028418</td><td>@realDonaldTrump Mr. Trump handling china and Iran and all the evils of the world at a time, he is a great leader knows very well how to tackle them\n",
       "\n",
       "@realDonaldTrump\n",
       "#elections\n",
       "#USElectionResults\n",
       "#AmericaFirst\n",
       "#TrumpvsBiden \n",
       "Trump\n",
       "#DonaldTrump\n",
       "Donald Trump\n",
       "#USElections2020\n",
       "#Usa2020\n",
       "#Trump</td></tr><tr><td>8591060688</td><td>2020-11-22T08:06:12.605+0000</td><td>1606032372</td><td>@realDonaldTrump Countries like china Iran Pakistan turkey wants Mr. Joe Biden to win, so they can flourish again, so they throw, all power to make him win\n",
       "\n",
       "@realDonaldTrump\n",
       "#elections\n",
       "#USElectionResults\n",
       "#AmericaFirst\n",
       "#TrumpvsBiden \n",
       "Trump\n",
       "#DonaldTrump\n",
       "Donald Trump\n",
       "#USElections2020\n",
       "#Usa2020</td></tr><tr><td>8591059416</td><td>2020-11-22T07:55:51.496+0000</td><td>1606031751</td><td>@EricTrump This is fighting talk for someone interviewed under oath last month for actual crimes you may be implicated in. Daddy can’t pardon you for state crimes. I’d work on your defence instead of concocting non-existent vote rigging if I were you. #LockThemUp #USElectionResults</td></tr><tr><td>8591059640</td><td>2020-11-22T08:05:42.601+0000</td><td>1606032342</td><td>@realDonaldTrump To tackle china and all Islamic terror of the world, Mr. Trump is a perfect man with perfect strategies\n",
       "\n",
       "@realDonaldTrump\n",
       "#elections\n",
       "#USElectionResults\n",
       "#AmericaFirst\n",
       "#TrumpvsBiden \n",
       "Trump\n",
       "#DonaldTrump\n",
       "Donald Trump\n",
       "#USElections2020\n",
       "#Usa2020\n",
       "#TrumpVsBidenFight\n",
       "#BidenHarris2020</td></tr><tr><td>8590959976</td><td>2020-11-22T07:00:03.427+0000</td><td>1606028403</td><td>@realDonaldTrump To tackle china and all Islamic terror of the world, Mr. Trump is a perfect man with perfect strategies\n",
       "\n",
       "@realDonaldTrump\n",
       "#elections\n",
       "#USElectionResults\n",
       "#AmericaFirst\n",
       "#TrumpvsBiden \n",
       "Trump\n",
       "#DonaldTrump\n",
       "Donald Trump\n",
       "#USElections2020\n",
       "#Usa2020\n",
       "#TrumpVsBidenFight\n",
       "#BidenHarris2020</td></tr><tr><td>8591082624</td><td>2020-11-22T08:21:08.504+0000</td><td>1606033268</td><td>#SaudiArabia’s #MBS is losing his #Trump card after #Biden's arrival whose policies presumably will shake up the Trump allies in the #MiddleEast’s recently found comfort. This article is well worth the read. \n",
       "#MBZ #Qatar #Turkey #Bahrain #USElectionResults\n",
       "https://t.co/rCrQI8jlW8</td></tr><tr><td>8590982960</td><td>2020-11-22T07:15:29.303+0000</td><td>1606029329</td><td>#SaudiArabia’s #MBS is losing his #Trump card after #Biden's arrival whose policies presumably will shake up the Trump allies in the #MiddleEast’s recently found comfort. This article is well worth the read. \n",
       "#MBZ #Qatar #Turkey #Bahrain #USElectionResults\n",
       "https://t.co/rCrQI8jlW8</td></tr><tr><td>8591000896</td><td>2020-11-22T07:26:36.955+0000</td><td>1606029996</td><td>For those wanting a deep-dive into the background & rise of Vice-President-elect ⁦@KamalaHarris⁩, this series from ⁦@MSNBC⁩ ⁦@JoyAnnReid⁩ is a fab place to start. #KamalaHarrisVP #USElections #USElectionResults #BidenHarris2020 🇺🇸🎧 👏👇 https://t.co/YfvM2d4BIh</td></tr><tr><td>8591100808</td><td>2020-11-22T08:23:58.439+0000</td><td>1606033438</td><td>Steve Pieczenik:\n",
       "\n",
       "\"I’m allowed to say this now: All votes were watermarked with blockchain encryption code technology.\"\n",
       "\n",
       "#USElection2020 #USAElections2020 #USElectionResults #trump2020 #trumplandslide #Election2020￼ #JOEBIDEN2020 #JoeBidenKamalaHarris2020 https://t.co/Ft3siabj3S</td></tr><tr><td>8591003024</td><td>2020-11-22T07:18:19.123+0000</td><td>1606029499</td><td>Steve Pieczenik:\n",
       "\n",
       "\"I’m allowed to say this now: All votes were watermarked with blockchain encryption code technology.\"\n",
       "\n",
       "#USElection2020 #USAElections2020 #USElectionResults #trump2020 #trumplandslide #Election2020￼ #JOEBIDEN2020 #JoeBidenKamalaHarris2020 https://t.co/Ft3siabj3S</td></tr><tr><td>8591075400</td><td>2020-11-22T08:06:47.605+0000</td><td>1606032407</td><td>Election should be conduct again, big fraud is happened in collecting postal votes and handling them, by particular section of America, these communities hate Mr. Trump please keep them away from election work\n",
       "#elections\n",
       "#USElectionResults2020\n",
       "#USElectionResults https://t.co/PE6YU6Iqfr</td></tr><tr><td>8591077032</td><td>2020-11-22T08:17:05.133+0000</td><td>1606033025</td><td>Blood Sugar Test kit for US🇺🇸 free after review interested DM for details.\n",
       "\n",
       "#USAElections2020 #UsUnited #USElectionResults #Usa2020 #usalockdown #WashingtonPost #NewYork #amazonusa #productreviewers #AmazonFinaleDays #AmazonPrime #freebies #amazonreviewer https://t.co/a7wTEendfl</td></tr><tr><td>8591013792</td><td>2020-11-22T07:34:49.635+0000</td><td>1606030489</td><td>“#Trump, who has never shown much interest in governing, has finally dropped all pretense to focus on the core tenets of the Trump Doctrine: himself, cable news, Twitter, self-pity, & caterwauling,\" @MaureenDowd @nytopinion #Diplomacy140\n",
       "#USElectionResults\n",
       "https://t.co/XAxwB5rAS7</td></tr><tr><td>8590977616</td><td>2020-11-22T07:01:08.405+0000</td><td>1606028468</td><td>Election should be conduct again, big fraud is happened in collecting postal votes and handling them, by particular section of America, these communities hate Mr. Trump please keep them away from election work\n",
       "#elections\n",
       "#USElectionResults2020\n",
       "#USElectionResults https://t.co/PE6YU6Iqfr</td></tr><tr><td>8591019928</td><td>2020-11-22T07:29:01.927+0000</td><td>1606030141</td><td>Do you need a virtual Accountant? If yes, then hire me. I am here to serve you. Please contact with me by: https://t.co/v61HQqxQUS\n",
       "#Quickbooks #Xero #virtualaccountant #VirtualJobsFair #virtualassistant #USElectionResults #KamalaHarris #JoeBidenKamalaHarris2020 https://t.co/YV2c7bO8m2</td></tr><tr><td>8590989992</td><td>2020-11-22T07:20:05.609+0000</td><td>1606029605</td><td>Do you need a virtual Accountant? If yes, then hire me. I am here to serve you. Please contact with me by: https://t.co/v61HQqxQUS\n",
       "#Quickbooks #Xero #virtualaccountant #VirtualJobsFair #virtualassistant #USElectionResults #KamalaHarris #JoeBidenKamalaHarris2020 https://t.co/6iX2nXoPy8</td></tr><tr><td>8590993512</td><td>2020-11-22T07:12:01.045+0000</td><td>1606029121</td><td>Trump, his GOP & their agents have been physically, psychologically, emotionally & economically abusing Americans. In total, Trump’s behavior has caused a type of collective PTSD - certainly in the United States & quite likely the world. https://t.co/0U8noi7DaS #USElectionResults</td></tr><tr><td>8591091296</td><td>2020-11-22T08:17:40.128+0000</td><td>1606033060</td><td>Trump, his GOP & their agents have been physically, psychologically, emotionally & economically abusing Americans. In total, Trump’s behavior has caused a type of collective PTSD - certainly in the United States & quite likely the world. https://t.co/0U8noi7DaS #USElectionResults</td></tr><tr><td>8591053592</td><td>2020-11-22T08:01:49.232+0000</td><td>1606032109</td><td>How much is the US election impacting your mindset?\n",
       "\n",
       "What about BREXIT?\n",
       "\n",
       "BoJo? Cummings? #Lockdown?\n",
       "\n",
       "Have a read of this. Thank me later: https://t.co/oNWWlxF8Qn\n",
       "\n",
       "It’ll take you about 5 minutes. Yes, you CAN spare 5 mins! Go read.\n",
       "\n",
       "#trumpbiden #USElectionResults #Brexit #mindset</td></tr><tr><td>8591037024</td><td>2020-11-22T07:50:33.855+0000</td><td>1606031433</td><td>Final #USElectionResults. Biden wins 306 electoral college votes. This is what @realDonaldTrump said when he won the same number four years ago. (Except, #LoserInChief that he is, Trump lost the popular vote then, unlike Biden now). \n",
       "\n",
       "https://t.co/a9iGON9KLZ https://t.co/e8XZDg0uZs</td></tr><tr><td>8591025720</td><td>2020-11-22T07:32:43.265+0000</td><td>1606030363</td><td>I'll give you a FOLLOW BACK to everyone who Likes this video !\n",
       "💯% legit !\n",
       "https://t.co/YN7hvXRR94\n",
       ".\n",
       "#ManUnited #UEFANationsLeague #EnglandBelgium #GarethSouthgate #ManUnited #JoeBidenKamalaHarris2020 #USElectionResults #UnitedStates #PaulPogba #Liverpool #BarclaysFAWSL #YouTube</td></tr><tr><td>8591039912</td><td>2020-11-22T07:52:35.192+0000</td><td>1606031555</td><td>The Trump campaign said Friday that its #lawsuit challenging the vote counting process in #Arizona will not affect the presidential race, submitting a court filing notifying the court that the case is now partially moot.\n",
       "#USElectionResults #BidenHarris2020\n",
       "https://t.co/7xiO97KVZu</td></tr><tr><td>8591014128</td><td>2020-11-22T07:34:59.638+0000</td><td>1606030499</td><td>#Trump2020 #USElectionResults Democrats acting as if they have been tolerant of Trump since he won, and accepting. No, they haven't. eg, claims of Russian interference in his win, slandering his character, impeachment,  blaming him for the problems in America there long before he</td></tr><tr><td>8591022824</td><td>2020-11-22T07:30:53.248+0000</td><td>1606030253</td><td>Frequent use of words like #Grace & #Graceful need to be included in the current #WhiteHouse vocabulary sooner than later. It will help #America get back its respect as world is watching and time is quickly running out... #USElection2020 #USElectionResults https://t.co/d18KdN5ogK</td></tr><tr><td>8591050200</td><td>2020-11-22T07:59:37.872+0000</td><td>1606031977</td><td>$GAHC - Today's Special\n",
       "\n",
       "#USElectionResults are being contested\n",
       "\n",
       "Claims of #Election2020 software deleting votes\n",
       "\n",
       "Voting integrity will be front and center\n",
       "\n",
       "#Blockchain voting to ensure integrity may be considered. If so $GAHC is on the forefront\n",
       "\n",
       "Hedge Play https://t.co/XEA3PWXL5r</td></tr><tr><td>8591037744</td><td>2020-11-22T07:51:03.847+0000</td><td>1606031463</td><td>Trouncing #Trump: US President-elect Joe #Biden’s victory is shaping up to be a resounding win. He racked up 5.4 million+ more popular votes than his rival, scored 74 more Electoral College votes, and flipped PA, MI, WI, AZ and Georgia. #USElectionResults https://t.co/w3IioztOB7</td></tr><tr><td>8591046672</td><td>2020-11-22T07:57:26.482+0000</td><td>1606031846</td><td>Bruce Springsteen's Astute Assessment of This White House: \"We Are Lost, No Art, No Socks the Family Pet, No Images of First Family Enjoying Themselves, No Reagans on Horseback\" https://t.co/72Cj421BYI via @showbiz411 its a bit late, but the message is SO right #USElectionResults</td></tr><tr><td>8591003712</td><td>2020-11-22T07:28:26.921+0000</td><td>1606030106</td><td>@realDonaldTrump strategy is to try to make legit votes not count on technicalities.\n",
       "\n",
       "Quite undemocratic and an admission of loss in itself \n",
       "#USElections2020\n",
       "#USElectionResults\n",
       "Trump campaign abandons part of legal challenge to Pennsylvania election result https://t.co/eLt6gHHRCO</td></tr><tr><td>8591038800</td><td>2020-11-22T07:41:16.007+0000</td><td>1606030876</td><td>#USElectionResults\n",
       "#CNN \n",
       "#FoxNews \n",
       "#coronavirusUS\n",
       "\n",
       "BIDEN HAS BEEN ELECTED PRESIDENT. GIVE HIM ALL THE PUBLICITY \n",
       "Focus on Biden, overrun hospitals, deaths, vaccine, sports, foreign policies, etc\n",
       "\n",
       "TRUMP LOST ,HE'S A NON-ENTITY. Just IGNORE HIM & give him ZERO publicity.  \n",
       "\n",
       "Please</td></tr><tr><td>8590977272</td><td>2020-11-22T07:00:58.421+0000</td><td>1606028458</td><td>#elections\n",
       "#USElectionResults2020\n",
       "#USElectionResults\n",
       "United States of America\n",
       "#TrumpvsBiden \n",
       "#AmericaDecides2020\n",
       "Donald Trump\n",
       "#USElections2020\n",
       "@realDonaldTrump\n",
       "#AmericaFirst\n",
       "#TrumpVsBidenFight\n",
       "Trump\n",
       "#DonaldTrump\n",
       "#BidenHarris2020 \n",
       "#USAelection2020 #TrumpOut #Usa2020 https://t.co/jVOkQmo9lC</td></tr><tr><td>8591075056</td><td>2020-11-22T08:06:37.618+0000</td><td>1606032397</td><td>#elections\n",
       "#USElectionResults2020\n",
       "#USElectionResults\n",
       "United States of America\n",
       "#TrumpvsBiden \n",
       "#AmericaDecides2020\n",
       "Donald Trump\n",
       "#USElections2020\n",
       "@realDonaldTrump\n",
       "#AmericaFirst\n",
       "#TrumpVsBidenFight\n",
       "Trump\n",
       "#DonaldTrump\n",
       "#BidenHarris2020 \n",
       "#USAelection2020 #TrumpOut #Usa2020 https://t.co/jVOkQmo9lC</td></tr><tr><td>8590995968</td><td>2020-11-22T07:23:45.606+0000</td><td>1606029825</td><td>Dumbfounded-GOP Conservatism cut & paste job description over fraud elections dragging out nonfactual data/zero evidence around allegations/fed by feelings/denialism-Ironically how OAS interventionist, do Latin Am Coups but 4 natural resources/fracking freedom #USElectionResults</td></tr><tr><td>8591039648</td><td>2020-11-22T07:41:46.025+0000</td><td>1606030906</td><td>#CatherineHance\n",
       "#FoxNews\n",
       "#USElectionResults\n",
       "\n",
       "THE MEDIA MUST STOP giving trump so much airtime, about HIS outlandish actions\n",
       "\n",
       "Focus on PRESIDENT BIDEN'S positive actions instead\n",
       "\n",
       "TRUMP's JUST FEEDING OFF all the NEGATIVE publicity he's getting\n",
       "\n",
       "IGNORE TRUMP, his actions & comments</td></tr><tr><td>8591034880</td><td>2020-11-22T07:49:03.829+0000</td><td>1606031343</td><td>#USAelection2020 #USAElections2020 #USElectionResults #USPresidentialElections2020 \n",
       "MyMilitia has aims of “helping American citizens to create strong organized constitutional militias in every town throughout the USA”.  Violent context of #TrumpMeltdown  https://t.co/xbxO6XAc2r</td></tr><tr><td>8591057464</td><td>2020-11-22T07:54:00.191+0000</td><td>1606031640</td><td>.@JoeBiden got 14 million more votes than @realDonaldTrump did in 2016 and still the electoral votes and election victory is with the same number and People think this system is not a core problem for US.\n",
       "\n",
       "@shaunking @AOC @People4Bernie \n",
       "#USElectionResults https://t.co/SpziAlFmTK</td></tr><tr><td>8591006048</td><td>2020-11-22T07:29:46.943+0000</td><td>1606030186</td><td>\"Although multiple possible scenarios for post-election crisis exist, the most plausible one will revolve around how long counting the votes in closely contested states might take,\" @LarryDiamond and Edward Foley write: https://t.co/WGprBtf4BY #USElectionResults #USElections2020</td></tr><tr><td>8590971784</td><td>2020-11-22T07:07:44.811+0000</td><td>1606028864</td><td>Georgia recount confirms #Biden won. Mr.Trump move on , don't embarrass yourself.\n",
       "\n",
       "This is not the time for power mongering , there are record high cases every day in US. \n",
       "\n",
       "Europe has reduction in numbers and India 1/3rd size and 3x population is doing better #USElectionResults</td></tr><tr><td>8591071448</td><td>2020-11-22T08:13:23.878+0000</td><td>1606032803</td><td>Georgia recount confirms #Biden won. Mr.Trump move on , don't embarrass yourself.\n",
       "\n",
       "This is not the time for power mongering , there are record high cases every day in US. \n",
       "\n",
       "Europe has reduction in numbers and India 1/3rd size and 3x population is doing better #USElectionResults</td></tr><tr><td>8591051224</td><td>2020-11-22T08:00:17.848+0000</td><td>1606032017</td><td>#realDonaldTrump \n",
       "#USElectionResults \n",
       "#CNNElection \n",
       "\n",
       "TRUMP's INABILITY to carry out his duties MUST BE 'A RED LIGHT' FOR EVERY SENATOR, CONGRESSMAN, JUDGE & JUDICIARY\n",
       "\n",
       "TRUMP'S BRINGING THE COUNTRY TO ITS KNEES YET ALL THE ABOVE ARE DOING NOTHING\n",
       "\n",
       "TRUMP IS UNFIT TO GOVERN, PERIOD!</td></tr><tr><td>8590980664</td><td>2020-11-22T07:03:08.487+0000</td><td>1606028588</td><td>@DailyCaller @PressSec Don’t concede, you’re out in a few months. \n",
       "All you’re doing is delaying the helpless Americans that need guidance in the crisis. Your national security is already under discussion with world leaders as this global circus continues #USElectionResults</td></tr><tr><td>8591078448</td><td>2020-11-22T08:08:48.876+0000</td><td>1606032528</td><td>@DailyCaller @PressSec Don’t concede, you’re out in a few months. \n",
       "All you’re doing is delaying the helpless Americans that need guidance in the crisis. Your national security is already under discussion with world leaders as this global circus continues #USElectionResults</td></tr><tr><td>8591073840</td><td>2020-11-22T08:15:05.125+0000</td><td>1606032905</td><td>The reason why @realDonaldTrump can get away with claiming fraud, is the general public just doesn't understand what happens during elections. A small discrepancy occurs that happens in every previous election, he can claim fraud and people are none the wiser. #USElectionResults</td></tr><tr><td>8591094304</td><td>2020-11-22T08:19:52.448+0000</td><td>1606033192</td><td>The #USElectionResults  R not yet officially declared 🤔\n",
       "\n",
       "Official results will only be known in January 2021 😌\n",
       "\n",
       "If @realDonaldTrump comes back -he will not take your these premature & inappropriate actions lightly @narendramodi ji 🤦🏻‍♂️\n",
       "\n",
       "https://t.co/ZeiQguzLDW</td></tr><tr><td>8590974176</td><td>2020-11-22T07:09:26.023+0000</td><td>1606028966</td><td>The reason why @realDonaldTrump can get away with claiming fraud, is the general public just doesn't understand what happens during elections. A small discrepancy occurs that happens in every previous election, he can claim fraud and people are none the wiser. #USElectionResults</td></tr><tr><td>8590996520</td><td>2020-11-22T07:14:13.277+0000</td><td>1606029253</td><td>The #USElectionResults  R not yet officially declared 🤔\n",
       "\n",
       "Official results will only be known in January 2021 😌\n",
       "\n",
       "If @realDonaldTrump comes back -he will not take your these premature & inappropriate actions lightly @narendramodi ji 🤦🏻‍♂️\n",
       "\n",
       "https://t.co/ZeiQguzLDW</td></tr><tr><td>8591023656</td><td>2020-11-22T07:31:23.269+0000</td><td>1606030283</td><td>Top US #Cybersecurity official Christopher Krebs (@CISAKrebs), who worked on protecting the election from hackers, has told associates he expects to be fired as he drew the ire of @realDonaldTrump over efforts to debunk disinformation. #USElectionResults https://t.co/XXXYllkuxK</td></tr><tr><td>8590976232</td><td>2020-11-22T07:00:28.401+0000</td><td>1606028428</td><td>It would be big loss of world if Mr Trump...\n",
       "Everyone in the world loves president Trump. except for left-wing librandus, China, North Korea and \n",
       "believers of man-made Fake Evil Book\n",
       "@realDonaldTrump\n",
       "#elections\n",
       "#USElectionResults\n",
       "#AmericaFirst\n",
       "#TrumpvsBiden \n",
       "Trump\n",
       "#DonaldTrump</td></tr><tr><td>8591074016</td><td>2020-11-22T08:06:07.593+0000</td><td>1606032367</td><td>It would be big loss of world if Mr Trump...\n",
       "Everyone in the world loves president Trump. except for left-wing librandus, China, North Korea and \n",
       "believers of man-made Fake Evil Book\n",
       "@realDonaldTrump\n",
       "#elections\n",
       "#USElectionResults\n",
       "#AmericaFirst\n",
       "#TrumpvsBiden \n",
       "Trump\n",
       "#DonaldTrump</td></tr><tr><td>8590995632</td><td>2020-11-22T07:23:35.619+0000</td><td>1606029815</td><td>If by any chance you turn a blind eye against it because doing so brings your candidate into power, you would have won a minimum of for years but would have betrayed Abraham Lincoln who I believe you consider to be one of your greatest @POTUS \n",
       "#USElectionResults #USAelection2020</td></tr><tr><td>8591015896</td><td>2020-11-22T07:36:09.635+0000</td><td>1606030569</td><td>#CNN & other USA media should start asking #Trump #WhiteHouse direct questions about his claims. Is Trump saying #JoeBiden & #KamalaHarris are involved in rigged #USElectionResults? Was GOP Politicians in Georgia & Arizona involved? See how crazy Whitehouse is prepared to get.</td></tr><tr><td>8591044816</td><td>2020-11-22T07:56:16.493+0000</td><td>1606031776</td><td>Sorry for the wonderful #UnitedStates. Trump’s cowardly behaviour, along with that of his team and many Republican senators, is despicable.\n",
       "\n",
       "#USElectionResults : America 'exhausted and impatient' as divisions feel deeper than ever | US News | Sky News https://t.co/vSxghi2m3T</td></tr><tr><td>8591067664</td><td>2020-11-22T08:10:43.859+0000</td><td>1606032643</td><td>#Shamefull thieves\n",
       "Turkey STEALS Syrian Olive oil from #Afrin (after invading and murdering brutaly Kurds) and tries to sell it to #US\n",
       "That's how turkey makes money, by trading the stolen from others \n",
       "#USAElections2020 #USAelection2020 #USElectionResults \n",
       "https://t.co/l5NG0C2xGj</td></tr><tr><td>8590968000</td><td>2020-11-22T07:05:04.814+0000</td><td>1606028704</td><td>#Shamefull thieves\n",
       "Turkey STEALS Syrian Olive oil from #Afrin (after invading and murdering brutaly Kurds) and tries to sell it to #US\n",
       "That's how turkey makes money, by trading the stolen from others \n",
       "#USAElections2020 #USAelection2020 #USElectionResults \n",
       "https://t.co/l5NG0C2xGj</td></tr><tr><td>8590975200</td><td>2020-11-22T06:59:58.414+0000</td><td>1606028398</td><td>@realDonaldTrump To tackle china and all terror of the world, Mr. Trump is a perfect man with perfect strategies\n",
       "\n",
       "@realDonaldTrump\n",
       "#elections\n",
       "#USElectionResults\n",
       "#AmericaFirst\n",
       "#TrumpvsBiden \n",
       "Trump\n",
       "#DonaldTrump\n",
       "Donald Trump\n",
       "#USElections2020\n",
       "#Usa2020\n",
       "#TrumpVsBidenFight\n",
       "#BidenHarris2020</td></tr><tr><td>8591072984</td><td>2020-11-22T08:05:37.591+0000</td><td>1606032337</td><td>@realDonaldTrump To tackle china and all terror of the world, Mr. Trump is a perfect man with perfect strategies\n",
       "\n",
       "@realDonaldTrump\n",
       "#elections\n",
       "#USElectionResults\n",
       "#AmericaFirst\n",
       "#TrumpvsBiden \n",
       "Trump\n",
       "#DonaldTrump\n",
       "Donald Trump\n",
       "#USElections2020\n",
       "#Usa2020\n",
       "#TrumpVsBidenFight\n",
       "#BidenHarris2020</td></tr><tr><td>8591095776</td><td>2020-11-22T08:20:42.460+0000</td><td>1606033242</td><td>After supporters of President @realDonaldTrump  protested the #USElectionResults and marched to the Supreme Court, clashes with counterdemonstrators led to fistfights, at least one stabbing and more than 20 arrests. #StopTheSteal #USPresidentialElection\n",
       "https://t.co/k5oHU8CH19</td></tr><tr><td>8590975424</td><td>2020-11-22T07:10:06.031+0000</td><td>1606029006</td><td>#Trump turns to blocking #statecertification of #USelectionresults after #courtlosses\n",
       "In MI, 2 GOP officials initially refused to certify results despite no evidence of fraud. In AZ, officials are balking at signing off on vote tallies in a rural county\n",
       "https://t.co/eX5Atd4WSG</td></tr><tr><td>8591040472</td><td>2020-11-22T07:42:26.031+0000</td><td>1606030946</td><td>What is Trump's endgame & more importantly the endgame of those promoting the fallacy that he still has a patth? He reverses GA - Biden has 290 votes. He reverses PA too, Biden still has 270. He would still need NV or WI. This requires him to overturn 3 states. #USElectionResults</td></tr><tr><td>8591075088</td><td>2020-11-22T08:15:45.132+0000</td><td>1606032945</td><td>#Trump turns to blocking #statecertification of #USelectionresults after #courtlosses\n",
       "In MI, 2 GOP officials initially refused to certify results despite no evidence of fraud. In AZ, officials are balking at signing off on vote tallies in a rural county\n",
       "https://t.co/eX5Atd4WSG</td></tr><tr><td>8590997992</td><td>2020-11-22T07:15:03.287+0000</td><td>1606029303</td><td>After supporters of President @realDonaldTrump  protested the #USElectionResults and marched to the Supreme Court, clashes with counterdemonstrators led to fistfights, at least one stabbing and more than 20 arrests. #StopTheSteal #USPresidentialElection\n",
       "https://t.co/k5oHU8CH19</td></tr><tr><td>8591021576</td><td>2020-11-22T07:30:01.927+0000</td><td>1606030201</td><td>How Hitler seized power in Nazi Germany?\n",
       "1. Create a crisis.\n",
       "2. Demonize opponents.\n",
       "3. Declare a state of emergency.\n",
       "4. Undermine elections.\n",
       "5. Make the rule of law irrelevant.\n",
       "6. Rule by executive order.\n",
       "Number 4 is trending\n",
       "@realDonaldTrump\n",
       "#USElectionResults #TrumpIsLosing</td></tr><tr><td>8590978856</td><td>2020-11-22T07:01:58.493+0000</td><td>1606028518</td><td>Trump makes futile attempts to overturn the election results as Michigan backs Biden win, narrowing down President’s options - The World Reviews \n",
       "\n",
       "#USElectionResults #USPresidentialElections2020 #USA #PresidentElectJoe #DonaldTrump #Michigan #Georgia  https://t.co/Po2ue43keV</td></tr><tr><td>8591052056</td><td>2020-11-22T08:00:49.229+0000</td><td>1606032049</td><td>Frustrated seeing Indian plan to attack Pakistan after 13 Nov  jeopardised in the wake of #USElectionResults the #IndianArmy has started shelling Civilian population in Azad #Kashmir. 4 civilians including kids martyred\n",
       "@amnesty\n",
       "@AJEnglish\n",
       "#NeelumValley https://t.co/ssCgCEGRhO</td></tr><tr><td>8591002688</td><td>2020-11-22T07:18:09.123+0000</td><td>1606029489</td><td>@LisaHembree5 Yes, but for at least 47 millions, maybe more if there was fraud, it was a dream that may come to a halt. A governement that actually puts their own citizens first..#USElection2020 #USAelection2020 #USElections #USElectionResults #Trump2020 https://t.co/uqKENOoNk9</td></tr><tr><td>8591076640</td><td>2020-11-22T08:07:37.600+0000</td><td>1606032457</td><td>Trump makes futile attempts to overturn the election results as Michigan backs Biden win, narrowing down President’s options - The World Reviews \n",
       "\n",
       "#USElectionResults #USPresidentialElections2020 #USA #PresidentElectJoe #DonaldTrump #Michigan #Georgia  https://t.co/Po2ue43keV</td></tr><tr><td>8591100472</td><td>2020-11-22T08:23:48.454+0000</td><td>1606033428</td><td>@LisaHembree5 Yes, but for at least 47 millions, maybe more if there was fraud, it was a dream that may come to a halt. A governement that actually puts their own citizens first..#USElection2020 #USAelection2020 #USElections #USElectionResults #Trump2020 https://t.co/uqKENOoNk9</td></tr><tr><td>8591071112</td><td>2020-11-22T08:13:13.867+0000</td><td>1606032793</td><td>So is this the #Dems real plan\n",
       "#Biden gets in and resigns for health reasons\n",
       "so #Kamala get to be presedent \n",
       "Then Kamala appoints #Killary as vice president\n",
       "And then Kamala jumps off the 10th floor of the Whitehouse\n",
       "and BOOM Killary is president\n",
       "#USElectionResults #PresidentBiden</td></tr><tr><td>8590971448</td><td>2020-11-22T07:07:34.823+0000</td><td>1606028854</td><td>So is this the #Dems real plan\n",
       "#Biden gets in and resigns for health reasons\n",
       "so #Kamala get to be presedent \n",
       "Then Kamala appoints #Killary as vice president\n",
       "And then Kamala jumps off the 10th floor of the Whitehouse\n",
       "and BOOM Killary is president\n",
       "#USElectionResults #PresidentBiden</td></tr><tr><td>8591050408</td><td>2020-11-22T07:49:08.812+0000</td><td>1606031348</td><td>Following the #USElectionResults, I'm pleased to hear @JoeBiden will put America back into the Paris Agreement! Finally a President with the correct priorities on climate change and America's future. A man who's not there for economic business but for rebuilding and unifying!</td></tr><tr><td>8591037656</td><td>2020-11-22T07:40:36.017+0000</td><td>1606030836</td><td>@realDonaldTrump 20 Jan 2021, USA will cease to be a laughing stock. Amazing how the past 4 years have been a comedy of errors. Congratulations to the well meaning citizens who understand the power of the ballot. #USElectionResults #VoteBlueToEndTheNightmare #democracy #Peace</td></tr><tr><td>8591090344</td><td>2020-11-22T08:17:00.139+0000</td><td>1606033020</td><td>Don getting grumpy with me after I reminded him of what he said back in mid-October:\n",
       "“Can you imagine if I lose? I will have lost to the worst candidate in the history of American politics”\n",
       "\n",
       "#ElectionResults2020 #USElections2020 #USElectionResults https://t.co/fNqwmv7RMt</td></tr><tr><td>8591013464</td><td>2020-11-22T07:34:39.651+0000</td><td>1606030479</td><td>In an interview with Oprah Winfrey, former US President @BarackObama spoke about a plethora of topics. From the future of Obamacare act to how the #USElectionResults are going to shape global politics, and many more. @PriyankaSh25 brings you the story https://t.co/bWqGXZjZFG</td></tr><tr><td>8590992560</td><td>2020-11-22T07:11:21.026+0000</td><td>1606029081</td><td>Don getting grumpy with me after I reminded him of what he said back in mid-October:\n",
       "“Can you imagine if I lose? I will have lost to the worst candidate in the history of American politics”\n",
       "\n",
       "#ElectionResults2020 #USElections2020 #USElectionResults https://t.co/fNqwmv7RMt</td></tr><tr><td>8590974512</td><td>2020-11-22T07:09:36.040+0000</td><td>1606028976</td><td>It is not Joe Biden or Donald Trump, but Hunter Biden who has won: Elections Integrity is the cornerstone of a Democracy\n",
       "\n",
       "https://t.co/Iws16wXJxG\n",
       "\n",
       "@realDonaldTrump\n",
       " #Trump2020 #USElectionResults #USAElections2020 \n",
       "#TrumpIsANationalDisgrace\n",
       "\n",
       "@FoxNews\n",
       " @tedcruz\n",
       " @LindseyGrahamSC</td></tr><tr><td>8591074176</td><td>2020-11-22T08:15:15.127+0000</td><td>1606032915</td><td>It is not Joe Biden or Donald Trump, but Hunter Biden who has won: Elections Integrity is the cornerstone of a Democracy\n",
       "\n",
       "https://t.co/Iws16wXJxG\n",
       "\n",
       "@realDonaldTrump\n",
       " #Trump2020 #USElectionResults #USAElections2020 \n",
       "#TrumpIsANationalDisgrace\n",
       "\n",
       "@FoxNews\n",
       " @tedcruz\n",
       " @LindseyGrahamSC</td></tr><tr><td>8591061968</td><td>2020-11-22T08:06:52.608+0000</td><td>1606032412</td><td>@realDonaldTrump Election should be conduct again, big fraud is happened in collecting postal votes and handling them, by particular section of America, these communities hate Mr. Trump please keep them away from election work\n",
       "#elections\n",
       "#USElectionResults2020\n",
       "#USElectionResults</td></tr><tr><td>8590986208</td><td>2020-11-22T07:17:34.123+0000</td><td>1606029454</td><td>Rudy #Giuliani talks about the #affidavits gathered to support U.S. #President Donald #Trump's lawsuits re: #election #fraud. \n",
       "\n",
       "#Biden #USAElections2020 #stopthesteal #evidence #USElectionResults \n",
       "\n",
       "Sworn Evidence Of Pervasive #Voter #Fraud  https://t.co/X9Yz5HPdow via @YouTube</td></tr><tr><td>8591085872</td><td>2020-11-22T08:23:13.468+0000</td><td>1606033393</td><td>Rudy #Giuliani talks about the #affidavits gathered to support U.S. #President Donald #Trump's lawsuits re: #election #fraud. \n",
       "\n",
       "#Biden #USAElections2020 #stopthesteal #evidence #USElectionResults \n",
       "\n",
       "Sworn Evidence Of Pervasive #Voter #Fraud  https://t.co/X9Yz5HPdow via @YouTube</td></tr><tr><td>8590962304</td><td>2020-11-22T07:01:13.414+0000</td><td>1606028473</td><td>@realDonaldTrump Election should be conduct again, big fraud is happened in collecting postal votes and handling them, by particular section of America, these communities hate Mr. Trump please keep them away from election work\n",
       "#elections\n",
       "#USElectionResults2020\n",
       "#USElectionResults</td></tr><tr><td>8591033328</td><td>2020-11-22T07:47:52.430+0000</td><td>1606031272</td><td>Give your website traffic by having many sales.\n",
       "Click this link below and you see the amazing sales results on your product ⁦@realDonaldTrump⁩ ⁦@JoeBiden⁩ #USElectionResults #IndonesiaTerserah #MarchForTrump #BIDMAS #BreakingNewsFromCrystalLake https://t.co/Tgz0IRZiNp</td></tr><tr><td>8590970600</td><td>2020-11-22T07:06:54.831+0000</td><td>1606028814</td><td>If #RudyGiuliani believes Hugo Chavez has been rigging #USElection\\#USElectionResults from beyond the grave. @realDonaldTrump can ask Herman Cain for help, as he's active after death. #Chavez & #Cain can carry the fight between socialism & capitalism beyond the grave.\n",
       "#r4today</td></tr><tr><td>8591007600</td><td>2020-11-22T07:21:10.620+0000</td><td>1606029670</td><td>#Republicans not accepting our #USElectionResults is it because you’re just denying our #RighttoVote and elect our President? Nooo I think you’re trying  #HitlerStyle Well .. We #TheUSCitizens don’t Want your #Dictator #YourFührer #Wearereadytoevicthim from White House</td></tr><tr><td>8591055168</td><td>2020-11-22T07:52:20.190+0000</td><td>1606031540</td><td>Watching Trump talk for the first time since the election has been called for Biden. The bravado is gone. He looks deflated. \n",
       "\n",
       "He is one of the “losers” he says hates. \n",
       "\n",
       "There is no shame in losing but there is shame in not admitting defeat. \n",
       "\n",
       "#USElectionResults #Biden2020</td></tr><tr><td>8590988536</td><td>2020-11-22T07:08:29.819+0000</td><td>1606028909</td><td>@CNN Good start. Might as well get used to this scenario. You know #BidenHarris  will soon change to #HarrisBiden once #USElectionResults  are official. Basement snoozes for #SleepyJoe who'll say I don't want to know #KamalaHarris, you deal with it..Nah, nah,nah, nah, nah!!</td></tr><tr><td>8591064616</td><td>2020-11-22T07:59:42.850+0000</td><td>1606031982</td><td>#Breaking News \n",
       "\n",
       "Joe #Biden won #Arizona, holding a narrow lead there after over a week of counting. The state hadn’t voted for a Democrat for president since 1996 @nytimes #Diplomacy140 \n",
       "#USElectionResults\n",
       "#JoeBiden #USPresidentElectJoeBiden #Trump \n",
       "https://t.co/a1WeskOehk</td></tr><tr><td>8591086320</td><td>2020-11-22T08:14:08.878+0000</td><td>1606032848</td><td>@CNN Good start. Might as well get used to this scenario. You know #BidenHarris  will soon change to #HarrisBiden once #USElectionResults  are official. Basement snoozes for #SleepyJoe who'll say I don't want to know #KamalaHarris, you deal with it..Nah, nah,nah, nah, nah!!</td></tr><tr><td>8591004432</td><td>2020-11-22T07:19:10.600+0000</td><td>1606029550</td><td>I'm only really bothered with Twitter when America is awake and reporting! \n",
       "Feed my fraud addiction! \n",
       "#USElectionResults #ElectionFraud2020 #electionfraud #Trump2020Lanslide #TRUMP2020ToSaveAmerica \n",
       "And of course the Twitter misspelled hashtags #ElectionFruad #ElectionFruad2020</td></tr><tr><td>8591076304</td><td>2020-11-22T08:07:27.598+0000</td><td>1606032447</td><td>#USElectionResults The  SCOTUS and the entire judiciary in the US are taking the lead in showing the world that  Strong Institutions can save a democracy at a time of crisis! I think Americans should be proud of what  is going on now despite the defiance from the White House!</td></tr><tr><td>8590978520</td><td>2020-11-22T07:01:48.490+0000</td><td>1606028508</td><td>#USElectionResults The  SCOTUS and the entire judiciary in the US are taking the lead in showing the world that  Strong Institutions can save a democracy at a time of crisis! I think Americans should be proud of what  is going on now despite the defiance from the White House!</td></tr><tr><td>8590990024</td><td>2020-11-22T07:09:41.031+0000</td><td>1606028981</td><td>WAKE  UP AMERICA!  Republicans are enabling chaos and confusion about election results. 70% of their 73 M voters believe them. This is the key of the pressure on the Electoral college. America destiny lay on the intergrity and courage of the EC. #USElectionResults  @JoeBiden</td></tr><tr><td>8591087808</td><td>2020-11-22T08:15:20.138+0000</td><td>1606032920</td><td>WAKE  UP AMERICA!  Republicans are enabling chaos and confusion about election results. 70% of their 73 M voters believe them. This is the key of the pressure on the Electoral college. America destiny lay on the intergrity and courage of the EC. #USElectionResults  @JoeBiden</td></tr><tr><td>8591056608</td><td>2020-11-22T07:53:20.185+0000</td><td>1606031600</td><td>306.\n",
       "\n",
       "Decisive. Comprehensive. Unquestionable. Democracy has spoken, and it has rejected showmanship, bluff and bluster in favour of substance, integrity and reason. Time for world politics to get back on track. Congrats President Biden.\n",
       "#USAElections2020 #USElectionResults</td></tr><tr><td>8591030360</td><td>2020-11-22T07:45:52.392+0000</td><td>1606031152</td><td>Glad to see that @KippsFletcher and I broadly agree. There are some real obstacles facing #Biden. He needs to reach out to alienated Trump voters ASAP, and hear them out! No doubt that he's already trying!\n",
       "\n",
       "#Biden2020 #USElectionResults #BidenHarris https://t.co/G3tjMF9che</td></tr><tr><td>8591036968</td><td>2020-11-22T07:40:16.026+0000</td><td>1606030816</td><td>@BDUTT The man seen in this photo is secured because of lakhs of Indian Men who voted for the lady seen in this pic to \"secure her\" and not seen to the one who posted this scrap ! #JaiHind #Manners #HaterParadise #FakeJournos #KamalaHarris #USElections2020 #USElectionResults</td></tr><tr><td>8591021120</td><td>2020-11-22T07:29:41.949+0000</td><td>1606030181</td><td>Funny things regarding #voterfraud #fraud @ #USPresidentialElections2020 #USElectionResults :\n",
       "In #Pennsylvania , supposedly 840 were 101 or older; 39 lived through the #CivilWar ; 45 were born in the 1800s. These are among the 21,000+ dead people in Penns. that „voted“</td></tr><tr><td>8591096352</td><td>2020-11-22T08:21:03.495+0000</td><td>1606033263</td><td>it seems like the 2020 US election has been front page news, like, forever... but for a retrospective look at how America voted this year, check out the link in our bio for our latest article.⁠\n",
       "\n",
       "https://t.co/NoRAtqUemo\n",
       "\n",
       "#joebiden #bidenharris #uselection #uselectionresults</td></tr><tr><td>8591067256</td><td>2020-11-22T08:01:44.224+0000</td><td>1606032104</td><td>In case many folks don’t know:\n",
       "It’s not the #media that finalize the #USPresidentialElections2020 but the individual #states certify the #USElectionResults !\n",
       "#Biden #Trump #electionfraud #Pennsylvania #Georgia #Nevada #Arizona #Michigan #Wisconsin\n",
       "https://t.co/ev0XWjwM5y</td></tr><tr><td>8591045952</td><td>2020-11-22T07:45:57.380+0000</td><td>1606031157</td><td>How @FoxNews is STILL promoting false narratives around #USElectionResults. Is there no adult in charge, @rupertmurdoch? No wonder your son #JamesMurdoch has left your toxic company (& hid wife @KathrynAMurdoch is celebrating @JoeBiden’s victory)! https://t.co/s23cVlfoUK</td></tr><tr><td>8590998568</td><td>2020-11-22T07:15:23.274+0000</td><td>1606029323</td><td>it seems like the 2020 US election has been front page news, like, forever... but for a retrospective look at how America voted this year, check out the link in our bio for our latest article.⁠\n",
       "\n",
       "https://t.co/NoRAtqUemo\n",
       "\n",
       "#joebiden #bidenharris #uselection #uselectionresults</td></tr><tr><td>8591097264</td><td>2020-11-22T08:21:33.499+0000</td><td>1606033293</td><td>BUY GOLD AT 1882.00 WITH TP- 1890.00 AND SL- 1874.00\n",
       "\n",
       "Join group for more updates\n",
       "https://t.co/oJD32udKAF\n",
       "\n",
       "#TRADINGTIPS\n",
       "#trading #Singapore #Malaysia #UnitedKingdom #UnitedStates #France #China #Japan #Germany #England #USAelection2020 #USElectionResults #Australia #Morocco</td></tr><tr><td>8590999480</td><td>2020-11-22T07:15:54.322+0000</td><td>1606029354</td><td>BUY GOLD AT 1882.00 WITH TP- 1890.00 AND SL- 1874.00\n",
       "\n",
       "Join group for more updates\n",
       "https://t.co/oJD32udKAF\n",
       "\n",
       "#TRADINGTIPS\n",
       "#trading #Singapore #Malaysia #UnitedKingdom #UnitedStates #France #China #Japan #Germany #England #USAelection2020 #USElectionResults #Australia #Morocco</td></tr><tr><td>8591057448</td><td>2020-11-22T08:04:31.341+0000</td><td>1606032271</td><td>#USElectionResults!\n",
       "#PeterNovak repeats his original prediction on @realDonaldTrump!\n",
       "\n",
       "With every passing day and more recount results rolling in, possibilities of predictions coming true fast going into realm of mystery!\n",
       "\n",
       "#POTUS #JoeBiden #DonaldTrump https://t.co/Yu2E20FPyd</td></tr><tr><td>8590994688</td><td>2020-11-22T07:23:05.615+0000</td><td>1606029785</td><td>Link https://t.co/rB6uiACYGb\n",
       "#seamless #patterns #digital #print \n",
       "#BackgroundRemoval #cutout #resize #clippingpath #retouching \n",
       "#USElectionResults #YouMakeStrayKidsStay #mobilephotography #BlackFriday #aespa #FIFA21 #GHMCElections2020 #KarachiKings #lovejihaad #BlackFriday</td></tr><tr><td>8591014024</td><td>2020-11-22T07:25:11.930+0000</td><td>1606029911</td><td>The Wisconsin Elections Commission (@WI_Elections) said a statewide vote #ElectionRecount would cost an estimated $7.9 million, money that President @realDonaldTrump's campaign would have to pay in advance. #USPresidentialElection #USElectionResults    https://t.co/KCzUV2SwE0</td></tr><tr><td>8591072568</td><td>2020-11-22T08:14:03.883+0000</td><td>1606032843</td><td>#Georgia 💙💙💙\n",
       "\n",
       "We defeated Trump twice IN THE SAME ELECTION! 😉\n",
       "\n",
       "#gapol #recount #election #USElections2020 #USElections #USElectionResults2020 #USElectionResults #Recount2020 #RecountGeorgia #TrumpConcede #VoteHimOut #VotersDecided #VoteTrumpOut https://t.co/MWLitQBl1o</td></tr><tr><td>8590972904</td><td>2020-11-22T07:08:24.841+0000</td><td>1606028904</td><td>#Georgia 💙💙💙\n",
       "\n",
       "We defeated Trump twice IN THE SAME ELECTION! 😉\n",
       "\n",
       "#gapol #recount #election #USElections2020 #USElections #USElectionResults2020 #USElectionResults #Recount2020 #RecountGeorgia #TrumpConcede #VoteHimOut #VotersDecided #VoteTrumpOut https://t.co/MWLitQBl1o</td></tr><tr><td>8591032896</td><td>2020-11-22T07:37:34.657+0000</td><td>1606030654</td><td>Starting now. We're first talking about the legacy of Engels. Then on to a Marxist analysis of the rise of Conspiracy Theories, and sum up of the #USElectionResults\n",
       "\n",
       "https://t.co/rqM1RjA1zF \n",
       "\n",
       "#WorldToWin🌎 #Engels200 #SocialistSunday #Socialism #Marx #ConspiracyTheories</td></tr><tr><td>8591014464</td><td>2020-11-22T07:35:09.640+0000</td><td>1606030509</td><td>Dear @realDonaldTrump @POTUS there's a delegation of concerned countries going to the #USElectionResults\n",
       "to help mediate the democratic transition. Namely #Zimbabwe #Libya #Iran #NorthKorea even they believe you shud concede 😂🤣😂🤣😂🤣\n",
       "https://t.co/ejGI5tFGjs</td></tr><tr><td>8590986968</td><td>2020-11-22T07:07:29.835+0000</td><td>1606028849</td><td>Joe Biden’s US election win means ‘more stability’ in superpower ties, American businesses in China hope #China #china #JoeBiden #bidenharis2020 #BidenTransition #JoeBidenKamalaHarris2020 #USElectionResults #USElection2020 \n",
       "https://t.co/fRZur1icM4 https://t.co/kisLhvEne3</td></tr><tr><td>8591020832</td><td>2020-11-22T07:39:21.014+0000</td><td>1606030761</td><td>While most of the alleged election fraud 'evidence' have had relatively straightforward explanations, some are just ridiculous. Cudos to @standupmaths for having the energy to take on one of the more bizarre ones... #USElection2020 #USElectionResults https://t.co/9Kh6B9R3sT</td></tr><tr><td>8591084752</td><td>2020-11-22T08:13:08.888+0000</td><td>1606032788</td><td>Joe Biden’s US election win means ‘more stability’ in superpower ties, American businesses in China hope #China #china #JoeBiden #bidenharis2020 #BidenTransition #JoeBidenKamalaHarris2020 #USElectionResults #USElection2020 \n",
       "https://t.co/fRZur1icM4 https://t.co/kisLhvEne3</td></tr><tr><td>8591094856</td><td>2020-11-22T08:20:12.465+0000</td><td>1606033212</td><td>Christopher Krebs (@CISAKrebs),  director of the Cybersecurity and Infrastructure Security Agency (@CISAgov) who had called the election “the most secure in American history” has been fired. #USPresidentialElection #USElectionResults #Protect2020 https://t.co/gQrdj3bXjG</td></tr><tr><td>8590997072</td><td>2020-11-22T07:14:33.281+0000</td><td>1606029273</td><td>Christopher Krebs (@CISAKrebs),  director of the Cybersecurity and Infrastructure Security Agency (@CISAgov) who had called the election “the most secure in American history” has been fired. #USPresidentialElection #USElectionResults #Protect2020 https://t.co/gQrdj3bXjG</td></tr><tr><td>8591024248</td><td>2020-11-22T07:41:31.004+0000</td><td>1606030891</td><td>#ye conceded #USElectionResults #USAelection2020 #USElections2020 #USAElections2020 #AMERICANSFORKANYEWEST  #MillionMoronMarch #MillionMAGAMarch2020 #MillionMAGAMarch #Kanye2024 #kanyewest2024 #ye2024 #kanye #kanyewest concede #POTUS #realdonladtrump #maga https://t.co/rL0X6NcJqP</td></tr><tr><td>8591082128</td><td>2020-11-22T08:11:28.859+0000</td><td>1606032688</td><td>Dear #USA\n",
       "\n",
       "How about you just have NO #president and do another #election in four years? Your government seems to suck anyway, so just don’t have one for a while.\n",
       "\n",
       "Sincerely,\n",
       "Your Australian Friend\n",
       "\n",
       "#USAElections2020 #USElectionResults2020 #USElectionResults \n",
       "#TrumpvsBiden</td></tr><tr><td>8590984344</td><td>2020-11-22T07:05:49.819+0000</td><td>1606028749</td><td>Dear #USA\n",
       "\n",
       "How about you just have NO #president and do another #election in four years? Your government seems to suck anyway, so just don’t have one for a while.\n",
       "\n",
       "Sincerely,\n",
       "Your Australian Friend\n",
       "\n",
       "#USAElections2020 #USElectionResults2020 #USElectionResults \n",
       "#TrumpvsBiden</td></tr><tr><td>8591031688</td><td>2020-11-22T07:36:44.647+0000</td><td>1606030604</td><td>@realDonaldTrump cares about himself, his ego, and whatever dumpster fire he calls a legacy. He does not care about America.\n",
       "#USElectionResults\n",
       "#USElections2020\n",
       "Donald Trump's estranged niece says uncle is 'deliberately' refusing to concede election https://t.co/ZZvDDZv6So</td></tr><tr><td>8591009576</td><td>2020-11-22T07:32:18.253+0000</td><td>1606030338</td><td>2/2 A main thing about Trumps tweet is that Twitter notifies us about the actual decision which is basically fact-checking political decisions which is something that is valuable. I believe politicians should respect the public's decision. #canschufollowme #USElectionResults</td></tr><tr><td>8591016688</td><td>2020-11-22T07:36:39.637+0000</td><td>1606030599</td><td>US President @realDonaldTrump is still mulling a last ditch-effort to stay in the @WhiteHouse by telling @GOP states to choose his loyalists to act as voters in the #ElectoralCollege and select him over @JoeBiden. #USElectionResults #ElectionFraud \n",
       "https://t.co/ldZRgcqLvp</td></tr><tr><td>8591029160</td><td>2020-11-22T07:34:54.633+0000</td><td>1606030494</td><td>#Trump2020 #USElectionResults Some people hate Trump so much, they'd rather vote for Biden ( even if his policies are far worse) just to spite Trump. That shouldn't be reason for a vote for Biden. You vote for the person who has the best policies or just dont vote for either</td></tr><tr><td>8590997400</td><td>2020-11-22T07:14:43.298+0000</td><td>1606029283</td><td>I'm inviting influencers keen to work with brands to develop content and share with their audiences: https://t.co/3Ig0fyg8gD\n",
       "#GirlTalkZA #bushiri #BHOVAMANIA #bhekicele #asbestos #Sjavamustrise #LadyZamarMustFall #JoeBidenKamalaHarris2020 #JOEBIDEN2020 #USElectionResults</td></tr><tr><td>8591075584</td><td>2020-11-22T08:16:05.136+0000</td><td>1606032965</td><td>As per counting @JoeBiden wins the election . But , @realDonaldTrump still believing that he his the president of #USA !!!\n",
       "Let's make a poll and decided who his the winner of #usaelection 👍🏻\n",
       "#Election2020 #ElectionFraud #USElectionResults #USPresidentialElections2020</td></tr><tr><td>8591017624</td><td>2020-11-22T07:37:09.644+0000</td><td>1606030629</td><td>Trump seems to have reversed falling minority support for GOP. Hispanic support peaked under Bush, while Asian support seems to be beginning a modest recovery, but is still way below the 1990s and 2000s #USElectionResults #USAelection2020 #Trump2020 https://t.co/Z9UIh7GjHK</td></tr><tr><td>8590975920</td><td>2020-11-22T07:10:26.042+0000</td><td>1606029026</td><td>As per counting @JoeBiden wins the election . But , @realDonaldTrump still believing that he his the president of #USA !!!\n",
       "Let's make a poll and decided who his the winner of #usaelection 👍🏻\n",
       "#Election2020 #ElectionFraud #USElectionResults #USPresidentialElections2020</td></tr><tr><td>8591095184</td><td>2020-11-22T08:20:22.436+0000</td><td>1606033222</td><td>I'm inviting influencers keen to work with brands to develop content and share with their audiences: https://t.co/3Ig0fyg8gD\n",
       "#GirlTalkZA #bushiri #BHOVAMANIA #bhekicele #asbestos #Sjavamustrise #LadyZamarMustFall #JoeBidenKamalaHarris2020 #JOEBIDEN2020 #USElectionResults</td></tr><tr><td>8591006384</td><td>2020-11-22T07:29:56.945+0000</td><td>1606030196</td><td>Haha,  the reason they are dismissing the legal challenges of voting irregularities at at state level is because they know that any close scrutiny, digging or auditing would reveal massive criminal corruption of their cronies regarding voting fraud!!! \n",
       "\n",
       "#USElectionResults</td></tr><tr><td>8591092440</td><td>2020-11-22T08:18:31.259+0000</td><td>1606033111</td><td>As officials in Nevada’s most populous counties certified results of the #November3Election, President @realDonaldTrump attacked the vote that gave Democratic candidate @JoeBiden a 33,596-vote statewide victory. #USElectionResults #PresidentElect https://t.co/lQSyk8pnjc</td></tr><tr><td>8590994656</td><td>2020-11-22T07:12:52.103+0000</td><td>1606029172</td><td>As officials in Nevada’s most populous counties certified results of the #November3Election, President @realDonaldTrump attacked the vote that gave Democratic candidate @JoeBiden a 33,596-vote statewide victory. #USElectionResults #PresidentElect https://t.co/lQSyk8pnjc</td></tr><tr><td>8591005256</td><td>2020-11-22T07:19:40.620+0000</td><td>1606029580</td><td>Surprising the lack of success of railroads in the US given that when #Trump is kicked out, the gravy train to end all gravy trains is going to come to a shuddering halt!! #TrumpOut #US #USA #USElectionResults #PresidentBiden #PresidentElectJoeBiden #VicePresidentElectHarris</td></tr><tr><td>8591022904</td><td>2020-11-22T07:40:41.011+0000</td><td>1606030841</td><td>Republican leaders in four critical states won by #PresidentElect @JoeBiden say they won’t participate in a legally dubious scheme to flip their state’s electors to vote for President @realDonaldTrump #USPresidentialElection #USElectionResults \n",
       "https://t.co/UIplWU1L7z</td></tr><tr><td>8591068360</td><td>2020-11-22T08:11:13.868+0000</td><td>1606032673</td><td>As President Donald Trump unsuccessfully fights the results of the presidential election in courts, his campaign released the names of four dead Georgians who allegedly voted, suggesting fraud. This is false. #FakeNews #Georgia #USElectionResults\n",
       "\n",
       "https://t.co/QP0knDHwoV</td></tr><tr><td>8590968696</td><td>2020-11-22T07:05:34.835+0000</td><td>1606028734</td><td>As President Donald Trump unsuccessfully fights the results of the presidential election in courts, his campaign released the names of four dead Georgians who allegedly voted, suggesting fraud. This is false. #FakeNews #Georgia #USElectionResults\n",
       "\n",
       "https://t.co/QP0knDHwoV</td></tr><tr><td>8590985848</td><td>2020-11-22T07:06:49.832+0000</td><td>1606028809</td><td>@thehill “We pledge that if you vote for us more people will die, the planet will burn and you will be able to go about armed to the teeth but without any work. Because we’re #Trumpublicans and that’s all we have left to offer!” @ProjectLincoln #USElectionResults</td></tr><tr><td>8591074760</td><td>2020-11-22T08:15:35.143+0000</td><td>1606032935</td><td>Reportedly, @realDonaldTrump  would've won #GEORGIA  had he not suppressed his own supporters by demonising #MailInBallots with Republicans.\n",
       "\n",
       "Makes you wonder if the #USElectionResults would have been different considering how influential he is with his supporters?🤔</td></tr><tr><td>8590975096</td><td>2020-11-22T07:09:56.031+0000</td><td>1606028996</td><td>Reportedly, @realDonaldTrump  would've won #GEORGIA  had he not suppressed his own supporters by demonising #MailInBallots with Republicans.\n",
       "\n",
       "Makes you wonder if the #USElectionResults would have been different considering how influential he is with his supporters?🤔</td></tr><tr><td>8591024968</td><td>2020-11-22T07:42:01.027+0000</td><td>1606030921</td><td>I am the president-elect, but will not be president until next year. #COVID__19 does not respect dates on the calendar, it is accelerating right now. Urgent action is needed today, now, by the current administration.: @JoeBiden \n",
       "\n",
       "#PresidentElectJoeBiden #USElectionResults</td></tr><tr><td>8591056600</td><td>2020-11-22T08:04:01.337+0000</td><td>1606032241</td><td>Donald Trump and the Republicans are behaving in an utterly corrupt, self-serving way. An appalling display of anti-democratic behaviour. #DonaldTrump #USElectionResults #US #Republicans #Democrats #Corruption #despotism #democracy ⁦@BBCNews⁩  https://t.co/92W2Fd1MAo</td></tr><tr><td>8591056272</td><td>2020-11-22T08:03:51.336+0000</td><td>1606032231</td><td>Worth reading this Edward Norton thread on Trumps current tactics. Surely the covid crisis catastrophe he created and his delay tactics are reason enough to kick him out now. #covid19usa #USElectionResults #fightclub #kickhimoutnow #CallHisBluff https://t.co/xElMMaEauO</td></tr><tr><td>8591049328</td><td>2020-11-22T07:59:07.838+0000</td><td>1606031947</td><td>US President Donald Trump has not yet conceded to Joe Biden, contending that fraud occurred during counting of votes. @rajkamalrao looks at how Trump came to lose a closely fought election\n",
       "https://t.co/Oa91Qgt9H1\n",
       "#USElectionResults \n",
       "@Kamathcometh https://t.co/kaKoEdaUWf</td></tr><tr><td>8591049656</td><td>2020-11-22T07:59:17.855+0000</td><td>1606031957</td><td>Friday Fun: With all the #ElectionResults2020 & #USElectionResults drama going on, grab your popcorns and find out how #DeepFakes play a decisive part - Dangers of Deep Fakes by Anmol Tanubhrt.\n",
       "\n",
       "https://t.co/xGTrmdxUp4\n",
       "\n",
       "#USElectionResults2020 #USElections2020 #techfastly</td></tr><tr><td>8591017840</td><td>2020-11-22T07:27:41.922+0000</td><td>1606030061</td><td>Whilst it may feel like a time to celebrate, we would be foolish to do so. Here is my piece on what’s next for America. Dear Democrats: reform or perish - The Student #USElectionResults ⁦⁦⁦@BernieSanders⁩ ⁦@AOC⁩ ⁦@ArandaQuim⁩ https://t.co/nakRnV1MjP</td></tr><tr><td>8591018848</td><td>2020-11-22T07:37:49.648+0000</td><td>1606030669</td><td>Check out my Gig on Fiverr: stencil art https://t.co/9dYg70kWNj\n",
       "\n",
       "#RepublicansForBiden #Capricorn #Philadelphia #coronavirus #boycottfrenchproducts #USElectionResults #JoeBidenKamalaHarris2020 #WhatsApp #JOEBIDEN2020 #TrumpvsBiden #Election2020 #BidenHarris2020 #Islam</td></tr><tr><td>8591026760</td><td>2020-11-22T07:33:23.257+0000</td><td>1606030403</td><td>@TimesNow Trump fantasising in #USElectionResults his Country Cousin playing out in #BiharElectionResults \n",
       "\n",
       "#बिहार_मे_लोकतंत्र_कि_हत्या \n",
       "#बिहार_मांगें_रिकॉउंटिंग https://t.co/ISfhouwi55</td></tr><tr><td>8591030784</td><td>2020-11-22T07:36:04.642+0000</td><td>1606030564</td><td>Joe Biden’s victory in the recent American elections are a chance for Washington and Beijing to reset their relationship and work together to solve the world’s problems. \n",
       "\n",
       "For China Daily: https://t.co/AL5Y1kH9AY\n",
       "\n",
       "#USAElections2020  #USElectionResults  #USChina</td></tr><tr><td>8591056928</td><td>2020-11-22T08:04:11.352+0000</td><td>1606032251</td><td>Make the #USAElections2020 #USElectionResults  more fun and engaging with the right #apparel. Get it via @teespring here: https://t.co/xBSUhLnrEp\n",
       "Add some fun to your #trump or #Biden friends.\n",
       "#Funwear4all #christmasshopping \n",
       "\n",
       "🙃Please RT and spread the word 🙃</td></tr><tr><td>8590965464</td><td>2020-11-22T07:03:24.792+0000</td><td>1606028604</td><td>What the #USElectionResults has taught me is that 70 million people are racist misogynists who want the world to burn & the rest of the population are stunning and brave #Politics #racism #misogyny #stunningandbrave #science #facts #statistics 🙏🏽🙏🏽🙏🏽</td></tr><tr><td>8590990336</td><td>2020-11-22T07:20:15.609+0000</td><td>1606029615</td><td>https://t.co/ZmLRpK71uM... a very detailed analysis of #USElectionResults goof up...terrifying to see how votes are switched and lost... the game goes on and on with no end in sight...such a hopeless electoral system with gaping holes... @realDonaldTrump @JoeBiden</td></tr><tr><td>8591065128</td><td>2020-11-22T08:09:03.874+0000</td><td>1606032543</td><td>What the #USElectionResults has taught me is that 70 million people are racist misogynists who want the world to burn & the rest of the population are stunning and brave #Politics #racism #misogyny #stunningandbrave #science #facts #statistics 🙏🏽🙏🏽🙏🏽</td></tr><tr><td>8590988680</td><td>2020-11-22T07:19:15.604+0000</td><td>1606029555</td><td>Mark Zuckerburg (FB Founder) and Dorsey ( Twitter Founder) testifying before US Senate jury clearly depicts the debate of arguments between Digital Authority over Conventional Authority vice versa.\n",
       ".\n",
       ".\n",
       "#USElectionResults #MarkZuckerberg #Dorsey #DigitalTransformation</td></tr><tr><td>8591039000</td><td>2020-11-22T07:51:55.198+0000</td><td>1606031515</td><td>It is beyond ridiculous @PressSec . Lets just focus on @biden and @KamalaHarris from here on out. \n",
       "#USElectionResults #306for46 and we turned #georgiablue and #ArizonaBlue \n",
       "Thats is a spanking if I ever saw one @realDonaldTrump \n",
       "#Resistance https://t.co/0OzWoPj6V7</td></tr><tr><td>8591064576</td><td>2020-11-22T08:08:43.872+0000</td><td>1606032523</td><td>@realDonaldTrump It is not Joe Biden or Donald Trump, but Hunter Biden who has won: Elections Integrity is the cornerstone of a Democracy\n",
       "\n",
       "https://t.co/BPxUAjaXCC\n",
       "\n",
       "@FoxNews \n",
       "\n",
       "@realDonaldTrump\n",
       "\n",
       " #Trump2020 #USElectionResults #USAElections2020 \n",
       "#TrumpIsANationalDisgrace</td></tr><tr><td>8590964912</td><td>2020-11-22T07:03:03.491+0000</td><td>1606028583</td><td>@realDonaldTrump It is not Joe Biden or Donald Trump, but Hunter Biden who has won: Elections Integrity is the cornerstone of a Democracy\n",
       "\n",
       "https://t.co/BPxUAjaXCC\n",
       "\n",
       "@FoxNews \n",
       "\n",
       "@realDonaldTrump\n",
       "\n",
       " #Trump2020 #USElectionResults #USAElections2020 \n",
       "#TrumpIsANationalDisgrace</td></tr><tr><td>8591011432</td><td>2020-11-22T07:33:28.249+0000</td><td>1606030408</td><td>@htTweets @Namratamishra99 Trump fantasising in #USElectionResults his Country Cousin playing out in #BiharElectionResults \n",
       "\n",
       "#बिहार_मे_लोकतंत्र_कि_हत्या \n",
       "#बिहार_मांगें_रिकॉउंटिंग</td></tr><tr><td>8591042704</td><td>2020-11-22T07:54:45.197+0000</td><td>1606031685</td><td>It looks like 10 days after elections,  CNN has finalised it's projections. With a projected win in Georgia and Trump's Pennsylvania case falling, Biden lead seems to grow stronger 306:232  #USElectionResults #USElection2020 #BidenHarris2020 https://t.co/oh0cFibsDO</td></tr><tr><td>8591014960</td><td>2020-11-22T07:25:41.940+0000</td><td>1606029941</td><td>@Greg_Palast finds voter suppression in #Georgia — surprise surprise!\n",
       "\n",
       "(Oh, by the way, that was a joke! If you followed their mid-term elections in 2018, especially the gobernatorial one, you know why!) #USElections2020 #USElectionResults https://t.co/46TNkNm4Tg</td></tr><tr><td>8590987784</td><td>2020-11-22T07:07:59.815+0000</td><td>1606028879</td><td>‘I am confident he knows he hasn't won’: Joe Biden on Trump\n",
       "#USElectionResults #TrumpvsBiden #TransitionNow #Americans ⁦@realDonaldTrump⁩ ⁦@JoeBiden⁩ ⁦@KamalaHarris⁩ ⁦@Klimakris1NukeZ⁩ ⁦@WSJ⁩ ⁦@FoxNews⁩ ⁦@CNN⁩  https://t.co/bNyxCRqWkq</td></tr><tr><td>8591085568</td><td>2020-11-22T08:13:38.890+0000</td><td>1606032818</td><td>‘I am confident he knows he hasn't won’: Joe Biden on Trump\n",
       "#USElectionResults #TrumpvsBiden #TransitionNow #Americans ⁦@realDonaldTrump⁩ ⁦@JoeBiden⁩ ⁦@KamalaHarris⁩ ⁦@Klimakris1NukeZ⁩ ⁦@WSJ⁩ ⁦@FoxNews⁩ ⁦@CNN⁩  https://t.co/bNyxCRqWkq</td></tr><tr><td>8591043296</td><td>2020-11-22T07:55:05.183+0000</td><td>1606031705</td><td>@VOANews “Pompeo set to embark on 10 day trip to Europe, Middle East..”\n",
       "\n",
       "But why? Isn’t he supposed to be out of this job, within the next eight to nine weeks?\n",
       "\n",
       "#US #USA #America #USElectionResults #USAElections2020 #USElections2020 #AmericaDecides #Americans</td></tr><tr><td>8590995984</td><td>2020-11-22T07:13:52.113+0000</td><td>1606029232</td><td>We will discuss the possible repercussions of the #USElectionResults on US Foreign Policy, particularly US-EU relations, NATO, and more, w/ @defnesadiklar\n",
       " Bruce Weinrod, Michael Binyon and @plschirach Register now: https://t.co/cmGZ4pT9ar https://t.co/83eYGTcfAa</td></tr><tr><td>8591093768</td><td>2020-11-22T08:19:31.255+0000</td><td>1606033171</td><td>We will discuss the possible repercussions of the #USElectionResults on US Foreign Policy, particularly US-EU relations, NATO, and more, w/ @defnesadiklar\n",
       " Bruce Weinrod, Michael Binyon and @plschirach Register now: https://t.co/cmGZ4pT9ar https://t.co/83eYGTcfAa</td></tr><tr><td>8591018320</td><td>2020-11-22T07:37:29.632+0000</td><td>1606030649</td><td>US President Donald Trump on Sunday acknowledged publicly for the first time that President-elect Joe Biden won the election a week after the race was called by high-profile US media outlets.\n",
       "\n",
       "#USElectionResults @realDonaldTrump @JoeBiden \n",
       "\n",
       "https://t.co/WM9vSKhrUV</td></tr><tr><td>8590994984</td><td>2020-11-22T07:13:02.105+0000</td><td>1606029182</td><td>Just a thought, being a human being, and a person with an understanding of the law in certain terms, that all US citizens should be placing their confidence that emily Murphy will do the right thing once all the information she needs is ready. #USElectionResults</td></tr><tr><td>8591092768</td><td>2020-11-22T08:18:41.242+0000</td><td>1606033121</td><td>Just a thought, being a human being, and a person with an understanding of the law in certain terms, that all US citizens should be placing their confidence that emily Murphy will do the right thing once all the information she needs is ready. #USElectionResults</td></tr><tr><td>8591064176</td><td>2020-11-22T07:59:22.863+0000</td><td>1606031962</td><td>.@JoeBiden cemented his electoral victory by capturing the battleground state of #Arizona, but the transition to his administration remains in political stasis as @realDonaldTrump refuses to accept defeat. https://t.co/goIrZ96Mra #USElectionResults #USElections</td></tr><tr><td>8591033448</td><td>2020-11-22T07:37:54.646+0000</td><td>1606030674</td><td>Trump admits Biden ‘won’ presidential election for the first time – but says won’t concede!\n",
       "\n",
       "#APPNews #TrumpvsBiden #USElectionResults #USPresidentialElections2020 @realDonaldTrump @JoeBiden @ForeignOfficePk \n",
       "\n",
       "https://t.co/mXaO1SuwsC https://t.co/3xzeZMW6RF</td></tr><tr><td>8591007280</td><td>2020-11-22T07:21:00.619+0000</td><td>1606029660</td><td>Thank you to our strong panel of experts for joining @BurchFCPA today: @somseif, Nawan Butt, and Joe McDonnell. Here's a sneak peak of our webinar - NOW LIVE!\n",
       "#USElectionResults #covid19 #CovidVaccine #economics #unemployment #ourfuture https://t.co/UEZKd5MG6w</td></tr><tr><td>8591020800</td><td>2020-11-22T07:29:31.930+0000</td><td>1606030171</td><td>#USElectionResults #USElections2020 #usconstitution #Biden #Democrats #Republicans Just astonished that a modern democracy like the #UnitedStates allow armed militias which undermine democracy when they have an army and a police force. Madness, absolute madness</td></tr><tr><td>8591101896</td><td>2020-11-22T08:24:39.804+0000</td><td>1606033479</td><td>Two things notable about the numbers below : 1. So small a margin that it’s a reminder how important voter turn-out can be. 2. So large a margin that history suggests  it’s well beyond what a recount could change. #USElectionResults https://t.co/yMH8Fl9O26</td></tr><tr><td>8591004112</td><td>2020-11-22T07:19:00.599+0000</td><td>1606029540</td><td>Two things notable about the numbers below : 1. So small a margin that it’s a reminder how important voter turn-out can be. 2. So large a margin that history suggests  it’s well beyond what a recount could change. #USElectionResults https://t.co/yMH8Fl9O26</td></tr><tr><td>8591022112</td><td>2020-11-22T07:30:23.258+0000</td><td>1606030223</td><td>“[Stacey] Abrams established a clear plan to both register voters and sustain their support for the Democratic Party. Her aim was to reveal to Americans that Georgia was no longer a red state, but a battleground one instead.”\n",
       "#votecount #uselectionresults</td></tr><tr><td>8591007760</td><td>2020-11-22T07:30:58.250+0000</td><td>1606030258</td><td>@realDonaldTrump Congrats from Sweden! Thank you for keeping other countries to do the same mistake our leftist liberals have done with almost unlimited muslim immigration! It's close to a revolution now..🇸🇪😣👍🇺🇸#uselection #USElectionResults</td></tr><tr><td>8591069064</td><td>2020-11-22T08:02:56.344+0000</td><td>1606032176</td><td>#USElectionResults!\n",
       "#PeterNovak repeats his original prediction on @realDonaldTrump even more emphatically!\n",
       "\n",
       "The real mystery now is.... What's in store on the eve of #Thanksgiving2020 for the great #USA? \n",
       "\n",
       "#POTUS #JoeBiden #DonaldTrump https://t.co/isvotDyEJ5</td></tr><tr><td>8591084808</td><td>2020-11-22T08:22:29.449+0000</td><td>1606033349</td><td>If what is happening in the US was happening in a country in Eastern Europe - the EU would  have condemned it. Senators like Rubio & Graham would be outraged and calling for a peaceful transition. Is there any precedent for this in US history #USElectionResults</td></tr><tr><td>8590985144</td><td>2020-11-22T07:16:50.287+0000</td><td>1606029410</td><td>If what is happening in the US was happening in a country in Eastern Europe - the EU would  have condemned it. Senators like Rubio & Graham would be outraged and calling for a peaceful transition. Is there any precedent for this in US history #USElectionResults</td></tr><tr><td>8591077672</td><td>2020-11-22T08:08:17.595+0000</td><td>1606032497</td><td>About half of all Republicans believe President Donald Trump “rightfully won” the US election but that it was stolen from him by widespread voter fraud that favored Democratic #PresidentElect @JoeBiden #USElectionResults #POTUS46 \n",
       "https://t.co/E6ZN0LKx1l</td></tr><tr><td>8591029888</td><td>2020-11-22T07:35:24.638+0000</td><td>1606030524</td><td>When multiple #Trump campaign lawsuits wouldn’t even help him win, and none of them argue his more extravagant claims, it begs the question - What the fuck are you doing Donald? https://t.co/KfbERYgXOy #USElection2020 #USElectionResults #trump #donaldtrump</td></tr><tr><td>8590979888</td><td>2020-11-22T07:02:38.484+0000</td><td>1606028558</td><td>About half of all Republicans believe President Donald Trump “rightfully won” the US election but that it was stolen from him by widespread voter fraud that favored Democratic #PresidentElect @JoeBiden #USElectionResults #POTUS46 \n",
       "https://t.co/E6ZN0LKx1l</td></tr><tr><td>8591071256</td><td>2020-11-22T08:04:26.332+0000</td><td>1606032266</td><td>@realDonaldTrump still sending out emails asking for money for his #USElectionResults defence fund. @VP included in asking for donations, fine print says 75%+ goes to his Super PAC. It's a scam, grift. Do Not Fall For It. It's A SCAM!! https://t.co/79MdOwgiw1</td></tr><tr><td>8590995320</td><td>2020-11-22T07:23:25.617+0000</td><td>1606029805</td><td>#TruthMatters will eventually see the light of day...\n",
       "\n",
       "#WithdrawGCDNowKE #tuesdayvibe #Election2020 #YEDNCovid19Training #USElectionResults #onlineclasses #Fortnite #JoeBiden #LaunchAmerica #CovidVaccine #vcshot #Memes #LegendaryElite https://t.co/LX8gGXlcVZ</td></tr><tr><td>8591023160</td><td>2020-11-22T07:31:03.266+0000</td><td>1606030263</td><td>Where are the rubber bullets, tear gas cannons, and outrage now! #ProudBoys #DCProtests #DC #StandBackAndStandBy #hypocrisy #doublestandard #GOPHypocrisy #USElection2020 #USElectionResults #BidenHarris2020 #AmericaDecided2020 #BidenWon https://t.co/gONdsbUd4B</td></tr><tr><td>8591089864</td><td>2020-11-22T08:16:40.121+0000</td><td>1606033000</td><td>President Ronald Regans @PresidentRonald magnanimous last speech. The US outgoing presidents need to show maturity and selflessness.  #PresidentialElection2020 #PresidentBiden #PresidentTrump #USElectionResults #USPresidentialElections2020 https://t.co/m1vSE0Q5Sr</td></tr><tr><td>8590992080</td><td>2020-11-22T07:11:01.023+0000</td><td>1606029061</td><td>President Ronald Regans @PresidentRonald magnanimous last speech. The US outgoing presidents need to show maturity and selflessness.  #PresidentialElection2020 #PresidentBiden #PresidentTrump #USElectionResults #USPresidentialElections2020 https://t.co/m1vSE0Q5Sr</td></tr><tr><td>8590992744</td><td>2020-11-22T07:21:45.619+0000</td><td>1606029705</td><td>Spending a lot of time recently watching the outpouring over the US Election. Got great WiFi up here. It just served to remind me that one of dads gargoyles is missing. It’s the weather worn orange one. #TrumpConceded #Trump #USElectionResults #JesusChrist</td></tr><tr><td>8591045208</td><td>2020-11-22T07:45:27.382+0000</td><td>1606031127</td><td>@Star_1_Man Staggering how poor grammar and poor spelling are common to right wing racist, sexist bigots on both sides of the Atlantic.\n",
       "Wonder what the common denominator may be?\n",
       "#USElectionResults \n",
       "#USAElections2020 \n",
       "#ToryIncompetence \n",
       "#BorisHasFailedTheUK</td></tr><tr><td>8591032112</td><td>2020-11-22T07:47:02.396+0000</td><td>1606031222</td><td>To all US news: please stop phrasing the voting fraud conspiracy in a way where if counting errors exist, they might be unilateral. ERRORS ARE RANDOM. Trump can't flip a state with errors: THEY ARE RANDOMLY DISTRIBUTED. Truly, please stop. #USElectionResults</td></tr><tr><td>8591052928</td><td>2020-11-22T07:50:28.843+0000</td><td>1606031428</td><td>#USElectionResults has changed everything so that everything remains the same.\n",
       "In detail, the cartoon by Bill Purkayastha (nickname Jihadi Colin), a citizen of India @not3bad @suzannahfrances @ExtinctionR @KillTheCorpora @soghetti. https://t.co/dTewa7QVRI</td></tr><tr><td>8591064952</td><td>2020-11-22T07:59:52.850+0000</td><td>1606031992</td><td>7 #Habits of #Fashionable #Women That Help Them Look Incredible \n",
       "\n",
       "Full Guide here : https://t.co/0kRzsMyg0A\n",
       "\n",
       "#fashionstyle #fashionnova #FashionWeek #fashion #FashionModel #USElectionResults #NewYork #LasVegas #LosAngeles #girl #girls https://t.co/JnpuVRZGIf</td></tr><tr><td>8591030056</td><td>2020-11-22T07:45:42.374+0000</td><td>1606031142</td><td>Giuliani is going to run Trump's legal gambit. 3 conclusions: first, Trump knows there is no chance; second, no other public figure would sully themselves in this way; third, Rudy cannot sink lower than he already has. #USElectionResults #USAelection2020</td></tr><tr><td>8591077544</td><td>2020-11-22T08:17:25.136+0000</td><td>1606033045</td><td>And those who think @wikileaks and #JulianAssange  are a force for good in the world should really rethink and reset their beliefs.  Astonishing... and yes the 'we' is important #USAElections2020 #USElections2020  #USElectionResults https://t.co/daxNZZeOXp</td></tr><tr><td>8590977880</td><td>2020-11-22T07:11:46.036+0000</td><td>1606029106</td><td>And those who think @wikileaks and #JulianAssange  are a force for good in the world should really rethink and reset their beliefs.  Astonishing... and yes the 'we' is important #USAElections2020 #USElections2020  #USElectionResults https://t.co/daxNZZeOXp</td></tr><tr><td>8591041080</td><td>2020-11-22T07:42:46.017+0000</td><td>1606030966</td><td>These jokers should register themselves on https://t.co/HR3maF4xS2 🤣🤣🤣 #MarchForTrump #MillionMoronMarch #BidenHarris2020 #USElectionResults #Vote2020 #DonaldTrump #JoeBidenKamalaHarris2020 #BidenHarris2020ToSaveAmerica \n",
       "\n",
       "https://t.co/XnyV80Bd2j</td></tr><tr><td>8591101336</td><td>2020-11-22T08:24:19.802+0000</td><td>1606033459</td><td>It behooves the new #Biden administration to alter its perception and to understand that military power is no longer a guarantor of political and economic influence  #USElectionResults #BidenHarris #Trump2020 https://t.co/3ajGhiJ7AZ https://t.co/yM1kfD2CuO</td></tr><tr><td>8591003552</td><td>2020-11-22T07:18:40.454+0000</td><td>1606029520</td><td>It behooves the new #Biden administration to alter its perception and to understand that military power is no longer a guarantor of political and economic influence  #USElectionResults #BidenHarris #Trump2020 https://t.co/3ajGhiJ7AZ https://t.co/yM1kfD2CuO</td></tr><tr><td>8591059120</td><td>2020-11-22T08:05:22.612+0000</td><td>1606032322</td><td>For years people have been pointing out that Trump accuses others of doing what he does himself.\n",
       "\n",
       "Interesting that he’s saying the Dems are stealing the election.\n",
       "\n",
       "Especially given what’s happened in Michigan in the last few hours.\n",
       "\n",
       "#USElectionResults</td></tr><tr><td>8590998672</td><td>2020-11-22T07:25:16.938+0000</td><td>1606029916</td><td>#GOP is now defined by the cowardice of elected #Republicans. They’re toeing #Trump’s ridiculous line of crazy conspiracy theories to avoid a nasty tweet. Pathetic. #USElectionResults #CountryOverParty #GOPCowards #LincolnProject #LindseyGrahamResign</td></tr><tr><td>8591069816</td><td>2020-11-22T08:12:13.878+0000</td><td>1606032733</td><td>The potential of people of Indian origin to shape US public policies and to wield influence in the corridors of power in the US is vastly overstated: @Kparam in #MCopinion\n",
       "https://t.co/q3pq5b8Irp\n",
       "#USElectionResults #TeamBiden #KamalaHarris #ForeignPolicy</td></tr><tr><td>8590961992</td><td>2020-11-22T07:01:03.412+0000</td><td>1606028463</td><td>Finally the Recount in #Georgia is over and @JoeBiden has won the election. Again. Americans can begin to move forward and heal, and I can now finally collect my winnings. Go #politics #USElection #USElectionResults #USPresidentialElections2020 #VoteHimOut</td></tr><tr><td>8591061656</td><td>2020-11-22T08:06:42.608+0000</td><td>1606032402</td><td>Finally the Recount in #Georgia is over and @JoeBiden has won the election. Again. Americans can begin to move forward and heal, and I can now finally collect my winnings. Go #politics #USElection #USElectionResults #USPresidentialElections2020 #VoteHimOut</td></tr><tr><td>8590970152</td><td>2020-11-22T07:06:34.829+0000</td><td>1606028794</td><td>The potential of people of Indian origin to shape US public policies and to wield influence in the corridors of power in the US is vastly overstated: @Kparam in #MCopinion\n",
       "https://t.co/q3pq5b8Irp\n",
       "#USElectionResults #TeamBiden #KamalaHarris #ForeignPolicy</td></tr><tr><td>8591051752</td><td>2020-11-22T08:00:39.241+0000</td><td>1606032039</td><td>@AP (Associated Press) with no TV ratings at stake and only factual news as the basis of their mandate has reviewed the #USElectionResults and along with US Gov't agencies decreed that the election was the most secure in history. https://t.co/SavVcLOoGg</td></tr><tr><td>8591089560</td><td>2020-11-22T08:16:30.136+0000</td><td>1606032990</td><td>Totally love this name #ps5uk #COVID19 #DisneyPlus #honktwtselfieday #ICAI_DENIES_SAFTEY #boycottzomato #saynotoxeno #1MillionMarkedSafeFromBJP #thursdaymorning #WorldToiletDay #USElectionResults #Vh1Playlist #YMornings #ZeePruk https://t.co/v03nkIiYDt</td></tr><tr><td>8590991776</td><td>2020-11-22T07:10:51.022+0000</td><td>1606029051</td><td>Totally love this name #ps5uk #COVID19 #DisneyPlus #honktwtselfieday #ICAI_DENIES_SAFTEY #boycottzomato #saynotoxeno #1MillionMarkedSafeFromBJP #thursdaymorning #WorldToiletDay #USElectionResults #Vh1Playlist #YMornings #ZeePruk https://t.co/v03nkIiYDt</td></tr><tr><td>8591035216</td><td>2020-11-22T07:49:13.831+0000</td><td>1606031353</td><td>#USElectionResults \n",
       "#DonaldTrump \n",
       "#CNNElection \n",
       "\n",
       "Trump can't handle TELLING the TRUTH or accepting it\n",
       "\n",
       "A Georgian official & One of Trump's lawyers, tries to correct TRUMP by telling him he LOST Georgia.......\n",
       "\n",
       "Lawyer was sacked https://t.co/Pk4R7uUpas</td></tr><tr><td>8591098712</td><td>2020-11-22T08:22:34.443+0000</td><td>1606033354</td><td>#MT\n",
       "\n",
       "“Mr Trump has refused to concede the US election, making unsubstantiated claims of \"massive\" voter fraud.\n",
       "Election officials said the vote was the \"most secure\" in US history.”  \n",
       "\n",
       "#USElection2020 \n",
       "#USElectionResults \n",
       "\n",
       "https://t.co/hsOXGefF0z</td></tr><tr><td>8591000928</td><td>2020-11-22T07:16:55.288+0000</td><td>1606029415</td><td>#MT\n",
       "\n",
       "“Mr Trump has refused to concede the US election, making unsubstantiated claims of \"massive\" voter fraud.\n",
       "Election officials said the vote was the \"most secure\" in US history.”  \n",
       "\n",
       "#USElection2020 \n",
       "#USElectionResults \n",
       "\n",
       "https://t.co/hsOXGefF0z</td></tr><tr><td>8591014360</td><td>2020-11-22T07:25:21.937+0000</td><td>1606029921</td><td>I've been wondering how Trump lost but all of them won?\n",
       "I figured it was a repudiation, but cheating is probably more likely\n",
       "\n",
       "#USElectionResults \n",
       "#AmericaDecides2020 \n",
       "\n",
       "#GOPCorruptionOverCountry \n",
       "#GOPTraitors\n",
       "#GOPBetrayedAmerica https://t.co/dSaw25WGQU</td></tr><tr><td>8591060136</td><td>2020-11-22T07:56:21.467+0000</td><td>1606031781</td><td>With regards to the #USElectionResults I am sure there was fraud! There will always be fraud within any election!\n",
       "\n",
       "However the thousand or so cases aren't going to swing any of those states...\n",
       "\n",
       "Still watching with interest though to see what is dug up</td></tr><tr><td>8590990568</td><td>2020-11-22T07:10:01.018+0000</td><td>1606029001</td><td>#USElectionResults #TopBusinessLeaders are recognizing ⁦@JoeBiden⁩ as the president-elect, even as Trump refuses to concede. #USChamberOfCommerce #CEO urged Trump to start the transition process to Biden without delay.\n",
       "1/ https://t.co/OcqsRurbqY</td></tr><tr><td>8591088352</td><td>2020-11-22T08:15:40.126+0000</td><td>1606032940</td><td>#USElectionResults #TopBusinessLeaders are recognizing ⁦@JoeBiden⁩ as the president-elect, even as Trump refuses to concede. #USChamberOfCommerce #CEO urged Trump to start the transition process to Biden without delay.\n",
       "1/ https://t.co/OcqsRurbqY</td></tr><tr><td>8590981824</td><td>2020-11-22T07:03:49.801+0000</td><td>1606028629</td><td>This is getting pretty close to the Friends episode - The one where Eddie won’t go! \n",
       "And ironically enough, it ends with JOEy moving in 😅\n",
       "#USElectionResults #USElections #Election2020 #ElectionResults2020 #JoeBiden #Trump https://t.co/uSXnD8ghL0</td></tr><tr><td>8591079608</td><td>2020-11-22T08:09:28.866+0000</td><td>1606032568</td><td>This is getting pretty close to the Friends episode - The one where Eddie won’t go! \n",
       "And ironically enough, it ends with JOEy moving in 😅\n",
       "#USElectionResults #USElections #Election2020 #ElectionResults2020 #JoeBiden #Trump https://t.co/uSXnD8ghL0</td></tr><tr><td>8590995016</td><td>2020-11-22T07:23:15.616+0000</td><td>1606029795</td><td>Two more victory’s for team Trump. When will the mainstream media recall their mistakes? \n",
       "\n",
       "https://t.co/Oa7QkCSkyN\n",
       "\n",
       "#BidenIsNotPresidentElect #Biden #PresidentialElection #Trump2020 #Trump #USElectionResults @realDonaldTrump @robertjensen @bdiederik</td></tr><tr><td>8591041040</td><td>2020-11-22T07:53:25.189+0000</td><td>1606031605</td><td>I think the ongoing #Pentagon shakeup reflects that #Trump fears the #USArmy would \"oblige\" him to leave the White House more than that he is planning a military action somwhere.\n",
       "\n",
       "#USElectionResults #bidenharis2020 #MarkEsper https://t.co/Fwrzz4Y4W6</td></tr><tr><td>8591066016</td><td>2020-11-22T08:09:33.877+0000</td><td>1606032573</td><td>This #USElectionResults debacle is a successful cover for the #CovidVaccine already being pushed on US children and seemingly may be pushed on us too! #CITIBANK calling a #USD crash following covid vacc. is quite frightening! https://t.co/MLiEvvhf7W</td></tr><tr><td>8590966352</td><td>2020-11-22T07:03:54.811+0000</td><td>1606028634</td><td>This #USElectionResults debacle is a successful cover for the #CovidVaccine already being pushed on US children and seemingly may be pushed on us too! #CITIBANK calling a #USD crash following covid vacc. is quite frightening! https://t.co/MLiEvvhf7W</td></tr><tr><td>8591026544</td><td>2020-11-22T07:43:22.398+0000</td><td>1606031002</td><td>The new #Trump post-#USAelection2020: red & white (no longer orange & blond). #turningpoint- he can't articulate it, by the physical transformation says it all! 😉 #BidenHarris2020 #USElectionResults2020 #USElectionResults https://t.co/2ZR5yAYzHt</td></tr><tr><td>8590965792</td><td>2020-11-22T07:03:34.796+0000</td><td>1606028614</td><td>US Election 2020: Sam Newman's 'disgusting' Joe Biden tweet https://t.co/IEb9XUkf3k via @Yahoo #Election2020 #JoeBiden #JoeBiden2020 #JoeBidenPresidentElect #JoeBidenKamalaHarris2020 #USElection2020 #USElectionResults #USAElections2020 #DonaldTrump #Trump</td></tr><tr><td>8591065456</td><td>2020-11-22T08:09:13.860+0000</td><td>1606032553</td><td>US Election 2020: Sam Newman's 'disgusting' Joe Biden tweet https://t.co/IEb9XUkf3k via @Yahoo #Election2020 #JoeBiden #JoeBiden2020 #JoeBidenPresidentElect #JoeBidenKamalaHarris2020 #USElection2020 #USElectionResults #USAElections2020 #DonaldTrump #Trump</td></tr><tr><td>8591054776</td><td>2020-11-22T07:52:00.190+0000</td><td>1606031520</td><td>@andersoncooper just heard your \"We see him like an obese turtle on his back flailing in the hot sun, realizing his time is over.\" metaphor. Absolutely brilliant 🤣🤣🤣 falling around laughing listen to it. #USElectionResults #trumphasthehump</td></tr><tr><td>8591047568</td><td>2020-11-22T07:47:07.391+0000</td><td>1606031227</td><td>Speaking to the Council for National Policy on Friday, Vice President @Mike_Pence said: “I promise you: We will keep fighting until every legal vote is counted, until every illegal vote is thrown out.\"\n",
       "#USElectionResults \n",
       "https://t.co/JOFPP84TVt</td></tr><tr><td>8591083544</td><td>2020-11-22T08:21:48.492+0000</td><td>1606033308</td><td>(2/...) Accept the #USElectionResults and don't chaos anymore! Stop firing people who support you!\n",
       "Better: Please fire yourself and leave the White House as soon as possible! Otherwise you are a  real danger to your country and to democracy ‼️</td></tr><tr><td>8591014664</td><td>2020-11-22T07:25:31.922+0000</td><td>1606029931</td><td>Three more lawyers representing President Donald Trump's campaign have asked to withdraw from his #lawsuit challenging the #USElectionResults in #Pennsylvania, shaking up his legal team on the eve of a major court hearing.\n",
       "\n",
       "https://t.co/QXMZgmgEaU</td></tr><tr><td>8590983880</td><td>2020-11-22T07:16:09.310+0000</td><td>1606029369</td><td>(2/...) Accept the #USElectionResults and don't chaos anymore! Stop firing people who support you!\n",
       "Better: Please fire yourself and leave the White House as soon as possible! Otherwise you are a  real danger to your country and to democracy ‼️</td></tr><tr><td>8591034256</td><td>2020-11-22T07:48:32.420+0000</td><td>1606031312</td><td>US President #DonaldTrump has not conceded to #JoeBiden, and his supporters will take to streets to back his unsubstantiated claims of election fraud. \n",
       "\n",
       "Read more: https://t.co/exxcubQwne\n",
       "\n",
       "#USAElections2020 #USElectionResults https://t.co/p9Rab3lxOW</td></tr><tr><td>8590982272</td><td>2020-11-22T07:14:58.268+0000</td><td>1606029298</td><td>It always sucks to be on the losing side, be it sports, love or democracy. But the fact remains there are 73,438,425 broken hearts looking to blame.someone...... #USElection2020 #USElectionResults #Republican #Democrat #USAvotes #winnersandloosers</td></tr><tr><td>8591081936</td><td>2020-11-22T08:20:37.456+0000</td><td>1606033237</td><td>It always sucks to be on the losing side, be it sports, love or democracy. But the fact remains there are 73,438,425 broken hearts looking to blame.someone...... #USElection2020 #USElectionResults #Republican #Democrat #USAvotes #winnersandloosers</td></tr><tr><td>8591048728</td><td>2020-11-22T07:47:57.426+0000</td><td>1606031277</td><td>US Election 2020: The 'dead voters' in Michigan who are still alive. Kudos to my very good friend who found this.\n",
       "\n",
       "https://t.co/0K9CerRDba\n",
       "\n",
       "#USElectionResults #USElections #USElectionResults2020 #USElections2020 #USElection2020 #usa #politics #elections</td></tr><tr><td>8591037992</td><td>2020-11-22T07:40:46.018+0000</td><td>1606030846</td><td>Fervent supporters of #DonaldTrump rallied in Washington behind his spurious claim of a stolen election and swarmed his motorcade when he detoured for a drive-by on his way out of town  \n",
       "\n",
       "#USElections2020 #USElectionResults \n",
       "https://t.co/AgYubxSyGg</td></tr><tr><td>8591031104</td><td>2020-11-22T07:36:14.627+0000</td><td>1606030574</td><td>Dear @realDonaldTrump:\n",
       "\n",
       "Please.\n",
       "\n",
       "DON'T concede the election.\n",
       "\n",
       "Why?\n",
       "\n",
       "I want you to be FOREVER remembered as the pathetic, whiny loser you've always been and always will be.\n",
       "\n",
       "Thanks, buddy...\n",
       "\n",
       "#USElectionResults #USAElections2020 #PresidentElectJoe</td></tr><tr><td>8590998896</td><td>2020-11-22T07:15:34.306+0000</td><td>1606029334</td><td>Covid-19 has done few good things as well. #Trump ousted, #JudyShelton  nomination to #FederalReserveBoard failed. Stay Safe-n-Blessed🖖✨💐.\n",
       "#Dems #USA #GOP #Americans #PresidentElect #BidenHarris #JoeBiden #USElection2020 #USElectionResults</td></tr><tr><td>8591096680</td><td>2020-11-22T08:21:13.498+0000</td><td>1606033273</td><td>Covid-19 has done few good things as well. #Trump ousted, #JudyShelton  nomination to #FederalReserveBoard failed. Stay Safe-n-Blessed🖖✨💐.\n",
       "#Dems #USA #GOP #Americans #PresidentElect #BidenHarris #JoeBiden #USElection2020 #USElectionResults</td></tr><tr><td>8590969024</td><td>2020-11-22T07:05:44.836+0000</td><td>1606028744</td><td>Made in China again #China exports many thing now installing/ Booting  #USAElections2020 with #Pakistani expertise of riggings elections.\n",
       "I am not a supporter of either side but nothing is right about this #USElectionResults https://t.co/PD1o1hL350</td></tr><tr><td>8591068688</td><td>2020-11-22T08:11:23.868+0000</td><td>1606032683</td><td>Made in China again #China exports many thing now installing/ Booting  #USAElections2020 with #Pakistani expertise of riggings elections.\n",
       "I am not a supporter of either side but nothing is right about this #USElectionResults https://t.co/PD1o1hL350</td></tr><tr><td>8590981000</td><td>2020-11-22T07:03:19.784+0000</td><td>1606028599</td><td>President-elect @JoeBiden’s winning tally is approaching a record 80 million votes as Democratic bastions continue to count ballots and the 2020 election cracks turnout records. #PresidentElect #USElectionResults #POTUS46 https://t.co/AienXWVlyU</td></tr><tr><td>8591078784</td><td>2020-11-22T08:08:58.862+0000</td><td>1606032538</td><td>President-elect @JoeBiden’s winning tally is approaching a record 80 million votes as Democratic bastions continue to count ballots and the 2020 election cracks turnout records. #PresidentElect #USElectionResults #POTUS46 https://t.co/AienXWVlyU</td></tr><tr><td>8591049536</td><td>2020-11-22T07:48:37.418+0000</td><td>1606031317</td><td>It seems so-called Conservatives and Republicans are living in student dimension where their reality is something else. I don't think this many can be delusional #USElectionResults #TrumpIsPathetic #RepublicansAreDestroyingAmerica #Conservatives</td></tr><tr><td>8590999264</td><td>2020-11-22T07:25:36.938+0000</td><td>1606029936</td><td>President @realDonaldTrump acknowledged for the first time that #PresidentElect @JoeBiden won the #USPresidentialElection, but he refused to concede and blamed his loss on a string of conspiracy theories. #USElectionResults https://t.co/FPBEkIQtAt</td></tr><tr><td>8591029192</td><td>2020-11-22T07:45:02.384+0000</td><td>1606031102</td><td>@weekend_UK \n",
       " Do You Need Bookkeeper?I am expert in Quickbooks Online, and Xero software. https://t.co/v61HQqxQUS\n",
       "#Quickbooks #Xero #JoeBidenKamalaHarris2020 #TrumpMeltdown #USA #USElectionResults #accounting #bookkeeping https://t.co/CJyQMCvNUD</td></tr><tr><td>8591089080</td><td>2020-11-22T08:16:10.133+0000</td><td>1606032970</td><td>More than half of #Republicans believe #DonaldTrump 'rightfully won' the election and was stolen by #JoeBiden in sign that president's unfounded fraud claims are being believed\n",
       "https://t.co/KDAhiBuojd\n",
       "#USAElections2020 #USElectionResults #News</td></tr><tr><td>8590991296</td><td>2020-11-22T07:10:31.035+0000</td><td>1606029031</td><td>More than half of #Republicans believe #DonaldTrump 'rightfully won' the election and was stolen by #JoeBiden in sign that president's unfounded fraud claims are being believed\n",
       "https://t.co/KDAhiBuojd\n",
       "#USAElections2020 #USElectionResults #News</td></tr><tr><td>8591023992</td><td>2020-11-22T07:31:33.256+0000</td><td>1606030293</td><td>After Admitting Jon Biden Win in the Presidential Election, Donald Trump Said He Will Not Concede. Check out the full story👇👇- https://t.co/3B8PUVtseW!\n",
       "\n",
       "#PresidentialElection2020  #USElectionResults  #BidenPresident https://t.co/6r74snVKbe</td></tr><tr><td>8590997656</td><td>2020-11-22T07:24:45.637+0000</td><td>1606029885</td><td>Fresh from the Map Oven: Cartographic Views of the 2020 US Presidential Election https://t.co/scp68GpRu7 #USElection2020 #USElectionResults #USElection #maps #cartograms #cartography #politics @JoeBiden @KamalaHarris @realDonaldTrump @Mike_Pence</td></tr><tr><td>8591041800</td><td>2020-11-22T07:43:17.378+0000</td><td>1606030997</td><td>Republican leaders in four critical states won by President-elect #JoeBiden say they won't participate in a legally dubious scheme to flip their state's electors to vote for President #DonaldTrump.\n",
       "#USElectionResults \n",
       "https://t.co/z1SLepedox</td></tr><tr><td>8591058376</td><td>2020-11-22T07:54:50.196+0000</td><td>1606031690</td><td>Top U.S. cybersecurity official Christopher Krebs has told associates he expects to be fired by the White House. Krebs has drawn the ire of the Trump administration over a website debunking misinformation about the election #USElectionResults</td></tr><tr><td>8590999192</td><td>2020-11-22T07:15:44.322+0000</td><td>1606029344</td><td>-Premieres 6:15 ET-\n",
       "\n",
       "Dominion Voting shares an office floor with the extreme left eco-radical charity Tides Foundation\n",
       "\n",
       "Keean Keean reports from the scene \n",
       "\n",
       "https://t.co/2x8AtCtmBU\n",
       "\n",
       "#cdnpoli #USElectionResults\n",
       "@GerardBattenUK \n",
       "@Nigel_Farage</td></tr><tr><td>8590998976</td><td>2020-11-22T07:25:26.922+0000</td><td>1606029926</td><td>Hey, @realDonaldTrump :\n",
       "\n",
       "See, you're not a TOTAL loser...\n",
       "\n",
       "Oh, wait.\n",
       "\n",
       "You are.\n",
       "\n",
       "Time to get out of the White House, you fucking useless clown.\n",
       "\n",
       "#TrumpIsALaughingStock #TrumpIsALoser #USElections2020 #USElectionResults https://t.co/ZQHWbXuq3i</td></tr><tr><td>8590966648</td><td>2020-11-22T07:04:04.796+0000</td><td>1606028644</td><td>N, remember how many #Republicans wiLL not care for their feLLow countrymen/ #women / ppL (animals, environment, climate, insects, water, shaLL i name more?) \n",
       "\n",
       "#stimuluspackage \n",
       "#USElectionResults \n",
       "#USAElections2020 https://t.co/VaRblC4Uuc</td></tr><tr><td>8591066312</td><td>2020-11-22T08:09:43.864+0000</td><td>1606032583</td><td>N, remember how many #Republicans wiLL not care for their feLLow countrymen/ #women / ppL (animals, environment, climate, insects, water, shaLL i name more?) \n",
       "\n",
       "#stimuluspackage \n",
       "#USElectionResults \n",
       "#USAElections2020 https://t.co/VaRblC4Uuc</td></tr><tr><td>8591082928</td><td>2020-11-22T08:11:58.863+0000</td><td>1606032718</td><td>Must say I thought this was a little harsh: ⁦”⁦@RudyGiuliani⁩ suffers hair malfunction in latest bizarre press conference”... headline not funny, not funny at all.\n",
       "\n",
       "#Election2020results \n",
       "#USElectionResults  https://t.co/EX80ppn50i</td></tr><tr><td>8590985144</td><td>2020-11-22T07:06:19.825+0000</td><td>1606028779</td><td>Must say I thought this was a little harsh: ⁦”⁦@RudyGiuliani⁩ suffers hair malfunction in latest bizarre press conference”... headline not funny, not funny at all.\n",
       "\n",
       "#Election2020results \n",
       "#USElectionResults  https://t.co/EX80ppn50i</td></tr><tr><td>8591013104</td><td>2020-11-22T07:24:40.613+0000</td><td>1606029880</td><td>Are you guys happy about this election and do you think @joebiden will do a good job ? \n",
       "\n",
       "#USElection2020 #TrumpvsBiden #RepublicFightsBack #democats #Biden2020 #TrumpvsBiden #Trump2020 #DonaldTrump #USElectionResults #USElection2020 #USElections</td></tr><tr><td>8590980624</td><td>2020-11-22T07:13:47.114+0000</td><td>1606029227</td><td>In future when a writer pens anything about @WhiteHouse Politics no-one will be able to cry: \"That's too far fetched!\"\n",
       "\n",
       "The writer will simply point to Donald Trump's @realDonaldTrump Presidency & #USElectionResults events & #TrumpMeltdown</td></tr><tr><td>8591080288</td><td>2020-11-22T08:19:26.262+0000</td><td>1606033166</td><td>In future when a writer pens anything about @WhiteHouse Politics no-one will be able to cry: \"That's too far fetched!\"\n",
       "\n",
       "The writer will simply point to Donald Trump's @realDonaldTrump Presidency & #USElectionResults events & #TrumpMeltdown</td></tr><tr><td>8591000640</td><td>2020-11-22T07:16:45.286+0000</td><td>1606029405</td><td>Georgia's recount may have given President @realDonaldTrump a slight boost, but not nearly enough to affect the presidential election's outcome in the state. #USElectionResults #ElectionRecount #USPresidentialElection https://t.co/RkNxV398ai</td></tr><tr><td>8591098424</td><td>2020-11-22T08:22:24.443+0000</td><td>1606033344</td><td>Georgia's recount may have given President @realDonaldTrump a slight boost, but not nearly enough to affect the presidential election's outcome in the state. #USElectionResults #ElectionRecount #USPresidentialElection https://t.co/RkNxV398ai</td></tr><tr><td>8591027280</td><td>2020-11-22T07:33:44.634+0000</td><td>1606030424</td><td>US President @realDonaldTrump on Sunday worked to take back an acknowledgement that @JoeBiden won the race to #WhiteHouse while making it clear that he will keep trying to turn the #USElectionResults in his favour. https://t.co/yeYCu8KsIz</td></tr><tr><td>8590978192</td><td>2020-11-22T07:11:56.036+0000</td><td>1606029116</td><td>put up or shut up @realDonaldTrump #putuporshutup #idiom #2020ElectionThoughts #howbadlydoyouwantit #sevenpointninemill #Recount #StopTheSteaI #MoneyWhereYourMouthIs #USElectionResults #WisconsinRecount #talkischeap https://t.co/mU9qG78O4H</td></tr><tr><td>8591077856</td><td>2020-11-22T08:17:35.137+0000</td><td>1606033055</td><td>put up or shut up @realDonaldTrump #putuporshutup #idiom #2020ElectionThoughts #howbadlydoyouwantit #sevenpointninemill #Recount #StopTheSteaI #MoneyWhereYourMouthIs #USElectionResults #WisconsinRecount #talkischeap https://t.co/mU9qG78O4H</td></tr><tr><td>8591001584</td><td>2020-11-22T07:26:56.926+0000</td><td>1606030016</td><td>So why is Trump and the Republicans are still talking about voters fraud with no evidence if they did have evidence they would be showing us right now  #TrumpIsPathetic #PresidentialElection #Biden #USElectionResults #PresidentElectJoeBiden</td></tr><tr><td>8591062664</td><td>2020-11-22T07:58:11.478+0000</td><td>1606031891</td><td>The election took place on 3rd November. Today is 13th November. Estimated remaining votes to count: 5,185,240. Why does it take so long? #Trump #Biden #USElections2020 #USElectionResults #USPresidentialElections2020 https://t.co/MRvKMj3zDf</td></tr><tr><td>8590989704</td><td>2020-11-22T07:19:55.608+0000</td><td>1606029595</td><td>A world where the #US fails to pass the baton from one leader to the next peacefully, gracefully, decently and with respect is a world where every autocrat is empowered to do the same with no repercussions. #USElection2020 #USElectionResults</td></tr><tr><td>8591078144</td><td>2020-11-22T08:17:45.122+0000</td><td>1606033065</td><td>WSJ: Dominion (Voting machines) is not controlled by the Venezuelan government, it is not a subsidiary of the Clinton Foundation, & its systems did not delete millions of Trump votes. https://t.co/rH0OOuo8ZJ #USElectionResults #YOUREFIRED</td></tr><tr><td>8590978480</td><td>2020-11-22T07:12:06.038+0000</td><td>1606029126</td><td>WSJ: Dominion (Voting machines) is not controlled by the Venezuelan government, it is not a subsidiary of the Clinton Foundation, & its systems did not delete millions of Trump votes. https://t.co/rH0OOuo8ZJ #USElectionResults #YOUREFIRED</td></tr><tr><td>8591010960</td><td>2020-11-22T07:23:10.614+0000</td><td>1606029790</td><td>Link https://t.co/B8V1YnHosQ\n",
       "#BackgroundRemoval #cutout #resize #clippingpath #retouching \n",
       "#USElectionResults #YouMakeStrayKidsStay #mobilephotography #BlackFriday #aespa #FIFA21 #GHMCElections2020 #KarachiKings #lovejihaad #BlackFriday</td></tr><tr><td>8591062472</td><td>2020-11-22T08:07:12.625+0000</td><td>1606032432</td><td>A major statistical portal, has claimed that the #2020PresidentialElection was notable for considerable political and geographic divides but it also highlighted a huge economic divide. #USElectionResults #POTUS46 https://t.co/cLJ2tlKBrT</td></tr><tr><td>8590962808</td><td>2020-11-22T07:01:33.479+0000</td><td>1606028493</td><td>A major statistical portal, has claimed that the #2020PresidentialElection was notable for considerable political and geographic divides but it also highlighted a huge economic divide. #USElectionResults #POTUS46 https://t.co/cLJ2tlKBrT</td></tr><tr><td>8591085088</td><td>2020-11-22T08:13:18.874+0000</td><td>1606032798</td><td>Number of votes for #PresidentBiden after election day: 73 million.\n",
       "\n",
       "Number of votes for #PresidentBiden after #trump challenged the result: 80 million\n",
       "\n",
       "😂😂😂\n",
       "\n",
       "#USElectionResults2020 #USElection #USElectionResults #Biden #KamalaHarrisVP</td></tr><tr><td>8590987304</td><td>2020-11-22T07:07:39.827+0000</td><td>1606028859</td><td>Number of votes for #PresidentBiden after election day: 73 million.\n",
       "\n",
       "Number of votes for #PresidentBiden after #trump challenged the result: 80 million\n",
       "\n",
       "😂😂😂\n",
       "\n",
       "#USElectionResults2020 #USElection #USElectionResults #Biden #KamalaHarrisVP</td></tr><tr><td>8591062144</td><td>2020-11-22T07:57:51.491+0000</td><td>1606031871</td><td>US poll officials have claimed that the recently-concluded 2020 presidential election was the \"most secure in American history,\" and rejected President Donald Trump's ballot fraud allegations. #USElectionResults https://t.co/rDjtGmmrmL</td></tr><tr><td>8591009440</td><td>2020-11-22T07:22:10.617+0000</td><td>1606029730</td><td>Biden said he would repeal the Global Gag Rule that was reinstated by President Trump which bans overseas groups from U.S. funding if they provide or mention abortion.\n",
       "\n",
       "Source: Reuters #election2020 #BidenHarris2020 #USElectionResults</td></tr><tr><td>8591045816</td><td>2020-11-22T07:56:56.480+0000</td><td>1606031816</td><td>President Trump’s accusation that the Democrats somehow “rigged” the #USElectionResults in favour of President-elect Joe Biden has been seized on by some Kremlin-controlled news outlets. #Russia\n",
       "\n",
       "https://t.co/8rJTyNpjsI #truth</td></tr><tr><td>8591048024</td><td>2020-11-22T07:47:27.376+0000</td><td>1606031247</td><td>By my last tweet I should add \"knowingly\" as there are lawyers presenting information to the court that they know is false and an abuse of process. They should pay with their licenses. #USElectionResults #USAelection2020 #USPolitics</td></tr><tr><td>8591047624</td><td>2020-11-22T07:57:56.484+0000</td><td>1606031876</td><td>@jlz0z He probably has to go into hiding to avoid the Barclay Bros and anyone who gave him money to orchestrate a no-deal #Brexit. There was big money riding on that outcome which won't happen now because of the #USElectionResults</td></tr><tr><td>8591013400</td><td>2020-11-22T07:24:50.630+0000</td><td>1606029890</td><td>@RealJamesWoods I am a foreigner, trying to understand your system. Is it Chuck and #bigmedia that decides who win #USElection2020 and not the people and #SupremeCourt ? Is Chuck Superman? #USElectionResults https://t.co/I88YlPbDJL</td></tr><tr><td>8591028408</td><td>2020-11-22T07:34:34.644+0000</td><td>1606030474</td><td>@BarackObama did not anticipate @realDonaldTrump 2 call #USElectionResults \"rigged\" !! beating @RahulGandhi s \"selective amnesia\" post EVERY election after 2014 \"RIGGED\" when @INCIndia lost (most), forgetting it was @INCIndia >>2</td></tr><tr><td>8591069536</td><td>2020-11-22T08:12:03.861+0000</td><td>1606032723</td><td>US ELECTION: Georgia Confirms Biden Victory And Finds No Widespread Fraud After Audit #USAElections2020 #USElectionResults2020 #uselectionresults #USElections2020 #USElection2020 #USPresidentialElections2020  https://t.co/ufwpveAf2U</td></tr><tr><td>8590969872</td><td>2020-11-22T07:06:24.811+0000</td><td>1606028784</td><td>US ELECTION: Georgia Confirms Biden Victory And Finds No Widespread Fraud After Audit #USAElections2020 #USElectionResults2020 #uselectionresults #USElections2020 #USElection2020 #USPresidentialElections2020  https://t.co/ufwpveAf2U</td></tr><tr><td>8591064096</td><td>2020-11-22T08:08:23.869+0000</td><td>1606032503</td><td>Joe Biden is not the President Elect.\n",
       "\n",
       "To become President Elect you have to have more than 270 votes certified by the electoral college or the opponent needs to concede.\n",
       "\n",
       "#USAElections2020 #USElectionResults #JoeBidenPresidentElect</td></tr><tr><td>8590964432</td><td>2020-11-22T07:02:43.487+0000</td><td>1606028563</td><td>Joe Biden is not the President Elect.\n",
       "\n",
       "To become President Elect you have to have more than 270 votes certified by the electoral college or the opponent needs to concede.\n",
       "\n",
       "#USAElections2020 #USElectionResults #JoeBidenPresidentElect</td></tr><tr><td>8591053000</td><td>2020-11-22T08:01:19.230+0000</td><td>1606032079</td><td>#USElectionResults has two outcome #trumpwin or #ElectionFruad why it is so hard to prove it. Incumbent president incumbent senate incumbent Supreme Court. Just fucking prove it and get it over. #BananaRepublicans #AmericaVotes2020</td></tr><tr><td>8591022072</td><td>2020-11-22T07:40:11.021+0000</td><td>1606030811</td><td>Fury at the prospect of a transfer of executive power showed no signs of abating, taking a cue the president's unrelenting assertion of victory in a race he actually lost\n",
       "\n",
       "#DonaldTrump #USElectionResults \n",
       "https://t.co/WocwE8CCo6</td></tr><tr><td>8591032480</td><td>2020-11-22T07:37:14.655+0000</td><td>1606030634</td><td>Seems like all these MAGA morons are acting like the very \"snowflakes\" they've spent so long mocking. \n",
       "\n",
       "Some advice: You lost. Suck it up. Get over it. \n",
       "\n",
       "#MAGAMoronMarch #USElectionResults #TrumpConceded #HeLost #DeactivateTrump</td></tr><tr><td>8591068128</td><td>2020-11-22T08:02:14.228+0000</td><td>1606032134</td><td>Yep! Biden won hands down! Republican In Michigan Goes From Loser To Winner After ‘Technical Glitch’ Fixed. Officials Urge ‘Confidence’ In System. #USElectionResults #Election2020 #Elecciones2020 https://t.co/qS2Y4vzeaB</td></tr><tr><td>8591011752</td><td>2020-11-22T07:33:38.267+0000</td><td>1606030418</td><td>So that’s a landslide win by @JoeBiden by @realDonaldTrump standards . 306 Electoral college vote, same margin as Trump won by in 2016 .  https://t.co/QMwvSyY9SZ  . Turns out there was a blue wave after all #USElectionResults</td></tr><tr><td>8591038520</td><td>2020-11-22T07:41:06.006+0000</td><td>1606030866</td><td>Hey I’m watching Share. Check it out now on Prime Video! - Wow. Watch share and pump this up. People need to know. #USElectionResults #Election2020results #ElectionDay #USA #media #CNNElection #FoxNews  https://t.co/45oOhVgLCI</td></tr><tr><td>8591031176</td><td>2020-11-22T07:46:22.387+0000</td><td>1606031182</td><td>GOP leaders in 4 states quash dubious Trump bid on electors https://t.co/QarxxD7PY9 via @Yahoo It's high time to stop this circus and save democratic traditions established in this country. #USElectionResults #USAElections2020</td></tr><tr><td>8591015048</td><td>2020-11-22T07:35:29.642+0000</td><td>1606030529</td><td>The Situation could return back to normal during spring in US. \n",
       "https://t.co/us8b33lhah \n",
       "\n",
       "#USA #COVID19 #CoronaVirusUpdates #BreakingNews #covidvaccine #US #USElectionResults #USAresults\n",
       "#news #covidnews #coronacases #American</td></tr><tr><td>8591016408</td><td>2020-11-22T07:36:29.636+0000</td><td>1606030589</td><td>https://t.co/E6ItgI0vSL\n",
       "Remember what it was like to have a President that cared, told the Truth and was Respected by our Allies! 🇺🇸🇺🇸 #ObamaWasBetterAtEverything #USElectionResults #PresidentElectJoe #TrumpTantrum</td></tr><tr><td>8591004768</td><td>2020-11-22T07:19:20.617+0000</td><td>1606029560</td><td>#USElectionResults #USElection2020 #JoeBiden #Democrats #Republicans #POTUS #PresidentialElection Does it really matter whether #trump concedes. #JoeBiden won & got the most votes. Ergo he won, end of. That's how elections work.</td></tr><tr><td>8591041528</td><td>2020-11-22T07:43:07.377+0000</td><td>1606030987</td><td>The Department of Homeland Security’s acting Secretary Chad Wolf has defied an order by President @realDonaldTrump to fire cybersecurity official Christopher Krebs.\n",
       "\n",
       "https://t.co/T5HxZXMS8W\n",
       "\n",
       "#Election2020 #USElectionResults</td></tr><tr><td>8591080576</td><td>2020-11-22T08:19:36.233+0000</td><td>1606033176</td><td>I'm gonna miss @realDonaldTrump when he gets removed from Twitter. \n",
       "\n",
       "His daily tweets of \"I win, I win, I win, I win, I win\" even though he definitely lost, make my evenings. \n",
       "\n",
       "#USElection2020 \n",
       "#USElectionResults \n",
       "#TrumpMeltdown</td></tr><tr><td>8590980912</td><td>2020-11-22T07:13:57.115+0000</td><td>1606029237</td><td>I'm gonna miss @realDonaldTrump when he gets removed from Twitter. \n",
       "\n",
       "His daily tweets of \"I win, I win, I win, I win, I win\" even though he definitely lost, make my evenings. \n",
       "\n",
       "#USElection2020 \n",
       "#USElectionResults \n",
       "#TrumpMeltdown</td></tr><tr><td>8591061656</td><td>2020-11-22T07:57:31.489+0000</td><td>1606031851</td><td>President-elect Biden announced his Ambassador to Galapagos–Mitch McConnell.                                                                                     \n",
       "\n",
       " #democracy2020 #USElectionResults #BidenWon https://t.co/OumLZaauOm</td></tr><tr><td>8590979192</td><td>2020-11-22T07:02:08.495+0000</td><td>1606028528</td><td>Ah, that explains it:\n",
       "\"When I look at myself in the first grade and I look at myself now, I’m basically the same. The temperament is not that different.\" #Trump #USElectionResults #ThingsTrumpNeverWon\n",
       "https://t.co/dQxPlRTflA</td></tr><tr><td>8591076976</td><td>2020-11-22T08:07:47.617+0000</td><td>1606032467</td><td>Ah, that explains it:\n",
       "\"When I look at myself in the first grade and I look at myself now, I’m basically the same. The temperament is not that different.\" #Trump #USElectionResults #ThingsTrumpNeverWon\n",
       "https://t.co/dQxPlRTflA</td></tr><tr><td>8590976248</td><td>2020-11-22T07:10:36.028+0000</td><td>1606029036</td><td>Conservative American Cardinal Raymond Burke has been attacking #PresidentElect @JoeBiden a practicing Catholic, as an anti-Catholic not fit to lead the nation. #USElectionResults #CardinalRaymondBurke\n",
       "https://t.co/s1fLksnRJ1</td></tr><tr><td>8591075912</td><td>2020-11-22T08:16:15.121+0000</td><td>1606032975</td><td>Conservative American Cardinal Raymond Burke has been attacking #PresidentElect @JoeBiden a practicing Catholic, as an anti-Catholic not fit to lead the nation. #USElectionResults #CardinalRaymondBurke\n",
       "https://t.co/s1fLksnRJ1</td></tr><tr><td>8591049832</td><td>2020-11-22T07:48:48.825+0000</td><td>1606031328</td><td>***New drop***\n",
       "\n",
       "This week we're discussing the #USPresidentialElections2020 with our fav @DanielaPBraide 🇺🇲 \n",
       "\n",
       "https://t.co/3UyRbadnLE\n",
       "\n",
       "This is #unsure #podcast #USAElections2020\n",
       "#USElectionResults https://t.co/GdkMpEtGdK</td></tr><tr><td>8591028200</td><td>2020-11-22T07:44:22.379+0000</td><td>1606031062</td><td>@HingeMarketing Do You Need Bookkeeper?I am expert in Quickbooks Online, and Xero software. https://t.co/v61HQqxQUS\n",
       "#Quickbooks #Xero #JoeBidenKamalaHarris2020 #TrumpMeltdown #USA #USElectionResults #accounting #bookkeeping</td></tr><tr><td>8591027928</td><td>2020-11-22T07:44:12.385+0000</td><td>1606031052</td><td>@HillaryClinton Do You Need Bookkeeper?I am expert in Quickbooks Online, and Xero software. https://t.co/v61HQqxQUS\n",
       "#Quickbooks #Xero #JoeBidenKamalaHarris2020 #TrumpMeltdown #USA #USElectionResults #accounting #bookkeeping</td></tr><tr><td>8591070448</td><td>2020-11-22T08:03:46.326+0000</td><td>1606032226</td><td>#JoeBiden #JoeBidenKamalaHarris2020 #Biden #BidenPresident #bidenharis2020 #PressConference #USElectionResults #USAelection2020 #DidYouKnow #themurkywaters\n",
       "\n",
       "Visit- https://t.co/AgWGToKaiV\n",
       "\n",
       "Did you know ? https://t.co/QuuIVwg4IX</td></tr><tr><td>8591006488</td><td>2020-11-22T07:20:30.613+0000</td><td>1606029630</td><td>So where is all that fraud Republican Politicians have been talking about? How about you boys @DonaldJTrumpJr @realDonaldTrump? Anything substantial?\n",
       "\n",
       "#USElectionResults #USElectionResults2020 #NoFraud #AmericaOrTrump #Trump</td></tr><tr><td>8591087216</td><td>2020-11-22T08:24:04.802+0000</td><td>1606033444</td><td>Give it a couple of minutes and we we will be going live here, for a streaming comedy show. Talking #DollyParton, #BorisJohnson's #lockdown and odd #USElectionResults.\n",
       "Watch on mobile, laptop or TV. https://t.co/VLCI7Gekid</td></tr><tr><td>8590987552</td><td>2020-11-22T07:18:25.474+0000</td><td>1606029505</td><td>Give it a couple of minutes and we we will be going live here, for a streaming comedy show. Talking #DollyParton, #BorisJohnson's #lockdown and odd #USElectionResults.\n",
       "Watch on mobile, laptop or TV. https://t.co/VLCI7Gekid</td></tr><tr><td>8590988216</td><td>2020-11-22T07:18:55.462+0000</td><td>1606029535</td><td>47% of you guys voted FOR Trump - 73 million adults ! its really unsettling to know a nation THAT dumb and rich has weapons of mass destruction. #Election2020 #USAelection2020 #USElectionResults #ElectionNight #TrumpConceded</td></tr><tr><td>8591032616</td><td>2020-11-22T07:47:22.386+0000</td><td>1606031242</td><td>#USElectionResults #USPresidentialElections2020\n",
       "#donaldtrumpyourefired\n",
       "Is Trump finally admitting defeat? 'Time will tell' https://t.co/3uZBdRMBuT\n",
       "\n",
       "For video news and more, download the editorji app- https://t.co/dSRwSxo4LU</td></tr><tr><td>8591087880</td><td>2020-11-22T08:24:34.804+0000</td><td>1606033474</td><td>47% of you guys voted FOR Trump - 73 million adults ! its really unsettling to know a nation THAT dumb and rich has weapons of mass destruction. #Election2020 #USAelection2020 #USElectionResults #ElectionNight #TrumpConceded</td></tr><tr><td>8591083272</td><td>2020-11-22T08:21:38.492+0000</td><td>1606033298</td><td>I honestly don't know if I can cope until January for Trump to be gone. I feel like a adult locked outside a house, while the rampaging toddler inside, is destroying the place. \n",
       "#USElectionResults \n",
       "#OverTheLoser\n",
       "#45MustGo</td></tr><tr><td>8590983608</td><td>2020-11-22T07:15:59.324+0000</td><td>1606029359</td><td>I honestly don't know if I can cope until January for Trump to be gone. I feel like a adult locked outside a house, while the rampaging toddler inside, is destroying the place. \n",
       "#USElectionResults \n",
       "#OverTheLoser\n",
       "#45MustGo</td></tr><tr><td>8591043024</td><td>2020-11-22T07:54:55.198+0000</td><td>1606031695</td><td>CNN, ABC, CNBC all call #USElectionResults as 306-232 Biden/Trump. Someone in the GOP, sit the Tangerine nightmare down, explain to him he's not going to reflip all those states, and get him working on his #Concede speech</td></tr><tr><td>8591043624</td><td>2020-11-22T07:44:27.380+0000</td><td>1606031067</td><td>@HAHollenback Do You Need Bookkeeper?I am expert in Quickbooks Online, and Xero software. https://t.co/v61HQqxQUS\n",
       "#Quickbooks #Xero #JoeBidenKamalaHarris2020 #TrumpMeltdown #USA #USElectionResults #accounting #bookkeeping</td></tr><tr><td>8591044168</td><td>2020-11-22T07:44:47.383+0000</td><td>1606031087</td><td>@online_coder Do You Need Bookkeeper?I am expert in Quickbooks Online, and Xero software. https://t.co/v61HQqxQUS\n",
       "#Quickbooks #Xero #JoeBidenKamalaHarris2020 #TrumpMeltdown #USA #USElectionResults #accounting #bookkeeping</td></tr><tr><td>8591038536</td><td>2020-11-22T07:51:33.850+0000</td><td>1606031493</td><td>#USElection2020 #USElectionResults given whats going on after the certification results is 99% completed.. and still no official political acceptance.. \"chicken\" should be one of the symbol of such political organization..</td></tr><tr><td>8591043896</td><td>2020-11-22T07:44:37.382+0000</td><td>1606031077</td><td>@QBEnEspanol Do You Need Bookkeeper?I am expert in Quickbooks Online, and Xero software. https://t.co/v61HQqxQUS\n",
       "#Quickbooks #Xero #JoeBidenKamalaHarris2020 #TrumpMeltdown #USA #USElectionResults #accounting #bookkeeping</td></tr><tr><td>8591044440</td><td>2020-11-22T07:44:57.385+0000</td><td>1606031097</td><td>@WalshWrites Do You Need Bookkeeper?I am expert in Quickbooks Online, and Xero software. https://t.co/v61HQqxQUS\n",
       "#Quickbooks #Xero #JoeBidenKamalaHarris2020 #TrumpMeltdown #USA #USElectionResults #accounting #bookkeeping</td></tr><tr><td>8591042816</td><td>2020-11-22T07:43:57.384+0000</td><td>1606031037</td><td>@MeganTarnow Do You Need Bookkeeper?I am expert in Quickbooks Online, and Xero software. https://t.co/v61HQqxQUS\n",
       "#Quickbooks #Xero #JoeBidenKamalaHarris2020 #TrumpMeltdown #USA #USElectionResults #accounting #bookkeeping</td></tr><tr><td>8591011160</td><td>2020-11-22T07:33:18.262+0000</td><td>1606030398</td><td>No You Didn't. \n",
       "\n",
       "You lost badly and the mindset which produced 4 years of failure was evident the day you sent your Press Secretary out to lie about the Inauguration crowd size\n",
       "\n",
       "#USElectionResults https://t.co/3hcpigqu2H</td></tr><tr><td>8591028648</td><td>2020-11-22T07:44:42.383+0000</td><td>1606031082</td><td>@KamalaHarris Do You Need Bookkeeper?I am expert in Quickbooks Online, and Xero software. https://t.co/v61HQqxQUS\n",
       "#Quickbooks #Xero #JoeBidenKamalaHarris2020 #TrumpMeltdown #USA #USElectionResults #accounting #bookkeeping</td></tr><tr><td>8590964160</td><td>2020-11-22T07:02:33.502+0000</td><td>1606028553</td><td>American War Deaths Throughout History\n",
       "\n",
       "#COVID19 could soon be the greatest cause of US deaths in US history. \n",
       "\n",
       "#Trump #MAGA \n",
       "\n",
       "#USElectionResults \n",
       "\n",
       "You’re Fired!\n",
       "\n",
       "#POTUS ⁦@realDonaldTrump⁩  https://t.co/yCvs3lrqKG</td></tr><tr><td>8591063824</td><td>2020-11-22T08:08:12.617+0000</td><td>1606032492</td><td>American War Deaths Throughout History\n",
       "\n",
       "#COVID19 could soon be the greatest cause of US deaths in US history. \n",
       "\n",
       "#Trump #MAGA \n",
       "\n",
       "#USElectionResults \n",
       "\n",
       "You’re Fired!\n",
       "\n",
       "#POTUS ⁦@realDonaldTrump⁩  https://t.co/yCvs3lrqKG</td></tr><tr><td>8591061384</td><td>2020-11-22T08:06:32.608+0000</td><td>1606032392</td><td>#GAFAs, #unicorns, #USElectionResults, #FDIs and how to emerge stronger from the #crisis… Food for thoughts by our Founder & CEO @PascalCagni interviewed by \n",
       "@jocjom in ​​@Le_Figaro 🗞️\n",
       "https://t.co/6vj01OB5ll</td></tr><tr><td>8590961720</td><td>2020-11-22T07:00:53.412+0000</td><td>1606028453</td><td>#GAFAs, #unicorns, #USElectionResults, #FDIs and how to emerge stronger from the #crisis… Food for thoughts by our Founder & CEO @PascalCagni interviewed by \n",
       "@jocjom in ​​@Le_Figaro 🗞️\n",
       "https://t.co/6vj01OB5ll</td></tr><tr><td>8591000368</td><td>2020-11-22T07:16:35.284+0000</td><td>1606029395</td><td>Listen to me for a minute.\n",
       "\n",
       "Just to mess up with #Twitter, its #AI & @jack @realDonaldTrump #DonaldTrump should probably tweet a few true statements.\n",
       "\n",
       "Let the fun begin. #USPresidency #USA #USElectionResults #USElection</td></tr><tr><td>8591098152</td><td>2020-11-22T08:22:14.439+0000</td><td>1606033334</td><td>Listen to me for a minute.\n",
       "\n",
       "Just to mess up with #Twitter, its #AI & @jack @realDonaldTrump #DonaldTrump should probably tweet a few true statements.\n",
       "\n",
       "Let the fun begin. #USPresidency #USA #USElectionResults #USElection</td></tr><tr><td>8591042544</td><td>2020-11-22T07:43:47.383+0000</td><td>1606031027</td><td>@dawnbrolin Do You Need Bookkeeper?I am expert in Quickbooks Online, and Xero software. https://t.co/v61HQqxQUS\n",
       "#Quickbooks #Xero #JoeBidenKamalaHarris2020 #TrumpMeltdown #USA #USElectionResults #accounting #bookkeeping</td></tr><tr><td>8591027384</td><td>2020-11-22T07:43:52.385+0000</td><td>1606031032</td><td>@HSatterley Do You Need Bookkeeper?I am expert in Quickbooks Online, and Xero software. https://t.co/v61HQqxQUS\n",
       "#Quickbooks #Xero #JoeBidenKamalaHarris2020 #TrumpMeltdown #USA #USElectionResults #accounting #bookkeeping</td></tr><tr><td>8591028920</td><td>2020-11-22T07:44:52.383+0000</td><td>1606031092</td><td>@0nly0ne___ Do You Need Bookkeeper?I am expert in Quickbooks Online, and Xero software. https://t.co/v61HQqxQUS\n",
       "#Quickbooks #Xero #JoeBidenKamalaHarris2020 #TrumpMeltdown #USA #USElectionResults #accounting #bookkeeping</td></tr><tr><td>8591012576</td><td>2020-11-22T07:24:20.611+0000</td><td>1606029860</td><td>#Trump2020 #President #46thPresident #GullibleWhiteMaleTrumpVoters #America #MAGA #georgiaturnsblue #TrumpLiedPeopleDied #TrumpMeltdown #USElectionResults #TrumpConceded Trump lost so get over it! https://t.co/xOX6RxcaET</td></tr><tr><td>8591033784</td><td>2020-11-22T07:48:12.416+0000</td><td>1606031292</td><td>Don't get yourself tied up in knots you cannot untie🤞\n",
       "#BlackOwnedBusiness #AfricaUnite #GreenHood #Bushiri #USElectionResults #BetterTogether  #HappyDiwali #MillionMAGAMarch #BlackLivesMatter https://t.co/Oyot0SDmih</td></tr><tr><td>8591006888</td><td>2020-11-22T07:30:18.259+0000</td><td>1606030218</td><td>#USElectionResults #House Democrats #Democrats helped found the KKK so African Americans need to wake up and stop voting for them. #Theracialnarritive needs to stop. #Usaelections @TheDamaniFelder https://t.co/gglQRVNusx</td></tr><tr><td>8591027656</td><td>2020-11-22T07:44:02.385+0000</td><td>1606031042</td><td>@Fischbooks Do You Need Bookkeeper?I am expert in Quickbooks Online, and Xero software. https://t.co/v61HQqxQUS\n",
       "#Quickbooks #Xero #JoeBidenKamalaHarris2020 #TrumpMeltdown #USA #USElectionResults #accounting #bookkeeping</td></tr><tr><td>8591040808</td><td>2020-11-22T07:42:36.015+0000</td><td>1606030956</td><td>Trump refusing to admit he has lost the election makes for great TV. Feels like a long series.  \n",
       "Imagine if it was African leader doing the same thing...🙂\n",
       "\n",
       "#trump\n",
       "#USElectionResults\n",
       "#sanwoolu https://t.co/OFvYwaGJWl</td></tr><tr><td>8591023808</td><td>2020-11-22T07:41:11.018+0000</td><td>1606030871</td><td>Anyone else think America is closer to civil war than people would like to talk about? Alarming to see so many racist, facist sheep continuing to fall for Trump's anti-democratic ploys. #USElectionResults #Trump #Biden</td></tr><tr><td>8591043352</td><td>2020-11-22T07:44:17.374+0000</td><td>1606031057</td><td>@nolok1989 Do You Need Bookkeeper?I am expert in Quickbooks Online, and Xero software. https://t.co/v61HQqxQUS\n",
       "#Quickbooks #Xero #JoeBidenKamalaHarris2020 #TrumpMeltdown #USA #USElectionResults #accounting #bookkeeping</td></tr><tr><td>8591027568</td><td>2020-11-22T07:33:54.638+0000</td><td>1606030434</td><td>STRONG MESSAGE FOR ALL WOMEN #JoeBidenKamalaHarris2020 #USElectionResults #USAelection2020 #MotivationalQuotes #viralvideomesummahasiswasaatkuliahdaring watch full video https://t.co/rJepl18elw https://t.co/KHZteGACEy</td></tr><tr><td>8591039384</td><td>2020-11-22T07:41:36.009+0000</td><td>1606030896</td><td>@mike_wanaoni @realDonaldTrump @BrianKempGA @staceyabrams Serious ackusations against #DNC and globalists , but I think you are right..#USElectionResults                🇸🇪🙄👍🇺🇸 https://t.co/xUoIVMuei7</td></tr><tr><td>8591079360</td><td>2020-11-22T08:18:46.259+0000</td><td>1606033126</td><td>@realDonaldTrump @WIONews @palkisu @migratorscave @AparBharat \n",
       "\n",
       "Slow and steady wins the race \n",
       "\n",
       "Why is #JoeBiden media completely silent on this #USElectionResults  frauds ?\n",
       "\n",
       "@Sanjay_Dixit @PrinceArihan @rahulroushan</td></tr><tr><td>8590979696</td><td>2020-11-22T07:13:07.108+0000</td><td>1606029187</td><td>@realDonaldTrump @WIONews @palkisu @migratorscave @AparBharat \n",
       "\n",
       "Slow and steady wins the race \n",
       "\n",
       "Why is #JoeBiden media completely silent on this #USElectionResults  frauds ?\n",
       "\n",
       "@Sanjay_Dixit @PrinceArihan @rahulroushan</td></tr><tr><td>8591024288</td><td>2020-11-22T07:31:43.273+0000</td><td>1606030303</td><td>Years of lies and bs to get this #wall, an impenetrable wall that would solve it all. \n",
       "\n",
       "#Trump accomplished nothing positive in the 4 years he was there, other than grift. \n",
       "\n",
       "#USElectionResults https://t.co/ukbKm33qct</td></tr><tr><td>8591041744</td><td>2020-11-22T07:53:55.192+0000</td><td>1606031635</td><td>Biden wins Georgia. Final projections have Biden at 306 electoral votes to Trump’s 232. This means Biden’s victory over Trump is the same size as when Trump beat Hillary. #USElectionResults https://t.co/CJbzuheMaf</td></tr><tr><td>8591095512</td><td>2020-11-22T08:20:32.438+0000</td><td>1606033232</td><td>......and a man not man enough to admit his wrongdoing and cheerfully refusing to do what’s right How can this possibly end well? #USElection2020 #USElectionResults #Republican #Democrat #USAvotes #winnersandloosers</td></tr><tr><td>8591043088</td><td>2020-11-22T07:44:07.372+0000</td><td>1606031047</td><td>@RVA_CPA Do You Need Bookkeeper?I am expert in Quickbooks Online, and Xero software. https://t.co/v61HQqxQUS\n",
       "#Quickbooks #Xero #JoeBidenKamalaHarris2020 #TrumpMeltdown #USA #USElectionResults #accounting #bookkeeping</td></tr><tr><td>8590997728</td><td>2020-11-22T07:14:53.283+0000</td><td>1606029293</td><td>......and a man not man enough to admit his wrongdoing and cheerfully refusing to do what’s right How can this possibly end well? #USElection2020 #USElectionResults #Republican #Democrat #USAvotes #winnersandloosers</td></tr><tr><td>8591044944</td><td>2020-11-22T07:45:17.378+0000</td><td>1606031117</td><td>NY state should take away his license for making US laughing stock of the world by filing frivolous law suites #stopthecircus #USElectionResults #USElectionResults2020 @JoeBiden @KamalaHarris https://t.co/rHFmLA22xG</td></tr><tr><td>8591042088</td><td>2020-11-22T07:43:27.379+0000</td><td>1606031007</td><td>In many countries they protest for democracy. Big demonstration against a clean election in the US today in favour of altfacts. US is shamed again before the world. Again we pity you.  #USElectionResults #USPolitics</td></tr><tr><td>8591000624</td><td>2020-11-22T07:26:26.935+0000</td><td>1606029986</td><td>If anything about the #USElection2020 is the possibility of having someone with grown-up vocabulary, someone who won't just say \"bad things, really bad bad things\"/\"good things, some great stuff\".... #USElectionResults</td></tr><tr><td>8591009312</td><td>2020-11-22T07:32:08.265+0000</td><td>1606030328</td><td>@realDonaldTrump Delusion... an idiosyncratic belief or impression maintained despite being contradicted by reality or rational argument, typically as a symptom of mental disorder @realDonaldTrump #USElectionResults</td></tr><tr><td>8591055720</td><td>2020-11-22T07:52:40.179+0000</td><td>1606031560</td><td>@kylegriffin1 @Jinxy_Minxy Its about that time we make @KellyannePolls @realDonaldTrump @PressSec @FoxNews irrelevant.\n",
       "Lets focus on our new President @JoeBiden and VP @KamalaHarris . So proud!!\n",
       "#USElectionResults</td></tr><tr><td>8591002232</td><td>2020-11-22T07:27:16.944+0000</td><td>1606030036</td><td>US @SecPompeo voiced confidence in the commitment of the administration of President Donald Trump to the constitutional setting of the US #elections. \n",
       "\n",
       "#USElections2020 | #USElectionResults \n",
       "\n",
       "https://t.co/HVq7InAxy0</td></tr><tr><td>8591024928</td><td>2020-11-22T07:32:13.264+0000</td><td>1606030333</td><td>So when the shoe is on the other foot it's okay but when it's the Republicans then... \n",
       "\n",
       "Let the law do it's job. \n",
       "\n",
       "There is a word for this, hypocrites! \n",
       "\n",
       "#USAelection2020 #USElectionResults https://t.co/pXbuav2cYC</td></tr><tr><td>8591086208</td><td>2020-11-22T08:23:23.454+0000</td><td>1606033403</td><td>-Premieres 6:15 ET-\n",
       "\n",
       "@DominionVoting shares an office floor with the extreme left eco-radical charity Tides Foundation\n",
       "\n",
       "@TheRealKeean reports from the scene \n",
       "\n",
       "https://t.co/eloS7y8PFb\n",
       "\n",
       "#cdnpoli #USElectionResults</td></tr><tr><td>8590986544</td><td>2020-11-22T07:17:44.109+0000</td><td>1606029464</td><td>-Premieres 6:15 ET-\n",
       "\n",
       "@DominionVoting shares an office floor with the extreme left eco-radical charity Tides Foundation\n",
       "\n",
       "@TheRealKeean reports from the scene \n",
       "\n",
       "https://t.co/eloS7y8PFb\n",
       "\n",
       "#cdnpoli #USElectionResults</td></tr><tr><td>8591082664</td><td>2020-11-22T08:11:48.862+0000</td><td>1606032708</td><td>When will the Trump Circus and his clovns stop undermining the democracy that identify and unite the western world and differentiales us from the rest? #USElectionResults #USAelection2020  https://t.co/D7Q0XALZHn</td></tr><tr><td>8590984880</td><td>2020-11-22T07:06:09.824+0000</td><td>1606028769</td><td>When will the Trump Circus and his clovns stop undermining the democracy that identify and unite the western world and differentiales us from the rest? #USElectionResults #USAelection2020  https://t.co/D7Q0XALZHn</td></tr><tr><td>8591047008</td><td>2020-11-22T07:57:36.468+0000</td><td>1606031856</td><td>President @realDonaldTrump and the @GOP are wasting their time embarking on a mission impossible. \n",
       "\n",
       "#Election2020 #eleccion2020 #USElectionResults #Trump #BidenHarris2020 #BidenTransition https://t.co/v3LAPjov5i</td></tr><tr><td>8591076768</td><td>2020-11-22T08:16:55.132+0000</td><td>1606033015</td><td>FACT-CHECK: Did Biden receive a fraudulent vote \"dump\" of 143,000 votes after Election Day to overtake Trump in Wisconsin? #TrumpvsBiden #Biden2020 #Trump #USElectionResults #ElectionDay \n",
       "\n",
       "https://t.co/88bAQxufBL</td></tr><tr><td>8590977104</td><td>2020-11-22T07:11:16.034+0000</td><td>1606029076</td><td>FACT-CHECK: Did Biden receive a fraudulent vote \"dump\" of 143,000 votes after Election Day to overtake Trump in Wisconsin? #TrumpvsBiden #Biden2020 #Trump #USElectionResults #ElectionDay \n",
       "\n",
       "https://t.co/88bAQxufBL</td></tr><tr><td>8591017576</td><td>2020-11-22T07:27:31.937+0000</td><td>1606030051</td><td>When you feel frustrated or upset by a person or a situation, remember that you are not reacting to the person or the situation, but to your feelings about the person or the situation.\n",
       "#USElectionResults \n",
       "#Trump2020</td></tr><tr><td>8591045520</td><td>2020-11-22T07:45:37.392+0000</td><td>1606031137</td><td>So apparently the scare of GOP legislators being able to steal electors over heads of Dem Governors was never realistic as Governors are part of electoral process and have to agree. #USElectionResults #USPolitics</td></tr><tr><td>8591063168</td><td>2020-11-22T07:58:32.856+0000</td><td>1606031912</td><td>More than a billion population and we get the election results with 1 or 2 weeks, most advanced and wealthy nation, takes months? Why??\n",
       "\n",
       "#USElectionResults #Election2020results #Democrats #Republicans #india #USA</td></tr><tr><td>8591032888</td><td>2020-11-22T07:47:32.390+0000</td><td>1606031252</td><td>Lawyers were unpopular enough before Trump. His games are making them even more unpopular. Lawyers presenting false evidence to court can and should be disbarred. #USAelection2020 #USElectionResults #USPolitics</td></tr><tr><td>8590985464</td><td>2020-11-22T07:17:00.288+0000</td><td>1606029420</td><td>GOOD MORNING!\n",
       "\n",
       "#Wednesday #investing #Nifty #Banknifty #COVID19 #Investment #USElectionResults #Pfizervaccine #modernavaccine #Bihar #Modi  #quoteoftheday #CovidVaccine #Covid_19 #vaccine https://t.co/UeW4eMDb83</td></tr><tr><td>8591085128</td><td>2020-11-22T08:22:39.465+0000</td><td>1606033359</td><td>GOOD MORNING!\n",
       "\n",
       "#Wednesday #investing #Nifty #Banknifty #COVID19 #Investment #USElectionResults #Pfizervaccine #modernavaccine #Bihar #Modi  #quoteoftheday #CovidVaccine #Covid_19 #vaccine https://t.co/UeW4eMDb83</td></tr><tr><td>8591029800</td><td>2020-11-22T07:45:32.389+0000</td><td>1606031132</td><td>There are several mechanisms that are legal & constitutional that could enable Trump to stay in office without actually winning the vote.  #USElectionResults @realDonaldTrump @JoeBiden  https://t.co/HKXmnnc4gz</td></tr><tr><td>8591011840</td><td>2020-11-22T07:23:50.637+0000</td><td>1606029830</td><td>@sadmonsters The only speech @JoeBiden will be making is in front a Supreme Court judge when he has to testify about his knowledge of the fraudulent #USElectionResults \n",
       "\n",
       "@TheDemocrats \n",
       "@GOP \n",
       "\n",
       "@realDonaldTrump</td></tr><tr><td>8591032216</td><td>2020-11-22T07:37:04.639+0000</td><td>1606030624</td><td>@KamalaHarris Who is he fighting? What weight? How many rounds? Queensbury Rules I hope. Or, is it WWE Hell-in-aCell stylee??? #USElection2020 #USElectionResults #USAelection2020 #USElection #USElections2020 #WWE</td></tr><tr><td>8591063120</td><td>2020-11-22T08:07:42.647+0000</td><td>1606032462</td><td>When @KamalaHarris returned to the Senate this week for the first time as #VicePresidentElect, her Republican colleagues offered their congratulations. #USElectionResults #KamalaHarris \n",
       "https://t.co/A0OYqhMt0Q</td></tr><tr><td>8590963456</td><td>2020-11-22T07:02:03.498+0000</td><td>1606028523</td><td>When @KamalaHarris returned to the Senate this week for the first time as #VicePresidentElect, her Republican colleagues offered their congratulations. #USElectionResults #KamalaHarris \n",
       "https://t.co/A0OYqhMt0Q</td></tr><tr><td>8591031456</td><td>2020-11-22T07:46:32.389+0000</td><td>1606031192</td><td>#TrumpLawsuits: “A lawsuit without provable facts showing a statutory or constitutional violation is just a tweet with a filing fee.” ~ @_justinlevitt_ #Trump2020 #USElectionResults https://t.co/kLM6aqI0xj</td></tr><tr><td>8590989192</td><td>2020-11-22T07:19:35.623+0000</td><td>1606029575</td><td>Live now - tune in and ask your questions on Facebook!\n",
       "\n",
       "“Are the US and Europe drifting apart?”\n",
       "#TuesdayConversation #EuropeansTalk #BePartofIt #Election2020 #USElectionResults #EU\n",
       "https://t.co/YFAU3ZjlTT</td></tr><tr><td>8591063376</td><td>2020-11-22T08:07:52.600+0000</td><td>1606032472</td><td>@SebGorka @amritabhinder I still believe eventually #Trump will win. \n",
       "https://t.co/fRwXDjNqwN\n",
       "\n",
       "#USElections2020 #USElectionResults2020 #USElectionResults #USElection #USElections #NDTV #TrumpLegalTeam #Trump2020</td></tr><tr><td>8590963712</td><td>2020-11-22T07:02:13.499+0000</td><td>1606028533</td><td>@SebGorka @amritabhinder I still believe eventually #Trump will win. \n",
       "https://t.co/fRwXDjNqwN\n",
       "\n",
       "#USElections2020 #USElectionResults2020 #USElectionResults #USElection #USElections #NDTV #TrumpLegalTeam #Trump2020</td></tr><tr><td>8591019168</td><td>2020-11-22T07:37:59.649+0000</td><td>1606030679</td><td>Explosive allegations of a criminal conspiracy to rig the US election. I've been a skeptic so far, but the evidence is increasingly compelling. \n",
       "https://t.co/qciZKTb1Gj\n",
       "#VoterFroud #uspoli #USElectionResults</td></tr><tr><td>8591056176</td><td>2020-11-22T07:53:00.183+0000</td><td>1606031580</td><td>#USElectionResults \n",
       "• President-elect Joe #Biden secures victory in #Georgia\n",
       "• Incumbent President Donald #Trump wins #NorthCarolina \n",
       "\n",
       "Follow the latest here https://t.co/mxsPopZ3i6 https://t.co/p4JlnaoKWd</td></tr><tr><td>8590986704</td><td>2020-11-22T07:07:19.834+0000</td><td>1606028839</td><td>US President-elect Biden Says His Admin Will Rejoin WHO, Says China Will Have to ‘Play by Rules’\n",
       "\n",
       "@JoeBiden \n",
       "#USElections2020 \n",
       "#USPresidentialElections2020 \n",
       "#USElectionResults \n",
       "#WHO \n",
       "\n",
       "https://t.co/1sYuKKKWAf</td></tr><tr><td>8591084488</td><td>2020-11-22T08:12:58.872+0000</td><td>1606032778</td><td>US President-elect Biden Says His Admin Will Rejoin WHO, Says China Will Have to ‘Play by Rules’\n",
       "\n",
       "@JoeBiden \n",
       "#USElections2020 \n",
       "#USPresidentialElections2020 \n",
       "#USElectionResults \n",
       "#WHO \n",
       "\n",
       "https://t.co/1sYuKKKWAf</td></tr><tr><td>8590972648</td><td>2020-11-22T07:08:14.822+0000</td><td>1606028894</td><td>STOCKS IN NEWS\n",
       "#Friday #investing #Nifty #Banknifty #COVID19 #Investment #USElectionResults #Pfizervaccine #modernavaccine #Bihar #Modi  #quoteoftheday #CovidVaccine #Covid_19 #vaccine https://t.co/EUELLJHo2j</td></tr><tr><td>8591072312</td><td>2020-11-22T08:13:53.882+0000</td><td>1606032833</td><td>STOCKS IN NEWS\n",
       "#Friday #investing #Nifty #Banknifty #COVID19 #Investment #USElectionResults #Pfizervaccine #modernavaccine #Bihar #Modi  #quoteoftheday #CovidVaccine #Covid_19 #vaccine https://t.co/EUELLJHo2j</td></tr><tr><td>8590996496</td><td>2020-11-22T07:24:05.628+0000</td><td>1606029845</td><td>Interesting that Al Gore's concession in 2000 was designed to prevent the very precedent that has happened with weaker (non-existent) foundation 20 years later. #USElection2020 #USElectionResults #USPolitics</td></tr><tr><td>8591003232</td><td>2020-11-22T07:28:06.934+0000</td><td>1606030086</td><td>@realDonaldTrump Wait, so all we have to do to win an election is to shout loudly that you won in the face of contrary evidence? In that case NO, I WON THE ELECTION! #USElectionResults #TrumpIsALaughingStock</td></tr><tr><td>8591017368</td><td>2020-11-22T07:36:59.643+0000</td><td>1606030619</td><td>\"#DonaldTrump's Twitter feed doesn't make Joe Biden president or not president, the American people did that.\" ~ @RonaldKlain, #JoeBidenPresidentElect's incoming chief of staff. #USElection #USElectionResults</td></tr><tr><td>8591086064</td><td>2020-11-22T08:13:58.893+0000</td><td>1606032838</td><td>GOOD MORNING!\n",
       "#Friday #investing #Nifty #Banknifty #COVID19 #Investment #USElectionResults #Pfizervaccine #modernavaccine #Bihar #Modi  #quoteoftheday #CovidVaccine #Covid_19 #vaccine https://t.co/lUsFMXcZbS</td></tr><tr><td>8590988280</td><td>2020-11-22T07:08:19.817+0000</td><td>1606028899</td><td>GOOD MORNING!\n",
       "#Friday #investing #Nifty #Banknifty #COVID19 #Investment #USElectionResults #Pfizervaccine #modernavaccine #Bihar #Modi  #quoteoftheday #CovidVaccine #Covid_19 #vaccine https://t.co/lUsFMXcZbS</td></tr><tr><td>8591054104</td><td>2020-11-22T07:51:28.841+0000</td><td>1606031488</td><td>US Elections: Joe Biden wins Arizona, Georgia; final vote tally for Democrats is 306 \n",
       "\n",
       "#JoeBidenKamalaHarris2020 #JOEBIDEN2020 #USElectionResults #USPresidentialElections2020 #TV9News https://t.co/foD8svWLUv</td></tr><tr><td>8591060440</td><td>2020-11-22T07:56:31.484+0000</td><td>1606031791</td><td>BREAKING: @NBCNews is right now declaring \"Joe Biden is the apparent winner in Georgia\".\n",
       "And:\n",
       "\"Donald Trump is the projected winner in North Carolina\"\n",
       "\n",
       "#USElectionResults #USElection2020 #BidenWon #TrumpLost</td></tr><tr><td>8591048536</td><td>2020-11-22T07:58:37.836+0000</td><td>1606031917</td><td>I hope ⁦@realDonaldTrump⁩ takes this suggestion from a well wisher. ⁦@JoeBiden⁩, you have the blessings of Madurai Aadhinam. #USElectionResults #USPresidentialElections2020 https://t.co/tOC13jnmFA</td></tr><tr><td>8591012600</td><td>2020-11-22T07:34:09.632+0000</td><td>1606030449</td><td>Remember in street cricket that one guy who won't leave even if he's bowled out ? Well that's #DonaldTrump  \n",
       "Or maybe he's using Internet Explorer to check the #USElectionResults. https://t.co/3BpzDfj8qm</td></tr><tr><td>8591014792</td><td>2020-11-22T07:35:19.626+0000</td><td>1606030519</td><td>BET TIPS AND ACCUMULATORS : MY THOUGHTS ON BETTING https://t.co/HlQzrOGOwT \n",
       "#USElectionResults #USElection2020 #Naijablogger #NationsLeague #nairabetfreebetgiveaway #betnaija #bettingexpert #bettingtips</td></tr><tr><td>8591081264</td><td>2020-11-22T08:20:07.438+0000</td><td>1606033207</td><td>How Donald Trump Can Handle Defeat Gracefully – History’s Gracious Losers. A great piece by ⁦@DAMendelsohnNYC⁩  #Trump #USElectionResults #BidenPresident #ConcedeAlready  https://t.co/C0byXhxJxr</td></tr><tr><td>8590981600</td><td>2020-11-22T07:14:28.277+0000</td><td>1606029268</td><td>How Donald Trump Can Handle Defeat Gracefully – History’s Gracious Losers. A great piece by ⁦@DAMendelsohnNYC⁩  #Trump #USElectionResults #BidenPresident #ConcedeAlready  https://t.co/C0byXhxJxr</td></tr><tr><td>8591008976</td><td>2020-11-22T07:21:50.627+0000</td><td>1606029710</td><td>Lindsey Graham Asked If Georgia Could Throw Out Legal Votes, State Official Says https://t.co/kMWU9I7OPS #news #LindseyGrahamResign #RepublicanPartyElectionCorruption #USElectionResults #VoterSuppression</td></tr><tr><td>8590987824</td><td>2020-11-22T07:18:35.460+0000</td><td>1606029515</td><td>@SenTedCruz if you truly believe the rigged elections conspiracy, why do you continue sitting in an elected position as senator? If #USElectionResults are rigged, then you too are an illegitimate senator</td></tr><tr><td>8591087488</td><td>2020-11-22T08:24:14.819+0000</td><td>1606033454</td><td>@SenTedCruz if you truly believe the rigged elections conspiracy, why do you continue sitting in an elected position as senator? If #USElectionResults are rigged, then you too are an illegitimate senator</td></tr><tr><td>8591012096</td><td>2020-11-22T07:24:00.608+0000</td><td>1606029840</td><td>@realDonaldTrump \n",
       "Just a quick question so I can keep up:\n",
       "Are you checking/disputing/questioning; voter fraud in any of the states you won? #LoserInTheWhiteHouse #PresidentialElection #USElectionResults</td></tr><tr><td>8591046792</td><td>2020-11-22T07:46:27.402+0000</td><td>1606031187</td><td>#dstvpremiumgolfday\n",
       "Go on telegram search for STEADY FIXED and get your life fixed with their fixed games 100 guaranteed\n",
       "#UEFANATIONSLEAGUE #USElectionResults #UEFA\n",
       "Sweden v. CROATIA away win 2.80 odds</td></tr><tr><td>8591039488</td><td>2020-11-22T07:52:15.184+0000</td><td>1606031535</td><td>President-elect @JoeBiden won 306 votes in the Electoral College, leaving President @realDonaldTrump with 232 votes, US media called Friday.\n",
       "#USElectionResults #BidenHarris2020 \n",
       "\n",
       "https://t.co/fgxGor2QNd</td></tr><tr><td>8591070024</td><td>2020-11-22T08:03:26.351+0000</td><td>1606032206</td><td>A federal judge dismissed a #lawsuit filed by President Donald Trump's campaign that sought to throw out millions of mail-in votes in #Pennsylvania.\n",
       "\n",
       "#USElectionResults | #USA \n",
       "https://t.co/H2K3f40sHL</td></tr><tr><td>8591101648</td><td>2020-11-22T08:24:29.803+0000</td><td>1606033469</td><td>See how Leftist bring down the SM and Free Speech, Because is exposed their real and ugly face. It will start with America and they will try it in india 2024 #USElectionResults https://t.co/UK5V4yBXUZ</td></tr><tr><td>8591003864</td><td>2020-11-22T07:18:50.470+0000</td><td>1606029530</td><td>See how Leftist bring down the SM and Free Speech, Because is exposed their real and ugly face. It will start with America and they will try it in india 2024 #USElectionResults https://t.co/UK5V4yBXUZ</td></tr><tr><td>8591007160</td><td>2020-11-22T07:30:28.262+0000</td><td>1606030228</td><td>\"On the morning of November 7, several news networks declared Joe Biden the winner of the American presidential election.\" - @myr_rose \n",
       "https://t.co/APo24aIWZg\n",
       "#USElectionResults #USPolitics #votecount</td></tr><tr><td>8590985728</td><td>2020-11-22T07:17:11.212+0000</td><td>1606029431</td><td>Dude, my dog even says it is time to go. You really want to piss off a cute Border Collie? \n",
       "\n",
       "@realDonaldTrump \n",
       "\n",
       "#USElection2020 #USAElections2020 #USElectionResults #USPolitics https://t.co/6rXii23KJg</td></tr><tr><td>8591085392</td><td>2020-11-22T08:22:50.341+0000</td><td>1606033370</td><td>Dude, my dog even says it is time to go. You really want to piss off a cute Border Collie? \n",
       "\n",
       "@realDonaldTrump \n",
       "\n",
       "#USElection2020 #USAElections2020 #USElectionResults #USPolitics https://t.co/6rXii23KJg</td></tr><tr><td>8590990656</td><td>2020-11-22T07:20:25.627+0000</td><td>1606029625</td><td>Me - I'm happily prepared for exams. 🙂\n",
       "ICAI - So do I 🤞\n",
       "\n",
       "⚠ This claim is disputed\n",
       "\n",
       "#icaiexamspostponment #caexams #DonaldTrump #USAelection2020 #USElectionResults #camemes #ICAI_DENIES_JUSTICE</td></tr><tr><td>8591061016</td><td>2020-11-22T07:57:01.487+0000</td><td>1606031821</td><td>Friday video is live! Joe Biden WON’T HEAL America | The Mallen Baker Show https://t.co/jvIWFF3pGZ #USElectionResults #JoeBidenKamalaHarris2020 #PresidentElectBiden #ExtinctionRebellion #coronavirus</td></tr><tr><td>8591052392</td><td>2020-11-22T08:00:59.229+0000</td><td>1606032059</td><td>Outrageous thoughts to remember post-#USElectionResults: 1. #CancelCulture censors #FreeSpeech 2. it's ok that people disagree with you and 3. #CardiB still makes money moves\n",
       "\n",
       "https://t.co/odRo8boNsP</td></tr><tr><td>8591035696</td><td>2020-11-22T07:39:26.020+0000</td><td>1606030766</td><td>look at all the support #DonaldTrump has -  He is not done yet - Stop that cheating  #JoeBiden from entering the White House #USElection2020 #USElectionResults  @realDonaldTrump https://t.co/iFF3V4UU9o</td></tr><tr><td>8591012848</td><td>2020-11-22T07:24:30.613+0000</td><td>1606029870</td><td>‘This Isn’t A Game’ – Michelle Obama Tells Trump #USAelection2020 #USElections2020 #USElectionResults #USElection2020 #USAElections2020 #USElections #USElectionResults2020  https://t.co/1ti9XubbXV</td></tr><tr><td>8591074512</td><td>2020-11-22T08:15:25.127+0000</td><td>1606032925</td><td>⬇️⬇️So True.. But it doesn't have to be that way. Stand up for the country, defend the #USElectionResults Stand up to @realDonaldTrump 🇺🇸🇺🇸🇺🇸🇺🇸 https://t.co/KMdNuCpeus</td></tr><tr><td>8590974848</td><td>2020-11-22T07:09:46.030+0000</td><td>1606028986</td><td>⬇️⬇️So True.. But it doesn't have to be that way. Stand up for the country, defend the #USElectionResults Stand up to @realDonaldTrump 🇺🇸🇺🇸🇺🇸🇺🇸 https://t.co/KMdNuCpeus</td></tr><tr><td>8591002664</td><td>2020-11-22T07:27:36.930+0000</td><td>1606030056</td><td>How Democrats Helped Biden Win The Election – Donald Trump Reveals #USElections2020 #USElectionResults #USAElections2020 #USElection #USElection2020 #USPresidentialElections2020  https://t.co/cSodjbRjNo</td></tr><tr><td>8591068816</td><td>2020-11-22T08:02:44.218+0000</td><td>1606032164</td><td>Biden wins in Arizona despite Trump’s surprise, Will the count be repeated? https://t.co/dCV9mc4stE via @@kwinews1 \n",
       "\n",
       "#JoeBiden \n",
       "#DonaldTrump \n",
       "#USElectionResults \n",
       "#PresidentialElection2020 \n",
       "#Arizona</td></tr><tr><td>8591053696</td><td>2020-11-22T07:51:08.836+0000</td><td>1606031468</td><td>US Presidential Election 2020 Results: Donald Trump Hints He May Accept Defeat by Joe Biden\n",
       "https://t.co/WvAGVdVmTo\n",
       "#UnitedStates #DonaldTrump #JoeBiden @realDonaldTrump @JoeBiden #USElectionResults</td></tr><tr><td>8590989448</td><td>2020-11-22T07:19:45.623+0000</td><td>1606029585</td><td>Defend the Constitution and the Integrity of This Election\n",
       "Sign here! https://t.co/qPEfzltkra\n",
       "#USA #Election #USElectionResults #USAElections2020 #USElection #USElections #StopTheSteaI \n",
       "🇺🇲🗳👇</td></tr><tr><td>8590966104</td><td>2020-11-22T07:03:44.795+0000</td><td>1606028624</td><td>Watching Bob Woodward on @cnni commenting on the #WhiteHouse and #USElectionResults who would have thought he would be in the middle reporting on another dangerous US political moment 48 years later.</td></tr><tr><td>8591065768</td><td>2020-11-22T08:09:23.875+0000</td><td>1606032563</td><td>Watching Bob Woodward on @cnni commenting on the #WhiteHouse and #USElectionResults who would have thought he would be in the middle reporting on another dangerous US political moment 48 years later.</td></tr><tr><td>8590979640</td><td>2020-11-22T07:02:28.483+0000</td><td>1606028548</td><td>Trump suffers double blow in bid to overturn US election results https://t.co/SvKrARJpWK via @AJEnglish #USElectionResults #USElectionResults2020 #Election2020 #DonaldTrump #JoeBiden #Georgia #Michigan</td></tr><tr><td>8591077424</td><td>2020-11-22T08:08:07.625+0000</td><td>1606032487</td><td>Trump suffers double blow in bid to overturn US election results https://t.co/SvKrARJpWK via @AJEnglish #USElectionResults #USElectionResults2020 #Election2020 #DonaldTrump #JoeBiden #Georgia #Michigan</td></tr><tr><td>8591019776</td><td>2020-11-22T07:38:29.636+0000</td><td>1606030709</td><td>@Artemisness80 There should be a new decree a new law if you  are elected for a second term with over 325 points you should be granted a free and final third term #USElectionResults \n",
       "#USAelection2020</td></tr><tr><td>8591012856</td><td>2020-11-22T07:34:19.648+0000</td><td>1606030459</td><td>Trump ab bhut der ho gae 😪😪 jiid choro rhne bhi do ab ..... You won the election in your dreams only 🤗 @realDonaldTrump @JoeBiden #USAElections2020 #USElectionResults https://t.co/5OyWiSq4Kz</td></tr><tr><td>8591071008</td><td>2020-11-22T08:04:16.332+0000</td><td>1606032256</td><td>Overturning the #USElectionResults was never really possible. Instead Donald Trump wants his followers, and even some Republican lawmakers, to see Joe Biden as illegitimate.\n",
       "https://t.co/1337k5Jm1M</td></tr><tr><td>8591015888</td><td>2020-11-22T07:26:21.920+0000</td><td>1606029981</td><td>#USElectionResults President Trump contemplating military action against a middle eastern country... most likely Iran.. just for the fun of it, & to let the world know he's still boss upto Jan 20th</td></tr><tr><td>8591022424</td><td>2020-11-22T07:30:33.260+0000</td><td>1606030233</td><td>The irony is that the election was rigged but all the 70 million votes Trump received were all legal. #Trump #DonaldTrump #CNN #BREAKING #POTUS #USElectionResults #USElections2020 #AmericaDecides2020</td></tr><tr><td>8591071752</td><td>2020-11-22T08:04:47.600+0000</td><td>1606032287</td><td>Its not about Republican or Democrat. Its about doing the right thing>@BostonGlobe \n",
       "#USElectionResults #DemocracyWins \n",
       "Respect for the leaders who have the courage to do so. https://t.co/fVxgFJpIY7</td></tr><tr><td>8591005896</td><td>2020-11-22T07:20:10.609+0000</td><td>1606029610</td><td>Wow, Graham trying to tell other senators to remove ballots? Hmmm\n",
       "#bidenharis2020 #TrumpCollapse #2020PresidentialElection #Montana #UnitedStatesofAmerica #USElectionResults https://t.co/zuF670WNQN</td></tr><tr><td>8591009904</td><td>2020-11-22T07:32:28.256+0000</td><td>1606030348</td><td>This  😂😂\n",
       "Follow for more stuff 😅😂#USElection2020 #TrumpTerroism #Biden2020 #America #chemistry #USElectionResults #PresidentElectJoe #PresidentBiden #TrumpCollapse https://t.co/11VS4ZkpBp</td></tr><tr><td>8591008960</td><td>2020-11-22T07:31:48.248+0000</td><td>1606030308</td><td>Border Closure Not Reason For Maltreatment Of Nigerian Traders In Ghana – Dabiri-Erewa   https://t.co/JKXWhjukYg #TrumpTerroism #ElectionDay #USElectionResults #mondaythoughts #MondayMotivation</td></tr><tr><td>8591039136</td><td>2020-11-22T07:41:26.008+0000</td><td>1606030886</td><td>@atrupar Exhibit A for the people the media has already started saying don't demonise Trump supporters. How do you find common ground with this?  #USElectionResults #Unity\n",
       "https://t.co/0ZjgyOiEyt</td></tr><tr><td>8591058016</td><td>2020-11-22T07:54:30.210+0000</td><td>1606031670</td><td>Just in! Arizona yesterday and Georgia today! This general election has turned out to be a tremendous victory for Biden! 🇺🇸 @CNN @CNNPolitics #USElectionResults 🥂 https://t.co/ZTGUctOm6u</td></tr><tr><td>8591050752</td><td>2020-11-22T07:59:57.846+0000</td><td>1606031997</td><td>So when the #Democrats cry out about unfounded  russian meddling in the election its OK with the MSM but when @realDonaldTrump cries out election fraud the MSM jump all over him? #USElectionResults</td></tr><tr><td>8591081072</td><td>2020-11-22T08:10:48.872+0000</td><td>1606032648</td><td>Business leaders , even those who supported him, are calling on YpTrump the get on with the transition to a Biden presidency. - The New York Times #USElectionResults #USA https://t.co/8RSMaNtg8e</td></tr><tr><td>8590983288</td><td>2020-11-22T07:05:09.813+0000</td><td>1606028709</td><td>Business leaders , even those who supported him, are calling on YpTrump the get on with the transition to a Biden presidency. - The New York Times #USElectionResults #USA https://t.co/8RSMaNtg8e</td></tr><tr><td>8590970936</td><td>2020-11-22T07:07:04.834+0000</td><td>1606028824</td><td>What has happened to the @GOP participating in an attempt to undermines the democratic process in the US and diminish America’s standing in the world #USElectionResults https://t.co/TEQs12zzTV</td></tr><tr><td>8591059888</td><td>2020-11-22T07:56:11.482+0000</td><td>1606031771</td><td>#BREAKING: Joe Biden wins Georgia, flipping the traditionally red state.\n",
       "This brings the final electoral vote tally to 306 for Biden and 232 for Trump. #USElectionResults https://t.co/rJRiep0imh</td></tr><tr><td>8591036496</td><td>2020-11-22T07:39:56.022+0000</td><td>1606030796</td><td>Is it true @realDonaldTrump ?🤔\n",
       "Otherwise this is very much telling about the society of Americans...\n",
       "@somadodafikeni @silentmaako \n",
       "#USElections2020 #USElectionResults https://t.co/ZKgT9GIIUx</td></tr><tr><td>8591050744</td><td>2020-11-22T07:49:18.829+0000</td><td>1606031358</td><td>🚨🚨🚨 Holy Schnazz. They did't just syeal the votes from Tump, they also stole Senate and house seats potentially. #USElectionResults #USPresidentialElections2020 https://t.co/HeaLsje3DD</td></tr><tr><td>8591008568</td><td>2020-11-22T07:31:28.271+0000</td><td>1606030288</td><td>I Won The Presidential Election – Donald Trump (See Here) #USElections2020 #USAElections2020 #USAelection2020 #USElection2020 #USElectionResults2020 #USElectionResults #USA  https://t.co/RAUP0cIZ90</td></tr><tr><td>8591057776</td><td>2020-11-22T08:04:42.593+0000</td><td>1606032282</td><td>RebelNewsOnline: A Pennsylvanian judge sided with the @realDonaldTrump campaign, tosses 2,349 absentee ballots\n",
       "\n",
       "#Election2020 #Election2020results #USElectionResults \n",
       "https://t.co/yDx834XCKj...</td></tr><tr><td>8591054984</td><td>2020-11-22T08:02:50.008+0000</td><td>1606032170</td><td>If #BidenWon with the biggest majority of all time in a Presidential Election, were all the pollsters really that wrong? Asking for a friend\n",
       "#USElectionResults #USElections2020 @DecisionDeskHQ</td></tr><tr><td>8590978960</td><td>2020-11-22T07:12:26.039+0000</td><td>1606029146</td><td>Non-Giuliani Trump attorneys admit Trump's claims of election fraud are bullshit - They signed a statement and everything. @VanityFair #TrumpConcede #USElectionResults\n",
       "https://t.co/oMScWSggrN</td></tr><tr><td>8591078624</td><td>2020-11-22T08:18:05.124+0000</td><td>1606033085</td><td>Non-Giuliani Trump attorneys admit Trump's claims of election fraud are bullshit - They signed a statement and everything. @VanityFair #TrumpConcede #USElectionResults\n",
       "https://t.co/oMScWSggrN</td></tr><tr><td>8590999560</td><td>2020-11-22T07:25:46.938+0000</td><td>1606029946</td><td>#news #Nevada #Nevada2020 #ClarkCounty District C\n",
       "For those that voted twice?\n",
       "#USAElections2020 #USA #Elections #USElectionResults #USElection2020 #USElections #USElection https://t.co/Q5Np9XOT40</td></tr><tr><td>8591080008</td><td>2020-11-22T08:09:48.866+0000</td><td>1606032588</td><td>https://t.co/Qk0tl7DpPj  #USElections2020 #USElectionResults #USElection \n",
       "\n",
       "I know its like peeing into the wind trying to give facts to people on twitter, but hey, may as well give it a shot</td></tr><tr><td>8590982224</td><td>2020-11-22T07:04:09.791+0000</td><td>1606028649</td><td>https://t.co/Qk0tl7DpPj  #USElections2020 #USElectionResults #USElection \n",
       "\n",
       "I know its like peeing into the wind trying to give facts to people on twitter, but hey, may as well give it a shot</td></tr><tr><td>8591078208</td><td>2020-11-22T08:08:38.861+0000</td><td>1606032518</td><td>How prophetic was #REM, mentioning #DonaldTrump in their song End of the World back in 1987! 🤯  #USElections #USElectionResults #BidenHarris2020 #EndTheNightmare \n",
       "https://t.co/4kwZBKpxCq</td></tr><tr><td>8590980424</td><td>2020-11-22T07:02:58.486+0000</td><td>1606028578</td><td>How prophetic was #REM, mentioning #DonaldTrump in their song End of the World back in 1987! 🤯  #USElections #USElectionResults #BidenHarris2020 #EndTheNightmare \n",
       "https://t.co/4kwZBKpxCq</td></tr><tr><td>8591005808</td><td>2020-11-22T07:29:36.926+0000</td><td>1606030176</td><td>#Georgia ... Ya Georgia \n",
       "You gave Biden the White House; \n",
       "DO NOT give #Democrats the Senate. Make the 2 senate seats #Republicans in January 2021 🙏🙏🙏\n",
       "#USsenate2021 #USElectionResults</td></tr><tr><td>8591099016</td><td>2020-11-22T08:22:45.351+0000</td><td>1606033365</td><td>@56blackcat Wish it would become illegal for the lying orange mollusk to tweet his lies with such brazen impunity, that little disclaimer at the bottom doesn’t cut it.#USElectionResults</td></tr><tr><td>8591001232</td><td>2020-11-22T07:17:06.210+0000</td><td>1606029426</td><td>@56blackcat Wish it would become illegal for the lying orange mollusk to tweet his lies with such brazen impunity, that little disclaimer at the bottom doesn’t cut it.#USElectionResults</td></tr><tr><td>8590998328</td><td>2020-11-22T07:15:13.288+0000</td><td>1606029313</td><td>President-Elect Joe Biden Vows to Usher In 'A Time to Heal in America' (Full Speech)\n",
       "#JoeBiden #Biden beat #Trump  #USPresidentialElections2020 #USElectionResults \n",
       " https://t.co/owQAKfvzpm</td></tr><tr><td>8591096112</td><td>2020-11-22T08:20:52.446+0000</td><td>1606033252</td><td>President-Elect Joe Biden Vows to Usher In 'A Time to Heal in America' (Full Speech)\n",
       "#JoeBiden #Biden beat #Trump  #USPresidentialElections2020 #USElectionResults \n",
       " https://t.co/owQAKfvzpm</td></tr><tr><td>8591020024</td><td>2020-11-22T07:38:39.652+0000</td><td>1606030719</td><td>#DonaldTrump saying this TWELVE DAYS AFTER THE COUNTING BEGAN!😮\n",
       "\n",
       "#USElections #USElectionResults, #ElectionResults2020 \n",
       "#MailInBallots #MailInVoting #MailFraud\n",
       "\n",
       "https://t.co/i0X3LvbovN</td></tr><tr><td>8591062432</td><td>2020-11-22T07:58:01.493+0000</td><td>1606031881</td><td>Well, there is good news after all. Arizona has turned out for Biden and Dominic Cummings is leaving No. 10. That ‘s 2 fewer space-wasters to deal with! #USElectionResults #VoteLeave</td></tr><tr><td>8590976720</td><td>2020-11-22T07:10:56.017+0000</td><td>1606029056</td><td>Trump has finally conceded. \n",
       "The CONCESSION SPEECH\n",
       "\n",
       "@JoeBiden @LarryMadowo \n",
       "\n",
       "Tom and Jerry\n",
       " #dissertation\n",
       "#USAElections2020 \n",
       "#USElectionResults \n",
       "#USElections2020 https://t.co/N7OcaLf27a</td></tr><tr><td>8591076384</td><td>2020-11-22T08:16:35.126+0000</td><td>1606032995</td><td>Trump has finally conceded. \n",
       "The CONCESSION SPEECH\n",
       "\n",
       "@JoeBiden @LarryMadowo \n",
       "\n",
       "Tom and Jerry\n",
       " #dissertation\n",
       "#USAElections2020 \n",
       "#USElectionResults \n",
       "#USElections2020 https://t.co/N7OcaLf27a</td></tr><tr><td>8591073608</td><td>2020-11-22T08:14:55.123+0000</td><td>1606032895</td><td>Trump is very stubborn. So they’re recounting Georgia State’s votes and 70% of the votes are still in Joe Biden favour 😂\n",
       "\n",
       "Trump please concede defeat ffs 😂 #USElectionResults</td></tr><tr><td>8590973944</td><td>2020-11-22T07:09:16.022+0000</td><td>1606028956</td><td>Trump is very stubborn. So they’re recounting Georgia State’s votes and 70% of the votes are still in Joe Biden favour 😂\n",
       "\n",
       "Trump please concede defeat ffs 😂 #USElectionResults</td></tr><tr><td>8591035680</td><td>2020-11-22T07:49:33.834+0000</td><td>1606031373</td><td>Defeated President’s stubbornness is delaying a smooth transition of power, writes C.J. Atkins \n",
       "\n",
       "#USElectionResults \n",
       "#JoeBiden \n",
       "#DonaldTrump \n",
       "#KamalaHarris \n",
       "\n",
       "https://t.co/5SXduYfWcN</td></tr><tr><td>8591005352</td><td>2020-11-22T07:29:16.939+0000</td><td>1606030156</td><td>Whether you vote Republican or Democrat, red or blue, right or wrong, if you are waiting on the government to fix your problems, you are already at a loss. #USElectionResults #winning</td></tr><tr><td>8591038288</td><td>2020-11-22T07:40:56.019+0000</td><td>1606030856</td><td>#USElectionResults | State GOP lawmakers in Arizona, Michigan, Pennsylvania and Wisconsin have all said they would not intervene in the selection of electors.\n",
       "\n",
       "https://t.co/Dx9HqCZhs4</td></tr><tr><td>8590990864</td><td>2020-11-22T07:10:11.018+0000</td><td>1606029011</td><td>\"You can like or hate the #Trump administration, but no doubt, it's a huge success — unprecedented success.\" #USAElections2020 #COVID19 #USElectionResults  https://t.co/yNjF9jZFnV</td></tr><tr><td>8591088648</td><td>2020-11-22T08:15:50.129+0000</td><td>1606032950</td><td>\"You can like or hate the #Trump administration, but no doubt, it's a huge success — unprecedented success.\" #USAElections2020 #COVID19 #USElectionResults  https://t.co/yNjF9jZFnV</td></tr><tr><td>8591020480</td><td>2020-11-22T07:39:01.013+0000</td><td>1606030741</td><td>BREAKING Donald Trump admits Joe Biden has ‘won’ US election for first time https://t.co/FsCC8QJ8V5 #USElections2020 #USElectionResults #USElectionResults2020 https://t.co/CrRbYu8dFV</td></tr><tr><td>8591000392</td><td>2020-11-22T07:26:16.933+0000</td><td>1606029976</td><td>@realDonaldTrump They Certified Presidential race, run-off in other race in Dec! #FactsMatter #TrumpIsUnfitForOffice #ByeByeTrump #WorstPresidentEver #USElectionResults #TrumpCollapse</td></tr><tr><td>8591054360</td><td>2020-11-22T07:51:38.842+0000</td><td>1606031498</td><td>@thesandrashamas @KarynCurtis21 @DanaMcCauley If that means lighting a few candles & having a glass of red wine whilst  I doomscroll #Covid & #USElectionResults, then yeah!  #PartyOn</td></tr><tr><td>8591034448</td><td>2020-11-22T07:38:34.640+0000</td><td>1606030714</td><td>There should be a new decree a new law if you  are elected for a second term with over 325 points you should be granted a free and final third term #USElectionResults \n",
       "#USAelection2020</td></tr><tr><td>8590981856</td><td>2020-11-22T07:14:38.280+0000</td><td>1606029278</td><td>@EricTrump Waiting for another Miracle.\n",
       "#4MoreYears for President Trump!!!\n",
       "\n",
       "#USElections2020  #AmericaDecides2020 #TrumpAgain #Trump2020 @realDonaldTrump @Mike_Pence #USElectionResults</td></tr><tr><td>8591024696</td><td>2020-11-22T07:32:03.260+0000</td><td>1606030323</td><td>Trump tweets 'I won' after saying 'fake results' of 2020 mail-in vote shouldn't be allowed to stand\n",
       "https://t.co/9w6twtCj9H\n",
       "@realDonaldTrump #USElectionResults https://t.co/HSExxKGAbR</td></tr><tr><td>8591081520</td><td>2020-11-22T08:20:17.438+0000</td><td>1606033217</td><td>@EricTrump Waiting for another Miracle.\n",
       "#4MoreYears for President Trump!!!\n",
       "\n",
       "#USElections2020  #AmericaDecides2020 #TrumpAgain #Trump2020 @realDonaldTrump @Mike_Pence #USElectionResults</td></tr><tr><td>8590966936</td><td>2020-11-22T07:04:14.796+0000</td><td>1606028654</td><td>And you really believe the American people voted for this idiot? \n",
       "https://t.co/FkFPS2BqR0\n",
       "#Biden #Trump #Election2020 #TheGreatReset #voterf_r_a_u_d #USWahlen2020 #USElectionResults</td></tr><tr><td>8591066600</td><td>2020-11-22T08:09:53.866+0000</td><td>1606032593</td><td>And you really believe the American people voted for this idiot? \n",
       "https://t.co/FkFPS2BqR0\n",
       "#Biden #Trump #Election2020 #TheGreatReset #voterf_r_a_u_d #USWahlen2020 #USElectionResults</td></tr><tr><td>8591036736</td><td>2020-11-22T07:40:06.007+0000</td><td>1606030806</td><td>Let's delve into the words of Joe Biden who will soon take oath as the new US President. \n",
       ".\n",
       ".\n",
       "#uselection #uselection2020 #uselectionresults #JoeBiden #JoeBiden https://t.co/dVRPEQtOic</td></tr><tr><td>8591021840</td><td>2020-11-22T07:40:01.021+0000</td><td>1606030801</td><td>US election: Biden cries out over denial of access to fund, security briefing https://t.co/RmBFzDG1IS via @AcharaugoMedia #USElections2020 #USElectionResults #TrumpvsBiden #Trending</td></tr><tr><td>8590994248</td><td>2020-11-22T07:12:31.053+0000</td><td>1606029151</td><td>The US election and data science have this in common: we spend way more time counting things than we ever would have imagined #datascience #data #USAElections2020 #USElectionResults</td></tr><tr><td>8591092032</td><td>2020-11-22T08:18:10.147+0000</td><td>1606033090</td><td>The US election and data science have this in common: we spend way more time counting things than we ever would have imagined #datascience #data #USAElections2020 #USElectionResults</td></tr><tr><td>8590985976</td><td>2020-11-22T07:17:22.214+0000</td><td>1606029442</td><td>BREAKING: Second Georgia County Finds Thousands More Votes, Majority Are For Trump! #USElection2020 #USAElections2020 #USElections2020 #US #USElectionResults https://t.co/Hud7wkEgwc</td></tr><tr><td>8591085640</td><td>2020-11-22T08:23:01.453+0000</td><td>1606033381</td><td>BREAKING: Second Georgia County Finds Thousands More Votes, Majority Are For Trump! #USElection2020 #USAElections2020 #USElections2020 #US #USElectionResults https://t.co/Hud7wkEgwc</td></tr><tr><td>8591038304</td><td>2020-11-22T07:51:23.849+0000</td><td>1606031483</td><td>White House Planning For Trump to Serve Second Term Despite His Reelection Loss, Says Official\n",
       "\n",
       "#USElections2020\n",
       "#USElectionResults\n",
       "#DonaldTrump\n",
       "#WhiteHouse\n",
       "\n",
       "https://t.co/phmnYYTuYS</td></tr><tr><td>8591083840</td><td>2020-11-22T08:21:58.509+0000</td><td>1606033318</td><td>@realdonaldtrump FYI #USElectionResults \"Large Michigan county unanimously certifies U.S. election vote after deadlock - National | https://t.co/qAcgpb2YtT\" https://t.co/9qNx5MOxt7</td></tr><tr><td>8590984176</td><td>2020-11-22T07:16:19.327+0000</td><td>1606029379</td><td>@realdonaldtrump FYI #USElectionResults \"Large Michigan county unanimously certifies U.S. election vote after deadlock - National | https://t.co/qAcgpb2YtT\" https://t.co/9qNx5MOxt7</td></tr><tr><td>8590969320</td><td>2020-11-22T07:05:54.837+0000</td><td>1606028754</td><td>Audited vote totals in #Georgia showed that #Biden defeated Trump in the state by 12,284 votes, reaffirms Biden’s win https://t.co/zVArdOD1Ph #BidenHarris2020 #USElectionResults</td></tr><tr><td>8591068984</td><td>2020-11-22T08:11:33.870+0000</td><td>1606032693</td><td>Audited vote totals in #Georgia showed that #Biden defeated Trump in the state by 12,284 votes, reaffirms Biden’s win https://t.co/zVArdOD1Ph #BidenHarris2020 #USElectionResults</td></tr><tr><td>8591044712</td><td>2020-11-22T07:45:07.377+0000</td><td>1606031107</td><td>Different faces and different colors but with one flag 🇺🇸, rights and liberties. #USElectionResults #BidenIsNotPresidentElect #TRUMP2020ToSaveAmerica https://t.co/rVpGLTsLrm</td></tr><tr><td>8590967768</td><td>2020-11-22T07:04:54.799+0000</td><td>1606028694</td><td>Sleeping with the enemy \n",
       "#POTUS #POTUS46 #POTUS45 #BidenHarrisIn5Words #Biden #Trump #TrumpvsBiden #SleepyJoe #USAElections2020 #USElectionResults #UsUnited https://t.co/MlwRGEvwf3</td></tr><tr><td>8591067432</td><td>2020-11-22T08:10:33.871+0000</td><td>1606032633</td><td>Sleeping with the enemy \n",
       "#POTUS #POTUS46 #POTUS45 #BidenHarrisIn5Words #Biden #Trump #TrumpvsBiden #SleepyJoe #USAElections2020 #USElectionResults #UsUnited https://t.co/MlwRGEvwf3</td></tr><tr><td>8591051000</td><td>2020-11-22T08:00:07.848+0000</td><td>1606032007</td><td>Saturday’s Pro-Trump Events In DC Have a Very Real Potential to Turn Violent, According to Experts Who Track Extremism  #Trumpers  #USElectionResults \n",
       "\n",
       "https://t.co/Peaz9jBXUg</td></tr><tr><td>8591047344</td><td>2020-11-22T07:46:57.375+0000</td><td>1606031217</td><td>@RealCandaceO I completely agree with u. If they were #transparent they wd hv allowed the audits. Clearly they r not.\n",
       "\n",
       "#democrats\n",
       "#republicans #USElectionResults\n",
       "#USElection2020</td></tr><tr><td>8591061264</td><td>2020-11-22T07:57:11.472+0000</td><td>1606031831</td><td>Will Benjamin Netanyahu congratulate ‘Biden’ on historic victory? https://t.co/SJ2XDcMmxq via @https://twitter.com/ISLAMABADTELEG1 \n",
       "\n",
       "@JoeBiden @netanyahu \n",
       "#USElectionResults</td></tr><tr><td>8591005120</td><td>2020-11-22T07:29:06.938+0000</td><td>1606030146</td><td>@amritabhinder @moneycontrolcom Compilation of #USElection fraud videos\n",
       "\n",
       "https://t.co/BesIC7hIpv\n",
       "\n",
       "#USElectionResults #USElections2020 #USPresidentialElections2020 #USAelection2020</td></tr><tr><td>8591000160</td><td>2020-11-22T07:26:06.945+0000</td><td>1606029966</td><td>A Cartogram-Perspective of the 2020 US Presidential Election Results https://t.co/Jytx01xcQP #USElection2020 #USElectionResults #cartograms #maps #cartography #USElection #Politics</td></tr><tr><td>8590983896</td><td>2020-11-22T07:05:29.817+0000</td><td>1606028729</td><td>Moment of truth by Ng\n",
       "https://t.co/GINDv7q8RR\n",
       "\n",
       "#abc730 \n",
       "#9YearsOfUpAllNight #books #AmazingRace #OscarPistorius #BlackFridayDeals #YutaDeservesBetter #USElectionResults #Ballum</td></tr><tr><td>8591081680</td><td>2020-11-22T08:11:08.872+0000</td><td>1606032668</td><td>Moment of truth by Ng\n",
       "https://t.co/GINDv7q8RR\n",
       "\n",
       "#abc730 \n",
       "#9YearsOfUpAllNight #books #AmazingRace #OscarPistorius #BlackFridayDeals #YutaDeservesBetter #USElectionResults #Ballum</td></tr><tr><td>8591003488</td><td>2020-11-22T07:28:16.936+0000</td><td>1606030096</td><td>For a moment there I almost forgot 70m people voted for a man that recommended you drink bleach to stop COVID-19 🤦‍♂️ #USElectionResults #TrumpCollapse #USElection2020</td></tr><tr><td>8590991432</td><td>2020-11-22T07:21:05.614+0000</td><td>1606029665</td><td>So,Trump2020 wasn't a reelection slogan,It was an expiration date! Who'd a thunk it!!!! Lol #PresidentBiden #VoteHimOut #VoteBlueToEndTheNightmare #MSNBC2020 #USElectionResults</td></tr><tr><td>8591033224</td><td>2020-11-22T07:37:44.644+0000</td><td>1606030664</td><td>If only @realDonaldTrump would put as much energy into fighting the pandemic as he is investing in fighting the results of the election. #justsaying #COVID19 #USElectionResults</td></tr><tr><td>8591012352</td><td>2020-11-22T07:24:10.609+0000</td><td>1606029850</td><td>Biden trying to convince me businesses were happy about unionizing during his press conference. 🤣 He thinks we are stupid! #USElectionResults #BidenWasNotElected #Trump2020</td></tr><tr><td>8591010328</td><td>2020-11-22T07:32:48.273+0000</td><td>1606030368</td><td>⁦@JoeBiden⁩ ask ⁦@jack⁩ to fake your  followers from 18M to almost 90M of ⁦@realDonaldTrump⁩ the numbers don’t add up. #USElectionResults https://t.co/U7GZNJRGNE</td></tr><tr><td>8591037520</td><td>2020-11-22T07:50:53.845+0000</td><td>1606031453</td><td>#USElectionresults \n",
       "Australia's Prime Minister called it for biden\n",
       "despite all these cases pending.\n",
       "\n",
       "Waiting patiently for ScoMo to get Trumped as PM. https://t.co/BZOMdo55ol</td></tr><tr><td>8591026056</td><td>2020-11-22T07:32:53.268+0000</td><td>1606030373</td><td>@RailaOdinga at this point of disputed #USElectionResults should be Retweeting all Trumps tweets. Support a comrade Baba cheza kama wewe. #BBINonsense https://t.co/MSdSWys7LI</td></tr><tr><td>8591010552</td><td>2020-11-22T07:32:58.275+0000</td><td>1606030378</td><td>@RailaOdinga at this point of disputed #USElectionResults should be Retweeting all Trumps tweets. Support a comrade Baba cheza kama wewe. #BBINonsense https://t.co/9bRaFafBlp</td></tr><tr><td>8591031712</td><td>2020-11-22T07:46:42.389+0000</td><td>1606031202</td><td>If Media and Corporates are to decide on who my #President would be, why should I vote and why should I call #USA a #Democracy ? #USElection #USElectionResults #USAelection2020</td></tr><tr><td>8591081904</td><td>2020-11-22T08:11:18.875+0000</td><td>1606032678</td><td>Most normal people would call #Trump's actions fraudulent. How can he try to overturn the most scrutinised #uselectionresults\n",
       "#USUnited #TrumpConcede\n",
       "\n",
       "https://t.co/tIlIs1ZS1Y</td></tr><tr><td>8590984120</td><td>2020-11-22T07:05:39.818+0000</td><td>1606028739</td><td>Most normal people would call #Trump's actions fraudulent. How can he try to overturn the most scrutinised #uselectionresults\n",
       "#USUnited #TrumpConcede\n",
       "\n",
       "https://t.co/tIlIs1ZS1Y</td></tr><tr><td>8591034680</td><td>2020-11-22T07:38:44.641+0000</td><td>1606030724</td><td>Donald Trump admits Joe Biden has ‘won’ US election for first time https://t.co/VTzAHommXp #USElections2020 #USElectionResults #USElectionResults2020 https://t.co/L2TdF0zm5S</td></tr><tr><td>8590979472</td><td>2020-11-22T07:12:57.108+0000</td><td>1606029177</td><td>Emily Murphy - the woman who has decided to make herself unemployable after January 2021\n",
       "\n",
       "#USElectionResults #USElections2020 #auspol #TrumpConcede \n",
       "\n",
       "https://t.co/CYZW2kqmJm</td></tr><tr><td>8590980200</td><td>2020-11-22T07:02:48.484+0000</td><td>1606028568</td><td>Are you searching the Instagram hashtag researcher that you are right place.\n",
       "https://t.co/sGXlYeghDw\n",
       "#USAElections2020 #USElectionResults #coronavirus https://t.co/Jdc4IEUAPN</td></tr><tr><td>8591072760</td><td>2020-11-22T08:05:27.607+0000</td><td>1606032327</td><td>A Pennsylvanian judge sided with the @realDonaldTrump campaign, tosses 2,349 absentee ballots\n",
       "\n",
       "https://t.co/9Al6fqRUHy\n",
       "\n",
       "#Election2020 #Election2020results #USElectionResults</td></tr><tr><td>8591005584</td><td>2020-11-22T07:29:26.956+0000</td><td>1606030166</td><td>⚖️ Bookies are weighing up what Trump could sign into law between now and Joe Biden’s inauguration in January\n",
       "\n",
       "#USElectionResults #USA #Trump \n",
       "\n",
       "https://t.co/OLuE7SMtB1</td></tr><tr><td>8591099384</td><td>2020-11-22T08:23:07.372+0000</td><td>1606033387</td><td>BREAKING:\n",
       "\n",
       "Second Georgia county finds thousands of 'missing' votes \n",
       "\n",
       "@stillgray has the details \n",
       "\n",
       "https://t.co/mQwEjkac16\n",
       "\n",
       "#USElection2020 #USElectionResults #Elections2020</td></tr><tr><td>8591079136</td><td>2020-11-22T08:18:36.241+0000</td><td>1606033116</td><td>Emily Murphy - the woman who has decided to make herself unemployable after January 2021\n",
       "\n",
       "#USElectionResults #USElections2020 #auspol #TrumpConcede \n",
       "\n",
       "https://t.co/CYZW2kqmJm</td></tr><tr><td>8591086648</td><td>2020-11-22T08:14:18.895+0000</td><td>1606032858</td><td>So enough already. It's time for our country to move towards the future.: @McFaul \n",
       "\n",
       "#Diplomacy140 #USElectionResults #PresidentElectJoeBiden #Georgia https://t.co/knQOoGvQG9</td></tr><tr><td>8591034904</td><td>2020-11-22T07:38:54.643+0000</td><td>1606030734</td><td>Donald Trump admits Joe Biden has ‘won’ US election for first time https://t.co/VTzAHommXp #USElections2020 #USElectionResults #USElectionResults2020 https://t.co/x2k7MkUSGY</td></tr><tr><td>8591001600</td><td>2020-11-22T07:17:28.041+0000</td><td>1606029448</td><td>BREAKING:\n",
       "\n",
       "Second Georgia county finds thousands of 'missing' votes \n",
       "\n",
       "@stillgray has the details \n",
       "\n",
       "https://t.co/mQwEjkac16\n",
       "\n",
       "#USElection2020 #USElectionResults #Elections2020</td></tr><tr><td>8591077984</td><td>2020-11-22T08:08:28.876+0000</td><td>1606032508</td><td>Are you searching the Instagram hashtag researcher that you are right place.\n",
       "https://t.co/sGXlYeghDw\n",
       "#USAElections2020 #USElectionResults #coronavirus https://t.co/Jdc4IEUAPN</td></tr><tr><td>8590988864</td><td>2020-11-22T07:08:39.836+0000</td><td>1606028919</td><td>So enough already. It's time for our country to move towards the future.: @McFaul \n",
       "\n",
       "#Diplomacy140 #USElectionResults #PresidentElectJoeBiden #Georgia https://t.co/knQOoGvQG9</td></tr><tr><td>8591038080</td><td>2020-11-22T07:51:13.833+0000</td><td>1606031473</td><td>US Secretary of State Mike Pompeo to Embark on a Seven-Nation Trip Amid Presidential Conundrum\n",
       "https://t.co/Pc4Ju1BlPH\n",
       "#MikePompeo #UnitedStates @SecPompeo #USElectionResults</td></tr><tr><td>8591091632</td><td>2020-11-22T08:17:50.128+0000</td><td>1606033070</td><td>For quite some time , Chinese admire American Spirit and soul until Trump terminated it.  \n",
       "#USAElections2020 #USElectionResults2020 \n",
       "#USElectionResults #Trump\n",
       "#TrumpCollapse</td></tr><tr><td>8590993848</td><td>2020-11-22T07:12:11.045+0000</td><td>1606029131</td><td>For quite some time , Chinese admire American Spirit and soul until Trump terminated it.  \n",
       "#USAElections2020 #USElectionResults2020 \n",
       "#USElectionResults #Trump\n",
       "#TrumpCollapse</td></tr><tr><td>8591066256</td><td>2020-11-22T08:00:54.229+0000</td><td>1606032054</td><td>@cspanwj @PatriotAFVet I just voted for a bit of fun. Rather surprised at the result though. Appears MSM is having little effect on the 'general public'. #USElectionResults</td></tr><tr><td>8591047904</td><td>2020-11-22T07:58:06.485+0000</td><td>1606031886</td><td>Seriously baby @realDonaldTrump, are you ever going to grow up?!? #DonaldTrump #USElectionResults #Vote2020 #JOEBIDEN2020 #Biden2020 #KamalaHarris \n",
       "\n",
       "https://t.co/hXP8DFD2vR</td></tr><tr><td>8591011248</td><td>2020-11-22T07:23:20.616+0000</td><td>1606029800</td><td>The US Election, My New Martial Arts Zone, and a New Study on Psychedelics - Weekly Blog #3 \n",
       "\n",
       "#USElectionResults #MMA @JohnsHopkins #psychedelics  \n",
       "\n",
       "https://t.co/HGPQ9DarYn</td></tr><tr><td>8591015328</td><td>2020-11-22T07:35:39.643+0000</td><td>1606030539</td><td>Why do some Americans think that America isn't a democracy? Doesn't the whole voting thing give it away? What am I missing? #USAElections2020 #USElectionResults #USElection</td></tr><tr><td>8591041520</td><td>2020-11-22T07:53:45.207+0000</td><td>1606031625</td><td>@donwinslow @PressSec @kayleighmcenany She has binders!!!!! We are doomed\n",
       "#TrumpSupporters \n",
       "#TrumpIsPathetic \n",
       "@gop\n",
       "#Resistance \n",
       "#USElectionResults https://t.co/tuILB3tuU4</td></tr><tr><td>8590965240</td><td>2020-11-22T07:03:13.494+0000</td><td>1606028593</td><td>This shift of cheating happened by 11 pm election night. I felt it.  It’s time to manifest the truth. #USElectionResults ⁦@realDonaldTrump⁩  https://t.co/MsBJ9m0ZFU</td></tr><tr><td>8591064904</td><td>2020-11-22T08:08:53.874+0000</td><td>1606032533</td><td>This shift of cheating happened by 11 pm election night. I felt it.  It’s time to manifest the truth. #USElectionResults ⁦@realDonaldTrump⁩  https://t.co/MsBJ9m0ZFU</td></tr><tr><td>8591019424</td><td>2020-11-22T07:38:09.634+0000</td><td>1606030689</td><td>#Smartmatic wasn't allowed.  They were DIRECTED to steal the #USElectionResults , for reasons which are becoming glaringly obvious to all. I hope. https://t.co/id40xjEaWm</td></tr><tr><td>8591063952</td><td>2020-11-22T07:59:12.845+0000</td><td>1606031952</td><td>US Election News: \n",
       "Election Officials Directly Contradict Trump on Voting System Fraud | via The New York Times \n",
       "https://t.co/S3csfF7zTw #USElection2020 #USElectionResults</td></tr><tr><td>8591068408</td><td>2020-11-22T08:02:24.213+0000</td><td>1606032144</td><td>Pope Francis rang Joe Biden to congratulate him – #ThoughtsAndPrayers to Trump’s blood pressure.\n",
       "#USElectionResults  \n",
       "https://t.co/w3hriECu7B https://t.co/MHQ3VUlBK5</td></tr><tr><td>8591062952</td><td>2020-11-22T07:58:22.839+0000</td><td>1606031902</td><td>Pope Francis rang Joe Biden to congratulate him – #ThoughtsAndPrayers to Trump’s blood pressure.\n",
       "#USElectionResults  \n",
       "https://t.co/w3hriEkSJ1 https://t.co/agzycaYZ9T</td></tr><tr><td>8591052712</td><td>2020-11-22T07:50:18.841+0000</td><td>1606031418</td><td>Pope Francis rang Joe Biden to congratulate him – #ThoughtsAndPrayers to Trump’s blood pressure.\n",
       "#USElectionResults  \n",
       "https://t.co/w3hriECu7B https://t.co/XhZ5mFyImI</td></tr><tr><td>8591055504</td><td>2020-11-22T07:52:30.178+0000</td><td>1606031550</td><td>Pope Francis rang Joe Biden to congratulate him – #ThoughtsAndPrayers to Trump’s blood pressure.\n",
       "#USElectionResults  \n",
       "https://t.co/w3hriECu7B https://t.co/JibGbTUGi1</td></tr><tr><td>8591052120</td><td>2020-11-22T07:49:58.836+0000</td><td>1606031398</td><td>@TomFitton @realDonaldTrump Let the true judge govern... As Trump said recently, the Boss, #JesusChrist \n",
       "#LegalVotesOnly #USElectionResults #USAElections2020 #USElections</td></tr><tr><td>8591042488</td><td>2020-11-22T07:54:35.195+0000</td><td>1606031675</td><td>And #Georgia flipping does it. @staceyabrams is the legend many @GeorgiaDemocrat are crediting with this political turnaround #USElectionResults https://t.co/DGyKFCQYTm</td></tr><tr><td>8590967376</td><td>2020-11-22T07:04:34.797+0000</td><td>1606028674</td><td>🔵 #Georgia’s Secretary of State has officially certified the election, awarding the state’s 16 electoral votes to Joe #Biden.\n",
       "#USElections2020 #USElectionResults</td></tr><tr><td>8591067040</td><td>2020-11-22T08:10:13.884+0000</td><td>1606032613</td><td>🔵 #Georgia’s Secretary of State has officially certified the election, awarding the state’s 16 electoral votes to Joe #Biden.\n",
       "#USElections2020 #USElectionResults</td></tr><tr><td>8591058776</td><td>2020-11-22T07:55:10.193+0000</td><td>1606031710</td><td>#USElectionResults: Biden wins Georgia bringing total EV tally to 306:232 in favor of President-elect @JoeBiden.\n",
       "Results projected by @politico https://t.co/FccqlcbYxV</td></tr><tr><td>8591094088</td><td>2020-11-22T08:19:41.242+0000</td><td>1606033181</td><td>🇺🇸 A price of 4/1 has been placed on Trump stepping down as president before Biden’s inauguration \n",
       "\n",
       "#USElectionResults #Trump #Biden \n",
       "\n",
       " https://t.co/OLuE7SMtB1</td></tr><tr><td>8590987336</td><td>2020-11-22T07:18:14.128+0000</td><td>1606029494</td><td>🇺🇸 A price of 4/1 has been placed on Trump stepping down as president before Biden’s inauguration \n",
       "\n",
       "#USElectionResults #Trump #Biden \n",
       "\n",
       " https://t.co/OLuE7SMtB1</td></tr><tr><td>8590996304</td><td>2020-11-22T07:14:02.115+0000</td><td>1606029242</td><td>🇺🇸 A price of 4/1 has been placed on Trump stepping down as president before Biden’s inauguration \n",
       "\n",
       "#USElectionResults #Trump #Biden \n",
       "\n",
       " https://t.co/OLuE7SMtB1</td></tr><tr><td>8591087000</td><td>2020-11-22T08:23:53.441+0000</td><td>1606033433</td><td>🇺🇸 A price of 4/1 has been placed on Trump stepping down as president before Biden’s inauguration \n",
       "\n",
       "#USElectionResults #Trump #Biden \n",
       "\n",
       " https://t.co/OLuE7SMtB1</td></tr><tr><td>8591036808</td><td>2020-11-22T07:50:23.852+0000</td><td>1606031423</td><td>Has Donald Trump said \"It's my ball and you're not playing with it.\", yet? #USElection #USElection2020 #USElectionResults2020 #USElectionResults https://t.co/CR6sBiks6b</td></tr><tr><td>8591049200</td><td>2020-11-22T07:48:17.414+0000</td><td>1606031297</td><td>@realDonaldTrump \n",
       "Fixed this for you! \n",
       "\n",
       "#Trump #TrumpisALoser #TrumpLost #MillionMAGAMarch #USElectionResults2020 #USElectionResults #USElections https://t.co/50z9rczRNf</td></tr><tr><td>8590996856</td><td>2020-11-22T07:14:23.278+0000</td><td>1606029263</td><td>#wednesdaythought #uselectionresults were #ElectionFraud #DemocratsAreDestroyingAmerica time to wake up America #TheWorldIsYoursTeam #MAGA2020 https://t.co/Do3TKjwpzE</td></tr><tr><td>8590985432</td><td>2020-11-22T07:06:29.826+0000</td><td>1606028789</td><td>#USElectionResults I just wonder if this election drama starring #Trump was happening in an African Country... Would it be entertaining to sit back and watch???? 🤔</td></tr><tr><td>8591094640</td><td>2020-11-22T08:20:02.448+0000</td><td>1606033202</td><td>#wednesdaythought #uselectionresults were #ElectionFraud #DemocratsAreDestroyingAmerica time to wake up America #TheWorldIsYoursTeam #MAGA2020 https://t.co/Do3TKjwpzE</td></tr><tr><td>8591083216</td><td>2020-11-22T08:12:08.864+0000</td><td>1606032728</td><td>#USElectionResults I just wonder if this election drama starring #Trump was happening in an African Country... Would it be entertaining to sit back and watch???? 🤔</td></tr><tr><td>8590973240</td><td>2020-11-22T07:08:34.828+0000</td><td>1606028914</td><td>U.S. election: Rudy Giuliani appears to sweat hair dye during press conference on alleged voter fraud https://t.co/vbwmUStp4o #OhRudy #rudymelting #USElectionResults</td></tr><tr><td>8591049984</td><td>2020-11-22T07:59:27.855+0000</td><td>1606031967</td><td>3 November 2020 vintage ⁦@GOP⁩ ⁦@TheDemocrats⁩ ⁦@realDonaldTrump⁩ #USPresidentialElections2020 #USElectionResults #USAElections2020 https://t.co/LO3tgIAPBa</td></tr><tr><td>8591072904</td><td>2020-11-22T08:14:13.870+0000</td><td>1606032853</td><td>U.S. election: Rudy Giuliani appears to sweat hair dye during press conference on alleged voter fraud https://t.co/vbwmUStp4o #OhRudy #rudymelting #USElectionResults</td></tr><tr><td>8591088136</td><td>2020-11-22T08:15:30.124+0000</td><td>1606032930</td><td>Have US elections always been about the winning side wanting to jail the losing side or is that a new thing? #USElectionResults #USElection2020 #Democrats #Republican</td></tr><tr><td>8590990352</td><td>2020-11-22T07:09:51.018+0000</td><td>1606028991</td><td>Have US elections always been about the winning side wanting to jail the losing side or is that a new thing? #USElectionResults #USElection2020 #Democrats #Republican</td></tr><tr><td>8591015480</td><td>2020-11-22T07:26:01.943+0000</td><td>1606029961</td><td>#news \n",
       "Votes in #Nevada thrown out!\n",
       "#USElectionResults #USElection2020 #USElections #USAElections2020 #Election2020 #USA \n",
       "More information here: https://t.co/qBe8SH1s7h</td></tr><tr><td>8591050536</td><td>2020-11-22T07:59:47.841+0000</td><td>1606031987</td><td>Tafrishaala Prime Time\n",
       ".\n",
       "#USAElections2020 #USElectionResults #RCEP #ASEAN #business #china #USA #AlQaeda #France #french #India #Government https://t.co/WylXIee40j</td></tr><tr><td>8591028192</td><td>2020-11-22T07:34:24.644+0000</td><td>1606030464</td><td>If the #USElectionResults is #RIGGED why wasn't it rigged in 2016 when #Trump won the states of Wisconsin, Michigan, and Pennsylvania by a combined 80,000 votes!!!!</td></tr><tr><td>8591048304</td><td>2020-11-22T07:47:37.392+0000</td><td>1606031257</td><td>When the #USElectionResults are done! Someone please take care of @faithgoldy this lady has lost it. She treats @realDonaldTrump like a God! I’m not even kidding.</td></tr><tr><td>8591040256</td><td>2020-11-22T07:42:16.030+0000</td><td>1606030936</td><td>@DVStrading @BernieSanders When all the  Vegas odds makers refuse to acknowledge / verify #USElectionResults you know somethings wrong\n",
       "All funds bet are being held</td></tr><tr><td>8591046096</td><td>2020-11-22T07:57:06.480+0000</td><td>1606031826</td><td>@therealfstl1992 brilliant skit about the press conference by #marcusbrigstocke @BBCRadio4 #USElectionResults #USElection #USAElections2020 https://t.co/UKaHTjPeKT</td></tr><tr><td>8591097592</td><td>2020-11-22T08:21:43.499+0000</td><td>1606033303</td><td>If there was no fraud, then why are they so worried! #trump #donaldtrump #USElectionResults #uselectionfraud #fraud #electionfraud #Trump2020 #TRUMP2020ToSaveTheWorld</td></tr><tr><td>8590999808</td><td>2020-11-22T07:16:04.310+0000</td><td>1606029364</td><td>If there was no fraud, then why are they so worried! #trump #donaldtrump #USElectionResults #uselectionfraud #fraud #electionfraud #Trump2020 #TRUMP2020ToSaveTheWorld</td></tr><tr><td>8590993920</td><td>2020-11-22T07:22:25.625+0000</td><td>1606029745</td><td>50k pieces of paper decide if more brown people get killed in the middle east. Crazy world y'all. \n",
       "\n",
       "#USElectionResults #USElections2020 #biden #trump #ElectionDay</td></tr><tr><td>8590991048</td><td>2020-11-22T07:20:45.614+0000</td><td>1606029645</td><td>Over 79,000,000 votes from Americans to say a Big 'NO' to an embarrassing illiterate lumpen, Donald J Trump.\n",
       "#USElectionResults #USElections2020 #USAElections2020</td></tr><tr><td>8590989408</td><td>2020-11-22T07:09:11.027+0000</td><td>1606028951</td><td>Fear and Loyalty: How Donald #Trump Has Taken Over the Republican Party And Made It Unrecognizable #uspoli #worldnews #USElectionResults  https://t.co/pH9sELcIBf</td></tr><tr><td>8591024760</td><td>2020-11-22T07:41:51.024+0000</td><td>1606030911</td><td>#USElectionResults  #TrumpPressConference \n",
       "\n",
       "There are indications visible Trump is starting to accept the peoples vote. Hopefully getting this peacefully solved.</td></tr><tr><td>8591018640</td><td>2020-11-22T07:37:39.632+0000</td><td>1606030659</td><td>What does this guy really hope to gain? Other than prolonging the inevitable indictments.  #TrumpConcedes #USElectionResults #TrumpLosing https://t.co/QZE35k6aZm</td></tr><tr><td>8591087192</td><td>2020-11-22T08:14:50.135+0000</td><td>1606032890</td><td>Fear and Loyalty: How Donald #Trump Has Taken Over the Republican Party And Made It Unrecognizable #uspoli #worldnews #USElectionResults  https://t.co/pH9sELcIBf</td></tr><tr><td>8591020264</td><td>2020-11-22T07:38:49.637+0000</td><td>1606030729</td><td>So, here you're yielding and conceding categorically. Now don't retract if you're a man of words.\n",
       "#USElections2020 #USElectionResults #USA https://t.co/Y1teEITdvZ</td></tr><tr><td>8591011632</td><td>2020-11-22T07:23:40.621+0000</td><td>1606029820</td><td>Case for tax Compliance. https://t.co/qKHYhsDRsv? #taxes #tax #USElectionResults #vision2030 #Mugabe #asakhe #Covid #Covid_19 #twittertuessday #COVID19 #Bushiri</td></tr><tr><td>8591009232</td><td>2020-11-22T07:22:00.616+0000</td><td>1606029720</td><td>Just Shameful! #Biden for months now hasn’t denounced crimes, Biden’s been advocating crimes!!!!#USAElections2020 #USElectionResults  https://t.co/kawXMZBCnX</td></tr><tr><td>8591055224</td><td>2020-11-22T08:03:01.337+0000</td><td>1606032181</td><td>More doors are shutting for the ‘former’ president. #USAelection2020 #USElection2020 #USElectionResults #USElections #JoeBidenKamalaHarris2020 #JoeBiden \n",
       "Judge dismisses Trump campaign's Pennsylvania lawsuit which had sought to throw out millions of votes  https://t.co/IEI7qIARcE</td></tr><tr><td>8591055568</td><td>2020-11-22T08:03:11.337+0000</td><td>1606032191</td><td>2/2 ... ps as I said @realDonaldTrump just not sure anyone CARES ANYMORE (I put it in caps so you can understand)! 😘\n",
       "\n",
       "R.R. (the hair-dye guy)\n",
       "\n",
       "#Election2020results #USElectionResults https://t.co/rk9osY4oCN</td></tr><tr><td>8591055824</td><td>2020-11-22T08:03:21.338+0000</td><td>1606032201</td><td>Go Down with the #USA - https://t.co/zzmnVtiJ0h https://t.co/Lgz8bZtDR5    #USElectionResults   #germany</td></tr><tr><td>8590996752</td><td>2020-11-22T07:24:15.628+0000</td><td>1606029855</td><td>You should be ashamed @LindseyGrahamSC ! The GOP party is being ridiculed day by day! \n",
       "\n",
       "#USElections2020 #georgia #USElectionResults \n",
       "\n",
       "https://t.co/roWHEtog8u</td></tr><tr><td>8591053928</td><td>2020-11-22T08:01:59.234+0000</td><td>1606032119</td><td>CNN projects #Biden has won #Arizona by 11,434 votes. The win puts him on 290 V Trump's 217. https://t.co/jzDwbDzoAB #USElectionResults https://t.co/nOXC9NFMPE</td></tr><tr><td>8591012392</td><td>2020-11-22T07:33:59.647+0000</td><td>1606030439</td><td>#Belarus yesterday: massive violence against peaceful protesters, again. Wonder if and how #USElectionResults will change the picture. https://t.co/2JRuUqx8hz</td></tr><tr><td>8591048328</td><td>2020-11-22T07:58:27.852+0000</td><td>1606031907</td><td>Before leaving the chair, Trump babe gonna put as many cases as possible on Bhai den. He never give him the chair so easily \n",
       "#USElectionResults \n",
       "#trumpkiaankh</td></tr><tr><td>8591035488</td><td>2020-11-22T07:39:16.020+0000</td><td>1606030756</td><td>Bev says Donald Trump is sitting in the shopping aisle screaming, peeing his pants and refusing to let go the bag of sweets. #USElectionResults #TrumpMeltdown</td></tr><tr><td>8591081056</td><td>2020-11-22T08:19:57.437+0000</td><td>1606033197</td><td>Election Fraud Real, Fake, Maybe? check out @pepesgrandma before you vote... or not. #USAElections2020 #USElectionResults2020 #uselectionresults #ElectionFraud</td></tr><tr><td>8590981392</td><td>2020-11-22T07:14:18.275+0000</td><td>1606029258</td><td>Election Fraud Real, Fake, Maybe? check out @pepesgrandma before you vote... or not. #USAElections2020 #USElectionResults2020 #uselectionresults #ElectionFraud</td></tr><tr><td>8591066480</td><td>2020-11-22T08:01:04.230+0000</td><td>1606032064</td><td>Congratulations @JoeBiden and @kamlaharris from the entire team of TeleHealth India. \n",
       "#USPresidentialElections2020 #USElectionResults https://t.co/RPzgOqHqrB</td></tr><tr><td>8591010400</td><td>2020-11-22T07:22:50.608+0000</td><td>1606029770</td><td>Voting security experts refute Trump claims of voting machine hacking https://t.co/QiEA151kGG #news #USElectionResults #JoeBidenWon #TrumpLost #TrumpSoreLoser</td></tr><tr><td>8591082456</td><td>2020-11-22T08:11:38.860+0000</td><td>1606032698</td><td>#JoeBiden #USElectionResults #DonaldTrump #USElections #USElections2020 \n",
       "\n",
       "How Does the U.S. Dollar Perform After U.S. Elections? 💵\n",
       "\n",
       "https://t.co/Uf3ydyEQF8</td></tr><tr><td>8590984672</td><td>2020-11-22T07:05:59.838+0000</td><td>1606028759</td><td>#JoeBiden #USElectionResults #DonaldTrump #USElections #USElections2020 \n",
       "\n",
       "How Does the U.S. Dollar Perform After U.S. Elections? 💵\n",
       "\n",
       "https://t.co/Uf3ydyEQF8</td></tr><tr><td>8591069384</td><td>2020-11-22T08:03:06.328+0000</td><td>1606032186</td><td>President Donald Trump’s campaign sought to reintroduce claims to a Pennsylvania election lawsuit that it already removed, saying it would ask that Trump be declared the winner of the battleground state.  #USElectionResults #Pennsylvania #ElectionProtest https://t.co/Fm1zVgW26G</td></tr><tr><td>8591069720</td><td>2020-11-22T08:03:16.331+0000</td><td>1606032196</td><td>Michigan’s Republican state legislative leaders said after meeting with President Donald Trump that they had no information that would change the outcome of the #USPresidentialElection in the state. #USElectionResults #Michigan \n",
       "https://t.co/un7uj2G8Ca</td></tr><tr><td>8591061936</td><td>2020-11-22T07:57:41.474+0000</td><td>1606031861</td><td>The voters made their choice, and they chose decisively.: @HillaryClinton \n",
       "#Diplomacy140 #USElectionResults \n",
       "#PresidentElectJoeBiden https://t.co/04aSdmvO4e</td></tr><tr><td>8591005048</td><td>2020-11-22T07:19:30.603+0000</td><td>1606029570</td><td>@WilliamHill You cannot close US election bet yet as nothing is announced. But you seem to think media announcement is good enough. #bets #USElectionResults</td></tr><tr><td>8591025296</td><td>2020-11-22T07:42:11.012+0000</td><td>1606030931</td><td>In the Harris household, ambition meant courage and not personal gain. \n",
       "An important difference.\n",
       "#KamalaHarrisVP\n",
       "#USElectionResults  https://t.co/7PYKBD5KDC</td></tr><tr><td>8591048520</td><td>2020-11-22T07:47:47.425+0000</td><td>1606031267</td><td>Something for the #alcohol lovers...!\n",
       "\n",
       "A new blend..coming up..!\n",
       "\n",
       "#USAElections2020 #USElectionResults #USElection \n",
       "#SaturdayThoughts https://t.co/x37CAMxaTm</td></tr><tr><td>8590994136</td><td>2020-11-22T07:22:35.628+0000</td><td>1606029755</td><td>As monotheism is one, small shift away from atheism, so a two-party system is only one, small shift away from a dictatorship. #USElectionResults #uspoli #Trump</td></tr><tr><td>8591083632</td><td>2020-11-22T08:12:28.868+0000</td><td>1606032748</td><td>@thehill “We pledge that if you vote for us more people will die, the planet will burn and you will be able to go about armed to the teeth but without any work. Because we’re #Trumpublicans and that’s all we have left to offer!” @ProjectLincoln #USElectionResults</td></tr><tr><td>8591083960</td><td>2020-11-22T08:12:38.870+0000</td><td>1606032758</td><td>I continue to be astonished and frightened at what the still incumbent government a civilised western nation can be, and is allowed to be, capable of. And how easily people can be misled (cf Hitler’s Germany). From ⁦@TheEconomist⁩ morning briefing. #USElectionResults https://t.co/thB9cMMJaV</td></tr><tr><td>8591084312</td><td>2020-11-22T08:12:48.871+0000</td><td>1606032768</td><td>#USElection2020 #USElectionResults: Georgia Confirms Biden Victory, Finds No Widespread Fraud After Audit\n",
       "https://t.co/w4rm8fTB82</td></tr><tr><td>8591016840</td><td>2020-11-22T07:26:51.929+0000</td><td>1606030011</td><td>@realDonaldTrump Sir, you lost. Please do the decent thing, and concede. Is this really what you want your legacy to be? #USElectionResults #bidenharis2020</td></tr><tr><td>8591066832</td><td>2020-11-22T08:10:03.867+0000</td><td>1606032603</td><td>#USElectionResults I suspect #RudyGiuliani has been promised running mate by #realDonaldTrump for 2024, that is why he is busy spreading all kinds of lies</td></tr><tr><td>8590967168</td><td>2020-11-22T07:04:24.796+0000</td><td>1606028664</td><td>#USElectionResults I suspect #RudyGiuliani has been promised running mate by #realDonaldTrump for 2024, that is why he is busy spreading all kinds of lies</td></tr><tr><td>8591029488</td><td>2020-11-22T07:35:04.635+0000</td><td>1606030504</td><td>#USElectionResults Media will not cover the criminals #Antifia and their crimes on innocent people... New laws should be put in place regarding the media.</td></tr><tr><td>8590989616</td><td>2020-11-22T07:09:21.029+0000</td><td>1606028961</td><td>Georgia recount results coming in soon. #USElectionResults #cnn\n",
       "\n",
       "Guess what? There's fuck all difference. Some minor human mistakes (nothing deliberate!).</td></tr><tr><td>8591087400</td><td>2020-11-22T08:15:00.140+0000</td><td>1606032900</td><td>Georgia recount results coming in soon. #USElectionResults #cnn\n",
       "\n",
       "Guess what? There's fuck all difference. Some minor human mistakes (nothing deliberate!).</td></tr><tr><td>8591076104</td><td>2020-11-22T08:07:17.594+0000</td><td>1606032437</td><td>#EndBadGoveranceInNigeria\n",
       "#WhatLookslikeChristainityanditsNOT\n",
       "#USElectionResults \n",
       "#endSARs \n",
       "Wahala dey wear diff skirt for Africa https://t.co/WW4qZfNs0l</td></tr><tr><td>8590959768</td><td>2020-11-22T06:59:53.410+0000</td><td>1606028393</td><td>👏👏\n",
       "Canal Cubo Business - YouTube\n",
       "#administracao #administracaoparatodos #economia #USElectionResults https://t.co/eszXuqe819 https://t.co/W82hxibwqz</td></tr><tr><td>8591059432</td><td>2020-11-22T08:05:32.599+0000</td><td>1606032332</td><td>👏👏\n",
       "Canal Cubo Business - YouTube\n",
       "#administracao #administracaoparatodos #economia #USElectionResults https://t.co/eszXuqe819 https://t.co/W82hxibwqz</td></tr><tr><td>8591023232</td><td>2020-11-22T07:40:51.029+0000</td><td>1606030851</td><td>@realDonaldTrump Come on Donny. Stop being like Benny and move on gracefully. #USElections2020 #USElectionResults #BidenPresident https://t.co/lmt7EJgx4J</td></tr><tr><td>8591064376</td><td>2020-11-22T08:08:33.869+0000</td><td>1606032513</td><td>Biden certified Georgia winner after hand recount https://t.co/wN4UcCwjZB via @colombogazette #US #Biden #Biden2020 #USElectionResults #USAElections2020</td></tr><tr><td>8590964712</td><td>2020-11-22T07:02:53.489+0000</td><td>1606028573</td><td>Biden certified Georgia winner after hand recount https://t.co/wN4UcCwjZB via @colombogazette #US #Biden #Biden2020 #USElectionResults #USAElections2020</td></tr><tr><td>8591067056</td><td>2020-11-22T08:01:34.220+0000</td><td>1606032094</td><td>#Bidens wins Arizona, taking tally to 290 electoral votes, counting on in two states \n",
       "\n",
       "@JoeBiden\n",
       "#JoeBiden #USElectionResults \n",
       "\n",
       " https://t.co/hGzmugXKuc</td></tr><tr><td>8591021912</td><td>2020-11-22T07:30:13.256+0000</td><td>1606030213</td><td>@NBCNews @NBCNews @MSNBC @CNN @FoxNews @CBSNews You are unauthorized to call any #USElectionResults Stop pumping your #sheep full of hope! #Election2020</td></tr><tr><td>8591057248</td><td>2020-11-22T08:04:21.340+0000</td><td>1606032261</td><td>So, no concession nearllly THREE WEEKS LATER.\n",
       "Ignore, no deal, no humoring. We are better than this.\n",
       "\n",
       "#EdwardNortonLATimes #USElectionResults #UsUnited</td></tr><tr><td>8591033888</td><td>2020-11-22T07:38:14.647+0000</td><td>1606030694</td><td>I concede NOTHING 🤷🏻‍♂️\n",
       "#TrumpvsBiden #TrumpIsLosing #USElections2020 #USPresidentialElections2020 #USElectionResults https://t.co/PtRX7xdQho</td></tr><tr><td>8591027992</td><td>2020-11-22T07:34:14.642+0000</td><td>1606030454</td><td>.@realDonaldTrump's tweet is incorrect. Joe Biden won the 2020 Presidential Election. #USElectionResults https://t.co/O4bvJJIs5Q https://t.co/3IojziOxQ4</td></tr><tr><td>8591009728</td><td>2020-11-22T07:22:20.617+0000</td><td>1606029740</td><td>Can someone please explain how Donnie received over 73 million votes? I simply don't understand. #USElectionResults #USPresidentialElections2020 @CNN</td></tr><tr><td>8591056936</td><td>2020-11-22T07:53:30.187+0000</td><td>1606031610</td><td>How’s this for an “alternative  fact” @KellyannePolls but this is 306. Landslide. Blowout. Historic. #USElectionResults https://t.co/HA4th5opIl</td></tr><tr><td>8591080856</td><td>2020-11-22T08:19:47.452+0000</td><td>1606033187</td><td>@CNN @NancyPelosi12 HAS AGE ON HER SIDE NEXT #uselectionresults AS @JoeBiden TOO OLD BUT SURE @KamalaHarris DIG  IN BY THEN CC @POTUS44 @FoxNews @GOP</td></tr><tr><td>8590981192</td><td>2020-11-22T07:14:08.273+0000</td><td>1606029248</td><td>@CNN @NancyPelosi12 HAS AGE ON HER SIDE NEXT #uselectionresults AS @JoeBiden TOO OLD BUT SURE @KamalaHarris DIG  IN BY THEN CC @POTUS44 @FoxNews @GOP</td></tr><tr><td>8590976520</td><td>2020-11-22T07:10:46.030+0000</td><td>1606029046</td><td>Taiwan hopes to continue its close cooperation with the United States. #USPresidentialElection #USElectionResults #TaiwanUSA \n",
       "https://t.co/tMoR1zwbWU</td></tr><tr><td>8591076184</td><td>2020-11-22T08:16:25.125+0000</td><td>1606032985</td><td>Taiwan hopes to continue its close cooperation with the United States. #USPresidentialElection #USElectionResults #TaiwanUSA \n",
       "https://t.co/tMoR1zwbWU</td></tr><tr><td>8590985648</td><td>2020-11-22T07:06:39.830+0000</td><td>1606028799</td><td>So, recounted votes have a @JoeBiden win. That should really put it all to bed... Right? #USElectionResults\n",
       "#USElections2020 https://t.co/m8yDEiNFPa</td></tr><tr><td>8591083432</td><td>2020-11-22T08:12:18.864+0000</td><td>1606032738</td><td>So, recounted votes have a @JoeBiden win. That should really put it all to bed... Right? #USElectionResults\n",
       "#USElections2020 https://t.co/m8yDEiNFPa</td></tr><tr><td>8591088880</td><td>2020-11-22T08:16:00.131+0000</td><td>1606032960</td><td>Ι can't imagine what that path will be. Vote counting is supposed to be an objective process. #contested #USElectionResults https://t.co/xSAqI4FlTd</td></tr><tr><td>8590991096</td><td>2020-11-22T07:10:21.019+0000</td><td>1606029021</td><td>Ι can't imagine what that path will be. Vote counting is supposed to be an objective process. #contested #USElectionResults https://t.co/xSAqI4FlTd</td></tr><tr><td>8590968336</td><td>2020-11-22T07:05:14.818+0000</td><td>1606028714</td><td>Sometimes, it's really hard to LEGO\n",
       "#USElectionResults #USElectionResults2020 #DonaldTrump #memesdaily #memes2020 #memesdaily https://t.co/CtmxwpbC7D</td></tr><tr><td>8591068000</td><td>2020-11-22T08:10:53.861+0000</td><td>1606032653</td><td>Sometimes, it's really hard to LEGO\n",
       "#USElectionResults #USElectionResults2020 #DonaldTrump #memesdaily #memes2020 #memesdaily https://t.co/CtmxwpbC7D</td></tr><tr><td>8591026016</td><td>2020-11-22T07:42:51.016+0000</td><td>1606030971</td><td>Just made my 1st #political @YouTube video. Talking about the #USElectionResults  and the \"lesser of two evils\" fallacy. \n",
       "\n",
       "https://t.co/LpuGkCghyM</td></tr><tr><td>8591093568</td><td>2020-11-22T08:19:21.253+0000</td><td>1606033161</td><td>Great hoaxes of today\n",
       "\n",
       "1) #Climatechange\n",
       "2) #COVID19 Pandemic\n",
       "3) #USElectionResults \n",
       "4) #Politicians represent the people.\n",
       "\n",
       "Did I forget anything?</td></tr><tr><td>8591087608</td><td>2020-11-22T08:15:10.137+0000</td><td>1606032910</td><td>#USElectionResults millions of #Americans still believe #Democrats rigged it. Thus confirming that #americanintelligence is certainly an oxymoron.</td></tr><tr><td>8590995784</td><td>2020-11-22T07:13:42.111+0000</td><td>1606029222</td><td>Great hoaxes of today\n",
       "\n",
       "1) #Climatechange\n",
       "2) #COVID19 Pandemic\n",
       "3) #USElectionResults \n",
       "4) #Politicians represent the people.\n",
       "\n",
       "Did I forget anything?</td></tr><tr><td>8591015696</td><td>2020-11-22T07:35:59.648+0000</td><td>1606030559</td><td>Fact! #COVID19 #BidenHarris2020ToSaveAmerica #BidenPresident #harrisvotes #ElectionResults2020 #democracy #USElectionResults https://t.co/0i9ArwLEw7</td></tr><tr><td>8590989824</td><td>2020-11-22T07:09:31.030+0000</td><td>1606028971</td><td>#USElectionResults millions of #Americans still believe #Democrats rigged it. Thus confirming that #americanintelligence is certainly an oxymoron.</td></tr><tr><td>8590982568</td><td>2020-11-22T07:15:08.269+0000</td><td>1606029308</td><td>This could just be true! \n",
       "#USElections2020 #USElection2020 #USElectionResults #ConcedeTrump #TrumpVsBidenFight #TrumpvsBiden https://t.co/bN0O5KXFfp</td></tr><tr><td>8591082232</td><td>2020-11-22T08:20:47.440+0000</td><td>1606033247</td><td>This could just be true! \n",
       "#USElections2020 #USElection2020 #USElectionResults #ConcedeTrump #TrumpVsBidenFight #TrumpvsBiden https://t.co/bN0O5KXFfp</td></tr><tr><td>8591034056</td><td>2020-11-22T07:48:22.419+0000</td><td>1606031302</td><td>Deep state and the right wing theories in the #USElectionResults @Almezel, @gulf_news Editor at Large, looks at the issues\n",
       "https://t.co/eT0K2Bs1bU</td></tr><tr><td>8591063432</td><td>2020-11-22T07:58:42.841+0000</td><td>1606031922</td><td>Cybersecurity expert assures voters that election is \"most secure in history\".\n",
       "\n",
       "https://t.co/IZVeBsBSZX \n",
       "\n",
       "#cybersecurity #cyber #USElectionResults</td></tr><tr><td>8590983096</td><td>2020-11-22T07:04:59.813+0000</td><td>1606028699</td><td>Sherritt International Corp.’s top executive calls the result of the vote good news for his company. https://t.co/bcp00ZQ2hB #USElectionResults</td></tr><tr><td>8591080880</td><td>2020-11-22T08:10:38.871+0000</td><td>1606032638</td><td>Sherritt International Corp.’s top executive calls the result of the vote good news for his company. https://t.co/bcp00ZQ2hB #USElectionResults</td></tr><tr><td>8591051560</td><td>2020-11-22T08:00:29.208+0000</td><td>1606032029</td><td>Biden won Arizona and Trump still doesn't care. We are actually witnessing a coup ppl. In a modern day Western world... #Trump #USElectionResults</td></tr><tr><td>8591026840</td><td>2020-11-22T07:43:32.383+0000</td><td>1606031012</td><td>CNN, Fox News and Twitter who limited his ability to communicate with his die hard #USPresidentialElections2020 #USElectionResults #TrumpConcede</td></tr><tr><td>8591066864</td><td>2020-11-22T08:01:24.217+0000</td><td>1606032084</td><td>A shocking number of you think the definition of “cheating” is just “disagreeing with me” \n",
       "#Election2020results #USElectionResults #POTUS</td></tr><tr><td>8591015696</td><td>2020-11-22T07:26:11.917+0000</td><td>1606029971</td><td>Come forward #SkinnyJoeMerlino testify for the good of America. Our elections aren’t for sale. #USElectionResults @realDonaldTrump @JaySekulow</td></tr><tr><td>8590989000</td><td>2020-11-22T07:19:25.621+0000</td><td>1606029565</td><td>Hhaibo aren’t these ones supposed to be on war sabbatical pending #USElectionResults and swearing in of the 46th POTUS https://t.co/X6wUNNJ93G</td></tr><tr><td>8591048128</td><td>2020-11-22T07:58:16.493+0000</td><td>1606031896</td><td>#USElectionResults2020: #Biden takes #Arizona, but #Trump refuses to concede #USElectionResults #BidenPresident #Biden2020 https://t.co/le7eYjpPDX</td></tr><tr><td>8591022712</td><td>2020-11-22T07:40:31.010+0000</td><td>1606030831</td><td>It's simple mathematics: 306 is greater than 232. #Mathematics #USElectionResults #realDonaldTrump #BidenHarris2020 \n",
       "#democracy \n",
       "#WINNER \n",
       "#fired</td></tr><tr><td>8591042184</td><td>2020-11-22T07:54:15.209+0000</td><td>1606031655</td><td>The last time I checked, Trump said he won ALOT!! \n",
       "Historic 306. #Landslide @JoeBiden #USElectionResults #USElection2020 https://t.co/neHnfRQ6M3</td></tr><tr><td>8591042352</td><td>2020-11-22T07:43:37.381+0000</td><td>1606031017</td><td>Am not following this -  don't understand why they want to make it messy! #USElectionResults \n",
       "No interest in the matter https://t.co/woDnu3eumZ</td></tr><tr><td>8591088152</td><td>2020-11-22T08:24:44.806+0000</td><td>1606033484</td><td>The #USElectionResults have resulted in a strange outcome, with the Republicans winning even if @realDonaldTrump lost.\n",
       "\n",
       "https://t.co/zEdo5muqYm</td></tr><tr><td>8590988488</td><td>2020-11-22T07:19:05.619+0000</td><td>1606029545</td><td>The #USElectionResults have resulted in a strange outcome, with the Republicans winning even if @realDonaldTrump lost.\n",
       "\n",
       "https://t.co/zEdo5muqYm</td></tr><tr><td>8591005704</td><td>2020-11-22T07:20:00.607+0000</td><td>1606029600</td><td>I'm saving this tweets for January 20th.\n",
       "\n",
       "#USElections2020 #USElectionResults #BidenHarris2020 #TRUMP2020ToSaveTheWorld https://t.co/PRRoMWwdL8</td></tr><tr><td>8591017384</td><td>2020-11-22T07:27:21.921+0000</td><td>1606030041</td><td>To rebuild, look abroad https://t.co/CHTHa4jmkw  a very topical and relevant reflection of the current times @Farah_Pandith #USElectionResults</td></tr><tr><td>8591027088</td><td>2020-11-22T07:33:33.273+0000</td><td>1606030413</td><td>@htTweets @NitishKumar Trump fantasising in #USElectionResults his Country Cousin playing out in #BiharElectionResults https://t.co/0iHsn3V9Z2</td></tr><tr><td>8591035944</td><td>2020-11-22T07:39:36.020+0000</td><td>1606030776</td><td>Shouldn't this be called biden card now? Just saying... #USElectionResults #USAelection2020 @realDonaldTrump @JoeBiden https://t.co/NZSGjlBrYi</td></tr><tr><td>8590982608</td><td>2020-11-22T07:04:29.792+0000</td><td>1606028669</td><td>#USElectionResults - This was a moment - when one of Trump’s most influential boosters on Fox delivered the kiss off https://t.co/7ucBRdW867</td></tr><tr><td>8591080392</td><td>2020-11-22T08:10:08.868+0000</td><td>1606032608</td><td>#USElectionResults - This was a moment - when one of Trump’s most influential boosters on Fox delivered the kiss off https://t.co/7ucBRdW867</td></tr><tr><td>8591018160</td><td>2020-11-22T07:27:51.922+0000</td><td>1606030071</td><td>@RudyGiuliani I think it’s cute that #POTUS is saying he won coz he still gets to be #POTUS for 9 more weeks 😂😂😂 #USElectionResults</td></tr><tr><td>8591097960</td><td>2020-11-22T08:22:03.500+0000</td><td>1606033323</td><td>The #USElectionResults #USAelection2020 seems not to be over as more cases of voter fraud keep appearing, more drama incoming on this surely!!</td></tr><tr><td>8591015280</td><td>2020-11-22T07:25:51.925+0000</td><td>1606029951</td><td>More info...\n",
       "#news #Nevada #Nevada2020 \n",
       "#USA #USAElections2020 #USElectionResults #USElection2020 #USElections #USElection https://t.co/wZMtcQdDJN</td></tr><tr><td>8591029696</td><td>2020-11-22T07:35:14.652+0000</td><td>1606030514</td><td>1) The election is over.\n",
       "2) Biden won.\n",
       "3) My dog is adorable...\n",
       "\n",
       "#USElectionResults #USElection https://t.co/ydJvmREjF7 https://t.co/3xjHVVofLD</td></tr><tr><td>8591036272</td><td>2020-11-22T07:49:53.850+0000</td><td>1606031393</td><td>This idea that @JoeBiden is the nice guy. On top of being a demented plagiarist, I actually think he’s a bit of a prick. #USElectionResults</td></tr><tr><td>8591068624</td><td>2020-11-22T08:02:34.217+0000</td><td>1606032154</td><td>Governor Zullum to launch \"Borno's 25 year Development plan\" tomorrow.\n",
       "#EndSARS #ASUU #SecureNorth #USElectionResults https://t.co/7s4Z4cqThv</td></tr><tr><td>8591032424</td><td>2020-11-22T07:47:12.382+0000</td><td>1606031232</td><td>At White House.....\n",
       "To solve ⁦@realDonaldTrump⁩ and ⁦@JoeBiden⁩ dispute.\n",
       "\n",
       "#USAElections2020 #USElectionResults https://t.co/Si8FXvbXND</td></tr><tr><td>8591070264</td><td>2020-11-22T08:12:33.863+0000</td><td>1606032753</td><td>If #RudyGiuliani believes Hugo Chavez has been rigging #USElection\\#USElectionResults from beyond the grave. @realDonaldTrump can ask Herman Cain for help, as he's active after death. #Chavez & #Cain can carry the fight between socialism & capitalism beyond the grave.\n",
       "#r4today</td></tr><tr><td>8591070600</td><td>2020-11-22T08:12:43.865+0000</td><td>1606032763</td><td>What has happened to the @GOP participating in an attempt to undermines the democratic process in the US and diminish America’s standing in the world #USElectionResults https://t.co/TEQs12zzTV</td></tr><tr><td>8591054792</td><td>2020-11-22T08:02:39.225+0000</td><td>1606032159</td><td>@JoeBiden @DrBiden Make America(n presidents) Bearded Again #MABA #USElectionResults #PresidentElect #PresidentElectJoe https://t.co/L6CZf7uZDR</td></tr><tr><td>8590996304</td><td>2020-11-22T07:23:55.627+0000</td><td>1606029835</td><td>Back the new world order, non stop wars, green new deals, leftism mental illness pandemic! #USElectionResults #Reset https://t.co/Oepj2qCv1D</td></tr><tr><td>8591038808</td><td>2020-11-22T07:51:43.869+0000</td><td>1606031503</td><td>Surely at this stage, it’s quicker & cheaper for the US to redo the election🙄 #uselection #uselectionresults #wastingtime #wastingmoney</td></tr><tr><td>8591055984</td><td>2020-11-22T07:52:50.182+0000</td><td>1606031570</td><td>Republicans are NOT suing to win this election. They're suing to win the next election.\n",
       "\n",
       "#usavaalit #USElectionResults #trump #biden #Politics</td></tr><tr><td>8590989216</td><td>2020-11-22T07:08:59.823+0000</td><td>1606028939</td><td>Donald trupm during U.S election Result.\n",
       "\n",
       "#USElectionResults #USPresidentialElections2020 \n",
       "#JoeBidenKamalaHarris2020 https://t.co/msRxS5ddna</td></tr><tr><td>8591087000</td><td>2020-11-22T08:14:40.129+0000</td><td>1606032880</td><td>Donald trupm during U.S election Result.\n",
       "\n",
       "#USElectionResults #USPresidentialElections2020 \n",
       "#JoeBidenKamalaHarris2020 https://t.co/msRxS5ddna</td></tr><tr><td>8590978768</td><td>2020-11-22T07:12:16.054+0000</td><td>1606029136</td><td>THE HARE WON !!!\n",
       "\n",
       "#TrumpConcede #USElection #DumpTrump2020 #democracy2020 #TrumpTantrum #USElectionResults #BidenWon https://t.co/3FfiWIXzVS</td></tr><tr><td>8591078432</td><td>2020-11-22T08:17:55.123+0000</td><td>1606033075</td><td>THE HARE WON !!!\n",
       "\n",
       "#TrumpConcede #USElection #DumpTrump2020 #democracy2020 #TrumpTantrum #USElectionResults #BidenWon https://t.co/3FfiWIXzVS</td></tr><tr><td>8591025824</td><td>2020-11-22T07:42:41.014+0000</td><td>1606030961</td><td>@SecPompeo r u nuts. your boss @POTUS  is  the main destablizer of USA and the world . ask him to accept the #USElectionResults  @JoeBiden</td></tr><tr><td>8591048792</td><td>2020-11-22T07:58:47.853+0000</td><td>1606031927</td><td>What the hell is #EltonJohn doing getting involved in the #USElectionResults ? #USElection2020 #TrumpTantrum #Trump https://t.co/jWn1BG1jGN</td></tr><tr><td>8591044152</td><td>2020-11-22T07:55:35.205+0000</td><td>1606031735</td><td>Right now I'm thinking the whole #USElectionResults are going to be based on which side the military will be on. #coupdetat #DictatorTrump</td></tr><tr><td>8591023472</td><td>2020-11-22T07:31:13.251+0000</td><td>1606030273</td><td>#Obama warns of ‘dangerous path’ amid Trump’s refusal to accept #USElectionResults #Fascism #antidemocracy  https://t.co/1Wy3QmJiy8</td></tr><tr><td>8591003360</td><td>2020-11-22T07:18:30.468+0000</td><td>1606029510</td><td>@SkyNews Our current #radicalisation systems due for refurbishment #farright #USElection2020 #USElectionResults @SenKamalaHarris @JoeBiden</td></tr><tr><td>8591101144</td><td>2020-11-22T08:24:09.800+0000</td><td>1606033449</td><td>@SkyNews Our current #radicalisation systems due for refurbishment #farright #USElection2020 #USElectionResults @SenKamalaHarris @JoeBiden</td></tr><tr><td>8591067944</td><td>2020-11-22T08:02:04.226+0000</td><td>1606032124</td><td>Taking place since quite some time now.\n",
       "\n",
       "#BanDigitalElections #EVMPuppets #IllusionOfDemocracy #USElectionResults https://t.co/9cuTPDQpZW</td></tr><tr><td>8590982768</td><td>2020-11-22T07:15:18.285+0000</td><td>1606029318</td><td>How Trump Lost The Election...\n",
       "#USPresidentialElections2020 #USElectionResults #TrumpvsBiden #Trump lost to #Biden \n",
       "https://t.co/LnO9F6kXSW</td></tr><tr><td>8591082432</td><td>2020-11-22T08:20:57.441+0000</td><td>1606033257</td><td>How Trump Lost The Election...\n",
       "#USPresidentialElections2020 #USElectionResults #TrumpvsBiden #Trump lost to #Biden \n",
       "https://t.co/LnO9F6kXSW</td></tr><tr><td>8591025504</td><td>2020-11-22T07:42:21.012+0000</td><td>1606030941</td><td>Something you many not have noticed during #TrumpPressConference yesterday......Watch closely! #USElectionResults https://t.co/k0aY8YpFY6</td></tr><tr><td>8591018512</td><td>2020-11-22T07:28:11.939+0000</td><td>1606030091</td><td>@GaSecofState may have something to hide 🤔#USelections2020 #USAElections2020 #USElectionResults #USAelection2020 https://t.co/ymwWnJZHYK</td></tr><tr><td>8590994344</td><td>2020-11-22T07:22:45.614+0000</td><td>1606029765</td><td>https://t.co/bfquM9dLT7\n",
       "#Texas #USElections #USElectionResults 🤔 #USAElections2020 \n",
       "This news was 🤐 on FB!\n",
       "👇🇺🇲🙏🏻🗳</td></tr><tr><td>8591026352</td><td>2020-11-22T07:43:12.379+0000</td><td>1606030992</td><td>The Eviction Of Donald Trump....https://t.co/PzBraq0uFs\n",
       "\n",
       "#elections #USElectionResults #BidenHarris2020 #Trump2020 https://t.co/T7XuGELdUg</td></tr><tr><td>8590963272</td><td>2020-11-22T07:01:53.482+0000</td><td>1606028513</td><td>Trump suffers double blow in bid to overturn #USelectionresults  https://t.co/XuEAyvIfvS \n",
       "#BidenHarris2020 \n",
       "#BidenHarris #BidenPresident</td></tr><tr><td>8591062936</td><td>2020-11-22T08:07:32.599+0000</td><td>1606032452</td><td>Trump suffers double blow in bid to overturn #USelectionresults  https://t.co/XuEAyvIfvS \n",
       "#BidenHarris2020 \n",
       "#BidenHarris #BidenPresident</td></tr><tr><td>8590977960</td><td>2020-11-22T07:01:18.484+0000</td><td>1606028478</td><td>Donald Trump is the Deontay Wilder of US Politics! #USAElections2020 #USElectionResults #USElection #weakexcuses https://t.co/55y0Al9ixd</td></tr><tr><td>8591075744</td><td>2020-11-22T08:06:57.606+0000</td><td>1606032417</td><td>Donald Trump is the Deontay Wilder of US Politics! #USAElections2020 #USElectionResults #USElection #weakexcuses https://t.co/55y0Al9ixd</td></tr><tr><td>8590991656</td><td>2020-11-22T07:21:15.615+0000</td><td>1606029675</td><td>How I'm viewing the US election result #USElectionResults #USElection #USElections2020 #TrumpvsBiden #TrumpConcede https://t.co/ZjUpSxkecg</td></tr><tr><td>8591007408</td><td>2020-11-22T07:30:38.262+0000</td><td>1606030238</td><td>mentalities  difference .... \n",
       "@realDonaldTrump @JoeBiden \n",
       "#USElectionResults #USPresidentialElections2020 \n",
       "#USA https://t.co/6Ut35Ty6wJ</td></tr><tr><td>8591081752</td><td>2020-11-22T08:20:27.439+0000</td><td>1606033227</td><td>Trump fires election security official who contradicted him\n",
       "\n",
       "#218newsenglish \n",
       "#USElectionResults \n",
       "#USA \n",
       "#libya https://t.co/TQAei0pZLz</td></tr><tr><td>8590982088</td><td>2020-11-22T07:14:48.282+0000</td><td>1606029288</td><td>Trump fires election security official who contradicted him\n",
       "\n",
       "#218newsenglish \n",
       "#USElectionResults \n",
       "#USA \n",
       "#libya https://t.co/TQAei0pZLz</td></tr><tr><td>8591071568</td><td>2020-11-22T08:04:37.599+0000</td><td>1606032277</td><td>In Nevada, it seems the Biden team played Tamilnadu election trick! 😂\n",
       "\n",
       "#USAElections2020 #USElectionResults https://t.co/blAbldO2aB</td></tr><tr><td>8591083088</td><td>2020-11-22T08:21:28.491+0000</td><td>1606033288</td><td>Operation get trump baby to the white house, its never seemed more fitting. #USElectionResults #TrumpMeltdown https://t.co/8QIJ84ucqs</td></tr><tr><td>8590983424</td><td>2020-11-22T07:15:49.308+0000</td><td>1606029349</td><td>Operation get trump baby to the white house, its never seemed more fitting. #USElectionResults #TrumpMeltdown https://t.co/8QIJ84ucqs</td></tr><tr><td>8591066072</td><td>2020-11-22T08:00:44.229+0000</td><td>1606032044</td><td>Joe Biden wins Arizona. Now 290 Electoral Votes But Does It Matter? https://t.co/nDQTzljOeX via @BBCNews #USElectionResults #JoeBiden</td></tr><tr><td>8591089376</td><td>2020-11-22T08:16:20.135+0000</td><td>1606032980</td><td>Trump was RIGHT !\n",
       "\n",
       "Dems did FRAUD in #USElectionResults \n",
       "\n",
       "#Trump2020 #TrumpLandside #JoeBidenUkraineScandal \n",
       "\n",
       "https://t.co/yMFowAMHB4</td></tr><tr><td>8590991592</td><td>2020-11-22T07:10:41.036+0000</td><td>1606029041</td><td>Trump was RIGHT !\n",
       "\n",
       "Dems did FRAUD in #USElectionResults \n",
       "\n",
       "#Trump2020 #TrumpLandside #JoeBidenUkraineScandal \n",
       "\n",
       "https://t.co/yMFowAMHB4</td></tr><tr><td>8590963976</td><td>2020-11-22T07:02:23.500+0000</td><td>1606028543</td><td>Georgia certifies election results, makes Biden's win official\n",
       "\n",
       "Read: https://t.co/RQlzppKKm8\n",
       "\n",
       "#JoeBiden #GEORIGA #USElectionResults</td></tr><tr><td>8591063640</td><td>2020-11-22T08:08:02.616+0000</td><td>1606032482</td><td>Georgia certifies election results, makes Biden's win official\n",
       "\n",
       "Read: https://t.co/RQlzppKKm8\n",
       "\n",
       "#JoeBiden #GEORIGA #USElectionResults</td></tr><tr><td>8591041336</td><td>2020-11-22T07:53:35.189+0000</td><td>1606031615</td><td>#USElectionResults After every state has been called by the US networks, Joe Biden has won the US election with 306 electoral votes.</td></tr><tr><td>8591043616</td><td>2020-11-22T07:55:15.200+0000</td><td>1606031715</td><td>My #USElectionResults projections were @JoeBiden to get more than 307 electoral college votes. \n",
       "I may still be right. Hang on there.</td></tr><tr><td>8591073120</td><td>2020-11-22T08:14:25.136+0000</td><td>1606032865</td><td>Twitter need to remove their fraud tag looking stupider by the minute \n",
       "#BidenHarris2020 #USElectionResults  https://t.co/ukk98iOzZF</td></tr><tr><td>8590973456</td><td>2020-11-22T07:08:44.832+0000</td><td>1606028924</td><td>Twitter need to remove their fraud tag looking stupider by the minute \n",
       "#BidenHarris2020 #USElectionResults  https://t.co/ukk98iOzZF</td></tr><tr><td>8590987600</td><td>2020-11-22T07:07:49.813+0000</td><td>1606028869</td><td>Hey America,  remember when @BarackObama wore a tan suit?\n",
       "🤣🤣🤣🤣🤣🤣🤣🤣🤣\n",
       "\n",
       "#USElectionResults \n",
       "#USPolitics \n",
       "#USA</td></tr><tr><td>8591085384</td><td>2020-11-22T08:13:28.890+0000</td><td>1606032808</td><td>Hey America,  remember when @BarackObama wore a tan suit?\n",
       "🤣🤣🤣🤣🤣🤣🤣🤣🤣\n",
       "\n",
       "#USElectionResults \n",
       "#USPolitics \n",
       "#USA</td></tr><tr><td>8591054592</td><td>2020-11-22T07:51:50.188+0000</td><td>1606031510</td><td>@JoeBiden #PresidentElect @JoeBiden being very #Presidential ever since #USElectionResults 🇺🇸😉👍 https://t.co/QpzEMv0vpk</td></tr><tr><td>8591031936</td><td>2020-11-22T07:46:52.378+0000</td><td>1606031212</td><td>Trump might soon resign, and VP Mike Pence will pardon him \n",
       "\n",
       "https://t.co/gHiHhGzkFo #posttrump #USElectionResults #TrumpMeltdown</td></tr><tr><td>8590986528</td><td>2020-11-22T07:07:09.818+0000</td><td>1606028829</td><td>#USElection2020 #USElectionResults: Georgia Confirms Biden Victory, Finds No Widespread Fraud After Audit\n",
       "https://t.co/w4rm8fTB82</td></tr><tr><td>8591021664</td><td>2020-11-22T07:39:51.005+0000</td><td>1606030791</td><td>#USElections2020 & #Algorithms & #USElectionResults \n",
       "What's wrong with \"democratic\" election rules... ??\n",
       "\n",
       "https://t.co/KJzkGsnF4P</td></tr><tr><td>8591036632</td><td>2020-11-22T07:50:13.850+0000</td><td>1606031413</td><td>We need more leaders like Ronald Reagan! Try to unite, not divide! #us #USElectionResults #USAelection2020 #usa #GodBlessAmerica</td></tr><tr><td>8591016232</td><td>2020-11-22T07:36:19.651+0000</td><td>1606030579</td><td>جدع 👌 Exactly he  shouldn't be greedy\n",
       "#USElectionResults #BidenHarris2020 #Biden #BidenHarris #USA https://t.co/yeyspZC2CS</td></tr><tr><td>8591057136</td><td>2020-11-22T07:53:40.188+0000</td><td>1606031620</td><td>Trump is literally Hitler. #journalism #media #trump #biden #usavaalit #USElectionResults #CNNImparcial https://t.co/ITsWCr6Oc6</td></tr><tr><td>8591033152</td><td>2020-11-22T07:47:42.406+0000</td><td>1606031262</td><td>In 1 week Biden supporters have become more toxic than Trump supporters ever were. \n",
       "\n",
       "What a world honestly.\n",
       "\n",
       "#USElectionResults</td></tr><tr><td>8591024584</td><td>2020-11-22T07:41:41.006+0000</td><td>1606030901</td><td>This is lovely; sums up how a lot of us dealt with #USElectionResults #USElections2020 🇺🇲🇮🇪 https://t.co/hdQ56t96sT</td></tr><tr><td>8591092264</td><td>2020-11-22T08:18:21.243+0000</td><td>1606033101</td><td>@realDonaldTrump with all the tweeting going on, one would think you don't have a day job #USAElections2020 #USElectionResults</td></tr><tr><td>8590994480</td><td>2020-11-22T07:12:42.117+0000</td><td>1606029162</td><td>@realDonaldTrump with all the tweeting going on, one would think you don't have a day job #USAElections2020 #USElectionResults</td></tr><tr><td>8591028472</td><td>2020-11-22T07:44:32.382+0000</td><td>1606031072</td><td>Homeland Security: “the most secure (election) in American history”. That is most certainly that then. #USElectionResults</td></tr><tr><td>8591066688</td><td>2020-11-22T08:01:14.232+0000</td><td>1606032074</td><td>What a mess...\n",
       "#TrumpConcede #BidenTransition #USElectionResults #AmericaDecides #ByeByeTrump #Harris https://t.co/mLGQCrMDwD</td></tr><tr><td>8591070272</td><td>2020-11-22T08:03:36.354+0000</td><td>1606032216</td><td>In late breaking news @realDonaldTrump has asked if David Coote is available to adjudicate in the #USElectionResults #MANUWBA</td></tr><tr><td>8591063776</td><td>2020-11-22T07:59:02.845+0000</td><td>1606031942</td><td>I think @realDonaldTrump is planning to strike #iran as his last act to put @JoeBiden under more pressure \n",
       "#USElectionResults</td></tr><tr><td>8591025544</td><td>2020-11-22T07:32:33.249+0000</td><td>1606030353</td><td>Why postal voting is a recipe - no, an invitation - for fraud. \n",
       "#USElectionResults #USElections2020  https://t.co/eFEeQNZPFv</td></tr><tr><td>8591003056</td><td>2020-11-22T07:27:56.931+0000</td><td>1606030076</td><td>How #Mexican #American feel about #socialism #Communism \n",
       "https://t.co/8gMAQEkdpx \n",
       "#USElections2020 #USElectionResults #手足</td></tr><tr><td>8591056432</td><td>2020-11-22T07:53:10.183+0000</td><td>1606031590</td><td>That's some ass whooping win by @JoeBiden #JOEBIDEN2020 #JoeBidenKamalaHarris2020 #USElectionResults https://t.co/lzipdAynih</td></tr><tr><td>8591042008</td><td>2020-11-22T07:54:05.193+0000</td><td>1606031645</td><td>With final races called, Biden ends with 306 Electoral College votes, Trump 232 \n",
       "#USElectionResults \n",
       "https://t.co/X7cJBubpQW</td></tr><tr><td>8591059240</td><td>2020-11-22T07:55:41.495+0000</td><td>1606031741</td><td>It’s seems this is the last election results .. #Election2020 #USElectionResults #TrumpVsBidenFight https://t.co/WxHWih0Idt</td></tr><tr><td>8590994072</td><td>2020-11-22T07:12:21.046+0000</td><td>1606029141</td><td>THE GERMANS WON WW2!!!!\n",
       "\n",
       "#TrumpConcede #USElection #DumpTrump2020 #democracy2020 #TrumpTantrum #USElectionResults #BidenWon</td></tr><tr><td>8591075928</td><td>2020-11-22T08:07:07.593+0000</td><td>1606032427</td><td>Trump options narrow as Michigan backs Biden win\n",
       "\n",
       "#218newsenglish \n",
       "#USElectionResults \n",
       "#USA \n",
       "#Libya https://t.co/eyhUbQIwb2</td></tr><tr><td>8591091856</td><td>2020-11-22T08:18:00.130+0000</td><td>1606033080</td><td>THE GERMANS WON WW2!!!!\n",
       "\n",
       "#TrumpConcede #USElection #DumpTrump2020 #democracy2020 #TrumpTantrum #USElectionResults #BidenWon</td></tr><tr><td>8591062760</td><td>2020-11-22T08:07:22.612+0000</td><td>1606032442</td><td>Georgia Governor Calls for Audit of Signatures on Ballot Envelopes\n",
       "\n",
       "https://t.co/h2IbmAaqq0 #GeorgiaGate #USElectionResults</td></tr><tr><td>8590978144</td><td>2020-11-22T07:01:28.489+0000</td><td>1606028488</td><td>Trump options narrow as Michigan backs Biden win\n",
       "\n",
       "#218newsenglish \n",
       "#USElectionResults \n",
       "#USA \n",
       "#Libya https://t.co/eyhUbQIwb2</td></tr><tr><td>8590963096</td><td>2020-11-22T07:01:43.482+0000</td><td>1606028503</td><td>Georgia Governor Calls for Audit of Signatures on Ballot Envelopes\n",
       "\n",
       "https://t.co/h2IbmAaqq0 #GeorgiaGate #USElectionResults</td></tr><tr><td>8591065264</td><td>2020-11-22T08:00:02.851+0000</td><td>1606032002</td><td>Should the unthinkable happen, how long do you think @TheDemocrats call for unity and healing will last? #USElectionResults</td></tr><tr><td>8591085888</td><td>2020-11-22T08:13:48.876+0000</td><td>1606032828</td><td>So it’s 306 to Joe Biden. \n",
       "\n",
       "232 to Donald Trump. \n",
       "\n",
       "Is that the same margin by which Trump won in 2016? #USElectionResults</td></tr><tr><td>8590988104</td><td>2020-11-22T07:08:09.830+0000</td><td>1606028889</td><td>So it’s 306 to Joe Biden. \n",
       "\n",
       "232 to Donald Trump. \n",
       "\n",
       "Is that the same margin by which Trump won in 2016? #USElectionResults</td></tr><tr><td>8591006712</td><td>2020-11-22T07:30:06.930+0000</td><td>1606030206</td><td>On #populism with @seylabenhabib  @spyrosasofos @Rethinkingpopu1 @openDemocracy #USElectionResults https://t.co/Q4hmtR0mui</td></tr><tr><td>8590967592</td><td>2020-11-22T07:04:44.797+0000</td><td>1606028684</td><td>This shows how valid the rest of their arguments are LOL\n",
       "#USElectionResults2020 #USElectionResults https://t.co/c0OAs9xQ8M</td></tr><tr><td>8591017208</td><td>2020-11-22T07:27:11.951+0000</td><td>1606030031</td><td>#Trump national security adviser O'Brien says looks now that #Biden has won.\n",
       "#USElectionResults \n",
       "\n",
       " https://t.co/04Vay3nkUG</td></tr><tr><td>8591010152</td><td>2020-11-22T07:32:38.256+0000</td><td>1606030358</td><td>America should invade America to bring American values and democracy 😂 \n",
       "\n",
       "#USElectionResults #USA #TrumpConcede #Election</td></tr><tr><td>8591067256</td><td>2020-11-22T08:10:23.870+0000</td><td>1606032623</td><td>This shows how valid the rest of their arguments are LOL\n",
       "#USElectionResults2020 #USElectionResults https://t.co/c0OAs9xQ8M</td></tr><tr><td>8590979472</td><td>2020-11-22T07:02:18.512+0000</td><td>1606028538</td><td>#USElectionResults @SpeakerPelosi can't you just get him gone before someone gets seriously hurt? https://t.co/liLBkt7RaC</td></tr><tr><td>8591077256</td><td>2020-11-22T08:07:57.602+0000</td><td>1606032477</td><td>#USElectionResults @SpeakerPelosi can't you just get him gone before someone gets seriously hurt? https://t.co/liLBkt7RaC</td></tr><tr><td>8591061488</td><td>2020-11-22T07:57:21.489+0000</td><td>1606031841</td><td>China congratulates Biden https://t.co/C0IzcOcUIp @chinamcclain #Ghana #China #USElectionResults #business #norvanreports</td></tr><tr><td>8591062304</td><td>2020-11-22T08:07:02.595+0000</td><td>1606032422</td><td>Trump options narrow as Michigan backs Biden win\n",
       "\n",
       "#Michigan #Trump #election #USElectionResults \n",
       "\n",
       "https://t.co/RWhadOKl57</td></tr><tr><td>8590962640</td><td>2020-11-22T07:01:23.492+0000</td><td>1606028483</td><td>Trump options narrow as Michigan backs Biden win\n",
       "\n",
       "#Michigan #Trump #election #USElectionResults \n",
       "\n",
       "https://t.co/RWhadOKl57</td></tr><tr><td>8591007592</td><td>2020-11-22T07:30:48.263+0000</td><td>1606030248</td><td>I am ignorant of #USA politics but what is the fuss about your #USElectionResults?  Only real knowlegable people please!</td></tr><tr><td>8591049032</td><td>2020-11-22T07:48:07.413+0000</td><td>1606031287</td><td>@realDonaldTrump Nope. Can't find that in the constitution! #USAElections2020 #USElectionResults https://t.co/5p223oZuak</td></tr><tr><td>8591039320</td><td>2020-11-22T07:52:05.185+0000</td><td>1606031525</td><td>This was the moment I began to believe. Went on Paddy Power to see Biden 4/1! #USElectionResults https://t.co/nzlj60cfDN</td></tr><tr><td>8590977712</td><td>2020-11-22T07:11:36.035+0000</td><td>1606029096</td><td>Absolutely. No point counting dodgy votes second time round. #USElectionResults #USElection2020 https://t.co/k0HFX7o20k</td></tr><tr><td>8591077376</td><td>2020-11-22T08:17:15.151+0000</td><td>1606033035</td><td>Absolutely. No point counting dodgy votes second time round. #USElectionResults #USElection2020 https://t.co/k0HFX7o20k</td></tr><tr><td>8591040248</td><td>2020-11-22T07:52:45.181+0000</td><td>1606031565</td><td>Can Mitch McConnell be tried for being a co-conspirator in an attempted fascist coup? #MitchMcConnell #USElectionResults</td></tr><tr><td>8591053280</td><td>2020-11-22T08:01:29.230+0000</td><td>1606032089</td><td>#China congratulates Joe Biden for winning #US election https://t.co/gJ6gm6OYdN via @financialtimes #USElectionResults</td></tr><tr><td>8590972480</td><td>2020-11-22T07:08:04.820+0000</td><td>1606028884</td><td>It seems that both @JennaEllisEsq and the #USElectionResults should be immediately certified. https://t.co/8gowbv512V</td></tr><tr><td>8591020632</td><td>2020-11-22T07:29:21.943+0000</td><td>1606030161</td><td>Even the Twitter fact checker has had enough #DonaldTrump #USElectionResults #USAelection2020 https://t.co/4fKYkfwzHi</td></tr><tr><td>8591072144</td><td>2020-11-22T08:13:43.864+0000</td><td>1606032823</td><td>It seems that both @JennaEllisEsq and the #USElectionResults should be immediately certified. https://t.co/8gowbv512V</td></tr><tr><td>8591079976</td><td>2020-11-22T08:19:06.260+0000</td><td>1606033146</td><td>@bbcnews why are you allowing unfounded unsubstantiated allegations about voter fraud to be aired. #USElectionResults</td></tr><tr><td>8590995304</td><td>2020-11-22T07:13:12.107+0000</td><td>1606029192</td><td>Clearly #Newsnight is doing a mental health item as it covers #Trump supporters refusal to accept #USElectionResults.</td></tr><tr><td>8590980312</td><td>2020-11-22T07:13:27.110+0000</td><td>1606029207</td><td>@bbcnews why are you allowing unfounded unsubstantiated allegations about voter fraud to be aired. #USElectionResults</td></tr><tr><td>8591093088</td><td>2020-11-22T08:18:51.248+0000</td><td>1606033131</td><td>Clearly #Newsnight is doing a mental health item as it covers #Trump supporters refusal to accept #USElectionResults.</td></tr><tr><td>8591045784</td><td>2020-11-22T07:45:47.378+0000</td><td>1606031147</td><td>With you from 1900GMT @BBCWorld @BBCNews #Ethiopia #Tigray #Trump #USElectionResults #Diwali and more. See you then!</td></tr><tr><td>8591036464</td><td>2020-11-22T07:50:03.849+0000</td><td>1606031403</td><td>Donald Trump finally breaks his silence on his election loss #DonaldTrump #USElectionResults https://t.co/xmFWxnTtZ8</td></tr><tr><td>8591039744</td><td>2020-11-22T07:52:25.188+0000</td><td>1606031545</td><td>@susanamet Hardly what he needs to speak about, given it's his first speech since the election!\n",
       "#USElectionResults</td></tr><tr><td>8590993056</td><td>2020-11-22T07:21:55.620+0000</td><td>1606029715</td><td>You can tell The Democrats are in big trouble because every single news feed says they’re not #USElectionResults</td></tr><tr><td>8591079440</td><td>2020-11-22T08:09:18.865+0000</td><td>1606032558</td><td>😂😂 #FourSeasons Total Landscaping Local Ad https://t.co/149CwFOfWv via @YouTube That guy! #USElectionResults</td></tr><tr><td>8591024080</td><td>2020-11-22T07:41:21.018+0000</td><td>1606030881</td><td>@mike_wanaoni Josh Shapiro is a well known Trump-hater, don't think he would confess voterfraud.#USElectionResults</td></tr><tr><td>8590991264</td><td>2020-11-22T07:20:55.630+0000</td><td>1606029655</td><td>We know we mishandled NY Post story  - Dorsey\n",
       "\n",
       "#Twitter #USElectionResults #senatehearing \n",
       "https://t.co/zeLMnVx0br</td></tr><tr><td>8590981656</td><td>2020-11-22T07:03:39.800+0000</td><td>1606028619</td><td>😂😂 #FourSeasons Total Landscaping Local Ad https://t.co/149CwFOfWv via @YouTube That guy! #USElectionResults</td></tr><tr><td>8591060848</td><td>2020-11-22T07:56:51.486+0000</td><td>1606031811</td><td>Pennsylvania won't order recount of votes from election \n",
       "\n",
       "#Pennsylvania #USElectionResults \n",
       "https://t.co/ZTQMb5b0OJ</td></tr><tr><td>8591034712</td><td>2020-11-22T07:48:53.828+0000</td><td>1606031333</td><td>#USElectionResults why am I feeling like Americans just made the same mistake Nigeria made in 2015? Just a feeling</td></tr><tr><td>8591090184</td><td>2020-11-22T08:16:50.121+0000</td><td>1606033010</td><td>@DavidBegnaud When will fists fly in Capitol Hill? Everything else is happening in the #USElectionResults #uspoli</td></tr><tr><td>8590992400</td><td>2020-11-22T07:11:11.025+0000</td><td>1606029071</td><td>@DavidBegnaud When will fists fly in Capitol Hill? Everything else is happening in the #USElectionResults #uspoli</td></tr><tr><td>8591047864</td><td>2020-11-22T07:47:17.391+0000</td><td>1606031237</td><td>When lies start drowning in facts & reality, watch the panic starting. #USElectionResults https://t.co/VKGwgvjwph</td></tr><tr><td>8591053536</td><td>2020-11-22T07:50:58.833+0000</td><td>1606031458</td><td>#SCOTUS cases pending\n",
       "related to #USElectionResults \n",
       "\n",
       "where the law goes one\n",
       "it goes all. https://t.co/ytzzkzyizq</td></tr><tr><td>8591002496</td><td>2020-11-22T07:27:26.929+0000</td><td>1606030046</td><td>Word of the year? #DonaldTrump #DonaldTrumpIsOverParty #USElectionResults #USAelection2020 https://t.co/CqbQY2WnLi</td></tr><tr><td>8591029488</td><td>2020-11-22T07:45:12.385+0000</td><td>1606031112</td><td>The propaganda of CNN and Fox News is alarming.\n",
       "\n",
       "#USElectionResults \n",
       "#trumppence\n",
       "#trump2ndterm\n",
       "#SpiritualWarfare</td></tr><tr><td>8591008280</td><td>2020-11-22T07:21:30.607+0000</td><td>1606029690</td><td>It take two to make things go right... #tuesdayvibe #JumiaToTheRescue #USElectionResults https://t.co/ePOFrJrU9m</td></tr><tr><td>8591031528</td><td>2020-11-22T07:36:34.631+0000</td><td>1606030594</td><td>Audit and recount #USElectionResults simple.then the results are indisputable \n",
       "Why wouldn’t any one want that?</td></tr><tr><td>8591045296</td><td>2020-11-22T07:56:36.478+0000</td><td>1606031796</td><td>Trump's big post-election court 'win' @realDonaldTrump #USElectionResults #USElection2020 https://t.co/FL1U60ckHL</td></tr><tr><td>8591018704</td><td>2020-11-22T07:28:21.939+0000</td><td>1606030101</td><td>Will #Biden Lead To More Or Less Volatility In Oil Markets? \n",
       "\n",
       "#oott #USElectionResults \n",
       "https://t.co/6fnWdk2CFl</td></tr><tr><td>8591069376</td><td>2020-11-22T08:11:53.858+0000</td><td>1606032713</td><td>Finally the  real power behind the throne makes its position clear. #uselectionresults  https://t.co/DuO5AetC3X</td></tr><tr><td>8590969712</td><td>2020-11-22T07:06:14.825+0000</td><td>1606028774</td><td>Finally the  real power behind the throne makes its position clear. #uselectionresults  https://t.co/DuO5AetC3X</td></tr><tr><td>8591054136</td><td>2020-11-22T08:02:09.219+0000</td><td>1606032129</td><td>If the Democrats are so sure they won fair and square why are they trying to stop a recount? #USElectionResults</td></tr><tr><td>8591068200</td><td>2020-11-22T08:11:03.865+0000</td><td>1606032663</td><td>Can @realDonaldTrump  override the #popularvote?\n",
       "#USAElections2020 #USElectionResults \n",
       " https://t.co/0fZjqDehYs</td></tr><tr><td>8590968536</td><td>2020-11-22T07:05:24.835+0000</td><td>1606028724</td><td>Can @realDonaldTrump  override the #popularvote?\n",
       "#USAElections2020 #USElectionResults \n",
       " https://t.co/0fZjqDehYs</td></tr><tr><td>8590979312</td><td>2020-11-22T07:12:47.122+0000</td><td>1606029167</td><td>This is the best synopsis of the #USElection2020. \n",
       "\n",
       "#USAElections2020 #USElectionResults https://t.co/4KCj2NHbdy</td></tr><tr><td>8591078976</td><td>2020-11-22T08:18:26.235+0000</td><td>1606033106</td><td>This is the best synopsis of the #USElection2020. \n",
       "\n",
       "#USAElections2020 #USElectionResults https://t.co/4KCj2NHbdy</td></tr><tr><td>8591011472</td><td>2020-11-22T07:23:30.634+0000</td><td>1606029810</td><td>#Biden to Announce White House Team Shortly 🇺🇸🗳\n",
       "\n",
       "#SEENews #USElectionResults\n",
       "https://t.co/xriNOdKTis</td></tr><tr><td>8591017048</td><td>2020-11-22T07:27:01.947+0000</td><td>1606030021</td><td>And they invented a color darker than black.\n",
       "\n",
       "#USElectionResults #Trump #TrumpvsBiden https://t.co/hhepIutDH9</td></tr><tr><td>8591018352</td><td>2020-11-22T07:28:01.938+0000</td><td>1606030081</td><td>Time to get the 🍿 out because this is going to be hilarious. \n",
       "\n",
       "#USElectionResults\n",
       " https://t.co/Hk9VwQ9vgt</td></tr><tr><td>8591037360</td><td>2020-11-22T07:50:43.842+0000</td><td>1606031443</td><td>Donald Trump continues to insist the US election was ‘rigged’,https://t.co/g7pwJf9PK0\n",
       "#USElectionResults</td></tr><tr><td>8590994528</td><td>2020-11-22T07:22:55.614+0000</td><td>1606029775</td><td>How it started                      How it’s going\n",
       "#USElectionResults #USElection2020 https://t.co/2qO6W70Dmc</td></tr><tr><td>8591093408</td><td>2020-11-22T08:19:11.252+0000</td><td>1606033151</td><td>These folks are going NUTS.\n",
       "https://t.co/ZD27K7mHc2 #USElectionResults2020 #USElectionResults #FoxNews #MSNBC</td></tr><tr><td>8590995624</td><td>2020-11-22T07:13:32.110+0000</td><td>1606029212</td><td>These folks are going NUTS.\n",
       "https://t.co/ZD27K7mHc2 #USElectionResults2020 #USElectionResults #FoxNews #MSNBC</td></tr><tr><td>8591027832</td><td>2020-11-22T07:34:04.639+0000</td><td>1606030444</td><td>Wow, there’s even a @jonathanvswan meme now #Election2020  #USElectionResults 😂 https://t.co/WvJC6BDErH</td></tr><tr><td>8591053944</td><td>2020-11-22T07:51:18.838+0000</td><td>1606031478</td><td>#DonaldTrump Hints He May Accept Defeat By #JoeBiden #kalingatv #USElectionResults \n",
       "https://t.co/hU4F9KVIZi</td></tr><tr><td>8591075424</td><td>2020-11-22T08:15:55.135+0000</td><td>1606032955</td><td>Caption please #Election2020 #USAElections2020 #USElectionResults #DonaldTrump #Obama https://t.co/hJxbzxYl4J</td></tr><tr><td>8590975760</td><td>2020-11-22T07:10:16.034+0000</td><td>1606029016</td><td>Caption please #Election2020 #USAElections2020 #USElectionResults #DonaldTrump #Obama https://t.co/hJxbzxYl4J</td></tr><tr><td>8590993224</td><td>2020-11-22T07:22:05.621+0000</td><td>1606029725</td><td>Guess we'll file this in the 'Make America Great Again' folder.\n",
       "\n",
       "#USElectionResults https://t.co/FhpaPPApfq</td></tr><tr><td>8591053376</td><td>2020-11-22T07:50:48.848+0000</td><td>1606031448</td><td>.@realDonaldTrump is America’s most vexatious litigant. #USElectionResults #Trump https://t.co/C6pI2RRZV9</td></tr><tr><td>8591047184</td><td>2020-11-22T07:46:47.375+0000</td><td>1606031207</td><td>I might start a new career as clairvoyant. #prediction #USElectionResults @JoeBiden https://t.co/pWJYEzXSla</td></tr><tr><td>8591035520</td><td>2020-11-22T07:49:23.833+0000</td><td>1606031363</td><td>Dear America, I hope this helps #TrumpCollapse #USAelection2020 #USElectionResults https://t.co/9vfW8RoukB</td></tr><tr><td>8591044656</td><td>2020-11-22T07:56:06.477+0000</td><td>1606031766</td><td>JUST IN: NBC News and CNN project that Donald Trump has won the state of North Carolina\n",
       "#USElectionResults</td></tr><tr><td>8591007120</td><td>2020-11-22T07:20:50.600+0000</td><td>1606029650</td><td>#Republicans repeal section 230 now or surrender your testicles to the Joe and the Hoe.\n",
       "#USElectionResults</td></tr><tr><td>8591034552</td><td>2020-11-22T07:48:43.811+0000</td><td>1606031323</td><td>A reminder .... #DonaldTrump #USAElections2020 #USElectionResults #USAelection2020 https://t.co/OpoHEEuHln</td></tr><tr><td>8590969552</td><td>2020-11-22T07:06:04.807+0000</td><td>1606028764</td><td>They only two things we need to know right now #USElectionResults #USAelection2020 https://t.co/luRiD5Kh38</td></tr><tr><td>8591069216</td><td>2020-11-22T08:11:43.872+0000</td><td>1606032703</td><td>They only two things we need to know right now #USElectionResults #USAelection2020 https://t.co/luRiD5Kh38</td></tr><tr><td>8591021512</td><td>2020-11-22T07:39:41.018+0000</td><td>1606030781</td><td>Hey, Siri! Who is the president of the United States? \n",
       "\n",
       "#Elecciones2020 #USElectionResults  #TrumpvsBiden</td></tr><tr><td>8591091032</td><td>2020-11-22T08:17:20.140+0000</td><td>1606033040</td><td>BREAKING : Trump concedes 👇 #USAElections2020 #BREAKING #USElectionResults 😃 https://t.co/E6Dkpp02V4</td></tr><tr><td>8590993248</td><td>2020-11-22T07:11:41.028+0000</td><td>1606029101</td><td>BREAKING : Trump concedes 👇 #USAElections2020 #BREAKING #USElectionResults 😃 https://t.co/E6Dkpp02V4</td></tr><tr><td>8591044344</td><td>2020-11-22T07:55:46.487+0000</td><td>1606031746</td><td>CALLED IT🔮 \n",
       "\n",
       "#USElectionResults #JoeBiden #Election2020 https://t.co/h7Hbm1EUXg https://t.co/Mvc5l7Ut6f</td></tr><tr><td>8590982800</td><td>2020-11-22T07:04:39.793+0000</td><td>1606028679</td><td>I’m quite enjoying the recounts. We all get to relive Biden winning again and again #USElectionResults</td></tr><tr><td>8590995472</td><td>2020-11-22T07:13:22.107+0000</td><td>1606029202</td><td>@AriBerman @tonymascopone #WayneCounty has certified the #USElectionResults now. https://t.co/ETkCdG8V5q</td></tr><tr><td>8591093256</td><td>2020-11-22T08:19:01.282+0000</td><td>1606033141</td><td>@AriBerman @tonymascopone #WayneCounty has certified the #USElectionResults now. https://t.co/ETkCdG8V5q</td></tr><tr><td>8591080584</td><td>2020-11-22T08:10:18.869+0000</td><td>1606032618</td><td>I’m quite enjoying the recounts. We all get to relive Biden winning again and again #USElectionResults</td></tr><tr><td>8591044504</td><td>2020-11-22T07:55:56.492+0000</td><td>1606031756</td><td>The Secretary of State of Pennsylvania says she will not order a recount in the state\n",
       "#USElectionResults</td></tr><tr><td>8591070856</td><td>2020-11-22T08:04:06.329+0000</td><td>1606032246</td><td>Well, I guess this makes it official then... #PresidentBiden\n",
       "https://t.co/zOjXlX06fV #USElectionResults</td></tr><tr><td>8591060696</td><td>2020-11-22T07:56:41.485+0000</td><td>1606031801</td><td>Dead men tell no tales\n",
       "Or vote, just regime’s fables \n",
       "In squalid post truth\n",
       "#haiku #USElectionResults</td></tr><tr><td>8591073456</td><td>2020-11-22T08:14:45.138+0000</td><td>1606032885</td><td>#USElectionResults #jimmykimmel \n",
       "This WORLD is Really Crazy\n",
       " 😊 Jimmy kimmel https://t.co/VXO564bLMr</td></tr><tr><td>8591057312</td><td>2020-11-22T07:53:50.205+0000</td><td>1606031630</td><td>Thank you @staceyabrams \n",
       "#georgia \n",
       "#USElectionResults \n",
       "#PresidentElectJoeBiden https://t.co/caIMBo8YCE</td></tr><tr><td>8590973792</td><td>2020-11-22T07:09:06.037+0000</td><td>1606028946</td><td>#USElectionResults #jimmykimmel \n",
       "This WORLD is Really Crazy\n",
       " 😊 Jimmy kimmel https://t.co/VXO564bLMr</td></tr><tr><td>8590976952</td><td>2020-11-22T07:11:06.017+0000</td><td>1606029066</td><td>.@scriptsberlin PI, Jessica Gienow-Hecht, on the #USElectionResults. Tune in! https://t.co/N10m5su3ZC</td></tr><tr><td>8591076616</td><td>2020-11-22T08:16:45.129+0000</td><td>1606033005</td><td>.@scriptsberlin PI, Jessica Gienow-Hecht, on the #USElectionResults. Tune in! https://t.co/N10m5su3ZC</td></tr><tr><td>8591022672</td><td>2020-11-22T07:30:43.247+0000</td><td>1606030243</td><td>NO I WON THE ELECTION ACTUALLY @realDonaldTrump \n",
       "\n",
       "#USElection2020 #USElectionResults #IWonTheElection</td></tr><tr><td>8591097808</td><td>2020-11-22T08:21:53.499+0000</td><td>1606033313</td><td>Worth watching...\n",
       "\n",
       "#USElectionResults #WayneCountyBoardOfCanvassers #ItsOver https://t.co/24OCNiwrqd</td></tr><tr><td>8591000024</td><td>2020-11-22T07:16:14.313+0000</td><td>1606029374</td><td>Worth watching...\n",
       "\n",
       "#USElectionResults #WayneCountyBoardOfCanvassers #ItsOver https://t.co/24OCNiwrqd</td></tr><tr><td>8591065792</td><td>2020-11-22T08:00:24.211+0000</td><td>1606032024</td><td>@realDonaldTrump and now this....looks like the games up #USElectionResults https://t.co/vBJpeWQMMW</td></tr><tr><td>8591056120</td><td>2020-11-22T08:03:41.348+0000</td><td>1606032221</td><td>Today on best things seen during the US election😂😂 #USElectionResults https://t.co/zI8d1xEinm</td></tr><tr><td>8590973640</td><td>2020-11-22T07:08:54.818+0000</td><td>1606028934</td><td>@keithedwards I’ve heard about running for President but this is ridiculous!\n",
       "\n",
       "#USElectionResults</td></tr><tr><td>8591029648</td><td>2020-11-22T07:45:22.387+0000</td><td>1606031122</td><td>The ‘husky men with beards march’ looks like an unreal time #USElectionResults #MarchForLosers</td></tr><tr><td>8591073304</td><td>2020-11-22T08:14:35.137+0000</td><td>1606032875</td><td>@keithedwards I’ve heard about running for President but this is ridiculous!\n",
       "\n",
       "#USElectionResults</td></tr><tr><td>8591046280</td><td>2020-11-22T07:46:07.397+0000</td><td>1606031167</td><td>@FoxNews MMM - Million MAGA March \n",
       "\n",
       "#Election2020 #ElectionNight #USElectionResults #USElection2020</td></tr><tr><td>8591045152</td><td>2020-11-22T07:56:26.478+0000</td><td>1606031786</td><td>This is Facebook fact checking me 🤣🤣🤣🤣🤣 #USElectionResults https://t.co/2rYYVIOHSp</td></tr><tr><td>8591080248</td><td>2020-11-22T08:09:58.867+0000</td><td>1606032598</td><td>Are Georgia still counting ??? #USElectionResults #USElectionResults2020 https://t.co/z6NLnjcDGE</td></tr><tr><td>8590982464</td><td>2020-11-22T07:04:19.791+0000</td><td>1606028659</td><td>Are Georgia still counting ??? #USElectionResults #USElectionResults2020 https://t.co/z6NLnjcDGE</td></tr><tr><td>8591080144</td><td>2020-11-22T08:19:16.260+0000</td><td>1606033156</td><td>How far with @realDonaldTrump, is he winning or he is still a Loser... 😅\n",
       "\n",
       "#USElectionResults</td></tr><tr><td>8590980480</td><td>2020-11-22T07:13:37.110+0000</td><td>1606029217</td><td>How far with @realDonaldTrump, is he winning or he is still a Loser... 😅\n",
       "\n",
       "#USElectionResults</td></tr><tr><td>8591040112</td><td>2020-11-22T07:42:06.014+0000</td><td>1606030926</td><td>@realDonaldTrump you are a fopdoodle! #USAelection2020 #USElectionResults #USElections2020 #USA</td></tr><tr><td>8591040416</td><td>2020-11-22T07:52:55.198+0000</td><td>1606031575</td><td>This election is already over🇺🇲 #USAElections2020 #USElectionResults #USElection #JoeBiden</td></tr><tr><td>8590970456</td><td>2020-11-22T07:06:44.815+0000</td><td>1606028804</td><td>#USElectionResults \n",
       "Joe Biden wins Georgia's (16 EVs) by 12,284 votes, https://t.co/h4BQ8OPJMv</td></tr><tr><td>8590990904</td><td>2020-11-22T07:20:35.613+0000</td><td>1606029635</td><td>This guy who I wont name, is an enemy of democracy. #USElectionResults https://t.co/sSQrMd4YkP</td></tr><tr><td>8591070120</td><td>2020-11-22T08:12:23.878+0000</td><td>1606032743</td><td>#USElectionResults \n",
       "Joe Biden wins Georgia's (16 EVs) by 12,284 votes, https://t.co/h4BQ8OPJMv</td></tr><tr><td>8591015552</td><td>2020-11-22T07:35:49.628+0000</td><td>1606030549</td><td>Freedom of speech...with a disclaimer #USPRESIDENT #USElectionResults https://t.co/s4MAnMawMN</td></tr><tr><td>8591047040</td><td>2020-11-22T07:46:37.391+0000</td><td>1606031197</td><td>Maybe the endless #USElectionResults lawsuit shenanigans will be like Bleak House. #Trump2020</td></tr><tr><td>8591080736</td><td>2020-11-22T08:10:28.871+0000</td><td>1606032628</td><td>It's not an EGO issue… it's a VOTER FRAUD issue\n",
       "\n",
       "#USElectionResults https://t.co/7KbhRa0vVq</td></tr><tr><td>8590982952</td><td>2020-11-22T07:04:49.795+0000</td><td>1606028689</td><td>It's not an EGO issue… it's a VOTER FRAUD issue\n",
       "\n",
       "#USElectionResults https://t.co/7KbhRa0vVq</td></tr><tr><td>8591001824</td><td>2020-11-22T07:17:39.152+0000</td><td>1606029459</td><td>Omfg. Not sure if I want to laugh or cry. #fmlusa #USElectionResults https://t.co/5Z9IgO1zpl</td></tr><tr><td>8591063632</td><td>2020-11-22T07:58:52.843+0000</td><td>1606031932</td><td>Her Donnie!\n",
       "@realDonaldTrump\n",
       "#USElectionResults\n",
       "They called Arizona! https://t.co/Yv7d61SV1m</td></tr><tr><td>8591099608</td><td>2020-11-22T08:23:18.434+0000</td><td>1606033398</td><td>Omfg. Not sure if I want to laugh or cry. #fmlusa #USElectionResults https://t.co/5Z9IgO1zpl</td></tr><tr><td>8591041384</td><td>2020-11-22T07:42:56.048+0000</td><td>1606030976</td><td>@Strandjunker The .@GOP and its leaders like @GOPLeader have never cared. #USElectionResults</td></tr><tr><td>8591024552</td><td>2020-11-22T07:31:53.259+0000</td><td>1606030313</td><td>Another normal day at the #WhiteHouse...\n",
       "#USElectionResults🇺🇸 https://t.co/NJKQVSr3zF</td></tr><tr><td>8591055976</td><td>2020-11-22T08:03:31.355+0000</td><td>1606032211</td><td>#USElectionResults 2020 : Biden defeats Trump to win presidency ... https://t.co/y1hpq3dAyd</td></tr><tr><td>8591070968</td><td>2020-11-22T08:13:03.882+0000</td><td>1606032783</td><td>says it all really ... #USElectionResults  #USElection #Trump #trump https://t.co/bKyBq78Y4U</td></tr><tr><td>8591053448</td><td>2020-11-22T08:01:39.231+0000</td><td>1606032099</td><td>Wow, Mr Trump is getting a bit of a thumping in the election isn’t he! #USElectionResults</td></tr><tr><td>8590971304</td><td>2020-11-22T07:07:24.820+0000</td><td>1606028844</td><td>says it all really ... #USElectionResults  #USElection #Trump #trump https://t.co/bKyBq78Y4U</td></tr><tr><td>8591008816</td><td>2020-11-22T07:31:38.261+0000</td><td>1606030298</td><td>Is the drama still not over on #USElectionResults #USAElections2020 https://t.co/LHyhLXdezU</td></tr><tr><td>8591054656</td><td>2020-11-22T08:02:29.221+0000</td><td>1606032149</td><td>Puss has spoken ... Trump is gone\n",
       "\n",
       "#Caturday \n",
       "#USElectionResults https://t.co/YbSlUBuA9X</td></tr><tr><td>8591002920</td><td>2020-11-22T07:27:46.931+0000</td><td>1606030066</td><td>Can anyone name at least one OFFICIAL source that's called the  #USElectionResults? 🤔</td></tr><tr><td>8591025688</td><td>2020-11-22T07:42:31.028+0000</td><td>1606030951</td><td>Why is Georgia recounting ballots when everything has been decided? #USElectionResults</td></tr><tr><td>8591008432</td><td>2020-11-22T07:31:18.253+0000</td><td>1606030278</td><td>@realDonaldTrump Did not. Did so. Did not. Did so. DID NAAAGGHHTTTT! #USElectionResults</td></tr><tr><td>8591040560</td><td>2020-11-22T07:53:05.182+0000</td><td>1606031585</td><td>Note: #MI03 is a #pickup.\n",
       "\n",
       "(5) #USElectionResults #CA48 #NM02 https://t.co/djECKMVKUN</td></tr><tr><td>8591053240</td><td>2020-11-22T07:50:38.846+0000</td><td>1606031438</td><td>@jonworth @jonworth I think that option is gone...#USElectionResults #Brexit #nodeal</td></tr><tr><td>8591026216</td><td>2020-11-22T07:43:02.393+0000</td><td>1606030982</td><td>We can all learn a lot from #SouthDakota #USElectionResults https://t.co/jBXy6YtTB1</td></tr><tr><td>8591032760</td><td>2020-11-22T07:37:24.656+0000</td><td>1606030644</td><td>@williegiltenan Because it was directed at #USElectionResults conspiracy theorists</td></tr><tr><td>8591087744</td><td>2020-11-22T08:24:24.819+0000</td><td>1606033464</td><td>Sorry  - what did you say Tom Melbourne #USElectionResults https://t.co/STfiezEK6H</td></tr><tr><td>8590988080</td><td>2020-11-22T07:18:45.460+0000</td><td>1606029525</td><td>Sorry  - what did you say Tom Melbourne #USElectionResults https://t.co/STfiezEK6H</td></tr><tr><td>8590987208</td><td>2020-11-22T07:18:04.127+0000</td><td>1606029484</td><td>History does repeat itself. #Trump and #USElectionResults https://t.co/8Db7pPY8i0</td></tr><tr><td>8591086872</td><td>2020-11-22T08:23:43.456+0000</td><td>1606033423</td><td>History does repeat itself. #Trump and #USElectionResults https://t.co/8Db7pPY8i0</td></tr><tr><td>8591059112</td><td>2020-11-22T07:55:30.195+0000</td><td>1606031730</td><td>The margin has spoken #BidenHarris2020 #USElectionResults https://t.co/GxNTBNGMFt</td></tr><tr><td>8591010272</td><td>2020-11-22T07:22:40.622+0000</td><td>1606029760</td><td>He has a good sense of humor 👌🏽\n",
       "#USElectionResults https://t.co/2DKVzJOEpN</td></tr><tr><td>8591021448</td><td>2020-11-22T07:29:51.952+0000</td><td>1606030191</td><td>Remember when Joe Biden said this \n",
       "\n",
       "#USElectionResults\n",
       "\n",
       " https://t.co/uwMxzh0Cud</td></tr><tr><td>8591039984</td><td>2020-11-22T07:41:56.010+0000</td><td>1606030916</td><td>Hahahaha lmfao the meltdown continues #USElectionResults https://t.co/AurQmUSZnY</td></tr><tr><td>8591099256</td><td>2020-11-22T08:22:55.338+0000</td><td>1606033375</td><td>The latest What the Fatah!! https://t.co/QpOIRtIvpJ #cdnpoli #uselectionresults</td></tr><tr><td>8591086872</td><td>2020-11-22T08:14:30.129+0000</td><td>1606032870</td><td>@DavMicRot Listing the FRAUD. Thank you.\n",
       "#ByeByeBiden #Trump #USElectionResults</td></tr><tr><td>8590989088</td><td>2020-11-22T07:08:49.837+0000</td><td>1606028929</td><td>@DavMicRot Listing the FRAUD. Thank you.\n",
       "#ByeByeBiden #Trump #USElectionResults</td></tr><tr><td>8591001472</td><td>2020-11-22T07:17:16.211+0000</td><td>1606029436</td><td>The latest What the Fatah!! https://t.co/QpOIRtIvpJ #cdnpoli #uselectionresults</td></tr><tr><td>8591070728</td><td>2020-11-22T08:03:56.343+0000</td><td>1606032236</td><td>A compelling, analogous thread here\n",
       "#USElectionResults https://t.co/lTdcPUbTZG</td></tr><tr><td>8591031400</td><td>2020-11-22T07:36:24.644+0000</td><td>1606030584</td><td>@elonmusk great job #Spacex maybe you can get to bottom of #USElectionResults</td></tr><tr><td>8591065944</td><td>2020-11-22T08:00:34.227+0000</td><td>1606032034</td><td>I miss @JohnKingCNN, @Phil_Mattingly and the #MagicWall :( #USElectionResults</td></tr><tr><td>8591031048</td><td>2020-11-22T07:46:12.383+0000</td><td>1606031172</td><td>The #USElectionResults farce summed up in one tweet. https://t.co/4KKaU3xdjN</td></tr><tr><td>8591059760</td><td>2020-11-22T07:56:01.466+0000</td><td>1606031761</td><td>NBC projects that Joe Biden has won the state of Georgia\n",
       "#USElectionResults</td></tr><tr><td>8591072632</td><td>2020-11-22T08:05:17.605+0000</td><td>1606032317</td><td>Make this STOP! #BidenHarris2020 #USElectionResults https://t.co/Qm2rAiQKxG</td></tr><tr><td>8591019648</td><td>2020-11-22T07:38:19.650+0000</td><td>1606030699</td><td>He we go again #USElectionResults #USElections2020 https://t.co/kWNqegujZg</td></tr><tr><td>8591030344</td><td>2020-11-22T07:35:44.641+0000</td><td>1606030544</td><td>Here’s more. #USElections2020 #USElectionResults https://t.co/D1FuRfnkTi</td></tr><tr><td>8591057896</td><td>2020-11-22T07:54:20.194+0000</td><td>1606031660</td><td>A fully coloured map #USElectionResults #nytimes https://t.co/surd5N66YX</td></tr><tr><td>8591026640</td><td>2020-11-22T07:33:13.255+0000</td><td>1606030393</td><td>Situation \n",
       "@realDonaldTrump \n",
       "#USElectionResults https://t.co/u8iQYPz2Tv</td></tr><tr><td>8591070848</td><td>2020-11-22T08:12:53.881+0000</td><td>1606032773</td><td>What will next? #USElections #USElectionResults https://t.co/OyRrR3qX5c</td></tr><tr><td>8590971184</td><td>2020-11-22T07:07:14.819+0000</td><td>1606028834</td><td>What will next? #USElections #USElectionResults https://t.co/OyRrR3qX5c</td></tr><tr><td>8591049416</td><td>2020-11-22T07:48:27.431+0000</td><td>1606031307</td><td>@ofctimallen To your stupidity and beyond #TimAllen #USElectionResults</td></tr><tr><td>8591033768</td><td>2020-11-22T07:38:04.662+0000</td><td>1606030684</td><td>A bit\n",
       "#PeruvianLivesMatter\n",
       "#USElectionResults https://t.co/eNTjJIW3WT</td></tr><tr><td>8591033664</td><td>2020-11-22T07:48:02.416+0000</td><td>1606031282</td><td>There you go Ireland 😁 #USElectionResults https://t.co/Xh5MgbOP0D</td></tr><tr><td>8590983304</td><td>2020-11-22T07:15:39.305+0000</td><td>1606029339</td><td>The truth\n",
       "#USElection2020\n",
       "#USElectionResults https://t.co/EzKo7NYD9B</td></tr><tr><td>8591064496</td><td>2020-11-22T07:59:32.849+0000</td><td>1606031972</td><td>@NorbertElekes congrats @JoeBiden @KamalaHarris  #USElectionResults</td></tr><tr><td>8591082968</td><td>2020-11-22T08:21:18.489+0000</td><td>1606033278</td><td>The truth\n",
       "#USElection2020\n",
       "#USElectionResults https://t.co/EzKo7NYD9B</td></tr><tr><td>8591058992</td><td>2020-11-22T07:55:20.210+0000</td><td>1606031720</td><td>Scoreboard: 306 to 232. #USElectionResults https://t.co/wtWD16TE3F</td></tr><tr><td>8591005584</td><td>2020-11-22T07:19:50.606+0000</td><td>1606029590</td><td>Wisconsin win for Biden\n",
       "#USElectionResults https://t.co/rGk1YK1IYt</td></tr><tr><td>8591058264</td><td>2020-11-22T07:54:40.195+0000</td><td>1606031680</td><td>Final counts are in... #USElectionResults https://t.co/85PBfxuVKO</td></tr><tr><td>8591078864</td><td>2020-11-22T08:18:15.141+0000</td><td>1606033095</td><td>#USElectionResults \n",
       "\n",
       "#Elections2020 \n",
       "\n",
       "\"Democracy is a mirage\"</td></tr><tr><td>8590979200</td><td>2020-11-22T07:12:36.023+0000</td><td>1606029156</td><td>#USElectionResults \n",
       "\n",
       "#Elections2020 \n",
       "\n",
       "\"Democracy is a mirage\"</td></tr><tr><td>8591020720</td><td>2020-11-22T07:39:11.029+0000</td><td>1606030751</td><td>Like watching the #USElectionResults https://t.co/X9P1KMPcjT</td></tr><tr><td>8591042376</td><td>2020-11-22T07:54:25.209+0000</td><td>1606031665</td><td>“Beauuutiful” #USElectionResults https://t.co/HIro0R914t</td></tr><tr><td>8591009208</td><td>2020-11-22T07:31:58.264+0000</td><td>1606030318</td><td>Cry baby😂 #USElectionResults https://t.co/Qy8mInyY9r</td></tr><tr><td>8591091192</td><td>2020-11-22T08:17:30.127+0000</td><td>1606033050</td><td>Release the servers!!! #USElectionResults \n",
       "\n",
       "RCX 🤓</td></tr><tr><td>8590993408</td><td>2020-11-22T07:11:51.045+0000</td><td>1606029111</td><td>Release the servers!!! #USElectionResults \n",
       "\n",
       "RCX 🤓</td></tr><tr><td>8591058672</td><td>2020-11-22T07:55:00.201+0000</td><td>1606031700</td><td>The end #USElectionResults https://t.co/0wKsPMLQoH</td></tr><tr><td>8591057800</td><td>2020-11-22T07:54:10.208+0000</td><td>1606031650</td><td>#Georgia finally came through! #USElectionResults</td></tr><tr><td>8591055072</td><td>2020-11-22T07:52:10.190+0000</td><td>1606031530</td><td>Trump is a sore loser. Period. #USElectionResults</td></tr><tr><td>8590982128</td><td>2020-11-22T07:03:59.787+0000</td><td>1606028639</td><td>Will Trump ever concede? #USElectionResults</td></tr></tbody></table>Showing the first 1000 rows.</div>"
      ]
     },
     "metadata": {
      "application/vnd.databricks.v1+output": {
       "addedWidgets": {},
       "aggData": [],
       "aggError": "",
       "aggOverflow": false,
       "aggSchema": [],
       "aggSeriesLimitReached": false,
       "aggType": "",
       "arguments": {},
       "columnCustomDisplayInfos": {},
       "data": [
        [
         8590992208,
         "2020-11-22T07:21:35.618+0000",
         1606029695,
         "#ม็อบ17พฤศจิกา #whatishappeninginthailand #ประชุมสภา #แก้รัฐธรรมนูญ #หยุดคุกคามประชาชน #กูสั่งให้มึงอยู่ใต้รัฐธรรมนูญ #ThailandProtest2020 #ม็อบ17พฤศจิกา\nunknown\nGiannis\nNingning\nJrue\ngiselle\n#SignThePapers \n\n#USElectionResults \n#VarunChakravarthy \n#whatshappeninginthailand\nあ https://t.co/DX6BpDM0NF"
        ],
        [
         8591008440,
         "2020-11-22T07:21:40.622+0000",
         1606029700,
         "#ม็อบ17พฤศจิกา #whatishappeninginthailand #ประชุมสภา #แก้รัฐธรรมนูญ #หยุดคุกคามประชาชน #กูสั่งให้มึงอยู่ใต้รัฐธรรมนูญ #ThailandProtest2020 #ม็อบ17พฤศจิกา\nunknown\nGiannis\nNingning\nJrue\ngiselle\n#SignThePapers \n\n#USElectionResults \n#VarunChakravarthy \n#whatshappeninginthailand https://t.co/DX6BpDM0NF"
        ],
        [
         8590993384,
         "2020-11-22T07:22:15.608+0000",
         1606029735,
         "#ม็อบ17พฤศจิกา #whatishappeninginthailand #ประชุมสภา #แก้รัฐธรรมนูญ #หยุดคุกคามประชาชน #กูสั่งให้มึงอยู่ใต้รัฐธรรมนูญ #ThailandProtest2020 #ม็อบ17พฤศจิกา\nunknown\nGiannis\nNingning\nJrue\ngiselle\n#SignThePapers \n\n#USElectionResults \n#VarunChakravarthy \n#whatshappeninginthailand https://t.co/DX6BpDM0NF"
        ],
        [
         8591028688,
         "2020-11-22T07:34:44.645+0000",
         1606030484,
         "@samirsinh189 @WalteRiley @ManuelPMicaller @JoshAdams_1 @JessicaBrown53 @AndyMason001 @WetherbeeJon @gakatt @mavawna @RichardRossow @dds_sugano Regional Comprehensive Economic Partnership (#RCEP) is made up of 10 Southeast Asian countries, as well as South Korea, China, Japan, Australia and New Zealand. The pact is seen as an extension of China's influence in the region, #USElectionResults link? And #US pressure?"
        ],
        [
         8591051344,
         "2020-11-22T07:49:38.850+0000",
         1606031378,
         "@GenFlynn @DanScavino @lofly727 @BarbaraRedgate @JosephJFlynn1 @GoJackFlynn @flynn_neill @realDonaldTrump In all honesty and with your hand on your heart, would you say @realDonaldTrump used his Presidency to drain the swamp? To wake people up? To reveal to them the scam that is the global financial system? To reveal the secret societies and their agendas? #USElectionResults"
        ],
        [
         8591086472,
         "2020-11-22T08:23:33.454+0000",
         1606033413,
         "@AviFlyGirl @harrisonjaime @Georgia_AG @LindseyGrahamSC Also show up for this if in SC. #LindseyGrahamResign #georgiacheating #GrahamResign #2020Elections #2020Election #USElection2020 #KrakenReleased #USElectionResults #uspoli #USAelection2020 #gop #SouthCarolinaRecountNow #SouthCarolinaRecount #SouthCarolina #LadyG https://t.co/pq8GwtJ22O"
        ],
        [
         8590986808,
         "2020-11-22T07:17:54.125+0000",
         1606029474,
         "@AviFlyGirl @harrisonjaime @Georgia_AG @LindseyGrahamSC Also show up for this if in SC. #LindseyGrahamResign #georgiacheating #GrahamResign #2020Elections #2020Election #USElection2020 #KrakenReleased #USElectionResults #uspoli #USAelection2020 #gop #SouthCarolinaRecountNow #SouthCarolinaRecount #SouthCarolina #LadyG https://t.co/pq8GwtJ22O"
        ],
        [
         8591010776,
         "2020-11-22T07:33:08.261+0000",
         1606030388,
         "@MirrorNow @NitishKumar @RJDforIndia @manojkjhadu @scribe_prashant Trump fantasising in #USElectionResults his Country Cousin playing out in #BiharElectionResults \n\n#बिहार_मे_लोकतंत्र_कि_हत्या \n#बिहार_मांगें_रिकॉउंटिंग https://t.co/NvBj51mlcr"
        ],
        [
         8591058016,
         "2020-11-22T08:04:52.609+0000",
         1606032292,
         "@ellis_march @mmpadellan Thinking about the #USElectionResults and the refusal to concede defeat. This verse refers to self-harm and harm to those around you (Trump does this). It's relevant to, as Bono refers to him 'the candidate' (He refuses to call him president). #U2songs #Bono #BidenHarris2020 https://t.co/cW9HnSGmhp"
        ],
        [
         8591084432,
         "2020-11-22T08:22:19.448+0000",
         1606033339,
         "How to steal an American Election...🤔\n\n✔️ Rig the polls making your candidate look like a winner\n✔️ Use large scale mail-in ballots to hide your fraud\n✔️ Alter the ballot counting algorithms for insurance\n✔️ Use the media to amplify your claims of legitimacy\n\n#USElectionResults https://t.co/WHjPbOfjZn"
        ],
        [
         8590984768,
         "2020-11-22T07:16:40.268+0000",
         1606029400,
         "How to steal an American Election...🤔\n\n✔️ Rig the polls making your candidate look like a winner\n✔️ Use large scale mail-in ballots to hide your fraud\n✔️ Alter the ballot counting algorithms for insurance\n✔️ Use the media to amplify your claims of legitimacy\n\n#USElectionResults https://t.co/WHjPbOfjZn"
        ],
        [
         8591023432,
         "2020-11-22T07:41:01.015+0000",
         1606030861,
         "@Phantom2Phlyer @EricShawnTV @FoxNews @realDonaldTrump @FoxNews should be talking 24/7 about #VoterCorruption in this #USElectionResults but NOOO only talking about @JoeBiden as president elect which is NOT true   I'm through with @FoxNews the #Traitors to @realDonaldTrump 😡😡😡😡😡😡😡😡😡😡😡😡"
        ],
        [
         8591058400,
         "2020-11-22T08:05:02.611+0000",
         1606032302,
         "@mmpadellan Thinking about the #USElectionResults and the refusal to concede defeat. This verse refers to self-harm and harm to those around you (Trump does this). It's relevant to, as Bono refers to him 'the candidate' (He refuses to call him president). #U2songs #Bono #BidenHarris2020 https://t.co/MOmZfuUZDO"
        ],
        [
         8591072264,
         "2020-11-22T08:05:07.603+0000",
         1606032307,
         "@mmpadellan Thinking about the #USElectionResults and the refusal to concede defeat. This verse refers to self-harm and harm to those around you (Trump does this). It's relevant to, as Bono refers to him 'the candidate' (He refuses to call him president). #U2songs #Bono #BidenHarris2020 https://t.co/X7Id3X9Nhd"
        ],
        [
         8591017952,
         "2020-11-22T07:37:19.646+0000",
         1606030639,
         "“And in July, after a drawn-out battle over the integrity of elections in Guyana, Pompeo appeared on camera and said it was “long past due for a peaceful transition of power.”\nThey should get on with it,” he said.”\n\nYup. Get on with it. \n\n#guyanaelections2020 \n#USElectionResults https://t.co/avYvF6dqqL"
        ],
        [
         8591052344,
         "2020-11-22T07:50:08.838+0000",
         1606031408,
         "Trump Supporters: THIS ENTIRE US ELECTION IS SO BIASED IN FAVOUR OF JOE BIDEN JUST BECAUSE A LOT MORE PEOPLE VOTED FOR HIM THAN TRUMP!! DISGRACEFUL!!! \nEveryone else: 🤷🏻‍♂️🤦🏻‍♂️\n\n#USElection #USElectionResults #BidenHarris2020 #BidenPresidentElect #TrumpIsALaughingStock #TrumpTantrum"
        ],
        [
         8591026280,
         "2020-11-22T07:33:03.269+0000",
         1606030383,
         "#USElectionResults Give away at #rarible\n🕐(T3) Trump in Time Travel\n3 winners!\n① Follow me\n② Retweet this post\n③ Comment your Rarible Address\n\nWinner selected on 16th midnight(UTC+8)\n#Collectible #digitalart #artwork #NFTs #NFT #election #trump #biden #USElection #president https://t.co/1VUH1F2YHh"
        ],
        [
         8591090672,
         "2020-11-22T08:17:10.123+0000",
         1606033030,
         "#US House passes bipartisan Resolution on #Tibet, we hope #USSenate will follow the same, a issue that very much related to Human kind https://t.co/puMPO9snuJ #FreeTibet #FreeHK #EU #India #China #XiJinping #ChineseVirus #HoldChinaAccountable #ExpansionistChina #USElectionResults https://t.co/hP8ICnTTlt"
        ],
        [
         8591084072,
         "2020-11-22T08:22:08.494+0000",
         1606033328,
         "The #Republican Canvassers #MonicaPalmer & #WilliamHartman have now voted to certify the Nov 3. #USElectionResults but not before a massive outcry about their #racist attempt to disenfranchise hundreds of thousands of #BlackVoters in #Detriot.\n#Trump #TrumpLies #USElection #Biden https://t.co/oEm0Xyj45i"
        ],
        [
         8591006760,
         "2020-11-22T07:20:40.599+0000",
         1606029640,
         "Retweet for a chance to get yours done!\n\n#sabc #disneyplus #FreeEromz #tuesdayvibe #tremor #tuesdaymotivations #WinWithCapeTownGuy #Election2020 #USElectionResults #Uzalo #ProudlySouthAfrican #aespa #KarachiKings #covid19SA #CovidVaccine #vaccine #BTC #Bushiri #MotivationalQuotes https://t.co/MrYyXIx4j6"
        ],
        [
         8590992888,
         "2020-11-22T07:11:31.027+0000",
         1606029091,
         "#US House passes bipartisan Resolution on #Tibet, we hope #USSenate will follow the same, a issue that very much related to Human kind https://t.co/puMPO9snuJ #FreeTibet #FreeHK #EU #India #China #XiJinping #ChineseVirus #HoldChinaAccountable #ExpansionistChina #USElectionResults https://t.co/hP8ICnTTlt"
        ],
        [
         8590984408,
         "2020-11-22T07:16:29.314+0000",
         1606029389,
         "The #Republican Canvassers #MonicaPalmer & #WilliamHartman have now voted to certify the Nov 3. #USElectionResults but not before a massive outcry about their #racist attempt to disenfranchise hundreds of thousands of #BlackVoters in #Detriot.\n#Trump #TrumpLies #USElection #Biden https://t.co/oEm0Xyj45i"
        ],
        [
         8591067584,
         "2020-11-22T08:01:54.209+0000",
         1606032114,
         "Y am I not surprised! But happening too soon! I knew with Biden a new war wud come in this part of the world, this is an indication on whats to come! Irans turn is coming! IF Biden pulls frm Afghanistan (which is very unlikely now) #USElectionResults #USPresidentialElections2020 https://t.co/MwRcyL5zHo"
        ],
        [
         8591071784,
         "2020-11-22T08:13:33.862+0000",
         1606032813,
         "Republicans bowed down to this criminal and now he threatening and mocking the United states of America \n\nTake this scanning criminal power and prosecute him to the higher court of law \nIt’s ridiculous the people we have in offices or seats to play these myths #USElectionResults https://t.co/lHqB08bo3Q"
        ],
        [
         8590972120,
         "2020-11-22T07:07:54.812+0000",
         1606028874,
         "Republicans bowed down to this criminal and now he threatening and mocking the United states of America \n\nTake this scanning criminal power and prosecute him to the higher court of law \nIt’s ridiculous the people we have in offices or seats to play these myths #USElectionResults https://t.co/lHqB08bo3Q"
        ],
        [
         8591045456,
         "2020-11-22T07:56:46.479+0000",
         1606031806,
         "Between the #USElectionResults in question, the #Covid19 pandemic and just generally precarious times, equity and #cryptocurrency markets both look poised to make a major move soon.. The latter's option/future prices suggest the same..\n\nVia @Cointelegraph:\nhttps://t.co/bsUkrcGtgM https://t.co/KifqecqDPq"
        ],
        [
         8591036136,
         "2020-11-22T07:39:46.006+0000",
         1606030786,
         "This is the type of media used to demonise people who oppose right-wing policies that affect and leave millions in poverty. \n\nThis family it's not being followed or harassed, in fact, they are walking with sufficient distance & alongside  anti-Trump supporters\n#USElectionResults https://t.co/4khPh994L0"
        ],
        [
         8590998312,
         "2020-11-22T07:25:05.625+0000",
         1606029905,
         "@ames_1233 @realDonaldTrump It is true, a new wave brings new restrictions to Europe. How do I know? Because I am an europan. Stop trusting #bigmedia, and especially @cnn Most of what they are saying about #trump is either just part of the truth or totally fake. #USElection2020 #USElectionResults #Covid"
        ],
        [
         8591050984,
         "2020-11-22T07:49:28.817+0000",
         1606031368,
         "Who believes unelected #dominiccummimgs and #LeeCain's  departure is because of an office spat between #unelected #CarrieSymonds sticking up for #AllegraStratton?  \n\nCompletely staged.  It's to do with #JoeBiden winning the #USElectionResults & #BrexitReality.  Pure face-saving. https://t.co/BV6dR5Mxkf"
        ],
        [
         8591100112,
         "2020-11-22T08:23:38.436+0000",
         1606033418,
         "If @JoeBiden & @KamalaHarris & @TheDemocrats position is to ignore crimes in the name of bringing people together, they've already lost. You don't save democracy by ignoring some rules for political expediency. POTUS shouldn't tell DOJ who not to investigate! #USElectionResults https://t.co/h3BycgUXDE"
        ],
        [
         8591002328,
         "2020-11-22T07:17:59.121+0000",
         1606029479,
         "If @JoeBiden & @KamalaHarris & @TheDemocrats position is to ignore crimes in the name of bringing people together, they've already lost. You don't save democracy by ignoring some rules for political expediency. POTUS shouldn't tell DOJ who not to investigate! #USElectionResults https://t.co/h3BycgUXDE"
        ],
        [
         8590991848,
         "2020-11-22T07:21:25.616+0000",
         1606029685,
         "#ISBFDailies \nAs Joe Biden becomes the New President of the USA, there is a lot of anticipation of strengthening #economic ties between the USA and India. Which of the following developments would be beneficial for India?\n#JoeBidenKamalaHarris2020 #JOEBIDEN2020 #USElectionResults https://t.co/UITg7g3VG5"
        ],
        [
         8591037296,
         "2020-11-22T07:40:26.013+0000",
         1606030826,
         "Time for some humour. \nThe election results have been analyzed: President Trump did extremely well with women, men, minorities, seniors. Where he fell short and where Basement Joe dominated was in the dead population & those aged 125-150 years of age. #USElectionResults @Davos https://t.co/9FBxXOwGk2"
        ],
        [
         8591001872,
         "2020-11-22T07:27:06.942+0000",
         1606030026,
         "Clearly this is the attitude we need in academia. When your 6 day experiment doesn’t work, just pretend that it did or when a grant application gets rejected...it’s prob been accepted and they just don’t know it yet. #delusion #USElectionResults #phdchat #AcademicChatter https://t.co/yxJEJI5zzN"
        ],
        [
         8591008072,
         "2020-11-22T07:31:08.265+0000",
         1606030268,
         "The once-special partnership  #Germany #US which already lost some of its luster in the decades after the Cold War, sunk to a post-World War II low during #DonaldTrump administration. Most Germans wanted to see him gone — with reason #USElectionResults\nhttps://t.co/3sa2REmzbD https://t.co/wMlFLhhJXE"
        ],
        [
         8591035912,
         "2020-11-22T07:49:43.835+0000",
         1606031383,
         "Checkout my Gigon Fiverr:Minimalist vector https://t.co/PjXIZMuFtj\n\n#RepublicansForBiden #Capricorn #Philadelphia #coronavirus #boycottfrenchproducts #USElectionResults #JoeBidenKamalaHarris2020 #WhatsApp #JOEBIDEN2020 #TrumpvsBiden #Islam #Japan #BidenHarris2020 #TrumpMeltdown https://t.co/Wq96omhlMb"
        ],
        [
         8590983536,
         "2020-11-22T07:05:19.816+0000",
         1606028719,
         "Wow this mind boggling. I'm finding it hard to fathom how any person can believe any of this, let alone why the #GOP leadership is sanctioning it. It's conspiracy upon deranged conspiracy, without a shred of evidence.\n#Trump #SydneyPowell #Republicans #Biden #USElectionResults https://t.co/hnKq1KsSGM"
        ],
        [
         8591081320,
         "2020-11-22T08:10:58.872+0000",
         1606032658,
         "Wow this mind boggling. I'm finding it hard to fathom how any person can believe any of this, let alone why the #GOP leadership is sanctioning it. It's conspiracy upon deranged conspiracy, without a shred of evidence.\n#Trump #SydneyPowell #Republicans #Biden #USElectionResults https://t.co/hnKq1KsSGM"
        ],
        [
         8590997952,
         "2020-11-22T07:24:55.622+0000",
         1606029895,
         "Check out my Gig on Fiverr: t shirt design https://t.co/csbIVXeou2\n\n#RepublicansForBiden #Capricorn #Philadelphia #coronavirus #boycottfrenchproducts #USElectionResults #JoeBidenKamalaHarris2020 #WhatsApp #JOEBIDEN2020 #TrumpvsBiden #Election2020 #BidenHarris2020 #Spotify #Japan https://t.co/9sqAzPMKpi"
        ],
        [
         8591046312,
         "2020-11-22T07:57:16.481+0000",
         1606031836,
         "How did the world react to the #USElectionResults ? What will change in US foreign policy under @JoeBiden  ? Our #HEADLINESERIES panel discussion chaired by Dean @AdilNajam with my colleagues @VeskoGarcevic, Eric Goldstein, Manjari Miller + Zoliswa Mali https://t.co/9PMKUSKqqe https://t.co/uNaPIwrsyj"
        ],
        [
         8591052640,
         "2020-11-22T08:01:09.229+0000",
         1606032069,
         "Frustrated seeing Indian plan to attack Pakistan after 13 Nov  jeopardised in the wake of #USElectionResults the #IndianArmy has started shelling Civilian population in Azad #Kashmir. 4 civilians including kids martyred in shelling \n@UN\n#Leepa.\n@amnesty\n@AJEnglish\n#NeelumValley https://t.co/nXOlm4eytq"
        ],
        [
         8591001968,
         "2020-11-22T07:17:49.121+0000",
         1606029469,
         "It wouldn't be wrong to be worried.\n\nThe masses have been misled about the election process and Biden winning. If this keeps up, and MSM has to cover this, they will make it look like a coup.\n\nThen, political violence will escalate. #USAvaalit2020 #usavaalit #USElectionResults https://t.co/9clyL7jp37"
        ],
        [
         8591099752,
         "2020-11-22T08:23:28.449+0000",
         1606033408,
         "It wouldn't be wrong to be worried.\n\nThe masses have been misled about the election process and Biden winning. If this keeps up, and MSM has to cover this, they will make it look like a coup.\n\nThen, political violence will escalate. #USAvaalit2020 #usavaalit #USElectionResults https://t.co/9clyL7jp37"
        ],
        [
         8591012032,
         "2020-11-22T07:33:49.644+0000",
         1606030429,
         "Pay us to do your;\nEnglish \nSomeone help\nMaths\nEssays due \nPowerPoint\nHistory\nGeography\nAssignments \nNursing\nEconomics\nBiology\nPaper write\nHomework\nSociology\nAccounting\nEssay due\nEssay help\nPay final \nTerm paper\nPay history \nResearch paper\n@prudent_writers\n \n#USElectionResults https://t.co/llmYf17JnF"
        ],
        [
         8591004408,
         "2020-11-22T07:28:46.952+0000",
         1606030126,
         "@cheapaccounting Do you need a virtual Accountant? If yes, then hire me. I am here to serve you. Please contact with me by: https://t.co/v61HQqxQUS\n#Quickbooks #Xero #virtualaccountant #VirtualJobsFair #virtualassistant #USElectionResults #KamalaHarris #JoeBidenKamalaHarris2020 https://t.co/AqoJmUvxXx"
        ],
        [
         8591047272,
         "2020-11-22T07:57:46.484+0000",
         1606031866,
         "Check out my Gig on Fiverr: stencil art https://t.co/9dYg70kWNj\n\n#RepublicansForBiden #Capricorn #Philadelphia #coronavirus #boycottfrenchproducts #USElectionResults #JoeBidenKamalaHarris2020 #WhatsApp #JOEBIDEN2020 #TrumpvsBiden #Election2020 #BidenHarris2020 #TrumpMeltdown https://t.co/wHZgpVagV7"
        ],
        [
         8591046432,
         "2020-11-22T07:46:17.400+0000",
         1606031177,
         "'JIRA Administration Step by Step'\nhttps://t.co/9Gi2teyPGJ\n\n#BookTwitter #Germany #readerscommunity #booklover #books #EmmanuelMacron #ElectionDay #Elections2020 #ElectionResults2020 #JOEBIDEN2020 #AWS  #USElectionResults #JoeBidenKamalaHarris2020 #HappyJakeDay Festival of Lights https://t.co/UAZPngFW8P"
        ],
        [
         8590981296,
         "2020-11-22T07:03:29.800+0000",
         1606028609,
         "How can so many people be so useless & incompetant at their jobs? #Trump & his lawyers claim there was a widespread conspiracy to rob him of the #USelection. They're claiming election fraud in #Michigan but their \"evidence\" cites towns in #Minnesota. \n#USElectionResults #Biden https://t.co/qQcGoIS2uR"
        ],
        [
         8591034088,
         "2020-11-22T07:38:24.649+0000",
         1606030704,
         "#USElectionResults\n#JoeBiden defeats #DonaldTrump to WIN presidency--#Biden has won US election, while Georgia RECOUNTS, & #Trump refuses to concede; Biden wins #Georgia & Trump wins #NorthCarolina.\n\nThis's brings the FINAL Electoral vote tally to 306 for Biden & 232 for Trump! https://t.co/X4JJIzu3OG"
        ],
        [
         8591079080,
         "2020-11-22T08:09:08.863+0000",
         1606032548,
         "How can so many people be so useless & incompetant at their jobs? #Trump & his lawyers claim there was a widespread conspiracy to rob him of the #USelection. They're claiming election fraud in #Michigan but their \"evidence\" cites towns in #Minnesota. \n#USElectionResults #Biden https://t.co/qQcGoIS2uR"
        ],
        [
         8591030688,
         "2020-11-22T07:46:02.377+0000",
         1606031162,
         "Pay us to do your;\nEnglish \nSomeone help\nMaths\nEssays due \nPowerPoint\nHistory\nGeography\nAssignments \nNursing\nEconomics\nBiology\nPaper write\nHomework\nSociology\nAccounting\nEssay due\nEssay help\nPay final \nTerm paper\nPay history \nResearch paper\n@prudent_writers \n#USElectionResults https://t.co/Bje3ZQQg1W"
        ],
        [
         8591054296,
         "2020-11-22T08:02:19.221+0000",
         1606032139,
         "Can the following betting companys give me their positions on #USElectionResults  betting. \n\nHave you paid out on Joe Biden or are you awaiting claims of fraud from Donald Trump being settled\n\n@paddypower \n@SkyBet \n@WilliamHill \n@Pinnacle \n@ladbrokes\n@BetfairExchange \n@bet365 https://t.co/NKNstmFSo9"
        ],
        [
         8591004048,
         "2020-11-22T07:28:36.936+0000",
         1606030116,
         "@VRbookkeepers Do you need a virtual Accountant? If yes, then hire me. I am here to serve you. Please contact with me by: https://t.co/v61HQqxQUS\n#Quickbooks #Xero #virtualaccountant #VirtualJobsFair #virtualassistant #USElectionResults #KamalaHarris #JoeBidenKamalaHarris2020 https://t.co/rHP2s1Vx5X"
        ],
        [
         8591022352,
         "2020-11-22T07:40:21.007+0000",
         1606030821,
         "US ELECTION 2020 - THE CAT IS OUT OF THE BAG! Bye-bye #JOEBIDEN, Cabal & #NWO #USElections2020 #USElectionResults #USElection2020 #USAelection2020 #USPresidentialElections2020 @BeNosey @UN @wef @Davos @DavidJHarrisJr @JLPtalk @99freemind @MichaelTelling2 @Hawk_Montgomery @OUTASA https://t.co/cFcedO2eJV"
        ],
        [
         8591019568,
         "2020-11-22T07:28:51.925+0000",
         1606030131,
         "@VirtualFocusAc1 Do you need a virtual Accountant? If yes, then hire me. I am here to serve you. Please contact with me by: https://t.co/v61HQqxQUS\n#Quickbooks #Xero #virtualaccountant #VirtualJobsFair #virtualassistant #USElectionResults #KamalaHarris #JoeBidenKamalaHarris2020 https://t.co/qtr9h9JMka"
        ],
        [
         8591016480,
         "2020-11-22T07:26:41.928+0000",
         1606030001,
         "Going backwards in time! Tell me your actions & deep feelings & that reveals How Truly you are living God's Law! #EvangelicalsForTrump #CatholicsforTrump #LatinosForTrump #JewsForTrump #TrumpTantrum #USElectionResults #ElectionResults2020 #Biden2020 #COVID19 #TrumpDeathToll246K https://t.co/gRo6uADHMw"
        ],
        [
         8591020272,
         "2020-11-22T07:29:11.927+0000",
         1606030151,
         "US President Donald Trump tweeted I won the election has gone viral with users quoting it with false claims like I am Batman, I won Noble prize another twitter user wrote The game is to type I WON and let autocorrect finish the sentence...\n#USElections2020 \n#USElectionResults https://t.co/5Momf4YzjK"
        ],
        [
         8591058768,
         "2020-11-22T08:05:12.596+0000",
         1606032312,
         "Thinking about the #USElectionResults and the refusal to concede defeat. This verse refers to self-harm and harm to those around you (Trump does this). It's relevant to, as Bono refers to him 'the candidate' (He refuses to call him president). #U2songs #Bono #BidenHarris2020 https://t.co/LfDmdznv9W"
        ],
        [
         8591043800,
         "2020-11-22T07:55:25.202+0000",
         1606031725,
         "While the synchronicity of the Electoral College is a nice hook, it is meaningless in the context of 2020 without mentioning that Biden won the popular vote by five million plus - the disparity in real terms between 2016 and 2020 is stark #USElectionResults #USAElections2020 https://t.co/jzNeTbtKw9"
        ],
        [
         8590986176,
         "2020-11-22T07:06:59.832+0000",
         1606028819,
         "I continue to be astonished and frightened at what the still incumbent government a civilised western nation can be, and is allowed to be, capable of. And how easily people can be misled (cf Hitler’s Germany). From ⁦@TheEconomist⁩ morning briefing. #USElectionResults https://t.co/thB9cMMJaV"
        ],
        [
         8590999808,
         "2020-11-22T07:25:56.927+0000",
         1606029956,
         "@realDonaldTrump The race is OVER\nYou LOST\nYou can't control what happens with Biden's presidency\nBut, HE WILL be the POTUS\nNOT YOU\nStop with the scare tactics\nSoon, you'll be completely irrelevant & it will be a beautiful day\n\n#GullibleWhiteMaleTrumpVoters\n#AmericaDecides2020\n#USElectionResults"
        ],
        [
         8591021160,
         "2020-11-22T07:39:31.016+0000",
         1606030771,
         "📯Account Management Service Available📊📊\n📯Minimum Deposit 500$ upto 1000K$ 🧑‍💻\n📯Profit Sharing 50/50 ⏳⏳\n📯Sharing Method Skrill, Netteller,Btc📬\n Contact@+17023819583. #forexsignals #RealEstate #USAelection2020 #invetsors #CardiB #USElectionResults #LasVegas #NewYork"
        ],
        [
         8591018864,
         "2020-11-22T07:28:31.924+0000",
         1606030111,
         "@calderon_aa4 Do you need a virtual Accountant? If yes, then hire me. I am here to serve you. Please contact with me by: https://t.co/v61HQqxQUS\n#Quickbooks #Xero #virtualaccountant #VirtualJobsFair #virtualassistant #USElectionResults #KamalaHarris #JoeBidenKamalaHarris2020 https://t.co/kN39m0o9P6"
        ],
        [
         8590979960,
         "2020-11-22T07:13:17.110+0000",
         1606029197,
         "@ChuckChesnut @ScottBaio Oh yeh, weren't there so many right-wingers beating people up on the streets.\n\nWait now...no, it was #BlackLivesMatter protestors  doing it, wasn't it, people who hated Trump.\n\nSo it can't have been the right. It must have been...wait for it...the left! #USElectionResults"
        ],
        [
         8591079624,
         "2020-11-22T08:18:56.260+0000",
         1606033136,
         "@ChuckChesnut @ScottBaio Oh yeh, weren't there so many right-wingers beating people up on the streets.\n\nWait now...no, it was #BlackLivesMatter protestors  doing it, wasn't it, people who hated Trump.\n\nSo it can't have been the right. It must have been...wait for it...the left! #USElectionResults"
        ],
        [
         8591025192,
         "2020-11-22T07:32:23.264+0000",
         1606030343,
         "1/2 I usually do not take a lot of interest in other countries politics, however the US election had a lot of incidents which spiked the interest of many people not in the US including Trump's tweets and Kanye running for the presidency. #canschufollowme #USElectionResults https://t.co/xSaoKnfKjI"
        ],
        [
         8591013104,
         "2020-11-22T07:34:29.649+0000",
         1606030469,
         "#President of #USA 20th January 2021 must #SaveAmerica  & #UnitedStates #Citizen from Heavy Burden of Money arising due to #elections #Loopholes. Ultimate #Loser are #Americans. \n#USAElections2020 #USElectionResults #USAelection2020 #USElections2020 #AmericaDecides2020 #Trump https://t.co/o0U0fX1yVU"
        ],
        [
         8591035128,
         "2020-11-22T07:39:06.019+0000",
         1606030746,
         "Help to retweeting & commenting & giving like,\nInstagram link 👇\nhttps://t.co/zKMpLvdWQU\n\n[#painting #NobodyArtistClub #Spotify #feluda #painterofthenight #ElectionNight #Elecciones2020 #USElectionResults #USElections2020 #USA #USAElections2020 #WENDY #SHINee #sundayvibes ] https://t.co/T8LWzhgfqo"
        ],
        [
         8591019216,
         "2020-11-22T07:28:41.925+0000",
         1606030121,
         "@VirtualJobs Do you need a virtual Accountant? If yes, then hire me. I am here to serve you. Please contact with me by: https://t.co/v61HQqxQUS\n#Quickbooks #Xero #virtualaccountant #VirtualJobsFair #virtualassistant #USElectionResults #KamalaHarris #JoeBidenKamalaHarris2020 https://t.co/QR60upKrGu"
        ],
        [
         8591061032,
         "2020-11-22T08:06:22.608+0000",
         1606032382,
         "@realDonaldTrump Biden won because of Chinese and believers of Evil book and secular liberandus Devils advocate, They want USA for all and they for None, Good job America\n#elections\n#USElectionResults\n#AmericaFirst\n#TrumpvsBiden \nTrump\n#DonaldTrump\nDonald Trump\n#USElections2020\n\n#BidenHarris2020"
        ],
        [
         8590961368,
         "2020-11-22T07:00:43.410+0000",
         1606028443,
         "@realDonaldTrump Biden won because of Chinese and believers of Evil book and secular liberandus Devils advocate, They want USA for all and they for None, Good job America\n#elections\n#USElectionResults\n#AmericaFirst\n#TrumpvsBiden \nTrump\n#DonaldTrump\nDonald Trump\n#USElections2020\n\n#BidenHarris2020"
        ],
        [
         8590996960,
         "2020-11-22T07:24:25.618+0000",
         1606029865,
         "Check out my Gig on Fiverr: stencil art https://t.co/9dYg70kWNj\n\n#RepublicansForBiden #Capricorn #Philadelphia #coronavirus #boycottfrenchproducts #USElectionResults #Israel #WhatsApp #Covid_19 #Amazon #TrumpvsBiden #Election2020 #Muslim_Pro #Islam #Dubai #Diana #Oops https://t.co/q6x8GU0tkd"
        ],
        [
         8591017016,
         "2020-11-22T07:36:49.654+0000",
         1606030609,
         "I agree. Possibly the best activism is to stay off the streets until January, and wait to see if #JoeBiden is President in Jan. If not that can be protested in Jan. Democrats won the election #Election2020results #USElectionResults #TrumpConcede #PresidentElect Joe Biden. https://t.co/Bbq6Hx49C1"
        ],
        [
         8591004768,
         "2020-11-22T07:28:56.953+0000",
         1606030136,
         "@lgboomer Do you need a virtual Accountant? If yes, then hire me. I am here to serve you. Please contact with me by: https://t.co/v61HQqxQUS\n#Quickbooks #Xero #virtualaccountant #VirtualJobsFair #virtualassistant #USElectionResults #KamalaHarris #JoeBidenKamalaHarris2020 https://t.co/wqffCyCNZd"
        ],
        [
         8591051776,
         "2020-11-22T07:49:48.851+0000",
         1606031388,
         "Check out my Gig on Fiverr: stencil art https://t.co/9dYg70kWNj\n\n#RepublicansForBiden #Capricorn #Philadelphia #coronavirus #boycottfrenchproducts #USElectionResults #JoeBidenKamalaHarris2020 #WhatsApp #JOEBIDEN2020 #TrumpvsBiden #Election2020 #BidenHarris2020 #Islam https://t.co/5mjYyZARJo"
        ],
        [
         8590997312,
         "2020-11-22T07:24:35.620+0000",
         1606029875,
         "Check out my Gig on Fiverr: stencil art https://t.co/9dYg70kWNj\n\n#RepublicansForBiden #Capricorn #Philadelphia #coronavirus #boycottfrenchproducts #USElectionResults #JoeBidenKamalaHarris2020 #WhatsApp #JOEBIDEN2020 #TrumpvsBiden #Election2020 #BidenHarris2020 #Islam https://t.co/gvOSyzMWDL"
        ],
        [
         8591006144,
         "2020-11-22T07:20:20.626+0000",
         1606029620,
         "Check out my Gig on Fiverr: stencil art https://t.co/9dYg70kWNj\n\n#RepublicansForBiden #Capricorn #Philadelphia #coronavirus #boycottfrenchproducts #USElectionResults #JoeBidenKamalaHarris2020 #WhatsApp #JOEBIDEN2020 #TrumpvsBiden #Election2020 #BidenHarris2020 #Islam https://t.co/jYWLS4PBze"
        ],
        [
         8591065440,
         "2020-11-22T08:00:12.867+0000",
         1606032012,
         "@realDonaldTrump You embarrass yourself.  This will be your political epitaph.  Your actions are disrespectful to the victims of Covid.  Stand aside and allow positive action to be taken.  You will be the New Nixon and you’ll never avoid that.  #Hypocrite #BidenTransition #USElectionResults"
        ],
        [
         8591074704,
         "2020-11-22T08:06:27.599+0000",
         1606032387,
         "@realDonaldTrump Trump is a great leader and he knows, what to do what is good what is Evil\nTRUMP did his best to avoid the war, he is a very understanding intelligent nice man and we know that\n( He avoided war with Iran }\n#elections\n#USElectionResults2020\n#USElectionResults\n#TrumpvsBiden \nTrump"
        ],
        [
         8590976920,
         "2020-11-22T07:00:48.403+0000",
         1606028448,
         "@realDonaldTrump Trump is a great leader and he knows, what to do what is good what is Evil\nTRUMP did his best to avoid the war, he is a very understanding intelligent nice man and we know that\n( He avoided war with Iran }\n#elections\n#USElectionResults2020\n#USElectionResults\n#TrumpvsBiden \nTrump"
        ],
        [
         8591010608,
         "2020-11-22T07:23:00.612+0000",
         1606029780,
         "Lamestream Media - STOP LYING @cnnbrk @BBCNews @SkyNews @FoxNews @BreitbartNews @Telegraph @eNCA @SABCNews #USElectionResults #USElection2020 #USElections2020 #USAElections2020 #USAelection2020 @BeNosey @GuyMcDonald @KFMza @BigDaddyLiberty @CliffCentralCom @RobHutchinson8 https://t.co/nfz2Of99wT"
        ],
        [
         8591027032,
         "2020-11-22T07:43:42.384+0000",
         1606031022,
         "@nytpolitics Global ups and downs for 2019-2020 global presence of certainly is needed to give the #WhiteHouse a chance to have faith in the political process of ballots and voting system within America #USElectionResults shouldn't take so long or have this much litigation : #TrumpIsPathetic"
        ],
        [
         8591059984,
         "2020-11-22T08:05:52.602+0000",
         1606032352,
         "@realDonaldTrump Trump is the only person who made a compromise between Israel and UAE and Bahrain, it is the strategy UAE to tackle Iran and on other hand Turkey who wants to be the leader of Arabs\n\n@realDonaldTrump\n#elections\n#USElectionResults\n#AmericaFirst\n#TrumpvsBiden \nTrump\n#DonaldTrump"
        ],
        [
         8590960320,
         "2020-11-22T07:00:13.415+0000",
         1606028413,
         "@realDonaldTrump Trump is the only person who made a compromise between Israel and UAE and Bahrain, it is the strategy UAE to tackle Iran and on other hand Turkey who wants to be the leader of Arabs\n\n@realDonaldTrump\n#elections\n#USElectionResults\n#AmericaFirst\n#TrumpvsBiden \nTrump\n#DonaldTrump"
        ],
        [
         8591060336,
         "2020-11-22T08:06:02.604+0000",
         1606032362,
         "@realDonaldTrump Mr. Trump is already billionaire and Right Wing persons never run after money, Nation and World is always first for Right Wing man and he is a Right man in Right Wing, so SUPPORT him\n\n@realDonaldTrump\n#elections\n#USElectionResults\n#AmericaFirst\n#TrumpvsBiden \nTrump\n#DonaldTrump"
        ],
        [
         8590960672,
         "2020-11-22T07:00:23.431+0000",
         1606028423,
         "@realDonaldTrump Mr. Trump is already billionaire and Right Wing persons never run after money, Nation and World is always first for Right Wing man and he is a Right man in Right Wing, so SUPPORT him\n\n@realDonaldTrump\n#elections\n#USElectionResults\n#AmericaFirst\n#TrumpvsBiden \nTrump\n#DonaldTrump"
        ],
        [
         8591048984,
         "2020-11-22T07:58:57.853+0000",
         1606031937,
         "@therecount @atrupar Navarro’s interactions with Canada over trade, and his ignorant analysis of our trade history with the US, were egregious and disruptive. This magical thinking about your #USElectionResults is just one more example of the widespread lunacy of the Trump administration."
        ],
        [
         8591001240,
         "2020-11-22T07:26:46.940+0000",
         1606030006,
         "Observation: the #MAGA woman didn't notice she isn't \"White\" if talking of race she is a MIX, 2nd Socialism is NOT that! Totally \"Ignorance\" at its finest! #TrumpTantrum #USElectionResults #BidenHarrisToEndThisNightmare #COVID19 #TrumpDeathToll246K #LatinosForTrump https://t.co/LR64KbyhJa"
        ],
        [
         8591007936,
         "2020-11-22T07:21:20.622+0000",
         1606029680,
         "@realDonaldTrump The media in America refuses to admit the obvious. This #USElection2020 was a mess and the #USElectionResults cannot be considered fair. The counting processes and mail-in ballot discrepancies clearly presented a problem. America NEEDS to VOTE AGAIN. https://t.co/ct2o9q6ICl"
        ],
        [
         8591009928,
         "2020-11-22T07:22:30.603+0000",
         1606029750,
         "@BBCWorld If there is no evidence so, BBC, what are the affidavits and law suites filed so far classified?\nYet again, impartial reporting is no longer you... just like the FAKE NEWS media!!!!!\n#NFSC #USElectionResults @JudicialWatch @realDonaldTrump @RudyGiuliani @dbongino @marklevinshow"
        ],
        [
         8591073320,
         "2020-11-22T08:05:47.591+0000",
         1606032347,
         "@realDonaldTrump Evil State China played his game But even today also, Left Wing Librandus blaming, Mr. Trump for pandemic\n\n@realDonaldTrump\n#elections\n#USElectionResults\n#AmericaFirst\n#TrumpvsBiden \nTrump\n#DonaldTrump\nDonald Trump\n#USElections2020\n#Usa2020\n#TrumpVsBidenFight\n#BidenHarris2020"
        ],
        [
         8590975536,
         "2020-11-22T07:00:08.414+0000",
         1606028408,
         "@realDonaldTrump Evil State China played his game But even today also, Left Wing Librandus blaming, Mr. Trump for pandemic\n\n@realDonaldTrump\n#elections\n#USElectionResults\n#AmericaFirst\n#TrumpvsBiden \nTrump\n#DonaldTrump\nDonald Trump\n#USElections2020\n#Usa2020\n#TrumpVsBidenFight\n#BidenHarris2020"
        ],
        [
         8591074352,
         "2020-11-22T08:06:17.596+0000",
         1606032377,
         "@realDonaldTrump All the enemies of America with Joe Biden to win, They are forcing there all power\n\n@realDonaldTrump\n#elections\n#USElectionResults\n#AmericaFirst\n#TrumpvsBiden \nTrump\n#DonaldTrump\nDonald Trump\n#USElections2020\n#TrumpVsBidenFight\n#BidenHarris2020 \n#USElectionResults2020\n#Usa2020"
        ],
        [
         8590976568,
         "2020-11-22T07:00:38.403+0000",
         1606028438,
         "@realDonaldTrump All the enemies of America with Joe Biden to win, They are forcing there all power\n\n@realDonaldTrump\n#elections\n#USElectionResults\n#AmericaFirst\n#TrumpvsBiden \nTrump\n#DonaldTrump\nDonald Trump\n#USElections2020\n#TrumpVsBidenFight\n#BidenHarris2020 \n#USElectionResults2020\n#Usa2020"
        ],
        [
         8591040696,
         "2020-11-22T07:53:15.186+0000",
         1606031595,
         "This week was defo one of the better ones in 2020:\n1. 🇺🇸 #USElectionResults \n2. #COVID19 #vaccine\n3. 🏴󠁧󠁢󠁳󠁣󠁴󠁿⚽ #NoScotlandNoParty \n4. @Number10cat confirmed he was not in the box Dom carried out of N10\nOh and it's #worldkindnessday2020 😀 #FridayMotivation"
        ],
        [
         8591016136,
         "2020-11-22T07:26:31.923+0000",
         1606029991,
         "\"The pressure on Raffensperger, who has bucked his party in defending the state’s voting process, comes in the midst of a GA laborious hand recount of about 5M ballots. President-elect Joe Biden has a 14K-vote lead in the initial count.\" #USElectionResults https://t.co/zUNc7VbQwZ"
        ],
        [
         8591073672,
         "2020-11-22T08:05:57.592+0000",
         1606032357,
         "@realDonaldTrump Mr. Trump handling china and Iran and all the evils of the world at a time, he is a great leader knows very well how to tackle them\n\n@realDonaldTrump\n#elections\n#USElectionResults\n#AmericaFirst\n#TrumpvsBiden \nTrump\n#DonaldTrump\nDonald Trump\n#USElections2020\n#Usa2020\n#Trump"
        ],
        [
         8590961024,
         "2020-11-22T07:00:33.422+0000",
         1606028433,
         "@realDonaldTrump Countries like china Iran Pakistan turkey wants Mr. Joe Biden to win, so they can flourish again, so they throw, all power to make him win\n\n@realDonaldTrump\n#elections\n#USElectionResults\n#AmericaFirst\n#TrumpvsBiden \nTrump\n#DonaldTrump\nDonald Trump\n#USElections2020\n#Usa2020"
        ],
        [
         8590975888,
         "2020-11-22T07:00:18.400+0000",
         1606028418,
         "@realDonaldTrump Mr. Trump handling china and Iran and all the evils of the world at a time, he is a great leader knows very well how to tackle them\n\n@realDonaldTrump\n#elections\n#USElectionResults\n#AmericaFirst\n#TrumpvsBiden \nTrump\n#DonaldTrump\nDonald Trump\n#USElections2020\n#Usa2020\n#Trump"
        ],
        [
         8591060688,
         "2020-11-22T08:06:12.605+0000",
         1606032372,
         "@realDonaldTrump Countries like china Iran Pakistan turkey wants Mr. Joe Biden to win, so they can flourish again, so they throw, all power to make him win\n\n@realDonaldTrump\n#elections\n#USElectionResults\n#AmericaFirst\n#TrumpvsBiden \nTrump\n#DonaldTrump\nDonald Trump\n#USElections2020\n#Usa2020"
        ],
        [
         8591059416,
         "2020-11-22T07:55:51.496+0000",
         1606031751,
         "@EricTrump This is fighting talk for someone interviewed under oath last month for actual crimes you may be implicated in. Daddy can’t pardon you for state crimes. I’d work on your defence instead of concocting non-existent vote rigging if I were you. #LockThemUp #USElectionResults"
        ],
        [
         8591059640,
         "2020-11-22T08:05:42.601+0000",
         1606032342,
         "@realDonaldTrump To tackle china and all Islamic terror of the world, Mr. Trump is a perfect man with perfect strategies\n\n@realDonaldTrump\n#elections\n#USElectionResults\n#AmericaFirst\n#TrumpvsBiden \nTrump\n#DonaldTrump\nDonald Trump\n#USElections2020\n#Usa2020\n#TrumpVsBidenFight\n#BidenHarris2020"
        ],
        [
         8590959976,
         "2020-11-22T07:00:03.427+0000",
         1606028403,
         "@realDonaldTrump To tackle china and all Islamic terror of the world, Mr. Trump is a perfect man with perfect strategies\n\n@realDonaldTrump\n#elections\n#USElectionResults\n#AmericaFirst\n#TrumpvsBiden \nTrump\n#DonaldTrump\nDonald Trump\n#USElections2020\n#Usa2020\n#TrumpVsBidenFight\n#BidenHarris2020"
        ],
        [
         8591082624,
         "2020-11-22T08:21:08.504+0000",
         1606033268,
         "#SaudiArabia’s #MBS is losing his #Trump card after #Biden's arrival whose policies presumably will shake up the Trump allies in the #MiddleEast’s recently found comfort. This article is well worth the read. \n#MBZ #Qatar #Turkey #Bahrain #USElectionResults\nhttps://t.co/rCrQI8jlW8"
        ],
        [
         8590982960,
         "2020-11-22T07:15:29.303+0000",
         1606029329,
         "#SaudiArabia’s #MBS is losing his #Trump card after #Biden's arrival whose policies presumably will shake up the Trump allies in the #MiddleEast’s recently found comfort. This article is well worth the read. \n#MBZ #Qatar #Turkey #Bahrain #USElectionResults\nhttps://t.co/rCrQI8jlW8"
        ],
        [
         8591000896,
         "2020-11-22T07:26:36.955+0000",
         1606029996,
         "For those wanting a deep-dive into the background & rise of Vice-President-elect ⁦@KamalaHarris⁩, this series from ⁦@MSNBC⁩ ⁦@JoyAnnReid⁩ is a fab place to start. #KamalaHarrisVP #USElections #USElectionResults #BidenHarris2020 🇺🇸🎧 👏👇 https://t.co/YfvM2d4BIh"
        ],
        [
         8591100808,
         "2020-11-22T08:23:58.439+0000",
         1606033438,
         "Steve Pieczenik:\n\n\"I’m allowed to say this now: All votes were watermarked with blockchain encryption code technology.\"\n\n#USElection2020 #USAElections2020 #USElectionResults #trump2020 #trumplandslide #Election2020￼ #JOEBIDEN2020 #JoeBidenKamalaHarris2020 https://t.co/Ft3siabj3S"
        ],
        [
         8591003024,
         "2020-11-22T07:18:19.123+0000",
         1606029499,
         "Steve Pieczenik:\n\n\"I’m allowed to say this now: All votes were watermarked with blockchain encryption code technology.\"\n\n#USElection2020 #USAElections2020 #USElectionResults #trump2020 #trumplandslide #Election2020￼ #JOEBIDEN2020 #JoeBidenKamalaHarris2020 https://t.co/Ft3siabj3S"
        ],
        [
         8591075400,
         "2020-11-22T08:06:47.605+0000",
         1606032407,
         "Election should be conduct again, big fraud is happened in collecting postal votes and handling them, by particular section of America, these communities hate Mr. Trump please keep them away from election work\n#elections\n#USElectionResults2020\n#USElectionResults https://t.co/PE6YU6Iqfr"
        ],
        [
         8591077032,
         "2020-11-22T08:17:05.133+0000",
         1606033025,
         "Blood Sugar Test kit for US🇺🇸 free after review interested DM for details.\n\n#USAElections2020 #UsUnited #USElectionResults #Usa2020 #usalockdown #WashingtonPost #NewYork #amazonusa #productreviewers #AmazonFinaleDays #AmazonPrime #freebies #amazonreviewer https://t.co/a7wTEendfl"
        ],
        [
         8591013792,
         "2020-11-22T07:34:49.635+0000",
         1606030489,
         "“#Trump, who has never shown much interest in governing, has finally dropped all pretense to focus on the core tenets of the Trump Doctrine: himself, cable news, Twitter, self-pity, & caterwauling,\" @MaureenDowd @nytopinion #Diplomacy140\n#USElectionResults\nhttps://t.co/XAxwB5rAS7"
        ],
        [
         8590977616,
         "2020-11-22T07:01:08.405+0000",
         1606028468,
         "Election should be conduct again, big fraud is happened in collecting postal votes and handling them, by particular section of America, these communities hate Mr. Trump please keep them away from election work\n#elections\n#USElectionResults2020\n#USElectionResults https://t.co/PE6YU6Iqfr"
        ],
        [
         8591019928,
         "2020-11-22T07:29:01.927+0000",
         1606030141,
         "Do you need a virtual Accountant? If yes, then hire me. I am here to serve you. Please contact with me by: https://t.co/v61HQqxQUS\n#Quickbooks #Xero #virtualaccountant #VirtualJobsFair #virtualassistant #USElectionResults #KamalaHarris #JoeBidenKamalaHarris2020 https://t.co/YV2c7bO8m2"
        ],
        [
         8590989992,
         "2020-11-22T07:20:05.609+0000",
         1606029605,
         "Do you need a virtual Accountant? If yes, then hire me. I am here to serve you. Please contact with me by: https://t.co/v61HQqxQUS\n#Quickbooks #Xero #virtualaccountant #VirtualJobsFair #virtualassistant #USElectionResults #KamalaHarris #JoeBidenKamalaHarris2020 https://t.co/6iX2nXoPy8"
        ],
        [
         8590993512,
         "2020-11-22T07:12:01.045+0000",
         1606029121,
         "Trump, his GOP & their agents have been physically, psychologically, emotionally & economically abusing Americans. In total, Trump’s behavior has caused a type of collective PTSD - certainly in the United States & quite likely the world. https://t.co/0U8noi7DaS #USElectionResults"
        ],
        [
         8591091296,
         "2020-11-22T08:17:40.128+0000",
         1606033060,
         "Trump, his GOP & their agents have been physically, psychologically, emotionally & economically abusing Americans. In total, Trump’s behavior has caused a type of collective PTSD - certainly in the United States & quite likely the world. https://t.co/0U8noi7DaS #USElectionResults"
        ],
        [
         8591053592,
         "2020-11-22T08:01:49.232+0000",
         1606032109,
         "How much is the US election impacting your mindset?\n\nWhat about BREXIT?\n\nBoJo? Cummings? #Lockdown?\n\nHave a read of this. Thank me later: https://t.co/oNWWlxF8Qn\n\nIt’ll take you about 5 minutes. Yes, you CAN spare 5 mins! Go read.\n\n#trumpbiden #USElectionResults #Brexit #mindset"
        ],
        [
         8591037024,
         "2020-11-22T07:50:33.855+0000",
         1606031433,
         "Final #USElectionResults. Biden wins 306 electoral college votes. This is what @realDonaldTrump said when he won the same number four years ago. (Except, #LoserInChief that he is, Trump lost the popular vote then, unlike Biden now). \n\nhttps://t.co/a9iGON9KLZ https://t.co/e8XZDg0uZs"
        ],
        [
         8591025720,
         "2020-11-22T07:32:43.265+0000",
         1606030363,
         "I'll give you a FOLLOW BACK to everyone who Likes this video !\n💯% legit !\nhttps://t.co/YN7hvXRR94\n.\n#ManUnited #UEFANationsLeague #EnglandBelgium #GarethSouthgate #ManUnited #JoeBidenKamalaHarris2020 #USElectionResults #UnitedStates #PaulPogba #Liverpool #BarclaysFAWSL #YouTube"
        ],
        [
         8591039912,
         "2020-11-22T07:52:35.192+0000",
         1606031555,
         "The Trump campaign said Friday that its #lawsuit challenging the vote counting process in #Arizona will not affect the presidential race, submitting a court filing notifying the court that the case is now partially moot.\n#USElectionResults #BidenHarris2020\nhttps://t.co/7xiO97KVZu"
        ],
        [
         8591014128,
         "2020-11-22T07:34:59.638+0000",
         1606030499,
         "#Trump2020 #USElectionResults Democrats acting as if they have been tolerant of Trump since he won, and accepting. No, they haven't. eg, claims of Russian interference in his win, slandering his character, impeachment,  blaming him for the problems in America there long before he"
        ],
        [
         8591022824,
         "2020-11-22T07:30:53.248+0000",
         1606030253,
         "Frequent use of words like #Grace & #Graceful need to be included in the current #WhiteHouse vocabulary sooner than later. It will help #America get back its respect as world is watching and time is quickly running out... #USElection2020 #USElectionResults https://t.co/d18KdN5ogK"
        ],
        [
         8591050200,
         "2020-11-22T07:59:37.872+0000",
         1606031977,
         "$GAHC - Today's Special\n\n#USElectionResults are being contested\n\nClaims of #Election2020 software deleting votes\n\nVoting integrity will be front and center\n\n#Blockchain voting to ensure integrity may be considered. If so $GAHC is on the forefront\n\nHedge Play https://t.co/XEA3PWXL5r"
        ],
        [
         8591037744,
         "2020-11-22T07:51:03.847+0000",
         1606031463,
         "Trouncing #Trump: US President-elect Joe #Biden’s victory is shaping up to be a resounding win. He racked up 5.4 million+ more popular votes than his rival, scored 74 more Electoral College votes, and flipped PA, MI, WI, AZ and Georgia. #USElectionResults https://t.co/w3IioztOB7"
        ],
        [
         8591046672,
         "2020-11-22T07:57:26.482+0000",
         1606031846,
         "Bruce Springsteen's Astute Assessment of This White House: \"We Are Lost, No Art, No Socks the Family Pet, No Images of First Family Enjoying Themselves, No Reagans on Horseback\" https://t.co/72Cj421BYI via @showbiz411 its a bit late, but the message is SO right #USElectionResults"
        ],
        [
         8591003712,
         "2020-11-22T07:28:26.921+0000",
         1606030106,
         "@realDonaldTrump strategy is to try to make legit votes not count on technicalities.\n\nQuite undemocratic and an admission of loss in itself \n#USElections2020\n#USElectionResults\nTrump campaign abandons part of legal challenge to Pennsylvania election result https://t.co/eLt6gHHRCO"
        ],
        [
         8591038800,
         "2020-11-22T07:41:16.007+0000",
         1606030876,
         "#USElectionResults\n#CNN \n#FoxNews \n#coronavirusUS\n\nBIDEN HAS BEEN ELECTED PRESIDENT. GIVE HIM ALL THE PUBLICITY \nFocus on Biden, overrun hospitals, deaths, vaccine, sports, foreign policies, etc\n\nTRUMP LOST ,HE'S A NON-ENTITY. Just IGNORE HIM & give him ZERO publicity.  \n\nPlease"
        ],
        [
         8590977272,
         "2020-11-22T07:00:58.421+0000",
         1606028458,
         "#elections\n#USElectionResults2020\n#USElectionResults\nUnited States of America\n#TrumpvsBiden \n#AmericaDecides2020\nDonald Trump\n#USElections2020\n@realDonaldTrump\n#AmericaFirst\n#TrumpVsBidenFight\nTrump\n#DonaldTrump\n#BidenHarris2020 \n#USAelection2020 #TrumpOut #Usa2020 https://t.co/jVOkQmo9lC"
        ],
        [
         8591075056,
         "2020-11-22T08:06:37.618+0000",
         1606032397,
         "#elections\n#USElectionResults2020\n#USElectionResults\nUnited States of America\n#TrumpvsBiden \n#AmericaDecides2020\nDonald Trump\n#USElections2020\n@realDonaldTrump\n#AmericaFirst\n#TrumpVsBidenFight\nTrump\n#DonaldTrump\n#BidenHarris2020 \n#USAelection2020 #TrumpOut #Usa2020 https://t.co/jVOkQmo9lC"
        ],
        [
         8590995968,
         "2020-11-22T07:23:45.606+0000",
         1606029825,
         "Dumbfounded-GOP Conservatism cut & paste job description over fraud elections dragging out nonfactual data/zero evidence around allegations/fed by feelings/denialism-Ironically how OAS interventionist, do Latin Am Coups but 4 natural resources/fracking freedom #USElectionResults"
        ],
        [
         8591039648,
         "2020-11-22T07:41:46.025+0000",
         1606030906,
         "#CatherineHance\n#FoxNews\n#USElectionResults\n\nTHE MEDIA MUST STOP giving trump so much airtime, about HIS outlandish actions\n\nFocus on PRESIDENT BIDEN'S positive actions instead\n\nTRUMP's JUST FEEDING OFF all the NEGATIVE publicity he's getting\n\nIGNORE TRUMP, his actions & comments"
        ],
        [
         8591034880,
         "2020-11-22T07:49:03.829+0000",
         1606031343,
         "#USAelection2020 #USAElections2020 #USElectionResults #USPresidentialElections2020 \nMyMilitia has aims of “helping American citizens to create strong organized constitutional militias in every town throughout the USA”.  Violent context of #TrumpMeltdown  https://t.co/xbxO6XAc2r"
        ],
        [
         8591057464,
         "2020-11-22T07:54:00.191+0000",
         1606031640,
         ".@JoeBiden got 14 million more votes than @realDonaldTrump did in 2016 and still the electoral votes and election victory is with the same number and People think this system is not a core problem for US.\n\n@shaunking @AOC @People4Bernie \n#USElectionResults https://t.co/SpziAlFmTK"
        ],
        [
         8591006048,
         "2020-11-22T07:29:46.943+0000",
         1606030186,
         "\"Although multiple possible scenarios for post-election crisis exist, the most plausible one will revolve around how long counting the votes in closely contested states might take,\" @LarryDiamond and Edward Foley write: https://t.co/WGprBtf4BY #USElectionResults #USElections2020"
        ],
        [
         8590971784,
         "2020-11-22T07:07:44.811+0000",
         1606028864,
         "Georgia recount confirms #Biden won. Mr.Trump move on , don't embarrass yourself.\n\nThis is not the time for power mongering , there are record high cases every day in US. \n\nEurope has reduction in numbers and India 1/3rd size and 3x population is doing better #USElectionResults"
        ],
        [
         8591071448,
         "2020-11-22T08:13:23.878+0000",
         1606032803,
         "Georgia recount confirms #Biden won. Mr.Trump move on , don't embarrass yourself.\n\nThis is not the time for power mongering , there are record high cases every day in US. \n\nEurope has reduction in numbers and India 1/3rd size and 3x population is doing better #USElectionResults"
        ],
        [
         8591051224,
         "2020-11-22T08:00:17.848+0000",
         1606032017,
         "#realDonaldTrump \n#USElectionResults \n#CNNElection \n\nTRUMP's INABILITY to carry out his duties MUST BE 'A RED LIGHT' FOR EVERY SENATOR, CONGRESSMAN, JUDGE & JUDICIARY\n\nTRUMP'S BRINGING THE COUNTRY TO ITS KNEES YET ALL THE ABOVE ARE DOING NOTHING\n\nTRUMP IS UNFIT TO GOVERN, PERIOD!"
        ],
        [
         8590980664,
         "2020-11-22T07:03:08.487+0000",
         1606028588,
         "@DailyCaller @PressSec Don’t concede, you’re out in a few months. \nAll you’re doing is delaying the helpless Americans that need guidance in the crisis. Your national security is already under discussion with world leaders as this global circus continues #USElectionResults"
        ],
        [
         8591078448,
         "2020-11-22T08:08:48.876+0000",
         1606032528,
         "@DailyCaller @PressSec Don’t concede, you’re out in a few months. \nAll you’re doing is delaying the helpless Americans that need guidance in the crisis. Your national security is already under discussion with world leaders as this global circus continues #USElectionResults"
        ],
        [
         8591073840,
         "2020-11-22T08:15:05.125+0000",
         1606032905,
         "The reason why @realDonaldTrump can get away with claiming fraud, is the general public just doesn't understand what happens during elections. A small discrepancy occurs that happens in every previous election, he can claim fraud and people are none the wiser. #USElectionResults"
        ],
        [
         8591094304,
         "2020-11-22T08:19:52.448+0000",
         1606033192,
         "The #USElectionResults  R not yet officially declared 🤔\n\nOfficial results will only be known in January 2021 😌\n\nIf @realDonaldTrump comes back -he will not take your these premature & inappropriate actions lightly @narendramodi ji 🤦🏻‍♂️\n\nhttps://t.co/ZeiQguzLDW"
        ],
        [
         8590974176,
         "2020-11-22T07:09:26.023+0000",
         1606028966,
         "The reason why @realDonaldTrump can get away with claiming fraud, is the general public just doesn't understand what happens during elections. A small discrepancy occurs that happens in every previous election, he can claim fraud and people are none the wiser. #USElectionResults"
        ],
        [
         8590996520,
         "2020-11-22T07:14:13.277+0000",
         1606029253,
         "The #USElectionResults  R not yet officially declared 🤔\n\nOfficial results will only be known in January 2021 😌\n\nIf @realDonaldTrump comes back -he will not take your these premature & inappropriate actions lightly @narendramodi ji 🤦🏻‍♂️\n\nhttps://t.co/ZeiQguzLDW"
        ],
        [
         8591023656,
         "2020-11-22T07:31:23.269+0000",
         1606030283,
         "Top US #Cybersecurity official Christopher Krebs (@CISAKrebs), who worked on protecting the election from hackers, has told associates he expects to be fired as he drew the ire of @realDonaldTrump over efforts to debunk disinformation. #USElectionResults https://t.co/XXXYllkuxK"
        ],
        [
         8590976232,
         "2020-11-22T07:00:28.401+0000",
         1606028428,
         "It would be big loss of world if Mr Trump...\nEveryone in the world loves president Trump. except for left-wing librandus, China, North Korea and \nbelievers of man-made Fake Evil Book\n@realDonaldTrump\n#elections\n#USElectionResults\n#AmericaFirst\n#TrumpvsBiden \nTrump\n#DonaldTrump"
        ],
        [
         8591074016,
         "2020-11-22T08:06:07.593+0000",
         1606032367,
         "It would be big loss of world if Mr Trump...\nEveryone in the world loves president Trump. except for left-wing librandus, China, North Korea and \nbelievers of man-made Fake Evil Book\n@realDonaldTrump\n#elections\n#USElectionResults\n#AmericaFirst\n#TrumpvsBiden \nTrump\n#DonaldTrump"
        ],
        [
         8590995632,
         "2020-11-22T07:23:35.619+0000",
         1606029815,
         "If by any chance you turn a blind eye against it because doing so brings your candidate into power, you would have won a minimum of for years but would have betrayed Abraham Lincoln who I believe you consider to be one of your greatest @POTUS \n#USElectionResults #USAelection2020"
        ],
        [
         8591015896,
         "2020-11-22T07:36:09.635+0000",
         1606030569,
         "#CNN & other USA media should start asking #Trump #WhiteHouse direct questions about his claims. Is Trump saying #JoeBiden & #KamalaHarris are involved in rigged #USElectionResults? Was GOP Politicians in Georgia & Arizona involved? See how crazy Whitehouse is prepared to get."
        ],
        [
         8591044816,
         "2020-11-22T07:56:16.493+0000",
         1606031776,
         "Sorry for the wonderful #UnitedStates. Trump’s cowardly behaviour, along with that of his team and many Republican senators, is despicable.\n\n#USElectionResults : America 'exhausted and impatient' as divisions feel deeper than ever | US News | Sky News https://t.co/vSxghi2m3T"
        ],
        [
         8591067664,
         "2020-11-22T08:10:43.859+0000",
         1606032643,
         "#Shamefull thieves\nTurkey STEALS Syrian Olive oil from #Afrin (after invading and murdering brutaly Kurds) and tries to sell it to #US\nThat's how turkey makes money, by trading the stolen from others \n#USAElections2020 #USAelection2020 #USElectionResults \nhttps://t.co/l5NG0C2xGj"
        ],
        [
         8590968000,
         "2020-11-22T07:05:04.814+0000",
         1606028704,
         "#Shamefull thieves\nTurkey STEALS Syrian Olive oil from #Afrin (after invading and murdering brutaly Kurds) and tries to sell it to #US\nThat's how turkey makes money, by trading the stolen from others \n#USAElections2020 #USAelection2020 #USElectionResults \nhttps://t.co/l5NG0C2xGj"
        ],
        [
         8590975200,
         "2020-11-22T06:59:58.414+0000",
         1606028398,
         "@realDonaldTrump To tackle china and all terror of the world, Mr. Trump is a perfect man with perfect strategies\n\n@realDonaldTrump\n#elections\n#USElectionResults\n#AmericaFirst\n#TrumpvsBiden \nTrump\n#DonaldTrump\nDonald Trump\n#USElections2020\n#Usa2020\n#TrumpVsBidenFight\n#BidenHarris2020"
        ],
        [
         8591072984,
         "2020-11-22T08:05:37.591+0000",
         1606032337,
         "@realDonaldTrump To tackle china and all terror of the world, Mr. Trump is a perfect man with perfect strategies\n\n@realDonaldTrump\n#elections\n#USElectionResults\n#AmericaFirst\n#TrumpvsBiden \nTrump\n#DonaldTrump\nDonald Trump\n#USElections2020\n#Usa2020\n#TrumpVsBidenFight\n#BidenHarris2020"
        ],
        [
         8591095776,
         "2020-11-22T08:20:42.460+0000",
         1606033242,
         "After supporters of President @realDonaldTrump  protested the #USElectionResults and marched to the Supreme Court, clashes with counterdemonstrators led to fistfights, at least one stabbing and more than 20 arrests. #StopTheSteal #USPresidentialElection\nhttps://t.co/k5oHU8CH19"
        ],
        [
         8590975424,
         "2020-11-22T07:10:06.031+0000",
         1606029006,
         "#Trump turns to blocking #statecertification of #USelectionresults after #courtlosses\nIn MI, 2 GOP officials initially refused to certify results despite no evidence of fraud. In AZ, officials are balking at signing off on vote tallies in a rural county\nhttps://t.co/eX5Atd4WSG"
        ],
        [
         8591040472,
         "2020-11-22T07:42:26.031+0000",
         1606030946,
         "What is Trump's endgame & more importantly the endgame of those promoting the fallacy that he still has a patth? He reverses GA - Biden has 290 votes. He reverses PA too, Biden still has 270. He would still need NV or WI. This requires him to overturn 3 states. #USElectionResults"
        ],
        [
         8591075088,
         "2020-11-22T08:15:45.132+0000",
         1606032945,
         "#Trump turns to blocking #statecertification of #USelectionresults after #courtlosses\nIn MI, 2 GOP officials initially refused to certify results despite no evidence of fraud. In AZ, officials are balking at signing off on vote tallies in a rural county\nhttps://t.co/eX5Atd4WSG"
        ],
        [
         8590997992,
         "2020-11-22T07:15:03.287+0000",
         1606029303,
         "After supporters of President @realDonaldTrump  protested the #USElectionResults and marched to the Supreme Court, clashes with counterdemonstrators led to fistfights, at least one stabbing and more than 20 arrests. #StopTheSteal #USPresidentialElection\nhttps://t.co/k5oHU8CH19"
        ],
        [
         8591021576,
         "2020-11-22T07:30:01.927+0000",
         1606030201,
         "How Hitler seized power in Nazi Germany?\n1. Create a crisis.\n2. Demonize opponents.\n3. Declare a state of emergency.\n4. Undermine elections.\n5. Make the rule of law irrelevant.\n6. Rule by executive order.\nNumber 4 is trending\n@realDonaldTrump\n#USElectionResults #TrumpIsLosing"
        ],
        [
         8590978856,
         "2020-11-22T07:01:58.493+0000",
         1606028518,
         "Trump makes futile attempts to overturn the election results as Michigan backs Biden win, narrowing down President’s options - The World Reviews \n\n#USElectionResults #USPresidentialElections2020 #USA #PresidentElectJoe #DonaldTrump #Michigan #Georgia  https://t.co/Po2ue43keV"
        ],
        [
         8591052056,
         "2020-11-22T08:00:49.229+0000",
         1606032049,
         "Frustrated seeing Indian plan to attack Pakistan after 13 Nov  jeopardised in the wake of #USElectionResults the #IndianArmy has started shelling Civilian population in Azad #Kashmir. 4 civilians including kids martyred\n@amnesty\n@AJEnglish\n#NeelumValley https://t.co/ssCgCEGRhO"
        ],
        [
         8591002688,
         "2020-11-22T07:18:09.123+0000",
         1606029489,
         "@LisaHembree5 Yes, but for at least 47 millions, maybe more if there was fraud, it was a dream that may come to a halt. A governement that actually puts their own citizens first..#USElection2020 #USAelection2020 #USElections #USElectionResults #Trump2020 https://t.co/uqKENOoNk9"
        ],
        [
         8591076640,
         "2020-11-22T08:07:37.600+0000",
         1606032457,
         "Trump makes futile attempts to overturn the election results as Michigan backs Biden win, narrowing down President’s options - The World Reviews \n\n#USElectionResults #USPresidentialElections2020 #USA #PresidentElectJoe #DonaldTrump #Michigan #Georgia  https://t.co/Po2ue43keV"
        ],
        [
         8591100472,
         "2020-11-22T08:23:48.454+0000",
         1606033428,
         "@LisaHembree5 Yes, but for at least 47 millions, maybe more if there was fraud, it was a dream that may come to a halt. A governement that actually puts their own citizens first..#USElection2020 #USAelection2020 #USElections #USElectionResults #Trump2020 https://t.co/uqKENOoNk9"
        ],
        [
         8591071112,
         "2020-11-22T08:13:13.867+0000",
         1606032793,
         "So is this the #Dems real plan\n#Biden gets in and resigns for health reasons\nso #Kamala get to be presedent \nThen Kamala appoints #Killary as vice president\nAnd then Kamala jumps off the 10th floor of the Whitehouse\nand BOOM Killary is president\n#USElectionResults #PresidentBiden"
        ],
        [
         8590971448,
         "2020-11-22T07:07:34.823+0000",
         1606028854,
         "So is this the #Dems real plan\n#Biden gets in and resigns for health reasons\nso #Kamala get to be presedent \nThen Kamala appoints #Killary as vice president\nAnd then Kamala jumps off the 10th floor of the Whitehouse\nand BOOM Killary is president\n#USElectionResults #PresidentBiden"
        ],
        [
         8591050408,
         "2020-11-22T07:49:08.812+0000",
         1606031348,
         "Following the #USElectionResults, I'm pleased to hear @JoeBiden will put America back into the Paris Agreement! Finally a President with the correct priorities on climate change and America's future. A man who's not there for economic business but for rebuilding and unifying!"
        ],
        [
         8591037656,
         "2020-11-22T07:40:36.017+0000",
         1606030836,
         "@realDonaldTrump 20 Jan 2021, USA will cease to be a laughing stock. Amazing how the past 4 years have been a comedy of errors. Congratulations to the well meaning citizens who understand the power of the ballot. #USElectionResults #VoteBlueToEndTheNightmare #democracy #Peace"
        ],
        [
         8591090344,
         "2020-11-22T08:17:00.139+0000",
         1606033020,
         "Don getting grumpy with me after I reminded him of what he said back in mid-October:\n“Can you imagine if I lose? I will have lost to the worst candidate in the history of American politics”\n\n#ElectionResults2020 #USElections2020 #USElectionResults https://t.co/fNqwmv7RMt"
        ],
        [
         8591013464,
         "2020-11-22T07:34:39.651+0000",
         1606030479,
         "In an interview with Oprah Winfrey, former US President @BarackObama spoke about a plethora of topics. From the future of Obamacare act to how the #USElectionResults are going to shape global politics, and many more. @PriyankaSh25 brings you the story https://t.co/bWqGXZjZFG"
        ],
        [
         8590992560,
         "2020-11-22T07:11:21.026+0000",
         1606029081,
         "Don getting grumpy with me after I reminded him of what he said back in mid-October:\n“Can you imagine if I lose? I will have lost to the worst candidate in the history of American politics”\n\n#ElectionResults2020 #USElections2020 #USElectionResults https://t.co/fNqwmv7RMt"
        ],
        [
         8590974512,
         "2020-11-22T07:09:36.040+0000",
         1606028976,
         "It is not Joe Biden or Donald Trump, but Hunter Biden who has won: Elections Integrity is the cornerstone of a Democracy\n\nhttps://t.co/Iws16wXJxG\n\n@realDonaldTrump\n #Trump2020 #USElectionResults #USAElections2020 \n#TrumpIsANationalDisgrace\n\n@FoxNews\n @tedcruz\n @LindseyGrahamSC"
        ],
        [
         8591074176,
         "2020-11-22T08:15:15.127+0000",
         1606032915,
         "It is not Joe Biden or Donald Trump, but Hunter Biden who has won: Elections Integrity is the cornerstone of a Democracy\n\nhttps://t.co/Iws16wXJxG\n\n@realDonaldTrump\n #Trump2020 #USElectionResults #USAElections2020 \n#TrumpIsANationalDisgrace\n\n@FoxNews\n @tedcruz\n @LindseyGrahamSC"
        ],
        [
         8591061968,
         "2020-11-22T08:06:52.608+0000",
         1606032412,
         "@realDonaldTrump Election should be conduct again, big fraud is happened in collecting postal votes and handling them, by particular section of America, these communities hate Mr. Trump please keep them away from election work\n#elections\n#USElectionResults2020\n#USElectionResults"
        ],
        [
         8590986208,
         "2020-11-22T07:17:34.123+0000",
         1606029454,
         "Rudy #Giuliani talks about the #affidavits gathered to support U.S. #President Donald #Trump's lawsuits re: #election #fraud. \n\n#Biden #USAElections2020 #stopthesteal #evidence #USElectionResults \n\nSworn Evidence Of Pervasive #Voter #Fraud  https://t.co/X9Yz5HPdow via @YouTube"
        ],
        [
         8591085872,
         "2020-11-22T08:23:13.468+0000",
         1606033393,
         "Rudy #Giuliani talks about the #affidavits gathered to support U.S. #President Donald #Trump's lawsuits re: #election #fraud. \n\n#Biden #USAElections2020 #stopthesteal #evidence #USElectionResults \n\nSworn Evidence Of Pervasive #Voter #Fraud  https://t.co/X9Yz5HPdow via @YouTube"
        ],
        [
         8590962304,
         "2020-11-22T07:01:13.414+0000",
         1606028473,
         "@realDonaldTrump Election should be conduct again, big fraud is happened in collecting postal votes and handling them, by particular section of America, these communities hate Mr. Trump please keep them away from election work\n#elections\n#USElectionResults2020\n#USElectionResults"
        ],
        [
         8591033328,
         "2020-11-22T07:47:52.430+0000",
         1606031272,
         "Give your website traffic by having many sales.\nClick this link below and you see the amazing sales results on your product ⁦@realDonaldTrump⁩ ⁦@JoeBiden⁩ #USElectionResults #IndonesiaTerserah #MarchForTrump #BIDMAS #BreakingNewsFromCrystalLake https://t.co/Tgz0IRZiNp"
        ],
        [
         8590970600,
         "2020-11-22T07:06:54.831+0000",
         1606028814,
         "If #RudyGiuliani believes Hugo Chavez has been rigging #USElection\\#USElectionResults from beyond the grave. @realDonaldTrump can ask Herman Cain for help, as he's active after death. #Chavez & #Cain can carry the fight between socialism & capitalism beyond the grave.\n#r4today"
        ],
        [
         8591007600,
         "2020-11-22T07:21:10.620+0000",
         1606029670,
         "#Republicans not accepting our #USElectionResults is it because you’re just denying our #RighttoVote and elect our President? Nooo I think you’re trying  #HitlerStyle Well .. We #TheUSCitizens don’t Want your #Dictator #YourFührer #Wearereadytoevicthim from White House"
        ],
        [
         8591055168,
         "2020-11-22T07:52:20.190+0000",
         1606031540,
         "Watching Trump talk for the first time since the election has been called for Biden. The bravado is gone. He looks deflated. \n\nHe is one of the “losers” he says hates. \n\nThere is no shame in losing but there is shame in not admitting defeat. \n\n#USElectionResults #Biden2020"
        ],
        [
         8590988536,
         "2020-11-22T07:08:29.819+0000",
         1606028909,
         "@CNN Good start. Might as well get used to this scenario. You know #BidenHarris  will soon change to #HarrisBiden once #USElectionResults  are official. Basement snoozes for #SleepyJoe who'll say I don't want to know #KamalaHarris, you deal with it..Nah, nah,nah, nah, nah!!"
        ],
        [
         8591064616,
         "2020-11-22T07:59:42.850+0000",
         1606031982,
         "#Breaking News \n\nJoe #Biden won #Arizona, holding a narrow lead there after over a week of counting. The state hadn’t voted for a Democrat for president since 1996 @nytimes #Diplomacy140 \n#USElectionResults\n#JoeBiden #USPresidentElectJoeBiden #Trump \nhttps://t.co/a1WeskOehk"
        ],
        [
         8591086320,
         "2020-11-22T08:14:08.878+0000",
         1606032848,
         "@CNN Good start. Might as well get used to this scenario. You know #BidenHarris  will soon change to #HarrisBiden once #USElectionResults  are official. Basement snoozes for #SleepyJoe who'll say I don't want to know #KamalaHarris, you deal with it..Nah, nah,nah, nah, nah!!"
        ],
        [
         8591004432,
         "2020-11-22T07:19:10.600+0000",
         1606029550,
         "I'm only really bothered with Twitter when America is awake and reporting! \nFeed my fraud addiction! \n#USElectionResults #ElectionFraud2020 #electionfraud #Trump2020Lanslide #TRUMP2020ToSaveAmerica \nAnd of course the Twitter misspelled hashtags #ElectionFruad #ElectionFruad2020"
        ],
        [
         8591076304,
         "2020-11-22T08:07:27.598+0000",
         1606032447,
         "#USElectionResults The  SCOTUS and the entire judiciary in the US are taking the lead in showing the world that  Strong Institutions can save a democracy at a time of crisis! I think Americans should be proud of what  is going on now despite the defiance from the White House!"
        ],
        [
         8590978520,
         "2020-11-22T07:01:48.490+0000",
         1606028508,
         "#USElectionResults The  SCOTUS and the entire judiciary in the US are taking the lead in showing the world that  Strong Institutions can save a democracy at a time of crisis! I think Americans should be proud of what  is going on now despite the defiance from the White House!"
        ],
        [
         8590990024,
         "2020-11-22T07:09:41.031+0000",
         1606028981,
         "WAKE  UP AMERICA!  Republicans are enabling chaos and confusion about election results. 70% of their 73 M voters believe them. This is the key of the pressure on the Electoral college. America destiny lay on the intergrity and courage of the EC. #USElectionResults  @JoeBiden"
        ],
        [
         8591087808,
         "2020-11-22T08:15:20.138+0000",
         1606032920,
         "WAKE  UP AMERICA!  Republicans are enabling chaos and confusion about election results. 70% of their 73 M voters believe them. This is the key of the pressure on the Electoral college. America destiny lay on the intergrity and courage of the EC. #USElectionResults  @JoeBiden"
        ],
        [
         8591056608,
         "2020-11-22T07:53:20.185+0000",
         1606031600,
         "306.\n\nDecisive. Comprehensive. Unquestionable. Democracy has spoken, and it has rejected showmanship, bluff and bluster in favour of substance, integrity and reason. Time for world politics to get back on track. Congrats President Biden.\n#USAElections2020 #USElectionResults"
        ],
        [
         8591030360,
         "2020-11-22T07:45:52.392+0000",
         1606031152,
         "Glad to see that @KippsFletcher and I broadly agree. There are some real obstacles facing #Biden. He needs to reach out to alienated Trump voters ASAP, and hear them out! No doubt that he's already trying!\n\n#Biden2020 #USElectionResults #BidenHarris https://t.co/G3tjMF9che"
        ],
        [
         8591036968,
         "2020-11-22T07:40:16.026+0000",
         1606030816,
         "@BDUTT The man seen in this photo is secured because of lakhs of Indian Men who voted for the lady seen in this pic to \"secure her\" and not seen to the one who posted this scrap ! #JaiHind #Manners #HaterParadise #FakeJournos #KamalaHarris #USElections2020 #USElectionResults"
        ],
        [
         8591021120,
         "2020-11-22T07:29:41.949+0000",
         1606030181,
         "Funny things regarding #voterfraud #fraud @ #USPresidentialElections2020 #USElectionResults :\nIn #Pennsylvania , supposedly 840 were 101 or older; 39 lived through the #CivilWar ; 45 were born in the 1800s. These are among the 21,000+ dead people in Penns. that „voted“"
        ],
        [
         8591096352,
         "2020-11-22T08:21:03.495+0000",
         1606033263,
         "it seems like the 2020 US election has been front page news, like, forever... but for a retrospective look at how America voted this year, check out the link in our bio for our latest article.⁠\n\nhttps://t.co/NoRAtqUemo\n\n#joebiden #bidenharris #uselection #uselectionresults"
        ],
        [
         8591067256,
         "2020-11-22T08:01:44.224+0000",
         1606032104,
         "In case many folks don’t know:\nIt’s not the #media that finalize the #USPresidentialElections2020 but the individual #states certify the #USElectionResults !\n#Biden #Trump #electionfraud #Pennsylvania #Georgia #Nevada #Arizona #Michigan #Wisconsin\nhttps://t.co/ev0XWjwM5y"
        ],
        [
         8591045952,
         "2020-11-22T07:45:57.380+0000",
         1606031157,
         "How @FoxNews is STILL promoting false narratives around #USElectionResults. Is there no adult in charge, @rupertmurdoch? No wonder your son #JamesMurdoch has left your toxic company (& hid wife @KathrynAMurdoch is celebrating @JoeBiden’s victory)! https://t.co/s23cVlfoUK"
        ],
        [
         8590998568,
         "2020-11-22T07:15:23.274+0000",
         1606029323,
         "it seems like the 2020 US election has been front page news, like, forever... but for a retrospective look at how America voted this year, check out the link in our bio for our latest article.⁠\n\nhttps://t.co/NoRAtqUemo\n\n#joebiden #bidenharris #uselection #uselectionresults"
        ],
        [
         8591097264,
         "2020-11-22T08:21:33.499+0000",
         1606033293,
         "BUY GOLD AT 1882.00 WITH TP- 1890.00 AND SL- 1874.00\n\nJoin group for more updates\nhttps://t.co/oJD32udKAF\n\n#TRADINGTIPS\n#trading #Singapore #Malaysia #UnitedKingdom #UnitedStates #France #China #Japan #Germany #England #USAelection2020 #USElectionResults #Australia #Morocco"
        ],
        [
         8590999480,
         "2020-11-22T07:15:54.322+0000",
         1606029354,
         "BUY GOLD AT 1882.00 WITH TP- 1890.00 AND SL- 1874.00\n\nJoin group for more updates\nhttps://t.co/oJD32udKAF\n\n#TRADINGTIPS\n#trading #Singapore #Malaysia #UnitedKingdom #UnitedStates #France #China #Japan #Germany #England #USAelection2020 #USElectionResults #Australia #Morocco"
        ],
        [
         8591057448,
         "2020-11-22T08:04:31.341+0000",
         1606032271,
         "#USElectionResults!\n#PeterNovak repeats his original prediction on @realDonaldTrump!\n\nWith every passing day and more recount results rolling in, possibilities of predictions coming true fast going into realm of mystery!\n\n#POTUS #JoeBiden #DonaldTrump https://t.co/Yu2E20FPyd"
        ],
        [
         8590994688,
         "2020-11-22T07:23:05.615+0000",
         1606029785,
         "Link https://t.co/rB6uiACYGb\n#seamless #patterns #digital #print \n#BackgroundRemoval #cutout #resize #clippingpath #retouching \n#USElectionResults #YouMakeStrayKidsStay #mobilephotography #BlackFriday #aespa #FIFA21 #GHMCElections2020 #KarachiKings #lovejihaad #BlackFriday"
        ],
        [
         8591014024,
         "2020-11-22T07:25:11.930+0000",
         1606029911,
         "The Wisconsin Elections Commission (@WI_Elections) said a statewide vote #ElectionRecount would cost an estimated $7.9 million, money that President @realDonaldTrump's campaign would have to pay in advance. #USPresidentialElection #USElectionResults    https://t.co/KCzUV2SwE0"
        ],
        [
         8591072568,
         "2020-11-22T08:14:03.883+0000",
         1606032843,
         "#Georgia 💙💙💙\n\nWe defeated Trump twice IN THE SAME ELECTION! 😉\n\n#gapol #recount #election #USElections2020 #USElections #USElectionResults2020 #USElectionResults #Recount2020 #RecountGeorgia #TrumpConcede #VoteHimOut #VotersDecided #VoteTrumpOut https://t.co/MWLitQBl1o"
        ],
        [
         8590972904,
         "2020-11-22T07:08:24.841+0000",
         1606028904,
         "#Georgia 💙💙💙\n\nWe defeated Trump twice IN THE SAME ELECTION! 😉\n\n#gapol #recount #election #USElections2020 #USElections #USElectionResults2020 #USElectionResults #Recount2020 #RecountGeorgia #TrumpConcede #VoteHimOut #VotersDecided #VoteTrumpOut https://t.co/MWLitQBl1o"
        ],
        [
         8591032896,
         "2020-11-22T07:37:34.657+0000",
         1606030654,
         "Starting now. We're first talking about the legacy of Engels. Then on to a Marxist analysis of the rise of Conspiracy Theories, and sum up of the #USElectionResults\n\nhttps://t.co/rqM1RjA1zF \n\n#WorldToWin🌎 #Engels200 #SocialistSunday #Socialism #Marx #ConspiracyTheories"
        ],
        [
         8591014464,
         "2020-11-22T07:35:09.640+0000",
         1606030509,
         "Dear @realDonaldTrump @POTUS there's a delegation of concerned countries going to the #USElectionResults\nto help mediate the democratic transition. Namely #Zimbabwe #Libya #Iran #NorthKorea even they believe you shud concede 😂🤣😂🤣😂🤣\nhttps://t.co/ejGI5tFGjs"
        ],
        [
         8590986968,
         "2020-11-22T07:07:29.835+0000",
         1606028849,
         "Joe Biden’s US election win means ‘more stability’ in superpower ties, American businesses in China hope #China #china #JoeBiden #bidenharis2020 #BidenTransition #JoeBidenKamalaHarris2020 #USElectionResults #USElection2020 \nhttps://t.co/fRZur1icM4 https://t.co/kisLhvEne3"
        ],
        [
         8591020832,
         "2020-11-22T07:39:21.014+0000",
         1606030761,
         "While most of the alleged election fraud 'evidence' have had relatively straightforward explanations, some are just ridiculous. Cudos to @standupmaths for having the energy to take on one of the more bizarre ones... #USElection2020 #USElectionResults https://t.co/9Kh6B9R3sT"
        ],
        [
         8591084752,
         "2020-11-22T08:13:08.888+0000",
         1606032788,
         "Joe Biden’s US election win means ‘more stability’ in superpower ties, American businesses in China hope #China #china #JoeBiden #bidenharis2020 #BidenTransition #JoeBidenKamalaHarris2020 #USElectionResults #USElection2020 \nhttps://t.co/fRZur1icM4 https://t.co/kisLhvEne3"
        ],
        [
         8591094856,
         "2020-11-22T08:20:12.465+0000",
         1606033212,
         "Christopher Krebs (@CISAKrebs),  director of the Cybersecurity and Infrastructure Security Agency (@CISAgov) who had called the election “the most secure in American history” has been fired. #USPresidentialElection #USElectionResults #Protect2020 https://t.co/gQrdj3bXjG"
        ],
        [
         8590997072,
         "2020-11-22T07:14:33.281+0000",
         1606029273,
         "Christopher Krebs (@CISAKrebs),  director of the Cybersecurity and Infrastructure Security Agency (@CISAgov) who had called the election “the most secure in American history” has been fired. #USPresidentialElection #USElectionResults #Protect2020 https://t.co/gQrdj3bXjG"
        ],
        [
         8591024248,
         "2020-11-22T07:41:31.004+0000",
         1606030891,
         "#ye conceded #USElectionResults #USAelection2020 #USElections2020 #USAElections2020 #AMERICANSFORKANYEWEST  #MillionMoronMarch #MillionMAGAMarch2020 #MillionMAGAMarch #Kanye2024 #kanyewest2024 #ye2024 #kanye #kanyewest concede #POTUS #realdonladtrump #maga https://t.co/rL0X6NcJqP"
        ],
        [
         8591082128,
         "2020-11-22T08:11:28.859+0000",
         1606032688,
         "Dear #USA\n\nHow about you just have NO #president and do another #election in four years? Your government seems to suck anyway, so just don’t have one for a while.\n\nSincerely,\nYour Australian Friend\n\n#USAElections2020 #USElectionResults2020 #USElectionResults \n#TrumpvsBiden"
        ],
        [
         8590984344,
         "2020-11-22T07:05:49.819+0000",
         1606028749,
         "Dear #USA\n\nHow about you just have NO #president and do another #election in four years? Your government seems to suck anyway, so just don’t have one for a while.\n\nSincerely,\nYour Australian Friend\n\n#USAElections2020 #USElectionResults2020 #USElectionResults \n#TrumpvsBiden"
        ],
        [
         8591031688,
         "2020-11-22T07:36:44.647+0000",
         1606030604,
         "@realDonaldTrump cares about himself, his ego, and whatever dumpster fire he calls a legacy. He does not care about America.\n#USElectionResults\n#USElections2020\nDonald Trump's estranged niece says uncle is 'deliberately' refusing to concede election https://t.co/ZZvDDZv6So"
        ],
        [
         8591009576,
         "2020-11-22T07:32:18.253+0000",
         1606030338,
         "2/2 A main thing about Trumps tweet is that Twitter notifies us about the actual decision which is basically fact-checking political decisions which is something that is valuable. I believe politicians should respect the public's decision. #canschufollowme #USElectionResults"
        ],
        [
         8591016688,
         "2020-11-22T07:36:39.637+0000",
         1606030599,
         "US President @realDonaldTrump is still mulling a last ditch-effort to stay in the @WhiteHouse by telling @GOP states to choose his loyalists to act as voters in the #ElectoralCollege and select him over @JoeBiden. #USElectionResults #ElectionFraud \nhttps://t.co/ldZRgcqLvp"
        ],
        [
         8591029160,
         "2020-11-22T07:34:54.633+0000",
         1606030494,
         "#Trump2020 #USElectionResults Some people hate Trump so much, they'd rather vote for Biden ( even if his policies are far worse) just to spite Trump. That shouldn't be reason for a vote for Biden. You vote for the person who has the best policies or just dont vote for either"
        ],
        [
         8590997400,
         "2020-11-22T07:14:43.298+0000",
         1606029283,
         "I'm inviting influencers keen to work with brands to develop content and share with their audiences: https://t.co/3Ig0fyg8gD\n#GirlTalkZA #bushiri #BHOVAMANIA #bhekicele #asbestos #Sjavamustrise #LadyZamarMustFall #JoeBidenKamalaHarris2020 #JOEBIDEN2020 #USElectionResults"
        ],
        [
         8591075584,
         "2020-11-22T08:16:05.136+0000",
         1606032965,
         "As per counting @JoeBiden wins the election . But , @realDonaldTrump still believing that he his the president of #USA !!!\nLet's make a poll and decided who his the winner of #usaelection 👍🏻\n#Election2020 #ElectionFraud #USElectionResults #USPresidentialElections2020"
        ],
        [
         8591017624,
         "2020-11-22T07:37:09.644+0000",
         1606030629,
         "Trump seems to have reversed falling minority support for GOP. Hispanic support peaked under Bush, while Asian support seems to be beginning a modest recovery, but is still way below the 1990s and 2000s #USElectionResults #USAelection2020 #Trump2020 https://t.co/Z9UIh7GjHK"
        ],
        [
         8590975920,
         "2020-11-22T07:10:26.042+0000",
         1606029026,
         "As per counting @JoeBiden wins the election . But , @realDonaldTrump still believing that he his the president of #USA !!!\nLet's make a poll and decided who his the winner of #usaelection 👍🏻\n#Election2020 #ElectionFraud #USElectionResults #USPresidentialElections2020"
        ],
        [
         8591095184,
         "2020-11-22T08:20:22.436+0000",
         1606033222,
         "I'm inviting influencers keen to work with brands to develop content and share with their audiences: https://t.co/3Ig0fyg8gD\n#GirlTalkZA #bushiri #BHOVAMANIA #bhekicele #asbestos #Sjavamustrise #LadyZamarMustFall #JoeBidenKamalaHarris2020 #JOEBIDEN2020 #USElectionResults"
        ],
        [
         8591006384,
         "2020-11-22T07:29:56.945+0000",
         1606030196,
         "Haha,  the reason they are dismissing the legal challenges of voting irregularities at at state level is because they know that any close scrutiny, digging or auditing would reveal massive criminal corruption of their cronies regarding voting fraud!!! \n\n#USElectionResults"
        ],
        [
         8591092440,
         "2020-11-22T08:18:31.259+0000",
         1606033111,
         "As officials in Nevada’s most populous counties certified results of the #November3Election, President @realDonaldTrump attacked the vote that gave Democratic candidate @JoeBiden a 33,596-vote statewide victory. #USElectionResults #PresidentElect https://t.co/lQSyk8pnjc"
        ],
        [
         8590994656,
         "2020-11-22T07:12:52.103+0000",
         1606029172,
         "As officials in Nevada’s most populous counties certified results of the #November3Election, President @realDonaldTrump attacked the vote that gave Democratic candidate @JoeBiden a 33,596-vote statewide victory. #USElectionResults #PresidentElect https://t.co/lQSyk8pnjc"
        ],
        [
         8591005256,
         "2020-11-22T07:19:40.620+0000",
         1606029580,
         "Surprising the lack of success of railroads in the US given that when #Trump is kicked out, the gravy train to end all gravy trains is going to come to a shuddering halt!! #TrumpOut #US #USA #USElectionResults #PresidentBiden #PresidentElectJoeBiden #VicePresidentElectHarris"
        ],
        [
         8591022904,
         "2020-11-22T07:40:41.011+0000",
         1606030841,
         "Republican leaders in four critical states won by #PresidentElect @JoeBiden say they won’t participate in a legally dubious scheme to flip their state’s electors to vote for President @realDonaldTrump #USPresidentialElection #USElectionResults \nhttps://t.co/UIplWU1L7z"
        ],
        [
         8591068360,
         "2020-11-22T08:11:13.868+0000",
         1606032673,
         "As President Donald Trump unsuccessfully fights the results of the presidential election in courts, his campaign released the names of four dead Georgians who allegedly voted, suggesting fraud. This is false. #FakeNews #Georgia #USElectionResults\n\nhttps://t.co/QP0knDHwoV"
        ],
        [
         8590968696,
         "2020-11-22T07:05:34.835+0000",
         1606028734,
         "As President Donald Trump unsuccessfully fights the results of the presidential election in courts, his campaign released the names of four dead Georgians who allegedly voted, suggesting fraud. This is false. #FakeNews #Georgia #USElectionResults\n\nhttps://t.co/QP0knDHwoV"
        ],
        [
         8590985848,
         "2020-11-22T07:06:49.832+0000",
         1606028809,
         "@thehill “We pledge that if you vote for us more people will die, the planet will burn and you will be able to go about armed to the teeth but without any work. Because we’re #Trumpublicans and that’s all we have left to offer!” @ProjectLincoln #USElectionResults"
        ],
        [
         8591074760,
         "2020-11-22T08:15:35.143+0000",
         1606032935,
         "Reportedly, @realDonaldTrump  would've won #GEORGIA  had he not suppressed his own supporters by demonising #MailInBallots with Republicans.\n\nMakes you wonder if the #USElectionResults would have been different considering how influential he is with his supporters?🤔"
        ],
        [
         8590975096,
         "2020-11-22T07:09:56.031+0000",
         1606028996,
         "Reportedly, @realDonaldTrump  would've won #GEORGIA  had he not suppressed his own supporters by demonising #MailInBallots with Republicans.\n\nMakes you wonder if the #USElectionResults would have been different considering how influential he is with his supporters?🤔"
        ],
        [
         8591024968,
         "2020-11-22T07:42:01.027+0000",
         1606030921,
         "I am the president-elect, but will not be president until next year. #COVID__19 does not respect dates on the calendar, it is accelerating right now. Urgent action is needed today, now, by the current administration.: @JoeBiden \n\n#PresidentElectJoeBiden #USElectionResults"
        ],
        [
         8591056600,
         "2020-11-22T08:04:01.337+0000",
         1606032241,
         "Donald Trump and the Republicans are behaving in an utterly corrupt, self-serving way. An appalling display of anti-democratic behaviour. #DonaldTrump #USElectionResults #US #Republicans #Democrats #Corruption #despotism #democracy ⁦@BBCNews⁩  https://t.co/92W2Fd1MAo"
        ],
        [
         8591056272,
         "2020-11-22T08:03:51.336+0000",
         1606032231,
         "Worth reading this Edward Norton thread on Trumps current tactics. Surely the covid crisis catastrophe he created and his delay tactics are reason enough to kick him out now. #covid19usa #USElectionResults #fightclub #kickhimoutnow #CallHisBluff https://t.co/xElMMaEauO"
        ],
        [
         8591049328,
         "2020-11-22T07:59:07.838+0000",
         1606031947,
         "US President Donald Trump has not yet conceded to Joe Biden, contending that fraud occurred during counting of votes. @rajkamalrao looks at how Trump came to lose a closely fought election\nhttps://t.co/Oa91Qgt9H1\n#USElectionResults \n@Kamathcometh https://t.co/kaKoEdaUWf"
        ],
        [
         8591049656,
         "2020-11-22T07:59:17.855+0000",
         1606031957,
         "Friday Fun: With all the #ElectionResults2020 & #USElectionResults drama going on, grab your popcorns and find out how #DeepFakes play a decisive part - Dangers of Deep Fakes by Anmol Tanubhrt.\n\nhttps://t.co/xGTrmdxUp4\n\n#USElectionResults2020 #USElections2020 #techfastly"
        ],
        [
         8591017840,
         "2020-11-22T07:27:41.922+0000",
         1606030061,
         "Whilst it may feel like a time to celebrate, we would be foolish to do so. Here is my piece on what’s next for America. Dear Democrats: reform or perish - The Student #USElectionResults ⁦⁦⁦@BernieSanders⁩ ⁦@AOC⁩ ⁦@ArandaQuim⁩ https://t.co/nakRnV1MjP"
        ],
        [
         8591018848,
         "2020-11-22T07:37:49.648+0000",
         1606030669,
         "Check out my Gig on Fiverr: stencil art https://t.co/9dYg70kWNj\n\n#RepublicansForBiden #Capricorn #Philadelphia #coronavirus #boycottfrenchproducts #USElectionResults #JoeBidenKamalaHarris2020 #WhatsApp #JOEBIDEN2020 #TrumpvsBiden #Election2020 #BidenHarris2020 #Islam"
        ],
        [
         8591026760,
         "2020-11-22T07:33:23.257+0000",
         1606030403,
         "@TimesNow Trump fantasising in #USElectionResults his Country Cousin playing out in #BiharElectionResults \n\n#बिहार_मे_लोकतंत्र_कि_हत्या \n#बिहार_मांगें_रिकॉउंटिंग https://t.co/ISfhouwi55"
        ],
        [
         8591030784,
         "2020-11-22T07:36:04.642+0000",
         1606030564,
         "Joe Biden’s victory in the recent American elections are a chance for Washington and Beijing to reset their relationship and work together to solve the world’s problems. \n\nFor China Daily: https://t.co/AL5Y1kH9AY\n\n#USAElections2020  #USElectionResults  #USChina"
        ],
        [
         8591056928,
         "2020-11-22T08:04:11.352+0000",
         1606032251,
         "Make the #USAElections2020 #USElectionResults  more fun and engaging with the right #apparel. Get it via @teespring here: https://t.co/xBSUhLnrEp\nAdd some fun to your #trump or #Biden friends.\n#Funwear4all #christmasshopping \n\n🙃Please RT and spread the word 🙃"
        ],
        [
         8590965464,
         "2020-11-22T07:03:24.792+0000",
         1606028604,
         "What the #USElectionResults has taught me is that 70 million people are racist misogynists who want the world to burn & the rest of the population are stunning and brave #Politics #racism #misogyny #stunningandbrave #science #facts #statistics 🙏🏽🙏🏽🙏🏽"
        ],
        [
         8590990336,
         "2020-11-22T07:20:15.609+0000",
         1606029615,
         "https://t.co/ZmLRpK71uM... a very detailed analysis of #USElectionResults goof up...terrifying to see how votes are switched and lost... the game goes on and on with no end in sight...such a hopeless electoral system with gaping holes... @realDonaldTrump @JoeBiden"
        ],
        [
         8591065128,
         "2020-11-22T08:09:03.874+0000",
         1606032543,
         "What the #USElectionResults has taught me is that 70 million people are racist misogynists who want the world to burn & the rest of the population are stunning and brave #Politics #racism #misogyny #stunningandbrave #science #facts #statistics 🙏🏽🙏🏽🙏🏽"
        ],
        [
         8590988680,
         "2020-11-22T07:19:15.604+0000",
         1606029555,
         "Mark Zuckerburg (FB Founder) and Dorsey ( Twitter Founder) testifying before US Senate jury clearly depicts the debate of arguments between Digital Authority over Conventional Authority vice versa.\n.\n.\n#USElectionResults #MarkZuckerberg #Dorsey #DigitalTransformation"
        ],
        [
         8591039000,
         "2020-11-22T07:51:55.198+0000",
         1606031515,
         "It is beyond ridiculous @PressSec . Lets just focus on @biden and @KamalaHarris from here on out. \n#USElectionResults #306for46 and we turned #georgiablue and #ArizonaBlue \nThats is a spanking if I ever saw one @realDonaldTrump \n#Resistance https://t.co/0OzWoPj6V7"
        ],
        [
         8591064576,
         "2020-11-22T08:08:43.872+0000",
         1606032523,
         "@realDonaldTrump It is not Joe Biden or Donald Trump, but Hunter Biden who has won: Elections Integrity is the cornerstone of a Democracy\n\nhttps://t.co/BPxUAjaXCC\n\n@FoxNews \n\n@realDonaldTrump\n\n #Trump2020 #USElectionResults #USAElections2020 \n#TrumpIsANationalDisgrace"
        ],
        [
         8590964912,
         "2020-11-22T07:03:03.491+0000",
         1606028583,
         "@realDonaldTrump It is not Joe Biden or Donald Trump, but Hunter Biden who has won: Elections Integrity is the cornerstone of a Democracy\n\nhttps://t.co/BPxUAjaXCC\n\n@FoxNews \n\n@realDonaldTrump\n\n #Trump2020 #USElectionResults #USAElections2020 \n#TrumpIsANationalDisgrace"
        ],
        [
         8591011432,
         "2020-11-22T07:33:28.249+0000",
         1606030408,
         "@htTweets @Namratamishra99 Trump fantasising in #USElectionResults his Country Cousin playing out in #BiharElectionResults \n\n#बिहार_मे_लोकतंत्र_कि_हत्या \n#बिहार_मांगें_रिकॉउंटिंग"
        ],
        [
         8591042704,
         "2020-11-22T07:54:45.197+0000",
         1606031685,
         "It looks like 10 days after elections,  CNN has finalised it's projections. With a projected win in Georgia and Trump's Pennsylvania case falling, Biden lead seems to grow stronger 306:232  #USElectionResults #USElection2020 #BidenHarris2020 https://t.co/oh0cFibsDO"
        ],
        [
         8591014960,
         "2020-11-22T07:25:41.940+0000",
         1606029941,
         "@Greg_Palast finds voter suppression in #Georgia — surprise surprise!\n\n(Oh, by the way, that was a joke! If you followed their mid-term elections in 2018, especially the gobernatorial one, you know why!) #USElections2020 #USElectionResults https://t.co/46TNkNm4Tg"
        ],
        [
         8590987784,
         "2020-11-22T07:07:59.815+0000",
         1606028879,
         "‘I am confident he knows he hasn't won’: Joe Biden on Trump\n#USElectionResults #TrumpvsBiden #TransitionNow #Americans ⁦@realDonaldTrump⁩ ⁦@JoeBiden⁩ ⁦@KamalaHarris⁩ ⁦@Klimakris1NukeZ⁩ ⁦@WSJ⁩ ⁦@FoxNews⁩ ⁦@CNN⁩  https://t.co/bNyxCRqWkq"
        ],
        [
         8591085568,
         "2020-11-22T08:13:38.890+0000",
         1606032818,
         "‘I am confident he knows he hasn't won’: Joe Biden on Trump\n#USElectionResults #TrumpvsBiden #TransitionNow #Americans ⁦@realDonaldTrump⁩ ⁦@JoeBiden⁩ ⁦@KamalaHarris⁩ ⁦@Klimakris1NukeZ⁩ ⁦@WSJ⁩ ⁦@FoxNews⁩ ⁦@CNN⁩  https://t.co/bNyxCRqWkq"
        ],
        [
         8591043296,
         "2020-11-22T07:55:05.183+0000",
         1606031705,
         "@VOANews “Pompeo set to embark on 10 day trip to Europe, Middle East..”\n\nBut why? Isn’t he supposed to be out of this job, within the next eight to nine weeks?\n\n#US #USA #America #USElectionResults #USAElections2020 #USElections2020 #AmericaDecides #Americans"
        ],
        [
         8590995984,
         "2020-11-22T07:13:52.113+0000",
         1606029232,
         "We will discuss the possible repercussions of the #USElectionResults on US Foreign Policy, particularly US-EU relations, NATO, and more, w/ @defnesadiklar\n Bruce Weinrod, Michael Binyon and @plschirach Register now: https://t.co/cmGZ4pT9ar https://t.co/83eYGTcfAa"
        ],
        [
         8591093768,
         "2020-11-22T08:19:31.255+0000",
         1606033171,
         "We will discuss the possible repercussions of the #USElectionResults on US Foreign Policy, particularly US-EU relations, NATO, and more, w/ @defnesadiklar\n Bruce Weinrod, Michael Binyon and @plschirach Register now: https://t.co/cmGZ4pT9ar https://t.co/83eYGTcfAa"
        ],
        [
         8591018320,
         "2020-11-22T07:37:29.632+0000",
         1606030649,
         "US President Donald Trump on Sunday acknowledged publicly for the first time that President-elect Joe Biden won the election a week after the race was called by high-profile US media outlets.\n\n#USElectionResults @realDonaldTrump @JoeBiden \n\nhttps://t.co/WM9vSKhrUV"
        ],
        [
         8590994984,
         "2020-11-22T07:13:02.105+0000",
         1606029182,
         "Just a thought, being a human being, and a person with an understanding of the law in certain terms, that all US citizens should be placing their confidence that emily Murphy will do the right thing once all the information she needs is ready. #USElectionResults"
        ],
        [
         8591092768,
         "2020-11-22T08:18:41.242+0000",
         1606033121,
         "Just a thought, being a human being, and a person with an understanding of the law in certain terms, that all US citizens should be placing their confidence that emily Murphy will do the right thing once all the information she needs is ready. #USElectionResults"
        ],
        [
         8591064176,
         "2020-11-22T07:59:22.863+0000",
         1606031962,
         ".@JoeBiden cemented his electoral victory by capturing the battleground state of #Arizona, but the transition to his administration remains in political stasis as @realDonaldTrump refuses to accept defeat. https://t.co/goIrZ96Mra #USElectionResults #USElections"
        ],
        [
         8591033448,
         "2020-11-22T07:37:54.646+0000",
         1606030674,
         "Trump admits Biden ‘won’ presidential election for the first time – but says won’t concede!\n\n#APPNews #TrumpvsBiden #USElectionResults #USPresidentialElections2020 @realDonaldTrump @JoeBiden @ForeignOfficePk \n\nhttps://t.co/mXaO1SuwsC https://t.co/3xzeZMW6RF"
        ],
        [
         8591007280,
         "2020-11-22T07:21:00.619+0000",
         1606029660,
         "Thank you to our strong panel of experts for joining @BurchFCPA today: @somseif, Nawan Butt, and Joe McDonnell. Here's a sneak peak of our webinar - NOW LIVE!\n#USElectionResults #covid19 #CovidVaccine #economics #unemployment #ourfuture https://t.co/UEZKd5MG6w"
        ],
        [
         8591020800,
         "2020-11-22T07:29:31.930+0000",
         1606030171,
         "#USElectionResults #USElections2020 #usconstitution #Biden #Democrats #Republicans Just astonished that a modern democracy like the #UnitedStates allow armed militias which undermine democracy when they have an army and a police force. Madness, absolute madness"
        ],
        [
         8591101896,
         "2020-11-22T08:24:39.804+0000",
         1606033479,
         "Two things notable about the numbers below : 1. So small a margin that it’s a reminder how important voter turn-out can be. 2. So large a margin that history suggests  it’s well beyond what a recount could change. #USElectionResults https://t.co/yMH8Fl9O26"
        ],
        [
         8591004112,
         "2020-11-22T07:19:00.599+0000",
         1606029540,
         "Two things notable about the numbers below : 1. So small a margin that it’s a reminder how important voter turn-out can be. 2. So large a margin that history suggests  it’s well beyond what a recount could change. #USElectionResults https://t.co/yMH8Fl9O26"
        ],
        [
         8591022112,
         "2020-11-22T07:30:23.258+0000",
         1606030223,
         "“[Stacey] Abrams established a clear plan to both register voters and sustain their support for the Democratic Party. Her aim was to reveal to Americans that Georgia was no longer a red state, but a battleground one instead.”\n#votecount #uselectionresults"
        ],
        [
         8591007760,
         "2020-11-22T07:30:58.250+0000",
         1606030258,
         "@realDonaldTrump Congrats from Sweden! Thank you for keeping other countries to do the same mistake our leftist liberals have done with almost unlimited muslim immigration! It's close to a revolution now..🇸🇪😣👍🇺🇸#uselection #USElectionResults"
        ],
        [
         8591069064,
         "2020-11-22T08:02:56.344+0000",
         1606032176,
         "#USElectionResults!\n#PeterNovak repeats his original prediction on @realDonaldTrump even more emphatically!\n\nThe real mystery now is.... What's in store on the eve of #Thanksgiving2020 for the great #USA? \n\n#POTUS #JoeBiden #DonaldTrump https://t.co/isvotDyEJ5"
        ],
        [
         8591084808,
         "2020-11-22T08:22:29.449+0000",
         1606033349,
         "If what is happening in the US was happening in a country in Eastern Europe - the EU would  have condemned it. Senators like Rubio & Graham would be outraged and calling for a peaceful transition. Is there any precedent for this in US history #USElectionResults"
        ],
        [
         8590985144,
         "2020-11-22T07:16:50.287+0000",
         1606029410,
         "If what is happening in the US was happening in a country in Eastern Europe - the EU would  have condemned it. Senators like Rubio & Graham would be outraged and calling for a peaceful transition. Is there any precedent for this in US history #USElectionResults"
        ],
        [
         8591077672,
         "2020-11-22T08:08:17.595+0000",
         1606032497,
         "About half of all Republicans believe President Donald Trump “rightfully won” the US election but that it was stolen from him by widespread voter fraud that favored Democratic #PresidentElect @JoeBiden #USElectionResults #POTUS46 \nhttps://t.co/E6ZN0LKx1l"
        ],
        [
         8591029888,
         "2020-11-22T07:35:24.638+0000",
         1606030524,
         "When multiple #Trump campaign lawsuits wouldn’t even help him win, and none of them argue his more extravagant claims, it begs the question - What the fuck are you doing Donald? https://t.co/KfbERYgXOy #USElection2020 #USElectionResults #trump #donaldtrump"
        ],
        [
         8590979888,
         "2020-11-22T07:02:38.484+0000",
         1606028558,
         "About half of all Republicans believe President Donald Trump “rightfully won” the US election but that it was stolen from him by widespread voter fraud that favored Democratic #PresidentElect @JoeBiden #USElectionResults #POTUS46 \nhttps://t.co/E6ZN0LKx1l"
        ],
        [
         8591071256,
         "2020-11-22T08:04:26.332+0000",
         1606032266,
         "@realDonaldTrump still sending out emails asking for money for his #USElectionResults defence fund. @VP included in asking for donations, fine print says 75%+ goes to his Super PAC. It's a scam, grift. Do Not Fall For It. It's A SCAM!! https://t.co/79MdOwgiw1"
        ],
        [
         8590995320,
         "2020-11-22T07:23:25.617+0000",
         1606029805,
         "#TruthMatters will eventually see the light of day...\n\n#WithdrawGCDNowKE #tuesdayvibe #Election2020 #YEDNCovid19Training #USElectionResults #onlineclasses #Fortnite #JoeBiden #LaunchAmerica #CovidVaccine #vcshot #Memes #LegendaryElite https://t.co/LX8gGXlcVZ"
        ],
        [
         8591023160,
         "2020-11-22T07:31:03.266+0000",
         1606030263,
         "Where are the rubber bullets, tear gas cannons, and outrage now! #ProudBoys #DCProtests #DC #StandBackAndStandBy #hypocrisy #doublestandard #GOPHypocrisy #USElection2020 #USElectionResults #BidenHarris2020 #AmericaDecided2020 #BidenWon https://t.co/gONdsbUd4B"
        ],
        [
         8591089864,
         "2020-11-22T08:16:40.121+0000",
         1606033000,
         "President Ronald Regans @PresidentRonald magnanimous last speech. The US outgoing presidents need to show maturity and selflessness.  #PresidentialElection2020 #PresidentBiden #PresidentTrump #USElectionResults #USPresidentialElections2020 https://t.co/m1vSE0Q5Sr"
        ],
        [
         8590992080,
         "2020-11-22T07:11:01.023+0000",
         1606029061,
         "President Ronald Regans @PresidentRonald magnanimous last speech. The US outgoing presidents need to show maturity and selflessness.  #PresidentialElection2020 #PresidentBiden #PresidentTrump #USElectionResults #USPresidentialElections2020 https://t.co/m1vSE0Q5Sr"
        ],
        [
         8590992744,
         "2020-11-22T07:21:45.619+0000",
         1606029705,
         "Spending a lot of time recently watching the outpouring over the US Election. Got great WiFi up here. It just served to remind me that one of dads gargoyles is missing. It’s the weather worn orange one. #TrumpConceded #Trump #USElectionResults #JesusChrist"
        ],
        [
         8591045208,
         "2020-11-22T07:45:27.382+0000",
         1606031127,
         "@Star_1_Man Staggering how poor grammar and poor spelling are common to right wing racist, sexist bigots on both sides of the Atlantic.\nWonder what the common denominator may be?\n#USElectionResults \n#USAElections2020 \n#ToryIncompetence \n#BorisHasFailedTheUK"
        ],
        [
         8591032112,
         "2020-11-22T07:47:02.396+0000",
         1606031222,
         "To all US news: please stop phrasing the voting fraud conspiracy in a way where if counting errors exist, they might be unilateral. ERRORS ARE RANDOM. Trump can't flip a state with errors: THEY ARE RANDOMLY DISTRIBUTED. Truly, please stop. #USElectionResults"
        ],
        [
         8591052928,
         "2020-11-22T07:50:28.843+0000",
         1606031428,
         "#USElectionResults has changed everything so that everything remains the same.\nIn detail, the cartoon by Bill Purkayastha (nickname Jihadi Colin), a citizen of India @not3bad @suzannahfrances @ExtinctionR @KillTheCorpora @soghetti. https://t.co/dTewa7QVRI"
        ],
        [
         8591064952,
         "2020-11-22T07:59:52.850+0000",
         1606031992,
         "7 #Habits of #Fashionable #Women That Help Them Look Incredible \n\nFull Guide here : https://t.co/0kRzsMyg0A\n\n#fashionstyle #fashionnova #FashionWeek #fashion #FashionModel #USElectionResults #NewYork #LasVegas #LosAngeles #girl #girls https://t.co/JnpuVRZGIf"
        ],
        [
         8591030056,
         "2020-11-22T07:45:42.374+0000",
         1606031142,
         "Giuliani is going to run Trump's legal gambit. 3 conclusions: first, Trump knows there is no chance; second, no other public figure would sully themselves in this way; third, Rudy cannot sink lower than he already has. #USElectionResults #USAelection2020"
        ],
        [
         8591077544,
         "2020-11-22T08:17:25.136+0000",
         1606033045,
         "And those who think @wikileaks and #JulianAssange  are a force for good in the world should really rethink and reset their beliefs.  Astonishing... and yes the 'we' is important #USAElections2020 #USElections2020  #USElectionResults https://t.co/daxNZZeOXp"
        ],
        [
         8590977880,
         "2020-11-22T07:11:46.036+0000",
         1606029106,
         "And those who think @wikileaks and #JulianAssange  are a force for good in the world should really rethink and reset their beliefs.  Astonishing... and yes the 'we' is important #USAElections2020 #USElections2020  #USElectionResults https://t.co/daxNZZeOXp"
        ],
        [
         8591041080,
         "2020-11-22T07:42:46.017+0000",
         1606030966,
         "These jokers should register themselves on https://t.co/HR3maF4xS2 🤣🤣🤣 #MarchForTrump #MillionMoronMarch #BidenHarris2020 #USElectionResults #Vote2020 #DonaldTrump #JoeBidenKamalaHarris2020 #BidenHarris2020ToSaveAmerica \n\nhttps://t.co/XnyV80Bd2j"
        ],
        [
         8591101336,
         "2020-11-22T08:24:19.802+0000",
         1606033459,
         "It behooves the new #Biden administration to alter its perception and to understand that military power is no longer a guarantor of political and economic influence  #USElectionResults #BidenHarris #Trump2020 https://t.co/3ajGhiJ7AZ https://t.co/yM1kfD2CuO"
        ],
        [
         8591003552,
         "2020-11-22T07:18:40.454+0000",
         1606029520,
         "It behooves the new #Biden administration to alter its perception and to understand that military power is no longer a guarantor of political and economic influence  #USElectionResults #BidenHarris #Trump2020 https://t.co/3ajGhiJ7AZ https://t.co/yM1kfD2CuO"
        ],
        [
         8591059120,
         "2020-11-22T08:05:22.612+0000",
         1606032322,
         "For years people have been pointing out that Trump accuses others of doing what he does himself.\n\nInteresting that he’s saying the Dems are stealing the election.\n\nEspecially given what’s happened in Michigan in the last few hours.\n\n#USElectionResults"
        ],
        [
         8590998672,
         "2020-11-22T07:25:16.938+0000",
         1606029916,
         "#GOP is now defined by the cowardice of elected #Republicans. They’re toeing #Trump’s ridiculous line of crazy conspiracy theories to avoid a nasty tweet. Pathetic. #USElectionResults #CountryOverParty #GOPCowards #LincolnProject #LindseyGrahamResign"
        ],
        [
         8591069816,
         "2020-11-22T08:12:13.878+0000",
         1606032733,
         "The potential of people of Indian origin to shape US public policies and to wield influence in the corridors of power in the US is vastly overstated: @Kparam in #MCopinion\nhttps://t.co/q3pq5b8Irp\n#USElectionResults #TeamBiden #KamalaHarris #ForeignPolicy"
        ],
        [
         8590961992,
         "2020-11-22T07:01:03.412+0000",
         1606028463,
         "Finally the Recount in #Georgia is over and @JoeBiden has won the election. Again. Americans can begin to move forward and heal, and I can now finally collect my winnings. Go #politics #USElection #USElectionResults #USPresidentialElections2020 #VoteHimOut"
        ],
        [
         8591061656,
         "2020-11-22T08:06:42.608+0000",
         1606032402,
         "Finally the Recount in #Georgia is over and @JoeBiden has won the election. Again. Americans can begin to move forward and heal, and I can now finally collect my winnings. Go #politics #USElection #USElectionResults #USPresidentialElections2020 #VoteHimOut"
        ],
        [
         8590970152,
         "2020-11-22T07:06:34.829+0000",
         1606028794,
         "The potential of people of Indian origin to shape US public policies and to wield influence in the corridors of power in the US is vastly overstated: @Kparam in #MCopinion\nhttps://t.co/q3pq5b8Irp\n#USElectionResults #TeamBiden #KamalaHarris #ForeignPolicy"
        ],
        [
         8591051752,
         "2020-11-22T08:00:39.241+0000",
         1606032039,
         "@AP (Associated Press) with no TV ratings at stake and only factual news as the basis of their mandate has reviewed the #USElectionResults and along with US Gov't agencies decreed that the election was the most secure in history. https://t.co/SavVcLOoGg"
        ],
        [
         8591089560,
         "2020-11-22T08:16:30.136+0000",
         1606032990,
         "Totally love this name #ps5uk #COVID19 #DisneyPlus #honktwtselfieday #ICAI_DENIES_SAFTEY #boycottzomato #saynotoxeno #1MillionMarkedSafeFromBJP #thursdaymorning #WorldToiletDay #USElectionResults #Vh1Playlist #YMornings #ZeePruk https://t.co/v03nkIiYDt"
        ],
        [
         8590991776,
         "2020-11-22T07:10:51.022+0000",
         1606029051,
         "Totally love this name #ps5uk #COVID19 #DisneyPlus #honktwtselfieday #ICAI_DENIES_SAFTEY #boycottzomato #saynotoxeno #1MillionMarkedSafeFromBJP #thursdaymorning #WorldToiletDay #USElectionResults #Vh1Playlist #YMornings #ZeePruk https://t.co/v03nkIiYDt"
        ],
        [
         8591035216,
         "2020-11-22T07:49:13.831+0000",
         1606031353,
         "#USElectionResults \n#DonaldTrump \n#CNNElection \n\nTrump can't handle TELLING the TRUTH or accepting it\n\nA Georgian official & One of Trump's lawyers, tries to correct TRUMP by telling him he LOST Georgia.......\n\nLawyer was sacked https://t.co/Pk4R7uUpas"
        ],
        [
         8591098712,
         "2020-11-22T08:22:34.443+0000",
         1606033354,
         "#MT\n\n“Mr Trump has refused to concede the US election, making unsubstantiated claims of \"massive\" voter fraud.\nElection officials said the vote was the \"most secure\" in US history.”  \n\n#USElection2020 \n#USElectionResults \n\nhttps://t.co/hsOXGefF0z"
        ],
        [
         8591000928,
         "2020-11-22T07:16:55.288+0000",
         1606029415,
         "#MT\n\n“Mr Trump has refused to concede the US election, making unsubstantiated claims of \"massive\" voter fraud.\nElection officials said the vote was the \"most secure\" in US history.”  \n\n#USElection2020 \n#USElectionResults \n\nhttps://t.co/hsOXGefF0z"
        ],
        [
         8591014360,
         "2020-11-22T07:25:21.937+0000",
         1606029921,
         "I've been wondering how Trump lost but all of them won?\nI figured it was a repudiation, but cheating is probably more likely\n\n#USElectionResults \n#AmericaDecides2020 \n\n#GOPCorruptionOverCountry \n#GOPTraitors\n#GOPBetrayedAmerica https://t.co/dSaw25WGQU"
        ],
        [
         8591060136,
         "2020-11-22T07:56:21.467+0000",
         1606031781,
         "With regards to the #USElectionResults I am sure there was fraud! There will always be fraud within any election!\n\nHowever the thousand or so cases aren't going to swing any of those states...\n\nStill watching with interest though to see what is dug up"
        ],
        [
         8590990568,
         "2020-11-22T07:10:01.018+0000",
         1606029001,
         "#USElectionResults #TopBusinessLeaders are recognizing ⁦@JoeBiden⁩ as the president-elect, even as Trump refuses to concede. #USChamberOfCommerce #CEO urged Trump to start the transition process to Biden without delay.\n1/ https://t.co/OcqsRurbqY"
        ],
        [
         8591088352,
         "2020-11-22T08:15:40.126+0000",
         1606032940,
         "#USElectionResults #TopBusinessLeaders are recognizing ⁦@JoeBiden⁩ as the president-elect, even as Trump refuses to concede. #USChamberOfCommerce #CEO urged Trump to start the transition process to Biden without delay.\n1/ https://t.co/OcqsRurbqY"
        ],
        [
         8590981824,
         "2020-11-22T07:03:49.801+0000",
         1606028629,
         "This is getting pretty close to the Friends episode - The one where Eddie won’t go! \nAnd ironically enough, it ends with JOEy moving in 😅\n#USElectionResults #USElections #Election2020 #ElectionResults2020 #JoeBiden #Trump https://t.co/uSXnD8ghL0"
        ],
        [
         8591079608,
         "2020-11-22T08:09:28.866+0000",
         1606032568,
         "This is getting pretty close to the Friends episode - The one where Eddie won’t go! \nAnd ironically enough, it ends with JOEy moving in 😅\n#USElectionResults #USElections #Election2020 #ElectionResults2020 #JoeBiden #Trump https://t.co/uSXnD8ghL0"
        ],
        [
         8590995016,
         "2020-11-22T07:23:15.616+0000",
         1606029795,
         "Two more victory’s for team Trump. When will the mainstream media recall their mistakes? \n\nhttps://t.co/Oa7QkCSkyN\n\n#BidenIsNotPresidentElect #Biden #PresidentialElection #Trump2020 #Trump #USElectionResults @realDonaldTrump @robertjensen @bdiederik"
        ],
        [
         8591041040,
         "2020-11-22T07:53:25.189+0000",
         1606031605,
         "I think the ongoing #Pentagon shakeup reflects that #Trump fears the #USArmy would \"oblige\" him to leave the White House more than that he is planning a military action somwhere.\n\n#USElectionResults #bidenharis2020 #MarkEsper https://t.co/Fwrzz4Y4W6"
        ],
        [
         8591066016,
         "2020-11-22T08:09:33.877+0000",
         1606032573,
         "This #USElectionResults debacle is a successful cover for the #CovidVaccine already being pushed on US children and seemingly may be pushed on us too! #CITIBANK calling a #USD crash following covid vacc. is quite frightening! https://t.co/MLiEvvhf7W"
        ],
        [
         8590966352,
         "2020-11-22T07:03:54.811+0000",
         1606028634,
         "This #USElectionResults debacle is a successful cover for the #CovidVaccine already being pushed on US children and seemingly may be pushed on us too! #CITIBANK calling a #USD crash following covid vacc. is quite frightening! https://t.co/MLiEvvhf7W"
        ],
        [
         8591026544,
         "2020-11-22T07:43:22.398+0000",
         1606031002,
         "The new #Trump post-#USAelection2020: red & white (no longer orange & blond). #turningpoint- he can't articulate it, by the physical transformation says it all! 😉 #BidenHarris2020 #USElectionResults2020 #USElectionResults https://t.co/2ZR5yAYzHt"
        ],
        [
         8590965792,
         "2020-11-22T07:03:34.796+0000",
         1606028614,
         "US Election 2020: Sam Newman's 'disgusting' Joe Biden tweet https://t.co/IEb9XUkf3k via @Yahoo #Election2020 #JoeBiden #JoeBiden2020 #JoeBidenPresidentElect #JoeBidenKamalaHarris2020 #USElection2020 #USElectionResults #USAElections2020 #DonaldTrump #Trump"
        ],
        [
         8591065456,
         "2020-11-22T08:09:13.860+0000",
         1606032553,
         "US Election 2020: Sam Newman's 'disgusting' Joe Biden tweet https://t.co/IEb9XUkf3k via @Yahoo #Election2020 #JoeBiden #JoeBiden2020 #JoeBidenPresidentElect #JoeBidenKamalaHarris2020 #USElection2020 #USElectionResults #USAElections2020 #DonaldTrump #Trump"
        ],
        [
         8591054776,
         "2020-11-22T07:52:00.190+0000",
         1606031520,
         "@andersoncooper just heard your \"We see him like an obese turtle on his back flailing in the hot sun, realizing his time is over.\" metaphor. Absolutely brilliant 🤣🤣🤣 falling around laughing listen to it. #USElectionResults #trumphasthehump"
        ],
        [
         8591047568,
         "2020-11-22T07:47:07.391+0000",
         1606031227,
         "Speaking to the Council for National Policy on Friday, Vice President @Mike_Pence said: “I promise you: We will keep fighting until every legal vote is counted, until every illegal vote is thrown out.\"\n#USElectionResults \nhttps://t.co/JOFPP84TVt"
        ],
        [
         8591083544,
         "2020-11-22T08:21:48.492+0000",
         1606033308,
         "(2/...) Accept the #USElectionResults and don't chaos anymore! Stop firing people who support you!\nBetter: Please fire yourself and leave the White House as soon as possible! Otherwise you are a  real danger to your country and to democracy ‼️"
        ],
        [
         8591014664,
         "2020-11-22T07:25:31.922+0000",
         1606029931,
         "Three more lawyers representing President Donald Trump's campaign have asked to withdraw from his #lawsuit challenging the #USElectionResults in #Pennsylvania, shaking up his legal team on the eve of a major court hearing.\n\nhttps://t.co/QXMZgmgEaU"
        ],
        [
         8590983880,
         "2020-11-22T07:16:09.310+0000",
         1606029369,
         "(2/...) Accept the #USElectionResults and don't chaos anymore! Stop firing people who support you!\nBetter: Please fire yourself and leave the White House as soon as possible! Otherwise you are a  real danger to your country and to democracy ‼️"
        ],
        [
         8591034256,
         "2020-11-22T07:48:32.420+0000",
         1606031312,
         "US President #DonaldTrump has not conceded to #JoeBiden, and his supporters will take to streets to back his unsubstantiated claims of election fraud. \n\nRead more: https://t.co/exxcubQwne\n\n#USAElections2020 #USElectionResults https://t.co/p9Rab3lxOW"
        ],
        [
         8590982272,
         "2020-11-22T07:14:58.268+0000",
         1606029298,
         "It always sucks to be on the losing side, be it sports, love or democracy. But the fact remains there are 73,438,425 broken hearts looking to blame.someone...... #USElection2020 #USElectionResults #Republican #Democrat #USAvotes #winnersandloosers"
        ],
        [
         8591081936,
         "2020-11-22T08:20:37.456+0000",
         1606033237,
         "It always sucks to be on the losing side, be it sports, love or democracy. But the fact remains there are 73,438,425 broken hearts looking to blame.someone...... #USElection2020 #USElectionResults #Republican #Democrat #USAvotes #winnersandloosers"
        ],
        [
         8591048728,
         "2020-11-22T07:47:57.426+0000",
         1606031277,
         "US Election 2020: The 'dead voters' in Michigan who are still alive. Kudos to my very good friend who found this.\n\nhttps://t.co/0K9CerRDba\n\n#USElectionResults #USElections #USElectionResults2020 #USElections2020 #USElection2020 #usa #politics #elections"
        ],
        [
         8591037992,
         "2020-11-22T07:40:46.018+0000",
         1606030846,
         "Fervent supporters of #DonaldTrump rallied in Washington behind his spurious claim of a stolen election and swarmed his motorcade when he detoured for a drive-by on his way out of town  \n\n#USElections2020 #USElectionResults \nhttps://t.co/AgYubxSyGg"
        ],
        [
         8591031104,
         "2020-11-22T07:36:14.627+0000",
         1606030574,
         "Dear @realDonaldTrump:\n\nPlease.\n\nDON'T concede the election.\n\nWhy?\n\nI want you to be FOREVER remembered as the pathetic, whiny loser you've always been and always will be.\n\nThanks, buddy...\n\n#USElectionResults #USAElections2020 #PresidentElectJoe"
        ],
        [
         8590998896,
         "2020-11-22T07:15:34.306+0000",
         1606029334,
         "Covid-19 has done few good things as well. #Trump ousted, #JudyShelton  nomination to #FederalReserveBoard failed. Stay Safe-n-Blessed🖖✨💐.\n#Dems #USA #GOP #Americans #PresidentElect #BidenHarris #JoeBiden #USElection2020 #USElectionResults"
        ],
        [
         8591096680,
         "2020-11-22T08:21:13.498+0000",
         1606033273,
         "Covid-19 has done few good things as well. #Trump ousted, #JudyShelton  nomination to #FederalReserveBoard failed. Stay Safe-n-Blessed🖖✨💐.\n#Dems #USA #GOP #Americans #PresidentElect #BidenHarris #JoeBiden #USElection2020 #USElectionResults"
        ],
        [
         8590969024,
         "2020-11-22T07:05:44.836+0000",
         1606028744,
         "Made in China again #China exports many thing now installing/ Booting  #USAElections2020 with #Pakistani expertise of riggings elections.\nI am not a supporter of either side but nothing is right about this #USElectionResults https://t.co/PD1o1hL350"
        ],
        [
         8591068688,
         "2020-11-22T08:11:23.868+0000",
         1606032683,
         "Made in China again #China exports many thing now installing/ Booting  #USAElections2020 with #Pakistani expertise of riggings elections.\nI am not a supporter of either side but nothing is right about this #USElectionResults https://t.co/PD1o1hL350"
        ],
        [
         8590981000,
         "2020-11-22T07:03:19.784+0000",
         1606028599,
         "President-elect @JoeBiden’s winning tally is approaching a record 80 million votes as Democratic bastions continue to count ballots and the 2020 election cracks turnout records. #PresidentElect #USElectionResults #POTUS46 https://t.co/AienXWVlyU"
        ],
        [
         8591078784,
         "2020-11-22T08:08:58.862+0000",
         1606032538,
         "President-elect @JoeBiden’s winning tally is approaching a record 80 million votes as Democratic bastions continue to count ballots and the 2020 election cracks turnout records. #PresidentElect #USElectionResults #POTUS46 https://t.co/AienXWVlyU"
        ],
        [
         8591049536,
         "2020-11-22T07:48:37.418+0000",
         1606031317,
         "It seems so-called Conservatives and Republicans are living in student dimension where their reality is something else. I don't think this many can be delusional #USElectionResults #TrumpIsPathetic #RepublicansAreDestroyingAmerica #Conservatives"
        ],
        [
         8590999264,
         "2020-11-22T07:25:36.938+0000",
         1606029936,
         "President @realDonaldTrump acknowledged for the first time that #PresidentElect @JoeBiden won the #USPresidentialElection, but he refused to concede and blamed his loss on a string of conspiracy theories. #USElectionResults https://t.co/FPBEkIQtAt"
        ],
        [
         8591029192,
         "2020-11-22T07:45:02.384+0000",
         1606031102,
         "@weekend_UK \n Do You Need Bookkeeper?I am expert in Quickbooks Online, and Xero software. https://t.co/v61HQqxQUS\n#Quickbooks #Xero #JoeBidenKamalaHarris2020 #TrumpMeltdown #USA #USElectionResults #accounting #bookkeeping https://t.co/CJyQMCvNUD"
        ],
        [
         8591089080,
         "2020-11-22T08:16:10.133+0000",
         1606032970,
         "More than half of #Republicans believe #DonaldTrump 'rightfully won' the election and was stolen by #JoeBiden in sign that president's unfounded fraud claims are being believed\nhttps://t.co/KDAhiBuojd\n#USAElections2020 #USElectionResults #News"
        ],
        [
         8590991296,
         "2020-11-22T07:10:31.035+0000",
         1606029031,
         "More than half of #Republicans believe #DonaldTrump 'rightfully won' the election and was stolen by #JoeBiden in sign that president's unfounded fraud claims are being believed\nhttps://t.co/KDAhiBuojd\n#USAElections2020 #USElectionResults #News"
        ],
        [
         8591023992,
         "2020-11-22T07:31:33.256+0000",
         1606030293,
         "After Admitting Jon Biden Win in the Presidential Election, Donald Trump Said He Will Not Concede. Check out the full story👇👇- https://t.co/3B8PUVtseW!\n\n#PresidentialElection2020  #USElectionResults  #BidenPresident https://t.co/6r74snVKbe"
        ],
        [
         8590997656,
         "2020-11-22T07:24:45.637+0000",
         1606029885,
         "Fresh from the Map Oven: Cartographic Views of the 2020 US Presidential Election https://t.co/scp68GpRu7 #USElection2020 #USElectionResults #USElection #maps #cartograms #cartography #politics @JoeBiden @KamalaHarris @realDonaldTrump @Mike_Pence"
        ],
        [
         8591041800,
         "2020-11-22T07:43:17.378+0000",
         1606030997,
         "Republican leaders in four critical states won by President-elect #JoeBiden say they won't participate in a legally dubious scheme to flip their state's electors to vote for President #DonaldTrump.\n#USElectionResults \nhttps://t.co/z1SLepedox"
        ],
        [
         8591058376,
         "2020-11-22T07:54:50.196+0000",
         1606031690,
         "Top U.S. cybersecurity official Christopher Krebs has told associates he expects to be fired by the White House. Krebs has drawn the ire of the Trump administration over a website debunking misinformation about the election #USElectionResults"
        ],
        [
         8590999192,
         "2020-11-22T07:15:44.322+0000",
         1606029344,
         "-Premieres 6:15 ET-\n\nDominion Voting shares an office floor with the extreme left eco-radical charity Tides Foundation\n\nKeean Keean reports from the scene \n\nhttps://t.co/2x8AtCtmBU\n\n#cdnpoli #USElectionResults\n@GerardBattenUK \n@Nigel_Farage"
        ],
        [
         8590998976,
         "2020-11-22T07:25:26.922+0000",
         1606029926,
         "Hey, @realDonaldTrump :\n\nSee, you're not a TOTAL loser...\n\nOh, wait.\n\nYou are.\n\nTime to get out of the White House, you fucking useless clown.\n\n#TrumpIsALaughingStock #TrumpIsALoser #USElections2020 #USElectionResults https://t.co/ZQHWbXuq3i"
        ],
        [
         8590966648,
         "2020-11-22T07:04:04.796+0000",
         1606028644,
         "N, remember how many #Republicans wiLL not care for their feLLow countrymen/ #women / ppL (animals, environment, climate, insects, water, shaLL i name more?) \n\n#stimuluspackage \n#USElectionResults \n#USAElections2020 https://t.co/VaRblC4Uuc"
        ],
        [
         8591066312,
         "2020-11-22T08:09:43.864+0000",
         1606032583,
         "N, remember how many #Republicans wiLL not care for their feLLow countrymen/ #women / ppL (animals, environment, climate, insects, water, shaLL i name more?) \n\n#stimuluspackage \n#USElectionResults \n#USAElections2020 https://t.co/VaRblC4Uuc"
        ],
        [
         8591082928,
         "2020-11-22T08:11:58.863+0000",
         1606032718,
         "Must say I thought this was a little harsh: ⁦”⁦@RudyGiuliani⁩ suffers hair malfunction in latest bizarre press conference”... headline not funny, not funny at all.\n\n#Election2020results \n#USElectionResults  https://t.co/EX80ppn50i"
        ],
        [
         8590985144,
         "2020-11-22T07:06:19.825+0000",
         1606028779,
         "Must say I thought this was a little harsh: ⁦”⁦@RudyGiuliani⁩ suffers hair malfunction in latest bizarre press conference”... headline not funny, not funny at all.\n\n#Election2020results \n#USElectionResults  https://t.co/EX80ppn50i"
        ],
        [
         8591013104,
         "2020-11-22T07:24:40.613+0000",
         1606029880,
         "Are you guys happy about this election and do you think @joebiden will do a good job ? \n\n#USElection2020 #TrumpvsBiden #RepublicFightsBack #democats #Biden2020 #TrumpvsBiden #Trump2020 #DonaldTrump #USElectionResults #USElection2020 #USElections"
        ],
        [
         8590980624,
         "2020-11-22T07:13:47.114+0000",
         1606029227,
         "In future when a writer pens anything about @WhiteHouse Politics no-one will be able to cry: \"That's too far fetched!\"\n\nThe writer will simply point to Donald Trump's @realDonaldTrump Presidency & #USElectionResults events & #TrumpMeltdown"
        ],
        [
         8591080288,
         "2020-11-22T08:19:26.262+0000",
         1606033166,
         "In future when a writer pens anything about @WhiteHouse Politics no-one will be able to cry: \"That's too far fetched!\"\n\nThe writer will simply point to Donald Trump's @realDonaldTrump Presidency & #USElectionResults events & #TrumpMeltdown"
        ],
        [
         8591000640,
         "2020-11-22T07:16:45.286+0000",
         1606029405,
         "Georgia's recount may have given President @realDonaldTrump a slight boost, but not nearly enough to affect the presidential election's outcome in the state. #USElectionResults #ElectionRecount #USPresidentialElection https://t.co/RkNxV398ai"
        ],
        [
         8591098424,
         "2020-11-22T08:22:24.443+0000",
         1606033344,
         "Georgia's recount may have given President @realDonaldTrump a slight boost, but not nearly enough to affect the presidential election's outcome in the state. #USElectionResults #ElectionRecount #USPresidentialElection https://t.co/RkNxV398ai"
        ],
        [
         8591027280,
         "2020-11-22T07:33:44.634+0000",
         1606030424,
         "US President @realDonaldTrump on Sunday worked to take back an acknowledgement that @JoeBiden won the race to #WhiteHouse while making it clear that he will keep trying to turn the #USElectionResults in his favour. https://t.co/yeYCu8KsIz"
        ],
        [
         8590978192,
         "2020-11-22T07:11:56.036+0000",
         1606029116,
         "put up or shut up @realDonaldTrump #putuporshutup #idiom #2020ElectionThoughts #howbadlydoyouwantit #sevenpointninemill #Recount #StopTheSteaI #MoneyWhereYourMouthIs #USElectionResults #WisconsinRecount #talkischeap https://t.co/mU9qG78O4H"
        ],
        [
         8591077856,
         "2020-11-22T08:17:35.137+0000",
         1606033055,
         "put up or shut up @realDonaldTrump #putuporshutup #idiom #2020ElectionThoughts #howbadlydoyouwantit #sevenpointninemill #Recount #StopTheSteaI #MoneyWhereYourMouthIs #USElectionResults #WisconsinRecount #talkischeap https://t.co/mU9qG78O4H"
        ],
        [
         8591001584,
         "2020-11-22T07:26:56.926+0000",
         1606030016,
         "So why is Trump and the Republicans are still talking about voters fraud with no evidence if they did have evidence they would be showing us right now  #TrumpIsPathetic #PresidentialElection #Biden #USElectionResults #PresidentElectJoeBiden"
        ],
        [
         8591062664,
         "2020-11-22T07:58:11.478+0000",
         1606031891,
         "The election took place on 3rd November. Today is 13th November. Estimated remaining votes to count: 5,185,240. Why does it take so long? #Trump #Biden #USElections2020 #USElectionResults #USPresidentialElections2020 https://t.co/MRvKMj3zDf"
        ],
        [
         8590989704,
         "2020-11-22T07:19:55.608+0000",
         1606029595,
         "A world where the #US fails to pass the baton from one leader to the next peacefully, gracefully, decently and with respect is a world where every autocrat is empowered to do the same with no repercussions. #USElection2020 #USElectionResults"
        ],
        [
         8591078144,
         "2020-11-22T08:17:45.122+0000",
         1606033065,
         "WSJ: Dominion (Voting machines) is not controlled by the Venezuelan government, it is not a subsidiary of the Clinton Foundation, & its systems did not delete millions of Trump votes. https://t.co/rH0OOuo8ZJ #USElectionResults #YOUREFIRED"
        ],
        [
         8590978480,
         "2020-11-22T07:12:06.038+0000",
         1606029126,
         "WSJ: Dominion (Voting machines) is not controlled by the Venezuelan government, it is not a subsidiary of the Clinton Foundation, & its systems did not delete millions of Trump votes. https://t.co/rH0OOuo8ZJ #USElectionResults #YOUREFIRED"
        ],
        [
         8591010960,
         "2020-11-22T07:23:10.614+0000",
         1606029790,
         "Link https://t.co/B8V1YnHosQ\n#BackgroundRemoval #cutout #resize #clippingpath #retouching \n#USElectionResults #YouMakeStrayKidsStay #mobilephotography #BlackFriday #aespa #FIFA21 #GHMCElections2020 #KarachiKings #lovejihaad #BlackFriday"
        ],
        [
         8591062472,
         "2020-11-22T08:07:12.625+0000",
         1606032432,
         "A major statistical portal, has claimed that the #2020PresidentialElection was notable for considerable political and geographic divides but it also highlighted a huge economic divide. #USElectionResults #POTUS46 https://t.co/cLJ2tlKBrT"
        ],
        [
         8590962808,
         "2020-11-22T07:01:33.479+0000",
         1606028493,
         "A major statistical portal, has claimed that the #2020PresidentialElection was notable for considerable political and geographic divides but it also highlighted a huge economic divide. #USElectionResults #POTUS46 https://t.co/cLJ2tlKBrT"
        ],
        [
         8591085088,
         "2020-11-22T08:13:18.874+0000",
         1606032798,
         "Number of votes for #PresidentBiden after election day: 73 million.\n\nNumber of votes for #PresidentBiden after #trump challenged the result: 80 million\n\n😂😂😂\n\n#USElectionResults2020 #USElection #USElectionResults #Biden #KamalaHarrisVP"
        ],
        [
         8590987304,
         "2020-11-22T07:07:39.827+0000",
         1606028859,
         "Number of votes for #PresidentBiden after election day: 73 million.\n\nNumber of votes for #PresidentBiden after #trump challenged the result: 80 million\n\n😂😂😂\n\n#USElectionResults2020 #USElection #USElectionResults #Biden #KamalaHarrisVP"
        ],
        [
         8591062144,
         "2020-11-22T07:57:51.491+0000",
         1606031871,
         "US poll officials have claimed that the recently-concluded 2020 presidential election was the \"most secure in American history,\" and rejected President Donald Trump's ballot fraud allegations. #USElectionResults https://t.co/rDjtGmmrmL"
        ],
        [
         8591009440,
         "2020-11-22T07:22:10.617+0000",
         1606029730,
         "Biden said he would repeal the Global Gag Rule that was reinstated by President Trump which bans overseas groups from U.S. funding if they provide or mention abortion.\n\nSource: Reuters #election2020 #BidenHarris2020 #USElectionResults"
        ],
        [
         8591045816,
         "2020-11-22T07:56:56.480+0000",
         1606031816,
         "President Trump’s accusation that the Democrats somehow “rigged” the #USElectionResults in favour of President-elect Joe Biden has been seized on by some Kremlin-controlled news outlets. #Russia\n\nhttps://t.co/8rJTyNpjsI #truth"
        ],
        [
         8591048024,
         "2020-11-22T07:47:27.376+0000",
         1606031247,
         "By my last tweet I should add \"knowingly\" as there are lawyers presenting information to the court that they know is false and an abuse of process. They should pay with their licenses. #USElectionResults #USAelection2020 #USPolitics"
        ],
        [
         8591047624,
         "2020-11-22T07:57:56.484+0000",
         1606031876,
         "@jlz0z He probably has to go into hiding to avoid the Barclay Bros and anyone who gave him money to orchestrate a no-deal #Brexit. There was big money riding on that outcome which won't happen now because of the #USElectionResults"
        ],
        [
         8591013400,
         "2020-11-22T07:24:50.630+0000",
         1606029890,
         "@RealJamesWoods I am a foreigner, trying to understand your system. Is it Chuck and #bigmedia that decides who win #USElection2020 and not the people and #SupremeCourt ? Is Chuck Superman? #USElectionResults https://t.co/I88YlPbDJL"
        ],
        [
         8591028408,
         "2020-11-22T07:34:34.644+0000",
         1606030474,
         "@BarackObama did not anticipate @realDonaldTrump 2 call #USElectionResults \"rigged\" !! beating @RahulGandhi s \"selective amnesia\" post EVERY election after 2014 \"RIGGED\" when @INCIndia lost (most), forgetting it was @INCIndia >>2"
        ],
        [
         8591069536,
         "2020-11-22T08:12:03.861+0000",
         1606032723,
         "US ELECTION: Georgia Confirms Biden Victory And Finds No Widespread Fraud After Audit #USAElections2020 #USElectionResults2020 #uselectionresults #USElections2020 #USElection2020 #USPresidentialElections2020  https://t.co/ufwpveAf2U"
        ],
        [
         8590969872,
         "2020-11-22T07:06:24.811+0000",
         1606028784,
         "US ELECTION: Georgia Confirms Biden Victory And Finds No Widespread Fraud After Audit #USAElections2020 #USElectionResults2020 #uselectionresults #USElections2020 #USElection2020 #USPresidentialElections2020  https://t.co/ufwpveAf2U"
        ],
        [
         8591064096,
         "2020-11-22T08:08:23.869+0000",
         1606032503,
         "Joe Biden is not the President Elect.\n\nTo become President Elect you have to have more than 270 votes certified by the electoral college or the opponent needs to concede.\n\n#USAElections2020 #USElectionResults #JoeBidenPresidentElect"
        ],
        [
         8590964432,
         "2020-11-22T07:02:43.487+0000",
         1606028563,
         "Joe Biden is not the President Elect.\n\nTo become President Elect you have to have more than 270 votes certified by the electoral college or the opponent needs to concede.\n\n#USAElections2020 #USElectionResults #JoeBidenPresidentElect"
        ],
        [
         8591053000,
         "2020-11-22T08:01:19.230+0000",
         1606032079,
         "#USElectionResults has two outcome #trumpwin or #ElectionFruad why it is so hard to prove it. Incumbent president incumbent senate incumbent Supreme Court. Just fucking prove it and get it over. #BananaRepublicans #AmericaVotes2020"
        ],
        [
         8591022072,
         "2020-11-22T07:40:11.021+0000",
         1606030811,
         "Fury at the prospect of a transfer of executive power showed no signs of abating, taking a cue the president's unrelenting assertion of victory in a race he actually lost\n\n#DonaldTrump #USElectionResults \nhttps://t.co/WocwE8CCo6"
        ],
        [
         8591032480,
         "2020-11-22T07:37:14.655+0000",
         1606030634,
         "Seems like all these MAGA morons are acting like the very \"snowflakes\" they've spent so long mocking. \n\nSome advice: You lost. Suck it up. Get over it. \n\n#MAGAMoronMarch #USElectionResults #TrumpConceded #HeLost #DeactivateTrump"
        ],
        [
         8591068128,
         "2020-11-22T08:02:14.228+0000",
         1606032134,
         "Yep! Biden won hands down! Republican In Michigan Goes From Loser To Winner After ‘Technical Glitch’ Fixed. Officials Urge ‘Confidence’ In System. #USElectionResults #Election2020 #Elecciones2020 https://t.co/qS2Y4vzeaB"
        ],
        [
         8591011752,
         "2020-11-22T07:33:38.267+0000",
         1606030418,
         "So that’s a landslide win by @JoeBiden by @realDonaldTrump standards . 306 Electoral college vote, same margin as Trump won by in 2016 .  https://t.co/QMwvSyY9SZ  . Turns out there was a blue wave after all #USElectionResults"
        ],
        [
         8591038520,
         "2020-11-22T07:41:06.006+0000",
         1606030866,
         "Hey I’m watching Share. Check it out now on Prime Video! - Wow. Watch share and pump this up. People need to know. #USElectionResults #Election2020results #ElectionDay #USA #media #CNNElection #FoxNews  https://t.co/45oOhVgLCI"
        ],
        [
         8591031176,
         "2020-11-22T07:46:22.387+0000",
         1606031182,
         "GOP leaders in 4 states quash dubious Trump bid on electors https://t.co/QarxxD7PY9 via @Yahoo It's high time to stop this circus and save democratic traditions established in this country. #USElectionResults #USAElections2020"
        ],
        [
         8591015048,
         "2020-11-22T07:35:29.642+0000",
         1606030529,
         "The Situation could return back to normal during spring in US. \nhttps://t.co/us8b33lhah \n\n#USA #COVID19 #CoronaVirusUpdates #BreakingNews #covidvaccine #US #USElectionResults #USAresults\n#news #covidnews #coronacases #American"
        ],
        [
         8591016408,
         "2020-11-22T07:36:29.636+0000",
         1606030589,
         "https://t.co/E6ItgI0vSL\nRemember what it was like to have a President that cared, told the Truth and was Respected by our Allies! 🇺🇸🇺🇸 #ObamaWasBetterAtEverything #USElectionResults #PresidentElectJoe #TrumpTantrum"
        ],
        [
         8591004768,
         "2020-11-22T07:19:20.617+0000",
         1606029560,
         "#USElectionResults #USElection2020 #JoeBiden #Democrats #Republicans #POTUS #PresidentialElection Does it really matter whether #trump concedes. #JoeBiden won & got the most votes. Ergo he won, end of. That's how elections work."
        ],
        [
         8591041528,
         "2020-11-22T07:43:07.377+0000",
         1606030987,
         "The Department of Homeland Security’s acting Secretary Chad Wolf has defied an order by President @realDonaldTrump to fire cybersecurity official Christopher Krebs.\n\nhttps://t.co/T5HxZXMS8W\n\n#Election2020 #USElectionResults"
        ],
        [
         8591080576,
         "2020-11-22T08:19:36.233+0000",
         1606033176,
         "I'm gonna miss @realDonaldTrump when he gets removed from Twitter. \n\nHis daily tweets of \"I win, I win, I win, I win, I win\" even though he definitely lost, make my evenings. \n\n#USElection2020 \n#USElectionResults \n#TrumpMeltdown"
        ],
        [
         8590980912,
         "2020-11-22T07:13:57.115+0000",
         1606029237,
         "I'm gonna miss @realDonaldTrump when he gets removed from Twitter. \n\nHis daily tweets of \"I win, I win, I win, I win, I win\" even though he definitely lost, make my evenings. \n\n#USElection2020 \n#USElectionResults \n#TrumpMeltdown"
        ],
        [
         8591061656,
         "2020-11-22T07:57:31.489+0000",
         1606031851,
         "President-elect Biden announced his Ambassador to Galapagos–Mitch McConnell.                                                                                     \n\n #democracy2020 #USElectionResults #BidenWon https://t.co/OumLZaauOm"
        ],
        [
         8590979192,
         "2020-11-22T07:02:08.495+0000",
         1606028528,
         "Ah, that explains it:\n\"When I look at myself in the first grade and I look at myself now, I’m basically the same. The temperament is not that different.\" #Trump #USElectionResults #ThingsTrumpNeverWon\nhttps://t.co/dQxPlRTflA"
        ],
        [
         8591076976,
         "2020-11-22T08:07:47.617+0000",
         1606032467,
         "Ah, that explains it:\n\"When I look at myself in the first grade and I look at myself now, I’m basically the same. The temperament is not that different.\" #Trump #USElectionResults #ThingsTrumpNeverWon\nhttps://t.co/dQxPlRTflA"
        ],
        [
         8590976248,
         "2020-11-22T07:10:36.028+0000",
         1606029036,
         "Conservative American Cardinal Raymond Burke has been attacking #PresidentElect @JoeBiden a practicing Catholic, as an anti-Catholic not fit to lead the nation. #USElectionResults #CardinalRaymondBurke\nhttps://t.co/s1fLksnRJ1"
        ],
        [
         8591075912,
         "2020-11-22T08:16:15.121+0000",
         1606032975,
         "Conservative American Cardinal Raymond Burke has been attacking #PresidentElect @JoeBiden a practicing Catholic, as an anti-Catholic not fit to lead the nation. #USElectionResults #CardinalRaymondBurke\nhttps://t.co/s1fLksnRJ1"
        ],
        [
         8591049832,
         "2020-11-22T07:48:48.825+0000",
         1606031328,
         "***New drop***\n\nThis week we're discussing the #USPresidentialElections2020 with our fav @DanielaPBraide 🇺🇲 \n\nhttps://t.co/3UyRbadnLE\n\nThis is #unsure #podcast #USAElections2020\n#USElectionResults https://t.co/GdkMpEtGdK"
        ],
        [
         8591028200,
         "2020-11-22T07:44:22.379+0000",
         1606031062,
         "@HingeMarketing Do You Need Bookkeeper?I am expert in Quickbooks Online, and Xero software. https://t.co/v61HQqxQUS\n#Quickbooks #Xero #JoeBidenKamalaHarris2020 #TrumpMeltdown #USA #USElectionResults #accounting #bookkeeping"
        ],
        [
         8591027928,
         "2020-11-22T07:44:12.385+0000",
         1606031052,
         "@HillaryClinton Do You Need Bookkeeper?I am expert in Quickbooks Online, and Xero software. https://t.co/v61HQqxQUS\n#Quickbooks #Xero #JoeBidenKamalaHarris2020 #TrumpMeltdown #USA #USElectionResults #accounting #bookkeeping"
        ],
        [
         8591070448,
         "2020-11-22T08:03:46.326+0000",
         1606032226,
         "#JoeBiden #JoeBidenKamalaHarris2020 #Biden #BidenPresident #bidenharis2020 #PressConference #USElectionResults #USAelection2020 #DidYouKnow #themurkywaters\n\nVisit- https://t.co/AgWGToKaiV\n\nDid you know ? https://t.co/QuuIVwg4IX"
        ],
        [
         8591006488,
         "2020-11-22T07:20:30.613+0000",
         1606029630,
         "So where is all that fraud Republican Politicians have been talking about? How about you boys @DonaldJTrumpJr @realDonaldTrump? Anything substantial?\n\n#USElectionResults #USElectionResults2020 #NoFraud #AmericaOrTrump #Trump"
        ],
        [
         8591087216,
         "2020-11-22T08:24:04.802+0000",
         1606033444,
         "Give it a couple of minutes and we we will be going live here, for a streaming comedy show. Talking #DollyParton, #BorisJohnson's #lockdown and odd #USElectionResults.\nWatch on mobile, laptop or TV. https://t.co/VLCI7Gekid"
        ],
        [
         8590987552,
         "2020-11-22T07:18:25.474+0000",
         1606029505,
         "Give it a couple of minutes and we we will be going live here, for a streaming comedy show. Talking #DollyParton, #BorisJohnson's #lockdown and odd #USElectionResults.\nWatch on mobile, laptop or TV. https://t.co/VLCI7Gekid"
        ],
        [
         8590988216,
         "2020-11-22T07:18:55.462+0000",
         1606029535,
         "47% of you guys voted FOR Trump - 73 million adults ! its really unsettling to know a nation THAT dumb and rich has weapons of mass destruction. #Election2020 #USAelection2020 #USElectionResults #ElectionNight #TrumpConceded"
        ],
        [
         8591032616,
         "2020-11-22T07:47:22.386+0000",
         1606031242,
         "#USElectionResults #USPresidentialElections2020\n#donaldtrumpyourefired\nIs Trump finally admitting defeat? 'Time will tell' https://t.co/3uZBdRMBuT\n\nFor video news and more, download the editorji app- https://t.co/dSRwSxo4LU"
        ],
        [
         8591087880,
         "2020-11-22T08:24:34.804+0000",
         1606033474,
         "47% of you guys voted FOR Trump - 73 million adults ! its really unsettling to know a nation THAT dumb and rich has weapons of mass destruction. #Election2020 #USAelection2020 #USElectionResults #ElectionNight #TrumpConceded"
        ],
        [
         8591083272,
         "2020-11-22T08:21:38.492+0000",
         1606033298,
         "I honestly don't know if I can cope until January for Trump to be gone. I feel like a adult locked outside a house, while the rampaging toddler inside, is destroying the place. \n#USElectionResults \n#OverTheLoser\n#45MustGo"
        ],
        [
         8590983608,
         "2020-11-22T07:15:59.324+0000",
         1606029359,
         "I honestly don't know if I can cope until January for Trump to be gone. I feel like a adult locked outside a house, while the rampaging toddler inside, is destroying the place. \n#USElectionResults \n#OverTheLoser\n#45MustGo"
        ],
        [
         8591043024,
         "2020-11-22T07:54:55.198+0000",
         1606031695,
         "CNN, ABC, CNBC all call #USElectionResults as 306-232 Biden/Trump. Someone in the GOP, sit the Tangerine nightmare down, explain to him he's not going to reflip all those states, and get him working on his #Concede speech"
        ],
        [
         8591043624,
         "2020-11-22T07:44:27.380+0000",
         1606031067,
         "@HAHollenback Do You Need Bookkeeper?I am expert in Quickbooks Online, and Xero software. https://t.co/v61HQqxQUS\n#Quickbooks #Xero #JoeBidenKamalaHarris2020 #TrumpMeltdown #USA #USElectionResults #accounting #bookkeeping"
        ],
        [
         8591044168,
         "2020-11-22T07:44:47.383+0000",
         1606031087,
         "@online_coder Do You Need Bookkeeper?I am expert in Quickbooks Online, and Xero software. https://t.co/v61HQqxQUS\n#Quickbooks #Xero #JoeBidenKamalaHarris2020 #TrumpMeltdown #USA #USElectionResults #accounting #bookkeeping"
        ],
        [
         8591038536,
         "2020-11-22T07:51:33.850+0000",
         1606031493,
         "#USElection2020 #USElectionResults given whats going on after the certification results is 99% completed.. and still no official political acceptance.. \"chicken\" should be one of the symbol of such political organization.."
        ],
        [
         8591043896,
         "2020-11-22T07:44:37.382+0000",
         1606031077,
         "@QBEnEspanol Do You Need Bookkeeper?I am expert in Quickbooks Online, and Xero software. https://t.co/v61HQqxQUS\n#Quickbooks #Xero #JoeBidenKamalaHarris2020 #TrumpMeltdown #USA #USElectionResults #accounting #bookkeeping"
        ],
        [
         8591044440,
         "2020-11-22T07:44:57.385+0000",
         1606031097,
         "@WalshWrites Do You Need Bookkeeper?I am expert in Quickbooks Online, and Xero software. https://t.co/v61HQqxQUS\n#Quickbooks #Xero #JoeBidenKamalaHarris2020 #TrumpMeltdown #USA #USElectionResults #accounting #bookkeeping"
        ],
        [
         8591042816,
         "2020-11-22T07:43:57.384+0000",
         1606031037,
         "@MeganTarnow Do You Need Bookkeeper?I am expert in Quickbooks Online, and Xero software. https://t.co/v61HQqxQUS\n#Quickbooks #Xero #JoeBidenKamalaHarris2020 #TrumpMeltdown #USA #USElectionResults #accounting #bookkeeping"
        ],
        [
         8591011160,
         "2020-11-22T07:33:18.262+0000",
         1606030398,
         "No You Didn't. \n\nYou lost badly and the mindset which produced 4 years of failure was evident the day you sent your Press Secretary out to lie about the Inauguration crowd size\n\n#USElectionResults https://t.co/3hcpigqu2H"
        ],
        [
         8591028648,
         "2020-11-22T07:44:42.383+0000",
         1606031082,
         "@KamalaHarris Do You Need Bookkeeper?I am expert in Quickbooks Online, and Xero software. https://t.co/v61HQqxQUS\n#Quickbooks #Xero #JoeBidenKamalaHarris2020 #TrumpMeltdown #USA #USElectionResults #accounting #bookkeeping"
        ],
        [
         8590964160,
         "2020-11-22T07:02:33.502+0000",
         1606028553,
         "American War Deaths Throughout History\n\n#COVID19 could soon be the greatest cause of US deaths in US history. \n\n#Trump #MAGA \n\n#USElectionResults \n\nYou’re Fired!\n\n#POTUS ⁦@realDonaldTrump⁩  https://t.co/yCvs3lrqKG"
        ],
        [
         8591063824,
         "2020-11-22T08:08:12.617+0000",
         1606032492,
         "American War Deaths Throughout History\n\n#COVID19 could soon be the greatest cause of US deaths in US history. \n\n#Trump #MAGA \n\n#USElectionResults \n\nYou’re Fired!\n\n#POTUS ⁦@realDonaldTrump⁩  https://t.co/yCvs3lrqKG"
        ],
        [
         8591061384,
         "2020-11-22T08:06:32.608+0000",
         1606032392,
         "#GAFAs, #unicorns, #USElectionResults, #FDIs and how to emerge stronger from the #crisis… Food for thoughts by our Founder & CEO @PascalCagni interviewed by \n@jocjom in ​​@Le_Figaro 🗞️\nhttps://t.co/6vj01OB5ll"
        ],
        [
         8590961720,
         "2020-11-22T07:00:53.412+0000",
         1606028453,
         "#GAFAs, #unicorns, #USElectionResults, #FDIs and how to emerge stronger from the #crisis… Food for thoughts by our Founder & CEO @PascalCagni interviewed by \n@jocjom in ​​@Le_Figaro 🗞️\nhttps://t.co/6vj01OB5ll"
        ],
        [
         8591000368,
         "2020-11-22T07:16:35.284+0000",
         1606029395,
         "Listen to me for a minute.\n\nJust to mess up with #Twitter, its #AI & @jack @realDonaldTrump #DonaldTrump should probably tweet a few true statements.\n\nLet the fun begin. #USPresidency #USA #USElectionResults #USElection"
        ],
        [
         8591098152,
         "2020-11-22T08:22:14.439+0000",
         1606033334,
         "Listen to me for a minute.\n\nJust to mess up with #Twitter, its #AI & @jack @realDonaldTrump #DonaldTrump should probably tweet a few true statements.\n\nLet the fun begin. #USPresidency #USA #USElectionResults #USElection"
        ],
        [
         8591042544,
         "2020-11-22T07:43:47.383+0000",
         1606031027,
         "@dawnbrolin Do You Need Bookkeeper?I am expert in Quickbooks Online, and Xero software. https://t.co/v61HQqxQUS\n#Quickbooks #Xero #JoeBidenKamalaHarris2020 #TrumpMeltdown #USA #USElectionResults #accounting #bookkeeping"
        ],
        [
         8591027384,
         "2020-11-22T07:43:52.385+0000",
         1606031032,
         "@HSatterley Do You Need Bookkeeper?I am expert in Quickbooks Online, and Xero software. https://t.co/v61HQqxQUS\n#Quickbooks #Xero #JoeBidenKamalaHarris2020 #TrumpMeltdown #USA #USElectionResults #accounting #bookkeeping"
        ],
        [
         8591028920,
         "2020-11-22T07:44:52.383+0000",
         1606031092,
         "@0nly0ne___ Do You Need Bookkeeper?I am expert in Quickbooks Online, and Xero software. https://t.co/v61HQqxQUS\n#Quickbooks #Xero #JoeBidenKamalaHarris2020 #TrumpMeltdown #USA #USElectionResults #accounting #bookkeeping"
        ],
        [
         8591012576,
         "2020-11-22T07:24:20.611+0000",
         1606029860,
         "#Trump2020 #President #46thPresident #GullibleWhiteMaleTrumpVoters #America #MAGA #georgiaturnsblue #TrumpLiedPeopleDied #TrumpMeltdown #USElectionResults #TrumpConceded Trump lost so get over it! https://t.co/xOX6RxcaET"
        ],
        [
         8591033784,
         "2020-11-22T07:48:12.416+0000",
         1606031292,
         "Don't get yourself tied up in knots you cannot untie🤞\n#BlackOwnedBusiness #AfricaUnite #GreenHood #Bushiri #USElectionResults #BetterTogether  #HappyDiwali #MillionMAGAMarch #BlackLivesMatter https://t.co/Oyot0SDmih"
        ],
        [
         8591006888,
         "2020-11-22T07:30:18.259+0000",
         1606030218,
         "#USElectionResults #House Democrats #Democrats helped found the KKK so African Americans need to wake up and stop voting for them. #Theracialnarritive needs to stop. #Usaelections @TheDamaniFelder https://t.co/gglQRVNusx"
        ],
        [
         8591027656,
         "2020-11-22T07:44:02.385+0000",
         1606031042,
         "@Fischbooks Do You Need Bookkeeper?I am expert in Quickbooks Online, and Xero software. https://t.co/v61HQqxQUS\n#Quickbooks #Xero #JoeBidenKamalaHarris2020 #TrumpMeltdown #USA #USElectionResults #accounting #bookkeeping"
        ],
        [
         8591040808,
         "2020-11-22T07:42:36.015+0000",
         1606030956,
         "Trump refusing to admit he has lost the election makes for great TV. Feels like a long series.  \nImagine if it was African leader doing the same thing...🙂\n\n#trump\n#USElectionResults\n#sanwoolu https://t.co/OFvYwaGJWl"
        ],
        [
         8591023808,
         "2020-11-22T07:41:11.018+0000",
         1606030871,
         "Anyone else think America is closer to civil war than people would like to talk about? Alarming to see so many racist, facist sheep continuing to fall for Trump's anti-democratic ploys. #USElectionResults #Trump #Biden"
        ],
        [
         8591043352,
         "2020-11-22T07:44:17.374+0000",
         1606031057,
         "@nolok1989 Do You Need Bookkeeper?I am expert in Quickbooks Online, and Xero software. https://t.co/v61HQqxQUS\n#Quickbooks #Xero #JoeBidenKamalaHarris2020 #TrumpMeltdown #USA #USElectionResults #accounting #bookkeeping"
        ],
        [
         8591027568,
         "2020-11-22T07:33:54.638+0000",
         1606030434,
         "STRONG MESSAGE FOR ALL WOMEN #JoeBidenKamalaHarris2020 #USElectionResults #USAelection2020 #MotivationalQuotes #viralvideomesummahasiswasaatkuliahdaring watch full video https://t.co/rJepl18elw https://t.co/KHZteGACEy"
        ],
        [
         8591039384,
         "2020-11-22T07:41:36.009+0000",
         1606030896,
         "@mike_wanaoni @realDonaldTrump @BrianKempGA @staceyabrams Serious ackusations against #DNC and globalists , but I think you are right..#USElectionResults                🇸🇪🙄👍🇺🇸 https://t.co/xUoIVMuei7"
        ],
        [
         8591079360,
         "2020-11-22T08:18:46.259+0000",
         1606033126,
         "@realDonaldTrump @WIONews @palkisu @migratorscave @AparBharat \n\nSlow and steady wins the race \n\nWhy is #JoeBiden media completely silent on this #USElectionResults  frauds ?\n\n@Sanjay_Dixit @PrinceArihan @rahulroushan"
        ],
        [
         8590979696,
         "2020-11-22T07:13:07.108+0000",
         1606029187,
         "@realDonaldTrump @WIONews @palkisu @migratorscave @AparBharat \n\nSlow and steady wins the race \n\nWhy is #JoeBiden media completely silent on this #USElectionResults  frauds ?\n\n@Sanjay_Dixit @PrinceArihan @rahulroushan"
        ],
        [
         8591024288,
         "2020-11-22T07:31:43.273+0000",
         1606030303,
         "Years of lies and bs to get this #wall, an impenetrable wall that would solve it all. \n\n#Trump accomplished nothing positive in the 4 years he was there, other than grift. \n\n#USElectionResults https://t.co/ukbKm33qct"
        ],
        [
         8591041744,
         "2020-11-22T07:53:55.192+0000",
         1606031635,
         "Biden wins Georgia. Final projections have Biden at 306 electoral votes to Trump’s 232. This means Biden’s victory over Trump is the same size as when Trump beat Hillary. #USElectionResults https://t.co/CJbzuheMaf"
        ],
        [
         8591095512,
         "2020-11-22T08:20:32.438+0000",
         1606033232,
         "......and a man not man enough to admit his wrongdoing and cheerfully refusing to do what’s right How can this possibly end well? #USElection2020 #USElectionResults #Republican #Democrat #USAvotes #winnersandloosers"
        ],
        [
         8591043088,
         "2020-11-22T07:44:07.372+0000",
         1606031047,
         "@RVA_CPA Do You Need Bookkeeper?I am expert in Quickbooks Online, and Xero software. https://t.co/v61HQqxQUS\n#Quickbooks #Xero #JoeBidenKamalaHarris2020 #TrumpMeltdown #USA #USElectionResults #accounting #bookkeeping"
        ],
        [
         8590997728,
         "2020-11-22T07:14:53.283+0000",
         1606029293,
         "......and a man not man enough to admit his wrongdoing and cheerfully refusing to do what’s right How can this possibly end well? #USElection2020 #USElectionResults #Republican #Democrat #USAvotes #winnersandloosers"
        ],
        [
         8591044944,
         "2020-11-22T07:45:17.378+0000",
         1606031117,
         "NY state should take away his license for making US laughing stock of the world by filing frivolous law suites #stopthecircus #USElectionResults #USElectionResults2020 @JoeBiden @KamalaHarris https://t.co/rHFmLA22xG"
        ],
        [
         8591042088,
         "2020-11-22T07:43:27.379+0000",
         1606031007,
         "In many countries they protest for democracy. Big demonstration against a clean election in the US today in favour of altfacts. US is shamed again before the world. Again we pity you.  #USElectionResults #USPolitics"
        ],
        [
         8591000624,
         "2020-11-22T07:26:26.935+0000",
         1606029986,
         "If anything about the #USElection2020 is the possibility of having someone with grown-up vocabulary, someone who won't just say \"bad things, really bad bad things\"/\"good things, some great stuff\".... #USElectionResults"
        ],
        [
         8591009312,
         "2020-11-22T07:32:08.265+0000",
         1606030328,
         "@realDonaldTrump Delusion... an idiosyncratic belief or impression maintained despite being contradicted by reality or rational argument, typically as a symptom of mental disorder @realDonaldTrump #USElectionResults"
        ],
        [
         8591055720,
         "2020-11-22T07:52:40.179+0000",
         1606031560,
         "@kylegriffin1 @Jinxy_Minxy Its about that time we make @KellyannePolls @realDonaldTrump @PressSec @FoxNews irrelevant.\nLets focus on our new President @JoeBiden and VP @KamalaHarris . So proud!!\n#USElectionResults"
        ],
        [
         8591002232,
         "2020-11-22T07:27:16.944+0000",
         1606030036,
         "US @SecPompeo voiced confidence in the commitment of the administration of President Donald Trump to the constitutional setting of the US #elections. \n\n#USElections2020 | #USElectionResults \n\nhttps://t.co/HVq7InAxy0"
        ],
        [
         8591024928,
         "2020-11-22T07:32:13.264+0000",
         1606030333,
         "So when the shoe is on the other foot it's okay but when it's the Republicans then... \n\nLet the law do it's job. \n\nThere is a word for this, hypocrites! \n\n#USAelection2020 #USElectionResults https://t.co/pXbuav2cYC"
        ],
        [
         8591086208,
         "2020-11-22T08:23:23.454+0000",
         1606033403,
         "-Premieres 6:15 ET-\n\n@DominionVoting shares an office floor with the extreme left eco-radical charity Tides Foundation\n\n@TheRealKeean reports from the scene \n\nhttps://t.co/eloS7y8PFb\n\n#cdnpoli #USElectionResults"
        ],
        [
         8590986544,
         "2020-11-22T07:17:44.109+0000",
         1606029464,
         "-Premieres 6:15 ET-\n\n@DominionVoting shares an office floor with the extreme left eco-radical charity Tides Foundation\n\n@TheRealKeean reports from the scene \n\nhttps://t.co/eloS7y8PFb\n\n#cdnpoli #USElectionResults"
        ],
        [
         8591082664,
         "2020-11-22T08:11:48.862+0000",
         1606032708,
         "When will the Trump Circus and his clovns stop undermining the democracy that identify and unite the western world and differentiales us from the rest? #USElectionResults #USAelection2020  https://t.co/D7Q0XALZHn"
        ],
        [
         8590984880,
         "2020-11-22T07:06:09.824+0000",
         1606028769,
         "When will the Trump Circus and his clovns stop undermining the democracy that identify and unite the western world and differentiales us from the rest? #USElectionResults #USAelection2020  https://t.co/D7Q0XALZHn"
        ],
        [
         8591047008,
         "2020-11-22T07:57:36.468+0000",
         1606031856,
         "President @realDonaldTrump and the @GOP are wasting their time embarking on a mission impossible. \n\n#Election2020 #eleccion2020 #USElectionResults #Trump #BidenHarris2020 #BidenTransition https://t.co/v3LAPjov5i"
        ],
        [
         8591076768,
         "2020-11-22T08:16:55.132+0000",
         1606033015,
         "FACT-CHECK: Did Biden receive a fraudulent vote \"dump\" of 143,000 votes after Election Day to overtake Trump in Wisconsin? #TrumpvsBiden #Biden2020 #Trump #USElectionResults #ElectionDay \n\nhttps://t.co/88bAQxufBL"
        ],
        [
         8590977104,
         "2020-11-22T07:11:16.034+0000",
         1606029076,
         "FACT-CHECK: Did Biden receive a fraudulent vote \"dump\" of 143,000 votes after Election Day to overtake Trump in Wisconsin? #TrumpvsBiden #Biden2020 #Trump #USElectionResults #ElectionDay \n\nhttps://t.co/88bAQxufBL"
        ],
        [
         8591017576,
         "2020-11-22T07:27:31.937+0000",
         1606030051,
         "When you feel frustrated or upset by a person or a situation, remember that you are not reacting to the person or the situation, but to your feelings about the person or the situation.\n#USElectionResults \n#Trump2020"
        ],
        [
         8591045520,
         "2020-11-22T07:45:37.392+0000",
         1606031137,
         "So apparently the scare of GOP legislators being able to steal electors over heads of Dem Governors was never realistic as Governors are part of electoral process and have to agree. #USElectionResults #USPolitics"
        ],
        [
         8591063168,
         "2020-11-22T07:58:32.856+0000",
         1606031912,
         "More than a billion population and we get the election results with 1 or 2 weeks, most advanced and wealthy nation, takes months? Why??\n\n#USElectionResults #Election2020results #Democrats #Republicans #india #USA"
        ],
        [
         8591032888,
         "2020-11-22T07:47:32.390+0000",
         1606031252,
         "Lawyers were unpopular enough before Trump. His games are making them even more unpopular. Lawyers presenting false evidence to court can and should be disbarred. #USAelection2020 #USElectionResults #USPolitics"
        ],
        [
         8590985464,
         "2020-11-22T07:17:00.288+0000",
         1606029420,
         "GOOD MORNING!\n\n#Wednesday #investing #Nifty #Banknifty #COVID19 #Investment #USElectionResults #Pfizervaccine #modernavaccine #Bihar #Modi  #quoteoftheday #CovidVaccine #Covid_19 #vaccine https://t.co/UeW4eMDb83"
        ],
        [
         8591085128,
         "2020-11-22T08:22:39.465+0000",
         1606033359,
         "GOOD MORNING!\n\n#Wednesday #investing #Nifty #Banknifty #COVID19 #Investment #USElectionResults #Pfizervaccine #modernavaccine #Bihar #Modi  #quoteoftheday #CovidVaccine #Covid_19 #vaccine https://t.co/UeW4eMDb83"
        ],
        [
         8591029800,
         "2020-11-22T07:45:32.389+0000",
         1606031132,
         "There are several mechanisms that are legal & constitutional that could enable Trump to stay in office without actually winning the vote.  #USElectionResults @realDonaldTrump @JoeBiden  https://t.co/HKXmnnc4gz"
        ],
        [
         8591011840,
         "2020-11-22T07:23:50.637+0000",
         1606029830,
         "@sadmonsters The only speech @JoeBiden will be making is in front a Supreme Court judge when he has to testify about his knowledge of the fraudulent #USElectionResults \n\n@TheDemocrats \n@GOP \n\n@realDonaldTrump"
        ],
        [
         8591032216,
         "2020-11-22T07:37:04.639+0000",
         1606030624,
         "@KamalaHarris Who is he fighting? What weight? How many rounds? Queensbury Rules I hope. Or, is it WWE Hell-in-aCell stylee??? #USElection2020 #USElectionResults #USAelection2020 #USElection #USElections2020 #WWE"
        ],
        [
         8591063120,
         "2020-11-22T08:07:42.647+0000",
         1606032462,
         "When @KamalaHarris returned to the Senate this week for the first time as #VicePresidentElect, her Republican colleagues offered their congratulations. #USElectionResults #KamalaHarris \nhttps://t.co/A0OYqhMt0Q"
        ],
        [
         8590963456,
         "2020-11-22T07:02:03.498+0000",
         1606028523,
         "When @KamalaHarris returned to the Senate this week for the first time as #VicePresidentElect, her Republican colleagues offered their congratulations. #USElectionResults #KamalaHarris \nhttps://t.co/A0OYqhMt0Q"
        ],
        [
         8591031456,
         "2020-11-22T07:46:32.389+0000",
         1606031192,
         "#TrumpLawsuits: “A lawsuit without provable facts showing a statutory or constitutional violation is just a tweet with a filing fee.” ~ @_justinlevitt_ #Trump2020 #USElectionResults https://t.co/kLM6aqI0xj"
        ],
        [
         8590989192,
         "2020-11-22T07:19:35.623+0000",
         1606029575,
         "Live now - tune in and ask your questions on Facebook!\n\n“Are the US and Europe drifting apart?”\n#TuesdayConversation #EuropeansTalk #BePartofIt #Election2020 #USElectionResults #EU\nhttps://t.co/YFAU3ZjlTT"
        ],
        [
         8591063376,
         "2020-11-22T08:07:52.600+0000",
         1606032472,
         "@SebGorka @amritabhinder I still believe eventually #Trump will win. \nhttps://t.co/fRwXDjNqwN\n\n#USElections2020 #USElectionResults2020 #USElectionResults #USElection #USElections #NDTV #TrumpLegalTeam #Trump2020"
        ],
        [
         8590963712,
         "2020-11-22T07:02:13.499+0000",
         1606028533,
         "@SebGorka @amritabhinder I still believe eventually #Trump will win. \nhttps://t.co/fRwXDjNqwN\n\n#USElections2020 #USElectionResults2020 #USElectionResults #USElection #USElections #NDTV #TrumpLegalTeam #Trump2020"
        ],
        [
         8591019168,
         "2020-11-22T07:37:59.649+0000",
         1606030679,
         "Explosive allegations of a criminal conspiracy to rig the US election. I've been a skeptic so far, but the evidence is increasingly compelling. \nhttps://t.co/qciZKTb1Gj\n#VoterFroud #uspoli #USElectionResults"
        ],
        [
         8591056176,
         "2020-11-22T07:53:00.183+0000",
         1606031580,
         "#USElectionResults \n• President-elect Joe #Biden secures victory in #Georgia\n• Incumbent President Donald #Trump wins #NorthCarolina \n\nFollow the latest here https://t.co/mxsPopZ3i6 https://t.co/p4JlnaoKWd"
        ],
        [
         8590986704,
         "2020-11-22T07:07:19.834+0000",
         1606028839,
         "US President-elect Biden Says His Admin Will Rejoin WHO, Says China Will Have to ‘Play by Rules’\n\n@JoeBiden \n#USElections2020 \n#USPresidentialElections2020 \n#USElectionResults \n#WHO \n\nhttps://t.co/1sYuKKKWAf"
        ],
        [
         8591084488,
         "2020-11-22T08:12:58.872+0000",
         1606032778,
         "US President-elect Biden Says His Admin Will Rejoin WHO, Says China Will Have to ‘Play by Rules’\n\n@JoeBiden \n#USElections2020 \n#USPresidentialElections2020 \n#USElectionResults \n#WHO \n\nhttps://t.co/1sYuKKKWAf"
        ],
        [
         8590972648,
         "2020-11-22T07:08:14.822+0000",
         1606028894,
         "STOCKS IN NEWS\n#Friday #investing #Nifty #Banknifty #COVID19 #Investment #USElectionResults #Pfizervaccine #modernavaccine #Bihar #Modi  #quoteoftheday #CovidVaccine #Covid_19 #vaccine https://t.co/EUELLJHo2j"
        ],
        [
         8591072312,
         "2020-11-22T08:13:53.882+0000",
         1606032833,
         "STOCKS IN NEWS\n#Friday #investing #Nifty #Banknifty #COVID19 #Investment #USElectionResults #Pfizervaccine #modernavaccine #Bihar #Modi  #quoteoftheday #CovidVaccine #Covid_19 #vaccine https://t.co/EUELLJHo2j"
        ],
        [
         8590996496,
         "2020-11-22T07:24:05.628+0000",
         1606029845,
         "Interesting that Al Gore's concession in 2000 was designed to prevent the very precedent that has happened with weaker (non-existent) foundation 20 years later. #USElection2020 #USElectionResults #USPolitics"
        ],
        [
         8591003232,
         "2020-11-22T07:28:06.934+0000",
         1606030086,
         "@realDonaldTrump Wait, so all we have to do to win an election is to shout loudly that you won in the face of contrary evidence? In that case NO, I WON THE ELECTION! #USElectionResults #TrumpIsALaughingStock"
        ],
        [
         8591017368,
         "2020-11-22T07:36:59.643+0000",
         1606030619,
         "\"#DonaldTrump's Twitter feed doesn't make Joe Biden president or not president, the American people did that.\" ~ @RonaldKlain, #JoeBidenPresidentElect's incoming chief of staff. #USElection #USElectionResults"
        ],
        [
         8591086064,
         "2020-11-22T08:13:58.893+0000",
         1606032838,
         "GOOD MORNING!\n#Friday #investing #Nifty #Banknifty #COVID19 #Investment #USElectionResults #Pfizervaccine #modernavaccine #Bihar #Modi  #quoteoftheday #CovidVaccine #Covid_19 #vaccine https://t.co/lUsFMXcZbS"
        ],
        [
         8590988280,
         "2020-11-22T07:08:19.817+0000",
         1606028899,
         "GOOD MORNING!\n#Friday #investing #Nifty #Banknifty #COVID19 #Investment #USElectionResults #Pfizervaccine #modernavaccine #Bihar #Modi  #quoteoftheday #CovidVaccine #Covid_19 #vaccine https://t.co/lUsFMXcZbS"
        ],
        [
         8591054104,
         "2020-11-22T07:51:28.841+0000",
         1606031488,
         "US Elections: Joe Biden wins Arizona, Georgia; final vote tally for Democrats is 306 \n\n#JoeBidenKamalaHarris2020 #JOEBIDEN2020 #USElectionResults #USPresidentialElections2020 #TV9News https://t.co/foD8svWLUv"
        ],
        [
         8591060440,
         "2020-11-22T07:56:31.484+0000",
         1606031791,
         "BREAKING: @NBCNews is right now declaring \"Joe Biden is the apparent winner in Georgia\".\nAnd:\n\"Donald Trump is the projected winner in North Carolina\"\n\n#USElectionResults #USElection2020 #BidenWon #TrumpLost"
        ],
        [
         8591048536,
         "2020-11-22T07:58:37.836+0000",
         1606031917,
         "I hope ⁦@realDonaldTrump⁩ takes this suggestion from a well wisher. ⁦@JoeBiden⁩, you have the blessings of Madurai Aadhinam. #USElectionResults #USPresidentialElections2020 https://t.co/tOC13jnmFA"
        ],
        [
         8591012600,
         "2020-11-22T07:34:09.632+0000",
         1606030449,
         "Remember in street cricket that one guy who won't leave even if he's bowled out ? Well that's #DonaldTrump  \nOr maybe he's using Internet Explorer to check the #USElectionResults. https://t.co/3BpzDfj8qm"
        ],
        [
         8591014792,
         "2020-11-22T07:35:19.626+0000",
         1606030519,
         "BET TIPS AND ACCUMULATORS : MY THOUGHTS ON BETTING https://t.co/HlQzrOGOwT \n#USElectionResults #USElection2020 #Naijablogger #NationsLeague #nairabetfreebetgiveaway #betnaija #bettingexpert #bettingtips"
        ],
        [
         8591081264,
         "2020-11-22T08:20:07.438+0000",
         1606033207,
         "How Donald Trump Can Handle Defeat Gracefully – History’s Gracious Losers. A great piece by ⁦@DAMendelsohnNYC⁩  #Trump #USElectionResults #BidenPresident #ConcedeAlready  https://t.co/C0byXhxJxr"
        ],
        [
         8590981600,
         "2020-11-22T07:14:28.277+0000",
         1606029268,
         "How Donald Trump Can Handle Defeat Gracefully – History’s Gracious Losers. A great piece by ⁦@DAMendelsohnNYC⁩  #Trump #USElectionResults #BidenPresident #ConcedeAlready  https://t.co/C0byXhxJxr"
        ],
        [
         8591008976,
         "2020-11-22T07:21:50.627+0000",
         1606029710,
         "Lindsey Graham Asked If Georgia Could Throw Out Legal Votes, State Official Says https://t.co/kMWU9I7OPS #news #LindseyGrahamResign #RepublicanPartyElectionCorruption #USElectionResults #VoterSuppression"
        ],
        [
         8590987824,
         "2020-11-22T07:18:35.460+0000",
         1606029515,
         "@SenTedCruz if you truly believe the rigged elections conspiracy, why do you continue sitting in an elected position as senator? If #USElectionResults are rigged, then you too are an illegitimate senator"
        ],
        [
         8591087488,
         "2020-11-22T08:24:14.819+0000",
         1606033454,
         "@SenTedCruz if you truly believe the rigged elections conspiracy, why do you continue sitting in an elected position as senator? If #USElectionResults are rigged, then you too are an illegitimate senator"
        ],
        [
         8591012096,
         "2020-11-22T07:24:00.608+0000",
         1606029840,
         "@realDonaldTrump \nJust a quick question so I can keep up:\nAre you checking/disputing/questioning; voter fraud in any of the states you won? #LoserInTheWhiteHouse #PresidentialElection #USElectionResults"
        ],
        [
         8591046792,
         "2020-11-22T07:46:27.402+0000",
         1606031187,
         "#dstvpremiumgolfday\nGo on telegram search for STEADY FIXED and get your life fixed with their fixed games 100 guaranteed\n#UEFANATIONSLEAGUE #USElectionResults #UEFA\nSweden v. CROATIA away win 2.80 odds"
        ],
        [
         8591039488,
         "2020-11-22T07:52:15.184+0000",
         1606031535,
         "President-elect @JoeBiden won 306 votes in the Electoral College, leaving President @realDonaldTrump with 232 votes, US media called Friday.\n#USElectionResults #BidenHarris2020 \n\nhttps://t.co/fgxGor2QNd"
        ],
        [
         8591070024,
         "2020-11-22T08:03:26.351+0000",
         1606032206,
         "A federal judge dismissed a #lawsuit filed by President Donald Trump's campaign that sought to throw out millions of mail-in votes in #Pennsylvania.\n\n#USElectionResults | #USA \nhttps://t.co/H2K3f40sHL"
        ],
        [
         8591101648,
         "2020-11-22T08:24:29.803+0000",
         1606033469,
         "See how Leftist bring down the SM and Free Speech, Because is exposed their real and ugly face. It will start with America and they will try it in india 2024 #USElectionResults https://t.co/UK5V4yBXUZ"
        ],
        [
         8591003864,
         "2020-11-22T07:18:50.470+0000",
         1606029530,
         "See how Leftist bring down the SM and Free Speech, Because is exposed their real and ugly face. It will start with America and they will try it in india 2024 #USElectionResults https://t.co/UK5V4yBXUZ"
        ],
        [
         8591007160,
         "2020-11-22T07:30:28.262+0000",
         1606030228,
         "\"On the morning of November 7, several news networks declared Joe Biden the winner of the American presidential election.\" - @myr_rose \nhttps://t.co/APo24aIWZg\n#USElectionResults #USPolitics #votecount"
        ],
        [
         8590985728,
         "2020-11-22T07:17:11.212+0000",
         1606029431,
         "Dude, my dog even says it is time to go. You really want to piss off a cute Border Collie? \n\n@realDonaldTrump \n\n#USElection2020 #USAElections2020 #USElectionResults #USPolitics https://t.co/6rXii23KJg"
        ],
        [
         8591085392,
         "2020-11-22T08:22:50.341+0000",
         1606033370,
         "Dude, my dog even says it is time to go. You really want to piss off a cute Border Collie? \n\n@realDonaldTrump \n\n#USElection2020 #USAElections2020 #USElectionResults #USPolitics https://t.co/6rXii23KJg"
        ],
        [
         8590990656,
         "2020-11-22T07:20:25.627+0000",
         1606029625,
         "Me - I'm happily prepared for exams. 🙂\nICAI - So do I 🤞\n\n⚠ This claim is disputed\n\n#icaiexamspostponment #caexams #DonaldTrump #USAelection2020 #USElectionResults #camemes #ICAI_DENIES_JUSTICE"
        ],
        [
         8591061016,
         "2020-11-22T07:57:01.487+0000",
         1606031821,
         "Friday video is live! Joe Biden WON’T HEAL America | The Mallen Baker Show https://t.co/jvIWFF3pGZ #USElectionResults #JoeBidenKamalaHarris2020 #PresidentElectBiden #ExtinctionRebellion #coronavirus"
        ],
        [
         8591052392,
         "2020-11-22T08:00:59.229+0000",
         1606032059,
         "Outrageous thoughts to remember post-#USElectionResults: 1. #CancelCulture censors #FreeSpeech 2. it's ok that people disagree with you and 3. #CardiB still makes money moves\n\nhttps://t.co/odRo8boNsP"
        ],
        [
         8591035696,
         "2020-11-22T07:39:26.020+0000",
         1606030766,
         "look at all the support #DonaldTrump has -  He is not done yet - Stop that cheating  #JoeBiden from entering the White House #USElection2020 #USElectionResults  @realDonaldTrump https://t.co/iFF3V4UU9o"
        ],
        [
         8591012848,
         "2020-11-22T07:24:30.613+0000",
         1606029870,
         "‘This Isn’t A Game’ – Michelle Obama Tells Trump #USAelection2020 #USElections2020 #USElectionResults #USElection2020 #USAElections2020 #USElections #USElectionResults2020  https://t.co/1ti9XubbXV"
        ],
        [
         8591074512,
         "2020-11-22T08:15:25.127+0000",
         1606032925,
         "⬇️⬇️So True.. But it doesn't have to be that way. Stand up for the country, defend the #USElectionResults Stand up to @realDonaldTrump 🇺🇸🇺🇸🇺🇸🇺🇸 https://t.co/KMdNuCpeus"
        ],
        [
         8590974848,
         "2020-11-22T07:09:46.030+0000",
         1606028986,
         "⬇️⬇️So True.. But it doesn't have to be that way. Stand up for the country, defend the #USElectionResults Stand up to @realDonaldTrump 🇺🇸🇺🇸🇺🇸🇺🇸 https://t.co/KMdNuCpeus"
        ],
        [
         8591002664,
         "2020-11-22T07:27:36.930+0000",
         1606030056,
         "How Democrats Helped Biden Win The Election – Donald Trump Reveals #USElections2020 #USElectionResults #USAElections2020 #USElection #USElection2020 #USPresidentialElections2020  https://t.co/cSodjbRjNo"
        ],
        [
         8591068816,
         "2020-11-22T08:02:44.218+0000",
         1606032164,
         "Biden wins in Arizona despite Trump’s surprise, Will the count be repeated? https://t.co/dCV9mc4stE via @@kwinews1 \n\n#JoeBiden \n#DonaldTrump \n#USElectionResults \n#PresidentialElection2020 \n#Arizona"
        ],
        [
         8591053696,
         "2020-11-22T07:51:08.836+0000",
         1606031468,
         "US Presidential Election 2020 Results: Donald Trump Hints He May Accept Defeat by Joe Biden\nhttps://t.co/WvAGVdVmTo\n#UnitedStates #DonaldTrump #JoeBiden @realDonaldTrump @JoeBiden #USElectionResults"
        ],
        [
         8590989448,
         "2020-11-22T07:19:45.623+0000",
         1606029585,
         "Defend the Constitution and the Integrity of This Election\nSign here! https://t.co/qPEfzltkra\n#USA #Election #USElectionResults #USAElections2020 #USElection #USElections #StopTheSteaI \n🇺🇲🗳👇"
        ],
        [
         8590966104,
         "2020-11-22T07:03:44.795+0000",
         1606028624,
         "Watching Bob Woodward on @cnni commenting on the #WhiteHouse and #USElectionResults who would have thought he would be in the middle reporting on another dangerous US political moment 48 years later."
        ],
        [
         8591065768,
         "2020-11-22T08:09:23.875+0000",
         1606032563,
         "Watching Bob Woodward on @cnni commenting on the #WhiteHouse and #USElectionResults who would have thought he would be in the middle reporting on another dangerous US political moment 48 years later."
        ],
        [
         8590979640,
         "2020-11-22T07:02:28.483+0000",
         1606028548,
         "Trump suffers double blow in bid to overturn US election results https://t.co/SvKrARJpWK via @AJEnglish #USElectionResults #USElectionResults2020 #Election2020 #DonaldTrump #JoeBiden #Georgia #Michigan"
        ],
        [
         8591077424,
         "2020-11-22T08:08:07.625+0000",
         1606032487,
         "Trump suffers double blow in bid to overturn US election results https://t.co/SvKrARJpWK via @AJEnglish #USElectionResults #USElectionResults2020 #Election2020 #DonaldTrump #JoeBiden #Georgia #Michigan"
        ],
        [
         8591019776,
         "2020-11-22T07:38:29.636+0000",
         1606030709,
         "@Artemisness80 There should be a new decree a new law if you  are elected for a second term with over 325 points you should be granted a free and final third term #USElectionResults \n#USAelection2020"
        ],
        [
         8591012856,
         "2020-11-22T07:34:19.648+0000",
         1606030459,
         "Trump ab bhut der ho gae 😪😪 jiid choro rhne bhi do ab ..... You won the election in your dreams only 🤗 @realDonaldTrump @JoeBiden #USAElections2020 #USElectionResults https://t.co/5OyWiSq4Kz"
        ],
        [
         8591071008,
         "2020-11-22T08:04:16.332+0000",
         1606032256,
         "Overturning the #USElectionResults was never really possible. Instead Donald Trump wants his followers, and even some Republican lawmakers, to see Joe Biden as illegitimate.\nhttps://t.co/1337k5Jm1M"
        ],
        [
         8591015888,
         "2020-11-22T07:26:21.920+0000",
         1606029981,
         "#USElectionResults President Trump contemplating military action against a middle eastern country... most likely Iran.. just for the fun of it, & to let the world know he's still boss upto Jan 20th"
        ],
        [
         8591022424,
         "2020-11-22T07:30:33.260+0000",
         1606030233,
         "The irony is that the election was rigged but all the 70 million votes Trump received were all legal. #Trump #DonaldTrump #CNN #BREAKING #POTUS #USElectionResults #USElections2020 #AmericaDecides2020"
        ],
        [
         8591071752,
         "2020-11-22T08:04:47.600+0000",
         1606032287,
         "Its not about Republican or Democrat. Its about doing the right thing>@BostonGlobe \n#USElectionResults #DemocracyWins \nRespect for the leaders who have the courage to do so. https://t.co/fVxgFJpIY7"
        ],
        [
         8591005896,
         "2020-11-22T07:20:10.609+0000",
         1606029610,
         "Wow, Graham trying to tell other senators to remove ballots? Hmmm\n#bidenharis2020 #TrumpCollapse #2020PresidentialElection #Montana #UnitedStatesofAmerica #USElectionResults https://t.co/zuF670WNQN"
        ],
        [
         8591009904,
         "2020-11-22T07:32:28.256+0000",
         1606030348,
         "This  😂😂\nFollow for more stuff 😅😂#USElection2020 #TrumpTerroism #Biden2020 #America #chemistry #USElectionResults #PresidentElectJoe #PresidentBiden #TrumpCollapse https://t.co/11VS4ZkpBp"
        ],
        [
         8591008960,
         "2020-11-22T07:31:48.248+0000",
         1606030308,
         "Border Closure Not Reason For Maltreatment Of Nigerian Traders In Ghana – Dabiri-Erewa   https://t.co/JKXWhjukYg #TrumpTerroism #ElectionDay #USElectionResults #mondaythoughts #MondayMotivation"
        ],
        [
         8591039136,
         "2020-11-22T07:41:26.008+0000",
         1606030886,
         "@atrupar Exhibit A for the people the media has already started saying don't demonise Trump supporters. How do you find common ground with this?  #USElectionResults #Unity\nhttps://t.co/0ZjgyOiEyt"
        ],
        [
         8591058016,
         "2020-11-22T07:54:30.210+0000",
         1606031670,
         "Just in! Arizona yesterday and Georgia today! This general election has turned out to be a tremendous victory for Biden! 🇺🇸 @CNN @CNNPolitics #USElectionResults 🥂 https://t.co/ZTGUctOm6u"
        ],
        [
         8591050752,
         "2020-11-22T07:59:57.846+0000",
         1606031997,
         "So when the #Democrats cry out about unfounded  russian meddling in the election its OK with the MSM but when @realDonaldTrump cries out election fraud the MSM jump all over him? #USElectionResults"
        ],
        [
         8591081072,
         "2020-11-22T08:10:48.872+0000",
         1606032648,
         "Business leaders , even those who supported him, are calling on YpTrump the get on with the transition to a Biden presidency. - The New York Times #USElectionResults #USA https://t.co/8RSMaNtg8e"
        ],
        [
         8590983288,
         "2020-11-22T07:05:09.813+0000",
         1606028709,
         "Business leaders , even those who supported him, are calling on YpTrump the get on with the transition to a Biden presidency. - The New York Times #USElectionResults #USA https://t.co/8RSMaNtg8e"
        ],
        [
         8590970936,
         "2020-11-22T07:07:04.834+0000",
         1606028824,
         "What has happened to the @GOP participating in an attempt to undermines the democratic process in the US and diminish America’s standing in the world #USElectionResults https://t.co/TEQs12zzTV"
        ],
        [
         8591059888,
         "2020-11-22T07:56:11.482+0000",
         1606031771,
         "#BREAKING: Joe Biden wins Georgia, flipping the traditionally red state.\nThis brings the final electoral vote tally to 306 for Biden and 232 for Trump. #USElectionResults https://t.co/rJRiep0imh"
        ],
        [
         8591036496,
         "2020-11-22T07:39:56.022+0000",
         1606030796,
         "Is it true @realDonaldTrump ?🤔\nOtherwise this is very much telling about the society of Americans...\n@somadodafikeni @silentmaako \n#USElections2020 #USElectionResults https://t.co/ZKgT9GIIUx"
        ],
        [
         8591050744,
         "2020-11-22T07:49:18.829+0000",
         1606031358,
         "🚨🚨🚨 Holy Schnazz. They did't just syeal the votes from Tump, they also stole Senate and house seats potentially. #USElectionResults #USPresidentialElections2020 https://t.co/HeaLsje3DD"
        ],
        [
         8591008568,
         "2020-11-22T07:31:28.271+0000",
         1606030288,
         "I Won The Presidential Election – Donald Trump (See Here) #USElections2020 #USAElections2020 #USAelection2020 #USElection2020 #USElectionResults2020 #USElectionResults #USA  https://t.co/RAUP0cIZ90"
        ],
        [
         8591057776,
         "2020-11-22T08:04:42.593+0000",
         1606032282,
         "RebelNewsOnline: A Pennsylvanian judge sided with the @realDonaldTrump campaign, tosses 2,349 absentee ballots\n\n#Election2020 #Election2020results #USElectionResults \nhttps://t.co/yDx834XCKj..."
        ],
        [
         8591054984,
         "2020-11-22T08:02:50.008+0000",
         1606032170,
         "If #BidenWon with the biggest majority of all time in a Presidential Election, were all the pollsters really that wrong? Asking for a friend\n#USElectionResults #USElections2020 @DecisionDeskHQ"
        ],
        [
         8590978960,
         "2020-11-22T07:12:26.039+0000",
         1606029146,
         "Non-Giuliani Trump attorneys admit Trump's claims of election fraud are bullshit - They signed a statement and everything. @VanityFair #TrumpConcede #USElectionResults\nhttps://t.co/oMScWSggrN"
        ],
        [
         8591078624,
         "2020-11-22T08:18:05.124+0000",
         1606033085,
         "Non-Giuliani Trump attorneys admit Trump's claims of election fraud are bullshit - They signed a statement and everything. @VanityFair #TrumpConcede #USElectionResults\nhttps://t.co/oMScWSggrN"
        ],
        [
         8590999560,
         "2020-11-22T07:25:46.938+0000",
         1606029946,
         "#news #Nevada #Nevada2020 #ClarkCounty District C\nFor those that voted twice?\n#USAElections2020 #USA #Elections #USElectionResults #USElection2020 #USElections #USElection https://t.co/Q5Np9XOT40"
        ],
        [
         8591080008,
         "2020-11-22T08:09:48.866+0000",
         1606032588,
         "https://t.co/Qk0tl7DpPj  #USElections2020 #USElectionResults #USElection \n\nI know its like peeing into the wind trying to give facts to people on twitter, but hey, may as well give it a shot"
        ],
        [
         8590982224,
         "2020-11-22T07:04:09.791+0000",
         1606028649,
         "https://t.co/Qk0tl7DpPj  #USElections2020 #USElectionResults #USElection \n\nI know its like peeing into the wind trying to give facts to people on twitter, but hey, may as well give it a shot"
        ],
        [
         8591078208,
         "2020-11-22T08:08:38.861+0000",
         1606032518,
         "How prophetic was #REM, mentioning #DonaldTrump in their song End of the World back in 1987! 🤯  #USElections #USElectionResults #BidenHarris2020 #EndTheNightmare \nhttps://t.co/4kwZBKpxCq"
        ],
        [
         8590980424,
         "2020-11-22T07:02:58.486+0000",
         1606028578,
         "How prophetic was #REM, mentioning #DonaldTrump in their song End of the World back in 1987! 🤯  #USElections #USElectionResults #BidenHarris2020 #EndTheNightmare \nhttps://t.co/4kwZBKpxCq"
        ],
        [
         8591005808,
         "2020-11-22T07:29:36.926+0000",
         1606030176,
         "#Georgia ... Ya Georgia \nYou gave Biden the White House; \nDO NOT give #Democrats the Senate. Make the 2 senate seats #Republicans in January 2021 🙏🙏🙏\n#USsenate2021 #USElectionResults"
        ],
        [
         8591099016,
         "2020-11-22T08:22:45.351+0000",
         1606033365,
         "@56blackcat Wish it would become illegal for the lying orange mollusk to tweet his lies with such brazen impunity, that little disclaimer at the bottom doesn’t cut it.#USElectionResults"
        ],
        [
         8591001232,
         "2020-11-22T07:17:06.210+0000",
         1606029426,
         "@56blackcat Wish it would become illegal for the lying orange mollusk to tweet his lies with such brazen impunity, that little disclaimer at the bottom doesn’t cut it.#USElectionResults"
        ],
        [
         8590998328,
         "2020-11-22T07:15:13.288+0000",
         1606029313,
         "President-Elect Joe Biden Vows to Usher In 'A Time to Heal in America' (Full Speech)\n#JoeBiden #Biden beat #Trump  #USPresidentialElections2020 #USElectionResults \n https://t.co/owQAKfvzpm"
        ],
        [
         8591096112,
         "2020-11-22T08:20:52.446+0000",
         1606033252,
         "President-Elect Joe Biden Vows to Usher In 'A Time to Heal in America' (Full Speech)\n#JoeBiden #Biden beat #Trump  #USPresidentialElections2020 #USElectionResults \n https://t.co/owQAKfvzpm"
        ],
        [
         8591020024,
         "2020-11-22T07:38:39.652+0000",
         1606030719,
         "#DonaldTrump saying this TWELVE DAYS AFTER THE COUNTING BEGAN!😮\n\n#USElections #USElectionResults, #ElectionResults2020 \n#MailInBallots #MailInVoting #MailFraud\n\nhttps://t.co/i0X3LvbovN"
        ],
        [
         8591062432,
         "2020-11-22T07:58:01.493+0000",
         1606031881,
         "Well, there is good news after all. Arizona has turned out for Biden and Dominic Cummings is leaving No. 10. That ‘s 2 fewer space-wasters to deal with! #USElectionResults #VoteLeave"
        ],
        [
         8590976720,
         "2020-11-22T07:10:56.017+0000",
         1606029056,
         "Trump has finally conceded. \nThe CONCESSION SPEECH\n\n@JoeBiden @LarryMadowo \n\nTom and Jerry\n #dissertation\n#USAElections2020 \n#USElectionResults \n#USElections2020 https://t.co/N7OcaLf27a"
        ],
        [
         8591076384,
         "2020-11-22T08:16:35.126+0000",
         1606032995,
         "Trump has finally conceded. \nThe CONCESSION SPEECH\n\n@JoeBiden @LarryMadowo \n\nTom and Jerry\n #dissertation\n#USAElections2020 \n#USElectionResults \n#USElections2020 https://t.co/N7OcaLf27a"
        ],
        [
         8591073608,
         "2020-11-22T08:14:55.123+0000",
         1606032895,
         "Trump is very stubborn. So they’re recounting Georgia State’s votes and 70% of the votes are still in Joe Biden favour 😂\n\nTrump please concede defeat ffs 😂 #USElectionResults"
        ],
        [
         8590973944,
         "2020-11-22T07:09:16.022+0000",
         1606028956,
         "Trump is very stubborn. So they’re recounting Georgia State’s votes and 70% of the votes are still in Joe Biden favour 😂\n\nTrump please concede defeat ffs 😂 #USElectionResults"
        ],
        [
         8591035680,
         "2020-11-22T07:49:33.834+0000",
         1606031373,
         "Defeated President’s stubbornness is delaying a smooth transition of power, writes C.J. Atkins \n\n#USElectionResults \n#JoeBiden \n#DonaldTrump \n#KamalaHarris \n\nhttps://t.co/5SXduYfWcN"
        ],
        [
         8591005352,
         "2020-11-22T07:29:16.939+0000",
         1606030156,
         "Whether you vote Republican or Democrat, red or blue, right or wrong, if you are waiting on the government to fix your problems, you are already at a loss. #USElectionResults #winning"
        ],
        [
         8591038288,
         "2020-11-22T07:40:56.019+0000",
         1606030856,
         "#USElectionResults | State GOP lawmakers in Arizona, Michigan, Pennsylvania and Wisconsin have all said they would not intervene in the selection of electors.\n\nhttps://t.co/Dx9HqCZhs4"
        ],
        [
         8590990864,
         "2020-11-22T07:10:11.018+0000",
         1606029011,
         "\"You can like or hate the #Trump administration, but no doubt, it's a huge success — unprecedented success.\" #USAElections2020 #COVID19 #USElectionResults  https://t.co/yNjF9jZFnV"
        ],
        [
         8591088648,
         "2020-11-22T08:15:50.129+0000",
         1606032950,
         "\"You can like or hate the #Trump administration, but no doubt, it's a huge success — unprecedented success.\" #USAElections2020 #COVID19 #USElectionResults  https://t.co/yNjF9jZFnV"
        ],
        [
         8591020480,
         "2020-11-22T07:39:01.013+0000",
         1606030741,
         "BREAKING Donald Trump admits Joe Biden has ‘won’ US election for first time https://t.co/FsCC8QJ8V5 #USElections2020 #USElectionResults #USElectionResults2020 https://t.co/CrRbYu8dFV"
        ],
        [
         8591000392,
         "2020-11-22T07:26:16.933+0000",
         1606029976,
         "@realDonaldTrump They Certified Presidential race, run-off in other race in Dec! #FactsMatter #TrumpIsUnfitForOffice #ByeByeTrump #WorstPresidentEver #USElectionResults #TrumpCollapse"
        ],
        [
         8591054360,
         "2020-11-22T07:51:38.842+0000",
         1606031498,
         "@thesandrashamas @KarynCurtis21 @DanaMcCauley If that means lighting a few candles & having a glass of red wine whilst  I doomscroll #Covid & #USElectionResults, then yeah!  #PartyOn"
        ],
        [
         8591034448,
         "2020-11-22T07:38:34.640+0000",
         1606030714,
         "There should be a new decree a new law if you  are elected for a second term with over 325 points you should be granted a free and final third term #USElectionResults \n#USAelection2020"
        ],
        [
         8590981856,
         "2020-11-22T07:14:38.280+0000",
         1606029278,
         "@EricTrump Waiting for another Miracle.\n#4MoreYears for President Trump!!!\n\n#USElections2020  #AmericaDecides2020 #TrumpAgain #Trump2020 @realDonaldTrump @Mike_Pence #USElectionResults"
        ],
        [
         8591024696,
         "2020-11-22T07:32:03.260+0000",
         1606030323,
         "Trump tweets 'I won' after saying 'fake results' of 2020 mail-in vote shouldn't be allowed to stand\nhttps://t.co/9w6twtCj9H\n@realDonaldTrump #USElectionResults https://t.co/HSExxKGAbR"
        ],
        [
         8591081520,
         "2020-11-22T08:20:17.438+0000",
         1606033217,
         "@EricTrump Waiting for another Miracle.\n#4MoreYears for President Trump!!!\n\n#USElections2020  #AmericaDecides2020 #TrumpAgain #Trump2020 @realDonaldTrump @Mike_Pence #USElectionResults"
        ],
        [
         8590966936,
         "2020-11-22T07:04:14.796+0000",
         1606028654,
         "And you really believe the American people voted for this idiot? \nhttps://t.co/FkFPS2BqR0\n#Biden #Trump #Election2020 #TheGreatReset #voterf_r_a_u_d #USWahlen2020 #USElectionResults"
        ],
        [
         8591066600,
         "2020-11-22T08:09:53.866+0000",
         1606032593,
         "And you really believe the American people voted for this idiot? \nhttps://t.co/FkFPS2BqR0\n#Biden #Trump #Election2020 #TheGreatReset #voterf_r_a_u_d #USWahlen2020 #USElectionResults"
        ],
        [
         8591036736,
         "2020-11-22T07:40:06.007+0000",
         1606030806,
         "Let's delve into the words of Joe Biden who will soon take oath as the new US President. \n.\n.\n#uselection #uselection2020 #uselectionresults #JoeBiden #JoeBiden https://t.co/dVRPEQtOic"
        ],
        [
         8591021840,
         "2020-11-22T07:40:01.021+0000",
         1606030801,
         "US election: Biden cries out over denial of access to fund, security briefing https://t.co/RmBFzDG1IS via @AcharaugoMedia #USElections2020 #USElectionResults #TrumpvsBiden #Trending"
        ],
        [
         8590994248,
         "2020-11-22T07:12:31.053+0000",
         1606029151,
         "The US election and data science have this in common: we spend way more time counting things than we ever would have imagined #datascience #data #USAElections2020 #USElectionResults"
        ],
        [
         8591092032,
         "2020-11-22T08:18:10.147+0000",
         1606033090,
         "The US election and data science have this in common: we spend way more time counting things than we ever would have imagined #datascience #data #USAElections2020 #USElectionResults"
        ],
        [
         8590985976,
         "2020-11-22T07:17:22.214+0000",
         1606029442,
         "BREAKING: Second Georgia County Finds Thousands More Votes, Majority Are For Trump! #USElection2020 #USAElections2020 #USElections2020 #US #USElectionResults https://t.co/Hud7wkEgwc"
        ],
        [
         8591085640,
         "2020-11-22T08:23:01.453+0000",
         1606033381,
         "BREAKING: Second Georgia County Finds Thousands More Votes, Majority Are For Trump! #USElection2020 #USAElections2020 #USElections2020 #US #USElectionResults https://t.co/Hud7wkEgwc"
        ],
        [
         8591038304,
         "2020-11-22T07:51:23.849+0000",
         1606031483,
         "White House Planning For Trump to Serve Second Term Despite His Reelection Loss, Says Official\n\n#USElections2020\n#USElectionResults\n#DonaldTrump\n#WhiteHouse\n\nhttps://t.co/phmnYYTuYS"
        ],
        [
         8591083840,
         "2020-11-22T08:21:58.509+0000",
         1606033318,
         "@realdonaldtrump FYI #USElectionResults \"Large Michigan county unanimously certifies U.S. election vote after deadlock - National | https://t.co/qAcgpb2YtT\" https://t.co/9qNx5MOxt7"
        ],
        [
         8590984176,
         "2020-11-22T07:16:19.327+0000",
         1606029379,
         "@realdonaldtrump FYI #USElectionResults \"Large Michigan county unanimously certifies U.S. election vote after deadlock - National | https://t.co/qAcgpb2YtT\" https://t.co/9qNx5MOxt7"
        ],
        [
         8590969320,
         "2020-11-22T07:05:54.837+0000",
         1606028754,
         "Audited vote totals in #Georgia showed that #Biden defeated Trump in the state by 12,284 votes, reaffirms Biden’s win https://t.co/zVArdOD1Ph #BidenHarris2020 #USElectionResults"
        ],
        [
         8591068984,
         "2020-11-22T08:11:33.870+0000",
         1606032693,
         "Audited vote totals in #Georgia showed that #Biden defeated Trump in the state by 12,284 votes, reaffirms Biden’s win https://t.co/zVArdOD1Ph #BidenHarris2020 #USElectionResults"
        ],
        [
         8591044712,
         "2020-11-22T07:45:07.377+0000",
         1606031107,
         "Different faces and different colors but with one flag 🇺🇸, rights and liberties. #USElectionResults #BidenIsNotPresidentElect #TRUMP2020ToSaveAmerica https://t.co/rVpGLTsLrm"
        ],
        [
         8590967768,
         "2020-11-22T07:04:54.799+0000",
         1606028694,
         "Sleeping with the enemy \n#POTUS #POTUS46 #POTUS45 #BidenHarrisIn5Words #Biden #Trump #TrumpvsBiden #SleepyJoe #USAElections2020 #USElectionResults #UsUnited https://t.co/MlwRGEvwf3"
        ],
        [
         8591067432,
         "2020-11-22T08:10:33.871+0000",
         1606032633,
         "Sleeping with the enemy \n#POTUS #POTUS46 #POTUS45 #BidenHarrisIn5Words #Biden #Trump #TrumpvsBiden #SleepyJoe #USAElections2020 #USElectionResults #UsUnited https://t.co/MlwRGEvwf3"
        ],
        [
         8591051000,
         "2020-11-22T08:00:07.848+0000",
         1606032007,
         "Saturday’s Pro-Trump Events In DC Have a Very Real Potential to Turn Violent, According to Experts Who Track Extremism  #Trumpers  #USElectionResults \n\nhttps://t.co/Peaz9jBXUg"
        ],
        [
         8591047344,
         "2020-11-22T07:46:57.375+0000",
         1606031217,
         "@RealCandaceO I completely agree with u. If they were #transparent they wd hv allowed the audits. Clearly they r not.\n\n#democrats\n#republicans #USElectionResults\n#USElection2020"
        ],
        [
         8591061264,
         "2020-11-22T07:57:11.472+0000",
         1606031831,
         "Will Benjamin Netanyahu congratulate ‘Biden’ on historic victory? https://t.co/SJ2XDcMmxq via @https://twitter.com/ISLAMABADTELEG1 \n\n@JoeBiden @netanyahu \n#USElectionResults"
        ],
        [
         8591005120,
         "2020-11-22T07:29:06.938+0000",
         1606030146,
         "@amritabhinder @moneycontrolcom Compilation of #USElection fraud videos\n\nhttps://t.co/BesIC7hIpv\n\n#USElectionResults #USElections2020 #USPresidentialElections2020 #USAelection2020"
        ],
        [
         8591000160,
         "2020-11-22T07:26:06.945+0000",
         1606029966,
         "A Cartogram-Perspective of the 2020 US Presidential Election Results https://t.co/Jytx01xcQP #USElection2020 #USElectionResults #cartograms #maps #cartography #USElection #Politics"
        ],
        [
         8590983896,
         "2020-11-22T07:05:29.817+0000",
         1606028729,
         "Moment of truth by Ng\nhttps://t.co/GINDv7q8RR\n\n#abc730 \n#9YearsOfUpAllNight #books #AmazingRace #OscarPistorius #BlackFridayDeals #YutaDeservesBetter #USElectionResults #Ballum"
        ],
        [
         8591081680,
         "2020-11-22T08:11:08.872+0000",
         1606032668,
         "Moment of truth by Ng\nhttps://t.co/GINDv7q8RR\n\n#abc730 \n#9YearsOfUpAllNight #books #AmazingRace #OscarPistorius #BlackFridayDeals #YutaDeservesBetter #USElectionResults #Ballum"
        ],
        [
         8591003488,
         "2020-11-22T07:28:16.936+0000",
         1606030096,
         "For a moment there I almost forgot 70m people voted for a man that recommended you drink bleach to stop COVID-19 🤦‍♂️ #USElectionResults #TrumpCollapse #USElection2020"
        ],
        [
         8590991432,
         "2020-11-22T07:21:05.614+0000",
         1606029665,
         "So,Trump2020 wasn't a reelection slogan,It was an expiration date! Who'd a thunk it!!!! Lol #PresidentBiden #VoteHimOut #VoteBlueToEndTheNightmare #MSNBC2020 #USElectionResults"
        ],
        [
         8591033224,
         "2020-11-22T07:37:44.644+0000",
         1606030664,
         "If only @realDonaldTrump would put as much energy into fighting the pandemic as he is investing in fighting the results of the election. #justsaying #COVID19 #USElectionResults"
        ],
        [
         8591012352,
         "2020-11-22T07:24:10.609+0000",
         1606029850,
         "Biden trying to convince me businesses were happy about unionizing during his press conference. 🤣 He thinks we are stupid! #USElectionResults #BidenWasNotElected #Trump2020"
        ],
        [
         8591010328,
         "2020-11-22T07:32:48.273+0000",
         1606030368,
         "⁦@JoeBiden⁩ ask ⁦@jack⁩ to fake your  followers from 18M to almost 90M of ⁦@realDonaldTrump⁩ the numbers don’t add up. #USElectionResults https://t.co/U7GZNJRGNE"
        ],
        [
         8591037520,
         "2020-11-22T07:50:53.845+0000",
         1606031453,
         "#USElectionresults \nAustralia's Prime Minister called it for biden\ndespite all these cases pending.\n\nWaiting patiently for ScoMo to get Trumped as PM. https://t.co/BZOMdo55ol"
        ],
        [
         8591026056,
         "2020-11-22T07:32:53.268+0000",
         1606030373,
         "@RailaOdinga at this point of disputed #USElectionResults should be Retweeting all Trumps tweets. Support a comrade Baba cheza kama wewe. #BBINonsense https://t.co/MSdSWys7LI"
        ],
        [
         8591010552,
         "2020-11-22T07:32:58.275+0000",
         1606030378,
         "@RailaOdinga at this point of disputed #USElectionResults should be Retweeting all Trumps tweets. Support a comrade Baba cheza kama wewe. #BBINonsense https://t.co/9bRaFafBlp"
        ],
        [
         8591031712,
         "2020-11-22T07:46:42.389+0000",
         1606031202,
         "If Media and Corporates are to decide on who my #President would be, why should I vote and why should I call #USA a #Democracy ? #USElection #USElectionResults #USAelection2020"
        ],
        [
         8591081904,
         "2020-11-22T08:11:18.875+0000",
         1606032678,
         "Most normal people would call #Trump's actions fraudulent. How can he try to overturn the most scrutinised #uselectionresults\n#USUnited #TrumpConcede\n\nhttps://t.co/tIlIs1ZS1Y"
        ],
        [
         8590984120,
         "2020-11-22T07:05:39.818+0000",
         1606028739,
         "Most normal people would call #Trump's actions fraudulent. How can he try to overturn the most scrutinised #uselectionresults\n#USUnited #TrumpConcede\n\nhttps://t.co/tIlIs1ZS1Y"
        ],
        [
         8591034680,
         "2020-11-22T07:38:44.641+0000",
         1606030724,
         "Donald Trump admits Joe Biden has ‘won’ US election for first time https://t.co/VTzAHommXp #USElections2020 #USElectionResults #USElectionResults2020 https://t.co/L2TdF0zm5S"
        ],
        [
         8590979472,
         "2020-11-22T07:12:57.108+0000",
         1606029177,
         "Emily Murphy - the woman who has decided to make herself unemployable after January 2021\n\n#USElectionResults #USElections2020 #auspol #TrumpConcede \n\nhttps://t.co/CYZW2kqmJm"
        ],
        [
         8590980200,
         "2020-11-22T07:02:48.484+0000",
         1606028568,
         "Are you searching the Instagram hashtag researcher that you are right place.\nhttps://t.co/sGXlYeghDw\n#USAElections2020 #USElectionResults #coronavirus https://t.co/Jdc4IEUAPN"
        ],
        [
         8591072760,
         "2020-11-22T08:05:27.607+0000",
         1606032327,
         "A Pennsylvanian judge sided with the @realDonaldTrump campaign, tosses 2,349 absentee ballots\n\nhttps://t.co/9Al6fqRUHy\n\n#Election2020 #Election2020results #USElectionResults"
        ],
        [
         8591005584,
         "2020-11-22T07:29:26.956+0000",
         1606030166,
         "⚖️ Bookies are weighing up what Trump could sign into law between now and Joe Biden’s inauguration in January\n\n#USElectionResults #USA #Trump \n\nhttps://t.co/OLuE7SMtB1"
        ],
        [
         8591099384,
         "2020-11-22T08:23:07.372+0000",
         1606033387,
         "BREAKING:\n\nSecond Georgia county finds thousands of 'missing' votes \n\n@stillgray has the details \n\nhttps://t.co/mQwEjkac16\n\n#USElection2020 #USElectionResults #Elections2020"
        ],
        [
         8591079136,
         "2020-11-22T08:18:36.241+0000",
         1606033116,
         "Emily Murphy - the woman who has decided to make herself unemployable after January 2021\n\n#USElectionResults #USElections2020 #auspol #TrumpConcede \n\nhttps://t.co/CYZW2kqmJm"
        ],
        [
         8591086648,
         "2020-11-22T08:14:18.895+0000",
         1606032858,
         "So enough already. It's time for our country to move towards the future.: @McFaul \n\n#Diplomacy140 #USElectionResults #PresidentElectJoeBiden #Georgia https://t.co/knQOoGvQG9"
        ],
        [
         8591034904,
         "2020-11-22T07:38:54.643+0000",
         1606030734,
         "Donald Trump admits Joe Biden has ‘won’ US election for first time https://t.co/VTzAHommXp #USElections2020 #USElectionResults #USElectionResults2020 https://t.co/x2k7MkUSGY"
        ],
        [
         8591001600,
         "2020-11-22T07:17:28.041+0000",
         1606029448,
         "BREAKING:\n\nSecond Georgia county finds thousands of 'missing' votes \n\n@stillgray has the details \n\nhttps://t.co/mQwEjkac16\n\n#USElection2020 #USElectionResults #Elections2020"
        ],
        [
         8591077984,
         "2020-11-22T08:08:28.876+0000",
         1606032508,
         "Are you searching the Instagram hashtag researcher that you are right place.\nhttps://t.co/sGXlYeghDw\n#USAElections2020 #USElectionResults #coronavirus https://t.co/Jdc4IEUAPN"
        ],
        [
         8590988864,
         "2020-11-22T07:08:39.836+0000",
         1606028919,
         "So enough already. It's time for our country to move towards the future.: @McFaul \n\n#Diplomacy140 #USElectionResults #PresidentElectJoeBiden #Georgia https://t.co/knQOoGvQG9"
        ],
        [
         8591038080,
         "2020-11-22T07:51:13.833+0000",
         1606031473,
         "US Secretary of State Mike Pompeo to Embark on a Seven-Nation Trip Amid Presidential Conundrum\nhttps://t.co/Pc4Ju1BlPH\n#MikePompeo #UnitedStates @SecPompeo #USElectionResults"
        ],
        [
         8591091632,
         "2020-11-22T08:17:50.128+0000",
         1606033070,
         "For quite some time , Chinese admire American Spirit and soul until Trump terminated it.  \n#USAElections2020 #USElectionResults2020 \n#USElectionResults #Trump\n#TrumpCollapse"
        ],
        [
         8590993848,
         "2020-11-22T07:12:11.045+0000",
         1606029131,
         "For quite some time , Chinese admire American Spirit and soul until Trump terminated it.  \n#USAElections2020 #USElectionResults2020 \n#USElectionResults #Trump\n#TrumpCollapse"
        ],
        [
         8591066256,
         "2020-11-22T08:00:54.229+0000",
         1606032054,
         "@cspanwj @PatriotAFVet I just voted for a bit of fun. Rather surprised at the result though. Appears MSM is having little effect on the 'general public'. #USElectionResults"
        ],
        [
         8591047904,
         "2020-11-22T07:58:06.485+0000",
         1606031886,
         "Seriously baby @realDonaldTrump, are you ever going to grow up?!? #DonaldTrump #USElectionResults #Vote2020 #JOEBIDEN2020 #Biden2020 #KamalaHarris \n\nhttps://t.co/hXP8DFD2vR"
        ],
        [
         8591011248,
         "2020-11-22T07:23:20.616+0000",
         1606029800,
         "The US Election, My New Martial Arts Zone, and a New Study on Psychedelics - Weekly Blog #3 \n\n#USElectionResults #MMA @JohnsHopkins #psychedelics  \n\nhttps://t.co/HGPQ9DarYn"
        ],
        [
         8591015328,
         "2020-11-22T07:35:39.643+0000",
         1606030539,
         "Why do some Americans think that America isn't a democracy? Doesn't the whole voting thing give it away? What am I missing? #USAElections2020 #USElectionResults #USElection"
        ],
        [
         8591041520,
         "2020-11-22T07:53:45.207+0000",
         1606031625,
         "@donwinslow @PressSec @kayleighmcenany She has binders!!!!! We are doomed\n#TrumpSupporters \n#TrumpIsPathetic \n@gop\n#Resistance \n#USElectionResults https://t.co/tuILB3tuU4"
        ],
        [
         8590965240,
         "2020-11-22T07:03:13.494+0000",
         1606028593,
         "This shift of cheating happened by 11 pm election night. I felt it.  It’s time to manifest the truth. #USElectionResults ⁦@realDonaldTrump⁩  https://t.co/MsBJ9m0ZFU"
        ],
        [
         8591064904,
         "2020-11-22T08:08:53.874+0000",
         1606032533,
         "This shift of cheating happened by 11 pm election night. I felt it.  It’s time to manifest the truth. #USElectionResults ⁦@realDonaldTrump⁩  https://t.co/MsBJ9m0ZFU"
        ],
        [
         8591019424,
         "2020-11-22T07:38:09.634+0000",
         1606030689,
         "#Smartmatic wasn't allowed.  They were DIRECTED to steal the #USElectionResults , for reasons which are becoming glaringly obvious to all. I hope. https://t.co/id40xjEaWm"
        ],
        [
         8591063952,
         "2020-11-22T07:59:12.845+0000",
         1606031952,
         "US Election News: \nElection Officials Directly Contradict Trump on Voting System Fraud | via The New York Times \nhttps://t.co/S3csfF7zTw #USElection2020 #USElectionResults"
        ],
        [
         8591068408,
         "2020-11-22T08:02:24.213+0000",
         1606032144,
         "Pope Francis rang Joe Biden to congratulate him – #ThoughtsAndPrayers to Trump’s blood pressure.\n#USElectionResults  \nhttps://t.co/w3hriECu7B https://t.co/MHQ3VUlBK5"
        ],
        [
         8591062952,
         "2020-11-22T07:58:22.839+0000",
         1606031902,
         "Pope Francis rang Joe Biden to congratulate him – #ThoughtsAndPrayers to Trump’s blood pressure.\n#USElectionResults  \nhttps://t.co/w3hriEkSJ1 https://t.co/agzycaYZ9T"
        ],
        [
         8591052712,
         "2020-11-22T07:50:18.841+0000",
         1606031418,
         "Pope Francis rang Joe Biden to congratulate him – #ThoughtsAndPrayers to Trump’s blood pressure.\n#USElectionResults  \nhttps://t.co/w3hriECu7B https://t.co/XhZ5mFyImI"
        ],
        [
         8591055504,
         "2020-11-22T07:52:30.178+0000",
         1606031550,
         "Pope Francis rang Joe Biden to congratulate him – #ThoughtsAndPrayers to Trump’s blood pressure.\n#USElectionResults  \nhttps://t.co/w3hriECu7B https://t.co/JibGbTUGi1"
        ],
        [
         8591052120,
         "2020-11-22T07:49:58.836+0000",
         1606031398,
         "@TomFitton @realDonaldTrump Let the true judge govern... As Trump said recently, the Boss, #JesusChrist \n#LegalVotesOnly #USElectionResults #USAElections2020 #USElections"
        ],
        [
         8591042488,
         "2020-11-22T07:54:35.195+0000",
         1606031675,
         "And #Georgia flipping does it. @staceyabrams is the legend many @GeorgiaDemocrat are crediting with this political turnaround #USElectionResults https://t.co/DGyKFCQYTm"
        ],
        [
         8590967376,
         "2020-11-22T07:04:34.797+0000",
         1606028674,
         "🔵 #Georgia’s Secretary of State has officially certified the election, awarding the state’s 16 electoral votes to Joe #Biden.\n#USElections2020 #USElectionResults"
        ],
        [
         8591067040,
         "2020-11-22T08:10:13.884+0000",
         1606032613,
         "🔵 #Georgia’s Secretary of State has officially certified the election, awarding the state’s 16 electoral votes to Joe #Biden.\n#USElections2020 #USElectionResults"
        ],
        [
         8591058776,
         "2020-11-22T07:55:10.193+0000",
         1606031710,
         "#USElectionResults: Biden wins Georgia bringing total EV tally to 306:232 in favor of President-elect @JoeBiden.\nResults projected by @politico https://t.co/FccqlcbYxV"
        ],
        [
         8591094088,
         "2020-11-22T08:19:41.242+0000",
         1606033181,
         "🇺🇸 A price of 4/1 has been placed on Trump stepping down as president before Biden’s inauguration \n\n#USElectionResults #Trump #Biden \n\n https://t.co/OLuE7SMtB1"
        ],
        [
         8590987336,
         "2020-11-22T07:18:14.128+0000",
         1606029494,
         "🇺🇸 A price of 4/1 has been placed on Trump stepping down as president before Biden’s inauguration \n\n#USElectionResults #Trump #Biden \n\n https://t.co/OLuE7SMtB1"
        ],
        [
         8590996304,
         "2020-11-22T07:14:02.115+0000",
         1606029242,
         "🇺🇸 A price of 4/1 has been placed on Trump stepping down as president before Biden’s inauguration \n\n#USElectionResults #Trump #Biden \n\n https://t.co/OLuE7SMtB1"
        ],
        [
         8591087000,
         "2020-11-22T08:23:53.441+0000",
         1606033433,
         "🇺🇸 A price of 4/1 has been placed on Trump stepping down as president before Biden’s inauguration \n\n#USElectionResults #Trump #Biden \n\n https://t.co/OLuE7SMtB1"
        ],
        [
         8591036808,
         "2020-11-22T07:50:23.852+0000",
         1606031423,
         "Has Donald Trump said \"It's my ball and you're not playing with it.\", yet? #USElection #USElection2020 #USElectionResults2020 #USElectionResults https://t.co/CR6sBiks6b"
        ],
        [
         8591049200,
         "2020-11-22T07:48:17.414+0000",
         1606031297,
         "@realDonaldTrump \nFixed this for you! \n\n#Trump #TrumpisALoser #TrumpLost #MillionMAGAMarch #USElectionResults2020 #USElectionResults #USElections https://t.co/50z9rczRNf"
        ],
        [
         8590996856,
         "2020-11-22T07:14:23.278+0000",
         1606029263,
         "#wednesdaythought #uselectionresults were #ElectionFraud #DemocratsAreDestroyingAmerica time to wake up America #TheWorldIsYoursTeam #MAGA2020 https://t.co/Do3TKjwpzE"
        ],
        [
         8590985432,
         "2020-11-22T07:06:29.826+0000",
         1606028789,
         "#USElectionResults I just wonder if this election drama starring #Trump was happening in an African Country... Would it be entertaining to sit back and watch???? 🤔"
        ],
        [
         8591094640,
         "2020-11-22T08:20:02.448+0000",
         1606033202,
         "#wednesdaythought #uselectionresults were #ElectionFraud #DemocratsAreDestroyingAmerica time to wake up America #TheWorldIsYoursTeam #MAGA2020 https://t.co/Do3TKjwpzE"
        ],
        [
         8591083216,
         "2020-11-22T08:12:08.864+0000",
         1606032728,
         "#USElectionResults I just wonder if this election drama starring #Trump was happening in an African Country... Would it be entertaining to sit back and watch???? 🤔"
        ],
        [
         8590973240,
         "2020-11-22T07:08:34.828+0000",
         1606028914,
         "U.S. election: Rudy Giuliani appears to sweat hair dye during press conference on alleged voter fraud https://t.co/vbwmUStp4o #OhRudy #rudymelting #USElectionResults"
        ],
        [
         8591049984,
         "2020-11-22T07:59:27.855+0000",
         1606031967,
         "3 November 2020 vintage ⁦@GOP⁩ ⁦@TheDemocrats⁩ ⁦@realDonaldTrump⁩ #USPresidentialElections2020 #USElectionResults #USAElections2020 https://t.co/LO3tgIAPBa"
        ],
        [
         8591072904,
         "2020-11-22T08:14:13.870+0000",
         1606032853,
         "U.S. election: Rudy Giuliani appears to sweat hair dye during press conference on alleged voter fraud https://t.co/vbwmUStp4o #OhRudy #rudymelting #USElectionResults"
        ],
        [
         8591088136,
         "2020-11-22T08:15:30.124+0000",
         1606032930,
         "Have US elections always been about the winning side wanting to jail the losing side or is that a new thing? #USElectionResults #USElection2020 #Democrats #Republican"
        ],
        [
         8590990352,
         "2020-11-22T07:09:51.018+0000",
         1606028991,
         "Have US elections always been about the winning side wanting to jail the losing side or is that a new thing? #USElectionResults #USElection2020 #Democrats #Republican"
        ],
        [
         8591015480,
         "2020-11-22T07:26:01.943+0000",
         1606029961,
         "#news \nVotes in #Nevada thrown out!\n#USElectionResults #USElection2020 #USElections #USAElections2020 #Election2020 #USA \nMore information here: https://t.co/qBe8SH1s7h"
        ],
        [
         8591050536,
         "2020-11-22T07:59:47.841+0000",
         1606031987,
         "Tafrishaala Prime Time\n.\n#USAElections2020 #USElectionResults #RCEP #ASEAN #business #china #USA #AlQaeda #France #french #India #Government https://t.co/WylXIee40j"
        ],
        [
         8591028192,
         "2020-11-22T07:34:24.644+0000",
         1606030464,
         "If the #USElectionResults is #RIGGED why wasn't it rigged in 2016 when #Trump won the states of Wisconsin, Michigan, and Pennsylvania by a combined 80,000 votes!!!!"
        ],
        [
         8591048304,
         "2020-11-22T07:47:37.392+0000",
         1606031257,
         "When the #USElectionResults are done! Someone please take care of @faithgoldy this lady has lost it. She treats @realDonaldTrump like a God! I’m not even kidding."
        ],
        [
         8591040256,
         "2020-11-22T07:42:16.030+0000",
         1606030936,
         "@DVStrading @BernieSanders When all the  Vegas odds makers refuse to acknowledge / verify #USElectionResults you know somethings wrong\nAll funds bet are being held"
        ],
        [
         8591046096,
         "2020-11-22T07:57:06.480+0000",
         1606031826,
         "@therealfstl1992 brilliant skit about the press conference by #marcusbrigstocke @BBCRadio4 #USElectionResults #USElection #USAElections2020 https://t.co/UKaHTjPeKT"
        ],
        [
         8591097592,
         "2020-11-22T08:21:43.499+0000",
         1606033303,
         "If there was no fraud, then why are they so worried! #trump #donaldtrump #USElectionResults #uselectionfraud #fraud #electionfraud #Trump2020 #TRUMP2020ToSaveTheWorld"
        ],
        [
         8590999808,
         "2020-11-22T07:16:04.310+0000",
         1606029364,
         "If there was no fraud, then why are they so worried! #trump #donaldtrump #USElectionResults #uselectionfraud #fraud #electionfraud #Trump2020 #TRUMP2020ToSaveTheWorld"
        ],
        [
         8590993920,
         "2020-11-22T07:22:25.625+0000",
         1606029745,
         "50k pieces of paper decide if more brown people get killed in the middle east. Crazy world y'all. \n\n#USElectionResults #USElections2020 #biden #trump #ElectionDay"
        ],
        [
         8590991048,
         "2020-11-22T07:20:45.614+0000",
         1606029645,
         "Over 79,000,000 votes from Americans to say a Big 'NO' to an embarrassing illiterate lumpen, Donald J Trump.\n#USElectionResults #USElections2020 #USAElections2020"
        ],
        [
         8590989408,
         "2020-11-22T07:09:11.027+0000",
         1606028951,
         "Fear and Loyalty: How Donald #Trump Has Taken Over the Republican Party And Made It Unrecognizable #uspoli #worldnews #USElectionResults  https://t.co/pH9sELcIBf"
        ],
        [
         8591024760,
         "2020-11-22T07:41:51.024+0000",
         1606030911,
         "#USElectionResults  #TrumpPressConference \n\nThere are indications visible Trump is starting to accept the peoples vote. Hopefully getting this peacefully solved."
        ],
        [
         8591018640,
         "2020-11-22T07:37:39.632+0000",
         1606030659,
         "What does this guy really hope to gain? Other than prolonging the inevitable indictments.  #TrumpConcedes #USElectionResults #TrumpLosing https://t.co/QZE35k6aZm"
        ],
        [
         8591087192,
         "2020-11-22T08:14:50.135+0000",
         1606032890,
         "Fear and Loyalty: How Donald #Trump Has Taken Over the Republican Party And Made It Unrecognizable #uspoli #worldnews #USElectionResults  https://t.co/pH9sELcIBf"
        ],
        [
         8591020264,
         "2020-11-22T07:38:49.637+0000",
         1606030729,
         "So, here you're yielding and conceding categorically. Now don't retract if you're a man of words.\n#USElections2020 #USElectionResults #USA https://t.co/Y1teEITdvZ"
        ],
        [
         8591011632,
         "2020-11-22T07:23:40.621+0000",
         1606029820,
         "Case for tax Compliance. https://t.co/qKHYhsDRsv? #taxes #tax #USElectionResults #vision2030 #Mugabe #asakhe #Covid #Covid_19 #twittertuessday #COVID19 #Bushiri"
        ],
        [
         8591009232,
         "2020-11-22T07:22:00.616+0000",
         1606029720,
         "Just Shameful! #Biden for months now hasn’t denounced crimes, Biden’s been advocating crimes!!!!#USAElections2020 #USElectionResults  https://t.co/kawXMZBCnX"
        ],
        [
         8591055224,
         "2020-11-22T08:03:01.337+0000",
         1606032181,
         "More doors are shutting for the ‘former’ president. #USAelection2020 #USElection2020 #USElectionResults #USElections #JoeBidenKamalaHarris2020 #JoeBiden \nJudge dismisses Trump campaign's Pennsylvania lawsuit which had sought to throw out millions of votes  https://t.co/IEI7qIARcE"
        ],
        [
         8591055568,
         "2020-11-22T08:03:11.337+0000",
         1606032191,
         "2/2 ... ps as I said @realDonaldTrump just not sure anyone CARES ANYMORE (I put it in caps so you can understand)! 😘\n\nR.R. (the hair-dye guy)\n\n#Election2020results #USElectionResults https://t.co/rk9osY4oCN"
        ],
        [
         8591055824,
         "2020-11-22T08:03:21.338+0000",
         1606032201,
         "Go Down with the #USA - https://t.co/zzmnVtiJ0h https://t.co/Lgz8bZtDR5    #USElectionResults   #germany"
        ],
        [
         8590996752,
         "2020-11-22T07:24:15.628+0000",
         1606029855,
         "You should be ashamed @LindseyGrahamSC ! The GOP party is being ridiculed day by day! \n\n#USElections2020 #georgia #USElectionResults \n\nhttps://t.co/roWHEtog8u"
        ],
        [
         8591053928,
         "2020-11-22T08:01:59.234+0000",
         1606032119,
         "CNN projects #Biden has won #Arizona by 11,434 votes. The win puts him on 290 V Trump's 217. https://t.co/jzDwbDzoAB #USElectionResults https://t.co/nOXC9NFMPE"
        ],
        [
         8591012392,
         "2020-11-22T07:33:59.647+0000",
         1606030439,
         "#Belarus yesterday: massive violence against peaceful protesters, again. Wonder if and how #USElectionResults will change the picture. https://t.co/2JRuUqx8hz"
        ],
        [
         8591048328,
         "2020-11-22T07:58:27.852+0000",
         1606031907,
         "Before leaving the chair, Trump babe gonna put as many cases as possible on Bhai den. He never give him the chair so easily \n#USElectionResults \n#trumpkiaankh"
        ],
        [
         8591035488,
         "2020-11-22T07:39:16.020+0000",
         1606030756,
         "Bev says Donald Trump is sitting in the shopping aisle screaming, peeing his pants and refusing to let go the bag of sweets. #USElectionResults #TrumpMeltdown"
        ],
        [
         8591081056,
         "2020-11-22T08:19:57.437+0000",
         1606033197,
         "Election Fraud Real, Fake, Maybe? check out @pepesgrandma before you vote... or not. #USAElections2020 #USElectionResults2020 #uselectionresults #ElectionFraud"
        ],
        [
         8590981392,
         "2020-11-22T07:14:18.275+0000",
         1606029258,
         "Election Fraud Real, Fake, Maybe? check out @pepesgrandma before you vote... or not. #USAElections2020 #USElectionResults2020 #uselectionresults #ElectionFraud"
        ],
        [
         8591066480,
         "2020-11-22T08:01:04.230+0000",
         1606032064,
         "Congratulations @JoeBiden and @kamlaharris from the entire team of TeleHealth India. \n#USPresidentialElections2020 #USElectionResults https://t.co/RPzgOqHqrB"
        ],
        [
         8591010400,
         "2020-11-22T07:22:50.608+0000",
         1606029770,
         "Voting security experts refute Trump claims of voting machine hacking https://t.co/QiEA151kGG #news #USElectionResults #JoeBidenWon #TrumpLost #TrumpSoreLoser"
        ],
        [
         8591082456,
         "2020-11-22T08:11:38.860+0000",
         1606032698,
         "#JoeBiden #USElectionResults #DonaldTrump #USElections #USElections2020 \n\nHow Does the U.S. Dollar Perform After U.S. Elections? 💵\n\nhttps://t.co/Uf3ydyEQF8"
        ],
        [
         8590984672,
         "2020-11-22T07:05:59.838+0000",
         1606028759,
         "#JoeBiden #USElectionResults #DonaldTrump #USElections #USElections2020 \n\nHow Does the U.S. Dollar Perform After U.S. Elections? 💵\n\nhttps://t.co/Uf3ydyEQF8"
        ],
        [
         8591069384,
         "2020-11-22T08:03:06.328+0000",
         1606032186,
         "President Donald Trump’s campaign sought to reintroduce claims to a Pennsylvania election lawsuit that it already removed, saying it would ask that Trump be declared the winner of the battleground state.  #USElectionResults #Pennsylvania #ElectionProtest https://t.co/Fm1zVgW26G"
        ],
        [
         8591069720,
         "2020-11-22T08:03:16.331+0000",
         1606032196,
         "Michigan’s Republican state legislative leaders said after meeting with President Donald Trump that they had no information that would change the outcome of the #USPresidentialElection in the state. #USElectionResults #Michigan \nhttps://t.co/un7uj2G8Ca"
        ],
        [
         8591061936,
         "2020-11-22T07:57:41.474+0000",
         1606031861,
         "The voters made their choice, and they chose decisively.: @HillaryClinton \n#Diplomacy140 #USElectionResults \n#PresidentElectJoeBiden https://t.co/04aSdmvO4e"
        ],
        [
         8591005048,
         "2020-11-22T07:19:30.603+0000",
         1606029570,
         "@WilliamHill You cannot close US election bet yet as nothing is announced. But you seem to think media announcement is good enough. #bets #USElectionResults"
        ],
        [
         8591025296,
         "2020-11-22T07:42:11.012+0000",
         1606030931,
         "In the Harris household, ambition meant courage and not personal gain. \nAn important difference.\n#KamalaHarrisVP\n#USElectionResults  https://t.co/7PYKBD5KDC"
        ],
        [
         8591048520,
         "2020-11-22T07:47:47.425+0000",
         1606031267,
         "Something for the #alcohol lovers...!\n\nA new blend..coming up..!\n\n#USAElections2020 #USElectionResults #USElection \n#SaturdayThoughts https://t.co/x37CAMxaTm"
        ],
        [
         8590994136,
         "2020-11-22T07:22:35.628+0000",
         1606029755,
         "As monotheism is one, small shift away from atheism, so a two-party system is only one, small shift away from a dictatorship. #USElectionResults #uspoli #Trump"
        ],
        [
         8591083632,
         "2020-11-22T08:12:28.868+0000",
         1606032748,
         "@thehill “We pledge that if you vote for us more people will die, the planet will burn and you will be able to go about armed to the teeth but without any work. Because we’re #Trumpublicans and that’s all we have left to offer!” @ProjectLincoln #USElectionResults"
        ],
        [
         8591083960,
         "2020-11-22T08:12:38.870+0000",
         1606032758,
         "I continue to be astonished and frightened at what the still incumbent government a civilised western nation can be, and is allowed to be, capable of. And how easily people can be misled (cf Hitler’s Germany). From ⁦@TheEconomist⁩ morning briefing. #USElectionResults https://t.co/thB9cMMJaV"
        ],
        [
         8591084312,
         "2020-11-22T08:12:48.871+0000",
         1606032768,
         "#USElection2020 #USElectionResults: Georgia Confirms Biden Victory, Finds No Widespread Fraud After Audit\nhttps://t.co/w4rm8fTB82"
        ],
        [
         8591016840,
         "2020-11-22T07:26:51.929+0000",
         1606030011,
         "@realDonaldTrump Sir, you lost. Please do the decent thing, and concede. Is this really what you want your legacy to be? #USElectionResults #bidenharis2020"
        ],
        [
         8591066832,
         "2020-11-22T08:10:03.867+0000",
         1606032603,
         "#USElectionResults I suspect #RudyGiuliani has been promised running mate by #realDonaldTrump for 2024, that is why he is busy spreading all kinds of lies"
        ],
        [
         8590967168,
         "2020-11-22T07:04:24.796+0000",
         1606028664,
         "#USElectionResults I suspect #RudyGiuliani has been promised running mate by #realDonaldTrump for 2024, that is why he is busy spreading all kinds of lies"
        ],
        [
         8591029488,
         "2020-11-22T07:35:04.635+0000",
         1606030504,
         "#USElectionResults Media will not cover the criminals #Antifia and their crimes on innocent people... New laws should be put in place regarding the media."
        ],
        [
         8590989616,
         "2020-11-22T07:09:21.029+0000",
         1606028961,
         "Georgia recount results coming in soon. #USElectionResults #cnn\n\nGuess what? There's fuck all difference. Some minor human mistakes (nothing deliberate!)."
        ],
        [
         8591087400,
         "2020-11-22T08:15:00.140+0000",
         1606032900,
         "Georgia recount results coming in soon. #USElectionResults #cnn\n\nGuess what? There's fuck all difference. Some minor human mistakes (nothing deliberate!)."
        ],
        [
         8591076104,
         "2020-11-22T08:07:17.594+0000",
         1606032437,
         "#EndBadGoveranceInNigeria\n#WhatLookslikeChristainityanditsNOT\n#USElectionResults \n#endSARs \nWahala dey wear diff skirt for Africa https://t.co/WW4qZfNs0l"
        ],
        [
         8590959768,
         "2020-11-22T06:59:53.410+0000",
         1606028393,
         "👏👏\nCanal Cubo Business - YouTube\n#administracao #administracaoparatodos #economia #USElectionResults https://t.co/eszXuqe819 https://t.co/W82hxibwqz"
        ],
        [
         8591059432,
         "2020-11-22T08:05:32.599+0000",
         1606032332,
         "👏👏\nCanal Cubo Business - YouTube\n#administracao #administracaoparatodos #economia #USElectionResults https://t.co/eszXuqe819 https://t.co/W82hxibwqz"
        ],
        [
         8591023232,
         "2020-11-22T07:40:51.029+0000",
         1606030851,
         "@realDonaldTrump Come on Donny. Stop being like Benny and move on gracefully. #USElections2020 #USElectionResults #BidenPresident https://t.co/lmt7EJgx4J"
        ],
        [
         8591064376,
         "2020-11-22T08:08:33.869+0000",
         1606032513,
         "Biden certified Georgia winner after hand recount https://t.co/wN4UcCwjZB via @colombogazette #US #Biden #Biden2020 #USElectionResults #USAElections2020"
        ],
        [
         8590964712,
         "2020-11-22T07:02:53.489+0000",
         1606028573,
         "Biden certified Georgia winner after hand recount https://t.co/wN4UcCwjZB via @colombogazette #US #Biden #Biden2020 #USElectionResults #USAElections2020"
        ],
        [
         8591067056,
         "2020-11-22T08:01:34.220+0000",
         1606032094,
         "#Bidens wins Arizona, taking tally to 290 electoral votes, counting on in two states \n\n@JoeBiden\n#JoeBiden #USElectionResults \n\n https://t.co/hGzmugXKuc"
        ],
        [
         8591021912,
         "2020-11-22T07:30:13.256+0000",
         1606030213,
         "@NBCNews @NBCNews @MSNBC @CNN @FoxNews @CBSNews You are unauthorized to call any #USElectionResults Stop pumping your #sheep full of hope! #Election2020"
        ],
        [
         8591057248,
         "2020-11-22T08:04:21.340+0000",
         1606032261,
         "So, no concession nearllly THREE WEEKS LATER.\nIgnore, no deal, no humoring. We are better than this.\n\n#EdwardNortonLATimes #USElectionResults #UsUnited"
        ],
        [
         8591033888,
         "2020-11-22T07:38:14.647+0000",
         1606030694,
         "I concede NOTHING 🤷🏻‍♂️\n#TrumpvsBiden #TrumpIsLosing #USElections2020 #USPresidentialElections2020 #USElectionResults https://t.co/PtRX7xdQho"
        ],
        [
         8591027992,
         "2020-11-22T07:34:14.642+0000",
         1606030454,
         ".@realDonaldTrump's tweet is incorrect. Joe Biden won the 2020 Presidential Election. #USElectionResults https://t.co/O4bvJJIs5Q https://t.co/3IojziOxQ4"
        ],
        [
         8591009728,
         "2020-11-22T07:22:20.617+0000",
         1606029740,
         "Can someone please explain how Donnie received over 73 million votes? I simply don't understand. #USElectionResults #USPresidentialElections2020 @CNN"
        ],
        [
         8591056936,
         "2020-11-22T07:53:30.187+0000",
         1606031610,
         "How’s this for an “alternative  fact” @KellyannePolls but this is 306. Landslide. Blowout. Historic. #USElectionResults https://t.co/HA4th5opIl"
        ],
        [
         8591080856,
         "2020-11-22T08:19:47.452+0000",
         1606033187,
         "@CNN @NancyPelosi12 HAS AGE ON HER SIDE NEXT #uselectionresults AS @JoeBiden TOO OLD BUT SURE @KamalaHarris DIG  IN BY THEN CC @POTUS44 @FoxNews @GOP"
        ],
        [
         8590981192,
         "2020-11-22T07:14:08.273+0000",
         1606029248,
         "@CNN @NancyPelosi12 HAS AGE ON HER SIDE NEXT #uselectionresults AS @JoeBiden TOO OLD BUT SURE @KamalaHarris DIG  IN BY THEN CC @POTUS44 @FoxNews @GOP"
        ],
        [
         8590976520,
         "2020-11-22T07:10:46.030+0000",
         1606029046,
         "Taiwan hopes to continue its close cooperation with the United States. #USPresidentialElection #USElectionResults #TaiwanUSA \nhttps://t.co/tMoR1zwbWU"
        ],
        [
         8591076184,
         "2020-11-22T08:16:25.125+0000",
         1606032985,
         "Taiwan hopes to continue its close cooperation with the United States. #USPresidentialElection #USElectionResults #TaiwanUSA \nhttps://t.co/tMoR1zwbWU"
        ],
        [
         8590985648,
         "2020-11-22T07:06:39.830+0000",
         1606028799,
         "So, recounted votes have a @JoeBiden win. That should really put it all to bed... Right? #USElectionResults\n#USElections2020 https://t.co/m8yDEiNFPa"
        ],
        [
         8591083432,
         "2020-11-22T08:12:18.864+0000",
         1606032738,
         "So, recounted votes have a @JoeBiden win. That should really put it all to bed... Right? #USElectionResults\n#USElections2020 https://t.co/m8yDEiNFPa"
        ],
        [
         8591088880,
         "2020-11-22T08:16:00.131+0000",
         1606032960,
         "Ι can't imagine what that path will be. Vote counting is supposed to be an objective process. #contested #USElectionResults https://t.co/xSAqI4FlTd"
        ],
        [
         8590991096,
         "2020-11-22T07:10:21.019+0000",
         1606029021,
         "Ι can't imagine what that path will be. Vote counting is supposed to be an objective process. #contested #USElectionResults https://t.co/xSAqI4FlTd"
        ],
        [
         8590968336,
         "2020-11-22T07:05:14.818+0000",
         1606028714,
         "Sometimes, it's really hard to LEGO\n#USElectionResults #USElectionResults2020 #DonaldTrump #memesdaily #memes2020 #memesdaily https://t.co/CtmxwpbC7D"
        ],
        [
         8591068000,
         "2020-11-22T08:10:53.861+0000",
         1606032653,
         "Sometimes, it's really hard to LEGO\n#USElectionResults #USElectionResults2020 #DonaldTrump #memesdaily #memes2020 #memesdaily https://t.co/CtmxwpbC7D"
        ],
        [
         8591026016,
         "2020-11-22T07:42:51.016+0000",
         1606030971,
         "Just made my 1st #political @YouTube video. Talking about the #USElectionResults  and the \"lesser of two evils\" fallacy. \n\nhttps://t.co/LpuGkCghyM"
        ],
        [
         8591093568,
         "2020-11-22T08:19:21.253+0000",
         1606033161,
         "Great hoaxes of today\n\n1) #Climatechange\n2) #COVID19 Pandemic\n3) #USElectionResults \n4) #Politicians represent the people.\n\nDid I forget anything?"
        ],
        [
         8591087608,
         "2020-11-22T08:15:10.137+0000",
         1606032910,
         "#USElectionResults millions of #Americans still believe #Democrats rigged it. Thus confirming that #americanintelligence is certainly an oxymoron."
        ],
        [
         8590995784,
         "2020-11-22T07:13:42.111+0000",
         1606029222,
         "Great hoaxes of today\n\n1) #Climatechange\n2) #COVID19 Pandemic\n3) #USElectionResults \n4) #Politicians represent the people.\n\nDid I forget anything?"
        ],
        [
         8591015696,
         "2020-11-22T07:35:59.648+0000",
         1606030559,
         "Fact! #COVID19 #BidenHarris2020ToSaveAmerica #BidenPresident #harrisvotes #ElectionResults2020 #democracy #USElectionResults https://t.co/0i9ArwLEw7"
        ],
        [
         8590989824,
         "2020-11-22T07:09:31.030+0000",
         1606028971,
         "#USElectionResults millions of #Americans still believe #Democrats rigged it. Thus confirming that #americanintelligence is certainly an oxymoron."
        ],
        [
         8590982568,
         "2020-11-22T07:15:08.269+0000",
         1606029308,
         "This could just be true! \n#USElections2020 #USElection2020 #USElectionResults #ConcedeTrump #TrumpVsBidenFight #TrumpvsBiden https://t.co/bN0O5KXFfp"
        ],
        [
         8591082232,
         "2020-11-22T08:20:47.440+0000",
         1606033247,
         "This could just be true! \n#USElections2020 #USElection2020 #USElectionResults #ConcedeTrump #TrumpVsBidenFight #TrumpvsBiden https://t.co/bN0O5KXFfp"
        ],
        [
         8591034056,
         "2020-11-22T07:48:22.419+0000",
         1606031302,
         "Deep state and the right wing theories in the #USElectionResults @Almezel, @gulf_news Editor at Large, looks at the issues\nhttps://t.co/eT0K2Bs1bU"
        ],
        [
         8591063432,
         "2020-11-22T07:58:42.841+0000",
         1606031922,
         "Cybersecurity expert assures voters that election is \"most secure in history\".\n\nhttps://t.co/IZVeBsBSZX \n\n#cybersecurity #cyber #USElectionResults"
        ],
        [
         8590983096,
         "2020-11-22T07:04:59.813+0000",
         1606028699,
         "Sherritt International Corp.’s top executive calls the result of the vote good news for his company. https://t.co/bcp00ZQ2hB #USElectionResults"
        ],
        [
         8591080880,
         "2020-11-22T08:10:38.871+0000",
         1606032638,
         "Sherritt International Corp.’s top executive calls the result of the vote good news for his company. https://t.co/bcp00ZQ2hB #USElectionResults"
        ],
        [
         8591051560,
         "2020-11-22T08:00:29.208+0000",
         1606032029,
         "Biden won Arizona and Trump still doesn't care. We are actually witnessing a coup ppl. In a modern day Western world... #Trump #USElectionResults"
        ],
        [
         8591026840,
         "2020-11-22T07:43:32.383+0000",
         1606031012,
         "CNN, Fox News and Twitter who limited his ability to communicate with his die hard #USPresidentialElections2020 #USElectionResults #TrumpConcede"
        ],
        [
         8591066864,
         "2020-11-22T08:01:24.217+0000",
         1606032084,
         "A shocking number of you think the definition of “cheating” is just “disagreeing with me” \n#Election2020results #USElectionResults #POTUS"
        ],
        [
         8591015696,
         "2020-11-22T07:26:11.917+0000",
         1606029971,
         "Come forward #SkinnyJoeMerlino testify for the good of America. Our elections aren’t for sale. #USElectionResults @realDonaldTrump @JaySekulow"
        ],
        [
         8590989000,
         "2020-11-22T07:19:25.621+0000",
         1606029565,
         "Hhaibo aren’t these ones supposed to be on war sabbatical pending #USElectionResults and swearing in of the 46th POTUS https://t.co/X6wUNNJ93G"
        ],
        [
         8591048128,
         "2020-11-22T07:58:16.493+0000",
         1606031896,
         "#USElectionResults2020: #Biden takes #Arizona, but #Trump refuses to concede #USElectionResults #BidenPresident #Biden2020 https://t.co/le7eYjpPDX"
        ],
        [
         8591022712,
         "2020-11-22T07:40:31.010+0000",
         1606030831,
         "It's simple mathematics: 306 is greater than 232. #Mathematics #USElectionResults #realDonaldTrump #BidenHarris2020 \n#democracy \n#WINNER \n#fired"
        ],
        [
         8591042184,
         "2020-11-22T07:54:15.209+0000",
         1606031655,
         "The last time I checked, Trump said he won ALOT!! \nHistoric 306. #Landslide @JoeBiden #USElectionResults #USElection2020 https://t.co/neHnfRQ6M3"
        ],
        [
         8591042352,
         "2020-11-22T07:43:37.381+0000",
         1606031017,
         "Am not following this -  don't understand why they want to make it messy! #USElectionResults \nNo interest in the matter https://t.co/woDnu3eumZ"
        ],
        [
         8591088152,
         "2020-11-22T08:24:44.806+0000",
         1606033484,
         "The #USElectionResults have resulted in a strange outcome, with the Republicans winning even if @realDonaldTrump lost.\n\nhttps://t.co/zEdo5muqYm"
        ],
        [
         8590988488,
         "2020-11-22T07:19:05.619+0000",
         1606029545,
         "The #USElectionResults have resulted in a strange outcome, with the Republicans winning even if @realDonaldTrump lost.\n\nhttps://t.co/zEdo5muqYm"
        ],
        [
         8591005704,
         "2020-11-22T07:20:00.607+0000",
         1606029600,
         "I'm saving this tweets for January 20th.\n\n#USElections2020 #USElectionResults #BidenHarris2020 #TRUMP2020ToSaveTheWorld https://t.co/PRRoMWwdL8"
        ],
        [
         8591017384,
         "2020-11-22T07:27:21.921+0000",
         1606030041,
         "To rebuild, look abroad https://t.co/CHTHa4jmkw  a very topical and relevant reflection of the current times @Farah_Pandith #USElectionResults"
        ],
        [
         8591027088,
         "2020-11-22T07:33:33.273+0000",
         1606030413,
         "@htTweets @NitishKumar Trump fantasising in #USElectionResults his Country Cousin playing out in #BiharElectionResults https://t.co/0iHsn3V9Z2"
        ],
        [
         8591035944,
         "2020-11-22T07:39:36.020+0000",
         1606030776,
         "Shouldn't this be called biden card now? Just saying... #USElectionResults #USAelection2020 @realDonaldTrump @JoeBiden https://t.co/NZSGjlBrYi"
        ],
        [
         8590982608,
         "2020-11-22T07:04:29.792+0000",
         1606028669,
         "#USElectionResults - This was a moment - when one of Trump’s most influential boosters on Fox delivered the kiss off https://t.co/7ucBRdW867"
        ],
        [
         8591080392,
         "2020-11-22T08:10:08.868+0000",
         1606032608,
         "#USElectionResults - This was a moment - when one of Trump’s most influential boosters on Fox delivered the kiss off https://t.co/7ucBRdW867"
        ],
        [
         8591018160,
         "2020-11-22T07:27:51.922+0000",
         1606030071,
         "@RudyGiuliani I think it’s cute that #POTUS is saying he won coz he still gets to be #POTUS for 9 more weeks 😂😂😂 #USElectionResults"
        ],
        [
         8591097960,
         "2020-11-22T08:22:03.500+0000",
         1606033323,
         "The #USElectionResults #USAelection2020 seems not to be over as more cases of voter fraud keep appearing, more drama incoming on this surely!!"
        ],
        [
         8591015280,
         "2020-11-22T07:25:51.925+0000",
         1606029951,
         "More info...\n#news #Nevada #Nevada2020 \n#USA #USAElections2020 #USElectionResults #USElection2020 #USElections #USElection https://t.co/wZMtcQdDJN"
        ],
        [
         8591029696,
         "2020-11-22T07:35:14.652+0000",
         1606030514,
         "1) The election is over.\n2) Biden won.\n3) My dog is adorable...\n\n#USElectionResults #USElection https://t.co/ydJvmREjF7 https://t.co/3xjHVVofLD"
        ],
        [
         8591036272,
         "2020-11-22T07:49:53.850+0000",
         1606031393,
         "This idea that @JoeBiden is the nice guy. On top of being a demented plagiarist, I actually think he’s a bit of a prick. #USElectionResults"
        ],
        [
         8591068624,
         "2020-11-22T08:02:34.217+0000",
         1606032154,
         "Governor Zullum to launch \"Borno's 25 year Development plan\" tomorrow.\n#EndSARS #ASUU #SecureNorth #USElectionResults https://t.co/7s4Z4cqThv"
        ],
        [
         8591032424,
         "2020-11-22T07:47:12.382+0000",
         1606031232,
         "At White House.....\nTo solve ⁦@realDonaldTrump⁩ and ⁦@JoeBiden⁩ dispute.\n\n#USAElections2020 #USElectionResults https://t.co/Si8FXvbXND"
        ],
        [
         8591070264,
         "2020-11-22T08:12:33.863+0000",
         1606032753,
         "If #RudyGiuliani believes Hugo Chavez has been rigging #USElection\\#USElectionResults from beyond the grave. @realDonaldTrump can ask Herman Cain for help, as he's active after death. #Chavez & #Cain can carry the fight between socialism & capitalism beyond the grave.\n#r4today"
        ],
        [
         8591070600,
         "2020-11-22T08:12:43.865+0000",
         1606032763,
         "What has happened to the @GOP participating in an attempt to undermines the democratic process in the US and diminish America’s standing in the world #USElectionResults https://t.co/TEQs12zzTV"
        ],
        [
         8591054792,
         "2020-11-22T08:02:39.225+0000",
         1606032159,
         "@JoeBiden @DrBiden Make America(n presidents) Bearded Again #MABA #USElectionResults #PresidentElect #PresidentElectJoe https://t.co/L6CZf7uZDR"
        ],
        [
         8590996304,
         "2020-11-22T07:23:55.627+0000",
         1606029835,
         "Back the new world order, non stop wars, green new deals, leftism mental illness pandemic! #USElectionResults #Reset https://t.co/Oepj2qCv1D"
        ],
        [
         8591038808,
         "2020-11-22T07:51:43.869+0000",
         1606031503,
         "Surely at this stage, it’s quicker & cheaper for the US to redo the election🙄 #uselection #uselectionresults #wastingtime #wastingmoney"
        ],
        [
         8591055984,
         "2020-11-22T07:52:50.182+0000",
         1606031570,
         "Republicans are NOT suing to win this election. They're suing to win the next election.\n\n#usavaalit #USElectionResults #trump #biden #Politics"
        ],
        [
         8590989216,
         "2020-11-22T07:08:59.823+0000",
         1606028939,
         "Donald trupm during U.S election Result.\n\n#USElectionResults #USPresidentialElections2020 \n#JoeBidenKamalaHarris2020 https://t.co/msRxS5ddna"
        ],
        [
         8591087000,
         "2020-11-22T08:14:40.129+0000",
         1606032880,
         "Donald trupm during U.S election Result.\n\n#USElectionResults #USPresidentialElections2020 \n#JoeBidenKamalaHarris2020 https://t.co/msRxS5ddna"
        ],
        [
         8590978768,
         "2020-11-22T07:12:16.054+0000",
         1606029136,
         "THE HARE WON !!!\n\n#TrumpConcede #USElection #DumpTrump2020 #democracy2020 #TrumpTantrum #USElectionResults #BidenWon https://t.co/3FfiWIXzVS"
        ],
        [
         8591078432,
         "2020-11-22T08:17:55.123+0000",
         1606033075,
         "THE HARE WON !!!\n\n#TrumpConcede #USElection #DumpTrump2020 #democracy2020 #TrumpTantrum #USElectionResults #BidenWon https://t.co/3FfiWIXzVS"
        ],
        [
         8591025824,
         "2020-11-22T07:42:41.014+0000",
         1606030961,
         "@SecPompeo r u nuts. your boss @POTUS  is  the main destablizer of USA and the world . ask him to accept the #USElectionResults  @JoeBiden"
        ],
        [
         8591048792,
         "2020-11-22T07:58:47.853+0000",
         1606031927,
         "What the hell is #EltonJohn doing getting involved in the #USElectionResults ? #USElection2020 #TrumpTantrum #Trump https://t.co/jWn1BG1jGN"
        ],
        [
         8591044152,
         "2020-11-22T07:55:35.205+0000",
         1606031735,
         "Right now I'm thinking the whole #USElectionResults are going to be based on which side the military will be on. #coupdetat #DictatorTrump"
        ],
        [
         8591023472,
         "2020-11-22T07:31:13.251+0000",
         1606030273,
         "#Obama warns of ‘dangerous path’ amid Trump’s refusal to accept #USElectionResults #Fascism #antidemocracy  https://t.co/1Wy3QmJiy8"
        ],
        [
         8591003360,
         "2020-11-22T07:18:30.468+0000",
         1606029510,
         "@SkyNews Our current #radicalisation systems due for refurbishment #farright #USElection2020 #USElectionResults @SenKamalaHarris @JoeBiden"
        ],
        [
         8591101144,
         "2020-11-22T08:24:09.800+0000",
         1606033449,
         "@SkyNews Our current #radicalisation systems due for refurbishment #farright #USElection2020 #USElectionResults @SenKamalaHarris @JoeBiden"
        ],
        [
         8591067944,
         "2020-11-22T08:02:04.226+0000",
         1606032124,
         "Taking place since quite some time now.\n\n#BanDigitalElections #EVMPuppets #IllusionOfDemocracy #USElectionResults https://t.co/9cuTPDQpZW"
        ],
        [
         8590982768,
         "2020-11-22T07:15:18.285+0000",
         1606029318,
         "How Trump Lost The Election...\n#USPresidentialElections2020 #USElectionResults #TrumpvsBiden #Trump lost to #Biden \nhttps://t.co/LnO9F6kXSW"
        ],
        [
         8591082432,
         "2020-11-22T08:20:57.441+0000",
         1606033257,
         "How Trump Lost The Election...\n#USPresidentialElections2020 #USElectionResults #TrumpvsBiden #Trump lost to #Biden \nhttps://t.co/LnO9F6kXSW"
        ],
        [
         8591025504,
         "2020-11-22T07:42:21.012+0000",
         1606030941,
         "Something you many not have noticed during #TrumpPressConference yesterday......Watch closely! #USElectionResults https://t.co/k0aY8YpFY6"
        ],
        [
         8591018512,
         "2020-11-22T07:28:11.939+0000",
         1606030091,
         "@GaSecofState may have something to hide 🤔#USelections2020 #USAElections2020 #USElectionResults #USAelection2020 https://t.co/ymwWnJZHYK"
        ],
        [
         8590994344,
         "2020-11-22T07:22:45.614+0000",
         1606029765,
         "https://t.co/bfquM9dLT7\n#Texas #USElections #USElectionResults 🤔 #USAElections2020 \nThis news was 🤐 on FB!\n👇🇺🇲🙏🏻🗳"
        ],
        [
         8591026352,
         "2020-11-22T07:43:12.379+0000",
         1606030992,
         "The Eviction Of Donald Trump....https://t.co/PzBraq0uFs\n\n#elections #USElectionResults #BidenHarris2020 #Trump2020 https://t.co/T7XuGELdUg"
        ],
        [
         8590963272,
         "2020-11-22T07:01:53.482+0000",
         1606028513,
         "Trump suffers double blow in bid to overturn #USelectionresults  https://t.co/XuEAyvIfvS \n#BidenHarris2020 \n#BidenHarris #BidenPresident"
        ],
        [
         8591062936,
         "2020-11-22T08:07:32.599+0000",
         1606032452,
         "Trump suffers double blow in bid to overturn #USelectionresults  https://t.co/XuEAyvIfvS \n#BidenHarris2020 \n#BidenHarris #BidenPresident"
        ],
        [
         8590977960,
         "2020-11-22T07:01:18.484+0000",
         1606028478,
         "Donald Trump is the Deontay Wilder of US Politics! #USAElections2020 #USElectionResults #USElection #weakexcuses https://t.co/55y0Al9ixd"
        ],
        [
         8591075744,
         "2020-11-22T08:06:57.606+0000",
         1606032417,
         "Donald Trump is the Deontay Wilder of US Politics! #USAElections2020 #USElectionResults #USElection #weakexcuses https://t.co/55y0Al9ixd"
        ],
        [
         8590991656,
         "2020-11-22T07:21:15.615+0000",
         1606029675,
         "How I'm viewing the US election result #USElectionResults #USElection #USElections2020 #TrumpvsBiden #TrumpConcede https://t.co/ZjUpSxkecg"
        ],
        [
         8591007408,
         "2020-11-22T07:30:38.262+0000",
         1606030238,
         "mentalities  difference .... \n@realDonaldTrump @JoeBiden \n#USElectionResults #USPresidentialElections2020 \n#USA https://t.co/6Ut35Ty6wJ"
        ],
        [
         8591081752,
         "2020-11-22T08:20:27.439+0000",
         1606033227,
         "Trump fires election security official who contradicted him\n\n#218newsenglish \n#USElectionResults \n#USA \n#libya https://t.co/TQAei0pZLz"
        ],
        [
         8590982088,
         "2020-11-22T07:14:48.282+0000",
         1606029288,
         "Trump fires election security official who contradicted him\n\n#218newsenglish \n#USElectionResults \n#USA \n#libya https://t.co/TQAei0pZLz"
        ],
        [
         8591071568,
         "2020-11-22T08:04:37.599+0000",
         1606032277,
         "In Nevada, it seems the Biden team played Tamilnadu election trick! 😂\n\n#USAElections2020 #USElectionResults https://t.co/blAbldO2aB"
        ],
        [
         8591083088,
         "2020-11-22T08:21:28.491+0000",
         1606033288,
         "Operation get trump baby to the white house, its never seemed more fitting. #USElectionResults #TrumpMeltdown https://t.co/8QIJ84ucqs"
        ],
        [
         8590983424,
         "2020-11-22T07:15:49.308+0000",
         1606029349,
         "Operation get trump baby to the white house, its never seemed more fitting. #USElectionResults #TrumpMeltdown https://t.co/8QIJ84ucqs"
        ],
        [
         8591066072,
         "2020-11-22T08:00:44.229+0000",
         1606032044,
         "Joe Biden wins Arizona. Now 290 Electoral Votes But Does It Matter? https://t.co/nDQTzljOeX via @BBCNews #USElectionResults #JoeBiden"
        ],
        [
         8591089376,
         "2020-11-22T08:16:20.135+0000",
         1606032980,
         "Trump was RIGHT !\n\nDems did FRAUD in #USElectionResults \n\n#Trump2020 #TrumpLandside #JoeBidenUkraineScandal \n\nhttps://t.co/yMFowAMHB4"
        ],
        [
         8590991592,
         "2020-11-22T07:10:41.036+0000",
         1606029041,
         "Trump was RIGHT !\n\nDems did FRAUD in #USElectionResults \n\n#Trump2020 #TrumpLandside #JoeBidenUkraineScandal \n\nhttps://t.co/yMFowAMHB4"
        ],
        [
         8590963976,
         "2020-11-22T07:02:23.500+0000",
         1606028543,
         "Georgia certifies election results, makes Biden's win official\n\nRead: https://t.co/RQlzppKKm8\n\n#JoeBiden #GEORIGA #USElectionResults"
        ],
        [
         8591063640,
         "2020-11-22T08:08:02.616+0000",
         1606032482,
         "Georgia certifies election results, makes Biden's win official\n\nRead: https://t.co/RQlzppKKm8\n\n#JoeBiden #GEORIGA #USElectionResults"
        ],
        [
         8591041336,
         "2020-11-22T07:53:35.189+0000",
         1606031615,
         "#USElectionResults After every state has been called by the US networks, Joe Biden has won the US election with 306 electoral votes."
        ],
        [
         8591043616,
         "2020-11-22T07:55:15.200+0000",
         1606031715,
         "My #USElectionResults projections were @JoeBiden to get more than 307 electoral college votes. \nI may still be right. Hang on there."
        ],
        [
         8591073120,
         "2020-11-22T08:14:25.136+0000",
         1606032865,
         "Twitter need to remove their fraud tag looking stupider by the minute \n#BidenHarris2020 #USElectionResults  https://t.co/ukk98iOzZF"
        ],
        [
         8590973456,
         "2020-11-22T07:08:44.832+0000",
         1606028924,
         "Twitter need to remove their fraud tag looking stupider by the minute \n#BidenHarris2020 #USElectionResults  https://t.co/ukk98iOzZF"
        ],
        [
         8590987600,
         "2020-11-22T07:07:49.813+0000",
         1606028869,
         "Hey America,  remember when @BarackObama wore a tan suit?\n🤣🤣🤣🤣🤣🤣🤣🤣🤣\n\n#USElectionResults \n#USPolitics \n#USA"
        ],
        [
         8591085384,
         "2020-11-22T08:13:28.890+0000",
         1606032808,
         "Hey America,  remember when @BarackObama wore a tan suit?\n🤣🤣🤣🤣🤣🤣🤣🤣🤣\n\n#USElectionResults \n#USPolitics \n#USA"
        ],
        [
         8591054592,
         "2020-11-22T07:51:50.188+0000",
         1606031510,
         "@JoeBiden #PresidentElect @JoeBiden being very #Presidential ever since #USElectionResults 🇺🇸😉👍 https://t.co/QpzEMv0vpk"
        ],
        [
         8591031936,
         "2020-11-22T07:46:52.378+0000",
         1606031212,
         "Trump might soon resign, and VP Mike Pence will pardon him \n\nhttps://t.co/gHiHhGzkFo #posttrump #USElectionResults #TrumpMeltdown"
        ],
        [
         8590986528,
         "2020-11-22T07:07:09.818+0000",
         1606028829,
         "#USElection2020 #USElectionResults: Georgia Confirms Biden Victory, Finds No Widespread Fraud After Audit\nhttps://t.co/w4rm8fTB82"
        ],
        [
         8591021664,
         "2020-11-22T07:39:51.005+0000",
         1606030791,
         "#USElections2020 & #Algorithms & #USElectionResults \nWhat's wrong with \"democratic\" election rules... ??\n\nhttps://t.co/KJzkGsnF4P"
        ],
        [
         8591036632,
         "2020-11-22T07:50:13.850+0000",
         1606031413,
         "We need more leaders like Ronald Reagan! Try to unite, not divide! #us #USElectionResults #USAelection2020 #usa #GodBlessAmerica"
        ],
        [
         8591016232,
         "2020-11-22T07:36:19.651+0000",
         1606030579,
         "جدع 👌 Exactly he  shouldn't be greedy\n#USElectionResults #BidenHarris2020 #Biden #BidenHarris #USA https://t.co/yeyspZC2CS"
        ],
        [
         8591057136,
         "2020-11-22T07:53:40.188+0000",
         1606031620,
         "Trump is literally Hitler. #journalism #media #trump #biden #usavaalit #USElectionResults #CNNImparcial https://t.co/ITsWCr6Oc6"
        ],
        [
         8591033152,
         "2020-11-22T07:47:42.406+0000",
         1606031262,
         "In 1 week Biden supporters have become more toxic than Trump supporters ever were. \n\nWhat a world honestly.\n\n#USElectionResults"
        ],
        [
         8591024584,
         "2020-11-22T07:41:41.006+0000",
         1606030901,
         "This is lovely; sums up how a lot of us dealt with #USElectionResults #USElections2020 🇺🇲🇮🇪 https://t.co/hdQ56t96sT"
        ],
        [
         8591092264,
         "2020-11-22T08:18:21.243+0000",
         1606033101,
         "@realDonaldTrump with all the tweeting going on, one would think you don't have a day job #USAElections2020 #USElectionResults"
        ],
        [
         8590994480,
         "2020-11-22T07:12:42.117+0000",
         1606029162,
         "@realDonaldTrump with all the tweeting going on, one would think you don't have a day job #USAElections2020 #USElectionResults"
        ],
        [
         8591028472,
         "2020-11-22T07:44:32.382+0000",
         1606031072,
         "Homeland Security: “the most secure (election) in American history”. That is most certainly that then. #USElectionResults"
        ],
        [
         8591066688,
         "2020-11-22T08:01:14.232+0000",
         1606032074,
         "What a mess...\n#TrumpConcede #BidenTransition #USElectionResults #AmericaDecides #ByeByeTrump #Harris https://t.co/mLGQCrMDwD"
        ],
        [
         8591070272,
         "2020-11-22T08:03:36.354+0000",
         1606032216,
         "In late breaking news @realDonaldTrump has asked if David Coote is available to adjudicate in the #USElectionResults #MANUWBA"
        ],
        [
         8591063776,
         "2020-11-22T07:59:02.845+0000",
         1606031942,
         "I think @realDonaldTrump is planning to strike #iran as his last act to put @JoeBiden under more pressure \n#USElectionResults"
        ],
        [
         8591025544,
         "2020-11-22T07:32:33.249+0000",
         1606030353,
         "Why postal voting is a recipe - no, an invitation - for fraud. \n#USElectionResults #USElections2020  https://t.co/eFEeQNZPFv"
        ],
        [
         8591003056,
         "2020-11-22T07:27:56.931+0000",
         1606030076,
         "How #Mexican #American feel about #socialism #Communism \nhttps://t.co/8gMAQEkdpx \n#USElections2020 #USElectionResults #手足"
        ],
        [
         8591056432,
         "2020-11-22T07:53:10.183+0000",
         1606031590,
         "That's some ass whooping win by @JoeBiden #JOEBIDEN2020 #JoeBidenKamalaHarris2020 #USElectionResults https://t.co/lzipdAynih"
        ],
        [
         8591042008,
         "2020-11-22T07:54:05.193+0000",
         1606031645,
         "With final races called, Biden ends with 306 Electoral College votes, Trump 232 \n#USElectionResults \nhttps://t.co/X7cJBubpQW"
        ],
        [
         8591059240,
         "2020-11-22T07:55:41.495+0000",
         1606031741,
         "It’s seems this is the last election results .. #Election2020 #USElectionResults #TrumpVsBidenFight https://t.co/WxHWih0Idt"
        ],
        [
         8590994072,
         "2020-11-22T07:12:21.046+0000",
         1606029141,
         "THE GERMANS WON WW2!!!!\n\n#TrumpConcede #USElection #DumpTrump2020 #democracy2020 #TrumpTantrum #USElectionResults #BidenWon"
        ],
        [
         8591075928,
         "2020-11-22T08:07:07.593+0000",
         1606032427,
         "Trump options narrow as Michigan backs Biden win\n\n#218newsenglish \n#USElectionResults \n#USA \n#Libya https://t.co/eyhUbQIwb2"
        ],
        [
         8591091856,
         "2020-11-22T08:18:00.130+0000",
         1606033080,
         "THE GERMANS WON WW2!!!!\n\n#TrumpConcede #USElection #DumpTrump2020 #democracy2020 #TrumpTantrum #USElectionResults #BidenWon"
        ],
        [
         8591062760,
         "2020-11-22T08:07:22.612+0000",
         1606032442,
         "Georgia Governor Calls for Audit of Signatures on Ballot Envelopes\n\nhttps://t.co/h2IbmAaqq0 #GeorgiaGate #USElectionResults"
        ],
        [
         8590978144,
         "2020-11-22T07:01:28.489+0000",
         1606028488,
         "Trump options narrow as Michigan backs Biden win\n\n#218newsenglish \n#USElectionResults \n#USA \n#Libya https://t.co/eyhUbQIwb2"
        ],
        [
         8590963096,
         "2020-11-22T07:01:43.482+0000",
         1606028503,
         "Georgia Governor Calls for Audit of Signatures on Ballot Envelopes\n\nhttps://t.co/h2IbmAaqq0 #GeorgiaGate #USElectionResults"
        ],
        [
         8591065264,
         "2020-11-22T08:00:02.851+0000",
         1606032002,
         "Should the unthinkable happen, how long do you think @TheDemocrats call for unity and healing will last? #USElectionResults"
        ],
        [
         8591085888,
         "2020-11-22T08:13:48.876+0000",
         1606032828,
         "So it’s 306 to Joe Biden. \n\n232 to Donald Trump. \n\nIs that the same margin by which Trump won in 2016? #USElectionResults"
        ],
        [
         8590988104,
         "2020-11-22T07:08:09.830+0000",
         1606028889,
         "So it’s 306 to Joe Biden. \n\n232 to Donald Trump. \n\nIs that the same margin by which Trump won in 2016? #USElectionResults"
        ],
        [
         8591006712,
         "2020-11-22T07:30:06.930+0000",
         1606030206,
         "On #populism with @seylabenhabib  @spyrosasofos @Rethinkingpopu1 @openDemocracy #USElectionResults https://t.co/Q4hmtR0mui"
        ],
        [
         8590967592,
         "2020-11-22T07:04:44.797+0000",
         1606028684,
         "This shows how valid the rest of their arguments are LOL\n#USElectionResults2020 #USElectionResults https://t.co/c0OAs9xQ8M"
        ],
        [
         8591017208,
         "2020-11-22T07:27:11.951+0000",
         1606030031,
         "#Trump national security adviser O'Brien says looks now that #Biden has won.\n#USElectionResults \n\n https://t.co/04Vay3nkUG"
        ],
        [
         8591010152,
         "2020-11-22T07:32:38.256+0000",
         1606030358,
         "America should invade America to bring American values and democracy 😂 \n\n#USElectionResults #USA #TrumpConcede #Election"
        ],
        [
         8591067256,
         "2020-11-22T08:10:23.870+0000",
         1606032623,
         "This shows how valid the rest of their arguments are LOL\n#USElectionResults2020 #USElectionResults https://t.co/c0OAs9xQ8M"
        ],
        [
         8590979472,
         "2020-11-22T07:02:18.512+0000",
         1606028538,
         "#USElectionResults @SpeakerPelosi can't you just get him gone before someone gets seriously hurt? https://t.co/liLBkt7RaC"
        ],
        [
         8591077256,
         "2020-11-22T08:07:57.602+0000",
         1606032477,
         "#USElectionResults @SpeakerPelosi can't you just get him gone before someone gets seriously hurt? https://t.co/liLBkt7RaC"
        ],
        [
         8591061488,
         "2020-11-22T07:57:21.489+0000",
         1606031841,
         "China congratulates Biden https://t.co/C0IzcOcUIp @chinamcclain #Ghana #China #USElectionResults #business #norvanreports"
        ],
        [
         8591062304,
         "2020-11-22T08:07:02.595+0000",
         1606032422,
         "Trump options narrow as Michigan backs Biden win\n\n#Michigan #Trump #election #USElectionResults \n\nhttps://t.co/RWhadOKl57"
        ],
        [
         8590962640,
         "2020-11-22T07:01:23.492+0000",
         1606028483,
         "Trump options narrow as Michigan backs Biden win\n\n#Michigan #Trump #election #USElectionResults \n\nhttps://t.co/RWhadOKl57"
        ],
        [
         8591007592,
         "2020-11-22T07:30:48.263+0000",
         1606030248,
         "I am ignorant of #USA politics but what is the fuss about your #USElectionResults?  Only real knowlegable people please!"
        ],
        [
         8591049032,
         "2020-11-22T07:48:07.413+0000",
         1606031287,
         "@realDonaldTrump Nope. Can't find that in the constitution! #USAElections2020 #USElectionResults https://t.co/5p223oZuak"
        ],
        [
         8591039320,
         "2020-11-22T07:52:05.185+0000",
         1606031525,
         "This was the moment I began to believe. Went on Paddy Power to see Biden 4/1! #USElectionResults https://t.co/nzlj60cfDN"
        ],
        [
         8590977712,
         "2020-11-22T07:11:36.035+0000",
         1606029096,
         "Absolutely. No point counting dodgy votes second time round. #USElectionResults #USElection2020 https://t.co/k0HFX7o20k"
        ],
        [
         8591077376,
         "2020-11-22T08:17:15.151+0000",
         1606033035,
         "Absolutely. No point counting dodgy votes second time round. #USElectionResults #USElection2020 https://t.co/k0HFX7o20k"
        ],
        [
         8591040248,
         "2020-11-22T07:52:45.181+0000",
         1606031565,
         "Can Mitch McConnell be tried for being a co-conspirator in an attempted fascist coup? #MitchMcConnell #USElectionResults"
        ],
        [
         8591053280,
         "2020-11-22T08:01:29.230+0000",
         1606032089,
         "#China congratulates Joe Biden for winning #US election https://t.co/gJ6gm6OYdN via @financialtimes #USElectionResults"
        ],
        [
         8590972480,
         "2020-11-22T07:08:04.820+0000",
         1606028884,
         "It seems that both @JennaEllisEsq and the #USElectionResults should be immediately certified. https://t.co/8gowbv512V"
        ],
        [
         8591020632,
         "2020-11-22T07:29:21.943+0000",
         1606030161,
         "Even the Twitter fact checker has had enough #DonaldTrump #USElectionResults #USAelection2020 https://t.co/4fKYkfwzHi"
        ],
        [
         8591072144,
         "2020-11-22T08:13:43.864+0000",
         1606032823,
         "It seems that both @JennaEllisEsq and the #USElectionResults should be immediately certified. https://t.co/8gowbv512V"
        ],
        [
         8591079976,
         "2020-11-22T08:19:06.260+0000",
         1606033146,
         "@bbcnews why are you allowing unfounded unsubstantiated allegations about voter fraud to be aired. #USElectionResults"
        ],
        [
         8590995304,
         "2020-11-22T07:13:12.107+0000",
         1606029192,
         "Clearly #Newsnight is doing a mental health item as it covers #Trump supporters refusal to accept #USElectionResults."
        ],
        [
         8590980312,
         "2020-11-22T07:13:27.110+0000",
         1606029207,
         "@bbcnews why are you allowing unfounded unsubstantiated allegations about voter fraud to be aired. #USElectionResults"
        ],
        [
         8591093088,
         "2020-11-22T08:18:51.248+0000",
         1606033131,
         "Clearly #Newsnight is doing a mental health item as it covers #Trump supporters refusal to accept #USElectionResults."
        ],
        [
         8591045784,
         "2020-11-22T07:45:47.378+0000",
         1606031147,
         "With you from 1900GMT @BBCWorld @BBCNews #Ethiopia #Tigray #Trump #USElectionResults #Diwali and more. See you then!"
        ],
        [
         8591036464,
         "2020-11-22T07:50:03.849+0000",
         1606031403,
         "Donald Trump finally breaks his silence on his election loss #DonaldTrump #USElectionResults https://t.co/xmFWxnTtZ8"
        ],
        [
         8591039744,
         "2020-11-22T07:52:25.188+0000",
         1606031545,
         "@susanamet Hardly what he needs to speak about, given it's his first speech since the election!\n#USElectionResults"
        ],
        [
         8590993056,
         "2020-11-22T07:21:55.620+0000",
         1606029715,
         "You can tell The Democrats are in big trouble because every single news feed says they’re not #USElectionResults"
        ],
        [
         8591079440,
         "2020-11-22T08:09:18.865+0000",
         1606032558,
         "😂😂 #FourSeasons Total Landscaping Local Ad https://t.co/149CwFOfWv via @YouTube That guy! #USElectionResults"
        ],
        [
         8591024080,
         "2020-11-22T07:41:21.018+0000",
         1606030881,
         "@mike_wanaoni Josh Shapiro is a well known Trump-hater, don't think he would confess voterfraud.#USElectionResults"
        ],
        [
         8590991264,
         "2020-11-22T07:20:55.630+0000",
         1606029655,
         "We know we mishandled NY Post story  - Dorsey\n\n#Twitter #USElectionResults #senatehearing \nhttps://t.co/zeLMnVx0br"
        ],
        [
         8590981656,
         "2020-11-22T07:03:39.800+0000",
         1606028619,
         "😂😂 #FourSeasons Total Landscaping Local Ad https://t.co/149CwFOfWv via @YouTube That guy! #USElectionResults"
        ],
        [
         8591060848,
         "2020-11-22T07:56:51.486+0000",
         1606031811,
         "Pennsylvania won't order recount of votes from election \n\n#Pennsylvania #USElectionResults \nhttps://t.co/ZTQMb5b0OJ"
        ],
        [
         8591034712,
         "2020-11-22T07:48:53.828+0000",
         1606031333,
         "#USElectionResults why am I feeling like Americans just made the same mistake Nigeria made in 2015? Just a feeling"
        ],
        [
         8591090184,
         "2020-11-22T08:16:50.121+0000",
         1606033010,
         "@DavidBegnaud When will fists fly in Capitol Hill? Everything else is happening in the #USElectionResults #uspoli"
        ],
        [
         8590992400,
         "2020-11-22T07:11:11.025+0000",
         1606029071,
         "@DavidBegnaud When will fists fly in Capitol Hill? Everything else is happening in the #USElectionResults #uspoli"
        ],
        [
         8591047864,
         "2020-11-22T07:47:17.391+0000",
         1606031237,
         "When lies start drowning in facts & reality, watch the panic starting. #USElectionResults https://t.co/VKGwgvjwph"
        ],
        [
         8591053536,
         "2020-11-22T07:50:58.833+0000",
         1606031458,
         "#SCOTUS cases pending\nrelated to #USElectionResults \n\nwhere the law goes one\nit goes all. https://t.co/ytzzkzyizq"
        ],
        [
         8591002496,
         "2020-11-22T07:27:26.929+0000",
         1606030046,
         "Word of the year? #DonaldTrump #DonaldTrumpIsOverParty #USElectionResults #USAelection2020 https://t.co/CqbQY2WnLi"
        ],
        [
         8591029488,
         "2020-11-22T07:45:12.385+0000",
         1606031112,
         "The propaganda of CNN and Fox News is alarming.\n\n#USElectionResults \n#trumppence\n#trump2ndterm\n#SpiritualWarfare"
        ],
        [
         8591008280,
         "2020-11-22T07:21:30.607+0000",
         1606029690,
         "It take two to make things go right... #tuesdayvibe #JumiaToTheRescue #USElectionResults https://t.co/ePOFrJrU9m"
        ],
        [
         8591031528,
         "2020-11-22T07:36:34.631+0000",
         1606030594,
         "Audit and recount #USElectionResults simple.then the results are indisputable \nWhy wouldn’t any one want that?"
        ],
        [
         8591045296,
         "2020-11-22T07:56:36.478+0000",
         1606031796,
         "Trump's big post-election court 'win' @realDonaldTrump #USElectionResults #USElection2020 https://t.co/FL1U60ckHL"
        ],
        [
         8591018704,
         "2020-11-22T07:28:21.939+0000",
         1606030101,
         "Will #Biden Lead To More Or Less Volatility In Oil Markets? \n\n#oott #USElectionResults \nhttps://t.co/6fnWdk2CFl"
        ],
        [
         8591069376,
         "2020-11-22T08:11:53.858+0000",
         1606032713,
         "Finally the  real power behind the throne makes its position clear. #uselectionresults  https://t.co/DuO5AetC3X"
        ],
        [
         8590969712,
         "2020-11-22T07:06:14.825+0000",
         1606028774,
         "Finally the  real power behind the throne makes its position clear. #uselectionresults  https://t.co/DuO5AetC3X"
        ],
        [
         8591054136,
         "2020-11-22T08:02:09.219+0000",
         1606032129,
         "If the Democrats are so sure they won fair and square why are they trying to stop a recount? #USElectionResults"
        ],
        [
         8591068200,
         "2020-11-22T08:11:03.865+0000",
         1606032663,
         "Can @realDonaldTrump  override the #popularvote?\n#USAElections2020 #USElectionResults \n https://t.co/0fZjqDehYs"
        ],
        [
         8590968536,
         "2020-11-22T07:05:24.835+0000",
         1606028724,
         "Can @realDonaldTrump  override the #popularvote?\n#USAElections2020 #USElectionResults \n https://t.co/0fZjqDehYs"
        ],
        [
         8590979312,
         "2020-11-22T07:12:47.122+0000",
         1606029167,
         "This is the best synopsis of the #USElection2020. \n\n#USAElections2020 #USElectionResults https://t.co/4KCj2NHbdy"
        ],
        [
         8591078976,
         "2020-11-22T08:18:26.235+0000",
         1606033106,
         "This is the best synopsis of the #USElection2020. \n\n#USAElections2020 #USElectionResults https://t.co/4KCj2NHbdy"
        ],
        [
         8591011472,
         "2020-11-22T07:23:30.634+0000",
         1606029810,
         "#Biden to Announce White House Team Shortly 🇺🇸🗳\n\n#SEENews #USElectionResults\nhttps://t.co/xriNOdKTis"
        ],
        [
         8591017048,
         "2020-11-22T07:27:01.947+0000",
         1606030021,
         "And they invented a color darker than black.\n\n#USElectionResults #Trump #TrumpvsBiden https://t.co/hhepIutDH9"
        ],
        [
         8591018352,
         "2020-11-22T07:28:01.938+0000",
         1606030081,
         "Time to get the 🍿 out because this is going to be hilarious. \n\n#USElectionResults\n https://t.co/Hk9VwQ9vgt"
        ],
        [
         8591037360,
         "2020-11-22T07:50:43.842+0000",
         1606031443,
         "Donald Trump continues to insist the US election was ‘rigged’,https://t.co/g7pwJf9PK0\n#USElectionResults"
        ],
        [
         8590994528,
         "2020-11-22T07:22:55.614+0000",
         1606029775,
         "How it started                      How it’s going\n#USElectionResults #USElection2020 https://t.co/2qO6W70Dmc"
        ],
        [
         8591093408,
         "2020-11-22T08:19:11.252+0000",
         1606033151,
         "These folks are going NUTS.\nhttps://t.co/ZD27K7mHc2 #USElectionResults2020 #USElectionResults #FoxNews #MSNBC"
        ],
        [
         8590995624,
         "2020-11-22T07:13:32.110+0000",
         1606029212,
         "These folks are going NUTS.\nhttps://t.co/ZD27K7mHc2 #USElectionResults2020 #USElectionResults #FoxNews #MSNBC"
        ],
        [
         8591027832,
         "2020-11-22T07:34:04.639+0000",
         1606030444,
         "Wow, there’s even a @jonathanvswan meme now #Election2020  #USElectionResults 😂 https://t.co/WvJC6BDErH"
        ],
        [
         8591053944,
         "2020-11-22T07:51:18.838+0000",
         1606031478,
         "#DonaldTrump Hints He May Accept Defeat By #JoeBiden #kalingatv #USElectionResults \nhttps://t.co/hU4F9KVIZi"
        ],
        [
         8591075424,
         "2020-11-22T08:15:55.135+0000",
         1606032955,
         "Caption please #Election2020 #USAElections2020 #USElectionResults #DonaldTrump #Obama https://t.co/hJxbzxYl4J"
        ],
        [
         8590975760,
         "2020-11-22T07:10:16.034+0000",
         1606029016,
         "Caption please #Election2020 #USAElections2020 #USElectionResults #DonaldTrump #Obama https://t.co/hJxbzxYl4J"
        ],
        [
         8590993224,
         "2020-11-22T07:22:05.621+0000",
         1606029725,
         "Guess we'll file this in the 'Make America Great Again' folder.\n\n#USElectionResults https://t.co/FhpaPPApfq"
        ],
        [
         8591053376,
         "2020-11-22T07:50:48.848+0000",
         1606031448,
         ".@realDonaldTrump is America’s most vexatious litigant. #USElectionResults #Trump https://t.co/C6pI2RRZV9"
        ],
        [
         8591047184,
         "2020-11-22T07:46:47.375+0000",
         1606031207,
         "I might start a new career as clairvoyant. #prediction #USElectionResults @JoeBiden https://t.co/pWJYEzXSla"
        ],
        [
         8591035520,
         "2020-11-22T07:49:23.833+0000",
         1606031363,
         "Dear America, I hope this helps #TrumpCollapse #USAelection2020 #USElectionResults https://t.co/9vfW8RoukB"
        ],
        [
         8591044656,
         "2020-11-22T07:56:06.477+0000",
         1606031766,
         "JUST IN: NBC News and CNN project that Donald Trump has won the state of North Carolina\n#USElectionResults"
        ],
        [
         8591007120,
         "2020-11-22T07:20:50.600+0000",
         1606029650,
         "#Republicans repeal section 230 now or surrender your testicles to the Joe and the Hoe.\n#USElectionResults"
        ],
        [
         8591034552,
         "2020-11-22T07:48:43.811+0000",
         1606031323,
         "A reminder .... #DonaldTrump #USAElections2020 #USElectionResults #USAelection2020 https://t.co/OpoHEEuHln"
        ],
        [
         8590969552,
         "2020-11-22T07:06:04.807+0000",
         1606028764,
         "They only two things we need to know right now #USElectionResults #USAelection2020 https://t.co/luRiD5Kh38"
        ],
        [
         8591069216,
         "2020-11-22T08:11:43.872+0000",
         1606032703,
         "They only two things we need to know right now #USElectionResults #USAelection2020 https://t.co/luRiD5Kh38"
        ],
        [
         8591021512,
         "2020-11-22T07:39:41.018+0000",
         1606030781,
         "Hey, Siri! Who is the president of the United States? \n\n#Elecciones2020 #USElectionResults  #TrumpvsBiden"
        ],
        [
         8591091032,
         "2020-11-22T08:17:20.140+0000",
         1606033040,
         "BREAKING : Trump concedes 👇 #USAElections2020 #BREAKING #USElectionResults 😃 https://t.co/E6Dkpp02V4"
        ],
        [
         8590993248,
         "2020-11-22T07:11:41.028+0000",
         1606029101,
         "BREAKING : Trump concedes 👇 #USAElections2020 #BREAKING #USElectionResults 😃 https://t.co/E6Dkpp02V4"
        ],
        [
         8591044344,
         "2020-11-22T07:55:46.487+0000",
         1606031746,
         "CALLED IT🔮 \n\n#USElectionResults #JoeBiden #Election2020 https://t.co/h7Hbm1EUXg https://t.co/Mvc5l7Ut6f"
        ],
        [
         8590982800,
         "2020-11-22T07:04:39.793+0000",
         1606028679,
         "I’m quite enjoying the recounts. We all get to relive Biden winning again and again #USElectionResults"
        ],
        [
         8590995472,
         "2020-11-22T07:13:22.107+0000",
         1606029202,
         "@AriBerman @tonymascopone #WayneCounty has certified the #USElectionResults now. https://t.co/ETkCdG8V5q"
        ],
        [
         8591093256,
         "2020-11-22T08:19:01.282+0000",
         1606033141,
         "@AriBerman @tonymascopone #WayneCounty has certified the #USElectionResults now. https://t.co/ETkCdG8V5q"
        ],
        [
         8591080584,
         "2020-11-22T08:10:18.869+0000",
         1606032618,
         "I’m quite enjoying the recounts. We all get to relive Biden winning again and again #USElectionResults"
        ],
        [
         8591044504,
         "2020-11-22T07:55:56.492+0000",
         1606031756,
         "The Secretary of State of Pennsylvania says she will not order a recount in the state\n#USElectionResults"
        ],
        [
         8591070856,
         "2020-11-22T08:04:06.329+0000",
         1606032246,
         "Well, I guess this makes it official then... #PresidentBiden\nhttps://t.co/zOjXlX06fV #USElectionResults"
        ],
        [
         8591060696,
         "2020-11-22T07:56:41.485+0000",
         1606031801,
         "Dead men tell no tales\nOr vote, just regime’s fables \nIn squalid post truth\n#haiku #USElectionResults"
        ],
        [
         8591073456,
         "2020-11-22T08:14:45.138+0000",
         1606032885,
         "#USElectionResults #jimmykimmel \nThis WORLD is Really Crazy\n 😊 Jimmy kimmel https://t.co/VXO564bLMr"
        ],
        [
         8591057312,
         "2020-11-22T07:53:50.205+0000",
         1606031630,
         "Thank you @staceyabrams \n#georgia \n#USElectionResults \n#PresidentElectJoeBiden https://t.co/caIMBo8YCE"
        ],
        [
         8590973792,
         "2020-11-22T07:09:06.037+0000",
         1606028946,
         "#USElectionResults #jimmykimmel \nThis WORLD is Really Crazy\n 😊 Jimmy kimmel https://t.co/VXO564bLMr"
        ],
        [
         8590976952,
         "2020-11-22T07:11:06.017+0000",
         1606029066,
         ".@scriptsberlin PI, Jessica Gienow-Hecht, on the #USElectionResults. Tune in! https://t.co/N10m5su3ZC"
        ],
        [
         8591076616,
         "2020-11-22T08:16:45.129+0000",
         1606033005,
         ".@scriptsberlin PI, Jessica Gienow-Hecht, on the #USElectionResults. Tune in! https://t.co/N10m5su3ZC"
        ],
        [
         8591022672,
         "2020-11-22T07:30:43.247+0000",
         1606030243,
         "NO I WON THE ELECTION ACTUALLY @realDonaldTrump \n\n#USElection2020 #USElectionResults #IWonTheElection"
        ],
        [
         8591097808,
         "2020-11-22T08:21:53.499+0000",
         1606033313,
         "Worth watching...\n\n#USElectionResults #WayneCountyBoardOfCanvassers #ItsOver https://t.co/24OCNiwrqd"
        ],
        [
         8591000024,
         "2020-11-22T07:16:14.313+0000",
         1606029374,
         "Worth watching...\n\n#USElectionResults #WayneCountyBoardOfCanvassers #ItsOver https://t.co/24OCNiwrqd"
        ],
        [
         8591065792,
         "2020-11-22T08:00:24.211+0000",
         1606032024,
         "@realDonaldTrump and now this....looks like the games up #USElectionResults https://t.co/vBJpeWQMMW"
        ],
        [
         8591056120,
         "2020-11-22T08:03:41.348+0000",
         1606032221,
         "Today on best things seen during the US election😂😂 #USElectionResults https://t.co/zI8d1xEinm"
        ],
        [
         8590973640,
         "2020-11-22T07:08:54.818+0000",
         1606028934,
         "@keithedwards I’ve heard about running for President but this is ridiculous!\n\n#USElectionResults"
        ],
        [
         8591029648,
         "2020-11-22T07:45:22.387+0000",
         1606031122,
         "The ‘husky men with beards march’ looks like an unreal time #USElectionResults #MarchForLosers"
        ],
        [
         8591073304,
         "2020-11-22T08:14:35.137+0000",
         1606032875,
         "@keithedwards I’ve heard about running for President but this is ridiculous!\n\n#USElectionResults"
        ],
        [
         8591046280,
         "2020-11-22T07:46:07.397+0000",
         1606031167,
         "@FoxNews MMM - Million MAGA March \n\n#Election2020 #ElectionNight #USElectionResults #USElection2020"
        ],
        [
         8591045152,
         "2020-11-22T07:56:26.478+0000",
         1606031786,
         "This is Facebook fact checking me 🤣🤣🤣🤣🤣 #USElectionResults https://t.co/2rYYVIOHSp"
        ],
        [
         8591080248,
         "2020-11-22T08:09:58.867+0000",
         1606032598,
         "Are Georgia still counting ??? #USElectionResults #USElectionResults2020 https://t.co/z6NLnjcDGE"
        ],
        [
         8590982464,
         "2020-11-22T07:04:19.791+0000",
         1606028659,
         "Are Georgia still counting ??? #USElectionResults #USElectionResults2020 https://t.co/z6NLnjcDGE"
        ],
        [
         8591080144,
         "2020-11-22T08:19:16.260+0000",
         1606033156,
         "How far with @realDonaldTrump, is he winning or he is still a Loser... 😅\n\n#USElectionResults"
        ],
        [
         8590980480,
         "2020-11-22T07:13:37.110+0000",
         1606029217,
         "How far with @realDonaldTrump, is he winning or he is still a Loser... 😅\n\n#USElectionResults"
        ],
        [
         8591040112,
         "2020-11-22T07:42:06.014+0000",
         1606030926,
         "@realDonaldTrump you are a fopdoodle! #USAelection2020 #USElectionResults #USElections2020 #USA"
        ],
        [
         8591040416,
         "2020-11-22T07:52:55.198+0000",
         1606031575,
         "This election is already over🇺🇲 #USAElections2020 #USElectionResults #USElection #JoeBiden"
        ],
        [
         8590970456,
         "2020-11-22T07:06:44.815+0000",
         1606028804,
         "#USElectionResults \nJoe Biden wins Georgia's (16 EVs) by 12,284 votes, https://t.co/h4BQ8OPJMv"
        ],
        [
         8590990904,
         "2020-11-22T07:20:35.613+0000",
         1606029635,
         "This guy who I wont name, is an enemy of democracy. #USElectionResults https://t.co/sSQrMd4YkP"
        ],
        [
         8591070120,
         "2020-11-22T08:12:23.878+0000",
         1606032743,
         "#USElectionResults \nJoe Biden wins Georgia's (16 EVs) by 12,284 votes, https://t.co/h4BQ8OPJMv"
        ],
        [
         8591015552,
         "2020-11-22T07:35:49.628+0000",
         1606030549,
         "Freedom of speech...with a disclaimer #USPRESIDENT #USElectionResults https://t.co/s4MAnMawMN"
        ],
        [
         8591047040,
         "2020-11-22T07:46:37.391+0000",
         1606031197,
         "Maybe the endless #USElectionResults lawsuit shenanigans will be like Bleak House. #Trump2020"
        ],
        [
         8591080736,
         "2020-11-22T08:10:28.871+0000",
         1606032628,
         "It's not an EGO issue… it's a VOTER FRAUD issue\n\n#USElectionResults https://t.co/7KbhRa0vVq"
        ],
        [
         8590982952,
         "2020-11-22T07:04:49.795+0000",
         1606028689,
         "It's not an EGO issue… it's a VOTER FRAUD issue\n\n#USElectionResults https://t.co/7KbhRa0vVq"
        ],
        [
         8591001824,
         "2020-11-22T07:17:39.152+0000",
         1606029459,
         "Omfg. Not sure if I want to laugh or cry. #fmlusa #USElectionResults https://t.co/5Z9IgO1zpl"
        ],
        [
         8591063632,
         "2020-11-22T07:58:52.843+0000",
         1606031932,
         "Her Donnie!\n@realDonaldTrump\n#USElectionResults\nThey called Arizona! https://t.co/Yv7d61SV1m"
        ],
        [
         8591099608,
         "2020-11-22T08:23:18.434+0000",
         1606033398,
         "Omfg. Not sure if I want to laugh or cry. #fmlusa #USElectionResults https://t.co/5Z9IgO1zpl"
        ],
        [
         8591041384,
         "2020-11-22T07:42:56.048+0000",
         1606030976,
         "@Strandjunker The .@GOP and its leaders like @GOPLeader have never cared. #USElectionResults"
        ],
        [
         8591024552,
         "2020-11-22T07:31:53.259+0000",
         1606030313,
         "Another normal day at the #WhiteHouse...\n#USElectionResults🇺🇸 https://t.co/NJKQVSr3zF"
        ],
        [
         8591055976,
         "2020-11-22T08:03:31.355+0000",
         1606032211,
         "#USElectionResults 2020 : Biden defeats Trump to win presidency ... https://t.co/y1hpq3dAyd"
        ],
        [
         8591070968,
         "2020-11-22T08:13:03.882+0000",
         1606032783,
         "says it all really ... #USElectionResults  #USElection #Trump #trump https://t.co/bKyBq78Y4U"
        ],
        [
         8591053448,
         "2020-11-22T08:01:39.231+0000",
         1606032099,
         "Wow, Mr Trump is getting a bit of a thumping in the election isn’t he! #USElectionResults"
        ],
        [
         8590971304,
         "2020-11-22T07:07:24.820+0000",
         1606028844,
         "says it all really ... #USElectionResults  #USElection #Trump #trump https://t.co/bKyBq78Y4U"
        ],
        [
         8591008816,
         "2020-11-22T07:31:38.261+0000",
         1606030298,
         "Is the drama still not over on #USElectionResults #USAElections2020 https://t.co/LHyhLXdezU"
        ],
        [
         8591054656,
         "2020-11-22T08:02:29.221+0000",
         1606032149,
         "Puss has spoken ... Trump is gone\n\n#Caturday \n#USElectionResults https://t.co/YbSlUBuA9X"
        ],
        [
         8591002920,
         "2020-11-22T07:27:46.931+0000",
         1606030066,
         "Can anyone name at least one OFFICIAL source that's called the  #USElectionResults? 🤔"
        ],
        [
         8591025688,
         "2020-11-22T07:42:31.028+0000",
         1606030951,
         "Why is Georgia recounting ballots when everything has been decided? #USElectionResults"
        ],
        [
         8591008432,
         "2020-11-22T07:31:18.253+0000",
         1606030278,
         "@realDonaldTrump Did not. Did so. Did not. Did so. DID NAAAGGHHTTTT! #USElectionResults"
        ],
        [
         8591040560,
         "2020-11-22T07:53:05.182+0000",
         1606031585,
         "Note: #MI03 is a #pickup.\n\n(5) #USElectionResults #CA48 #NM02 https://t.co/djECKMVKUN"
        ],
        [
         8591053240,
         "2020-11-22T07:50:38.846+0000",
         1606031438,
         "@jonworth @jonworth I think that option is gone...#USElectionResults #Brexit #nodeal"
        ],
        [
         8591026216,
         "2020-11-22T07:43:02.393+0000",
         1606030982,
         "We can all learn a lot from #SouthDakota #USElectionResults https://t.co/jBXy6YtTB1"
        ],
        [
         8591032760,
         "2020-11-22T07:37:24.656+0000",
         1606030644,
         "@williegiltenan Because it was directed at #USElectionResults conspiracy theorists"
        ],
        [
         8591087744,
         "2020-11-22T08:24:24.819+0000",
         1606033464,
         "Sorry  - what did you say Tom Melbourne #USElectionResults https://t.co/STfiezEK6H"
        ],
        [
         8590988080,
         "2020-11-22T07:18:45.460+0000",
         1606029525,
         "Sorry  - what did you say Tom Melbourne #USElectionResults https://t.co/STfiezEK6H"
        ],
        [
         8590987208,
         "2020-11-22T07:18:04.127+0000",
         1606029484,
         "History does repeat itself. #Trump and #USElectionResults https://t.co/8Db7pPY8i0"
        ],
        [
         8591086872,
         "2020-11-22T08:23:43.456+0000",
         1606033423,
         "History does repeat itself. #Trump and #USElectionResults https://t.co/8Db7pPY8i0"
        ],
        [
         8591059112,
         "2020-11-22T07:55:30.195+0000",
         1606031730,
         "The margin has spoken #BidenHarris2020 #USElectionResults https://t.co/GxNTBNGMFt"
        ],
        [
         8591010272,
         "2020-11-22T07:22:40.622+0000",
         1606029760,
         "He has a good sense of humor 👌🏽\n#USElectionResults https://t.co/2DKVzJOEpN"
        ],
        [
         8591021448,
         "2020-11-22T07:29:51.952+0000",
         1606030191,
         "Remember when Joe Biden said this \n\n#USElectionResults\n\n https://t.co/uwMxzh0Cud"
        ],
        [
         8591039984,
         "2020-11-22T07:41:56.010+0000",
         1606030916,
         "Hahahaha lmfao the meltdown continues #USElectionResults https://t.co/AurQmUSZnY"
        ],
        [
         8591099256,
         "2020-11-22T08:22:55.338+0000",
         1606033375,
         "The latest What the Fatah!! https://t.co/QpOIRtIvpJ #cdnpoli #uselectionresults"
        ],
        [
         8591086872,
         "2020-11-22T08:14:30.129+0000",
         1606032870,
         "@DavMicRot Listing the FRAUD. Thank you.\n#ByeByeBiden #Trump #USElectionResults"
        ],
        [
         8590989088,
         "2020-11-22T07:08:49.837+0000",
         1606028929,
         "@DavMicRot Listing the FRAUD. Thank you.\n#ByeByeBiden #Trump #USElectionResults"
        ],
        [
         8591001472,
         "2020-11-22T07:17:16.211+0000",
         1606029436,
         "The latest What the Fatah!! https://t.co/QpOIRtIvpJ #cdnpoli #uselectionresults"
        ],
        [
         8591070728,
         "2020-11-22T08:03:56.343+0000",
         1606032236,
         "A compelling, analogous thread here\n#USElectionResults https://t.co/lTdcPUbTZG"
        ],
        [
         8591031400,
         "2020-11-22T07:36:24.644+0000",
         1606030584,
         "@elonmusk great job #Spacex maybe you can get to bottom of #USElectionResults"
        ],
        [
         8591065944,
         "2020-11-22T08:00:34.227+0000",
         1606032034,
         "I miss @JohnKingCNN, @Phil_Mattingly and the #MagicWall :( #USElectionResults"
        ],
        [
         8591031048,
         "2020-11-22T07:46:12.383+0000",
         1606031172,
         "The #USElectionResults farce summed up in one tweet. https://t.co/4KKaU3xdjN"
        ],
        [
         8591059760,
         "2020-11-22T07:56:01.466+0000",
         1606031761,
         "NBC projects that Joe Biden has won the state of Georgia\n#USElectionResults"
        ],
        [
         8591072632,
         "2020-11-22T08:05:17.605+0000",
         1606032317,
         "Make this STOP! #BidenHarris2020 #USElectionResults https://t.co/Qm2rAiQKxG"
        ],
        [
         8591019648,
         "2020-11-22T07:38:19.650+0000",
         1606030699,
         "He we go again #USElectionResults #USElections2020 https://t.co/kWNqegujZg"
        ],
        [
         8591030344,
         "2020-11-22T07:35:44.641+0000",
         1606030544,
         "Here’s more. #USElections2020 #USElectionResults https://t.co/D1FuRfnkTi"
        ],
        [
         8591057896,
         "2020-11-22T07:54:20.194+0000",
         1606031660,
         "A fully coloured map #USElectionResults #nytimes https://t.co/surd5N66YX"
        ],
        [
         8591026640,
         "2020-11-22T07:33:13.255+0000",
         1606030393,
         "Situation \n@realDonaldTrump \n#USElectionResults https://t.co/u8iQYPz2Tv"
        ],
        [
         8591070848,
         "2020-11-22T08:12:53.881+0000",
         1606032773,
         "What will next? #USElections #USElectionResults https://t.co/OyRrR3qX5c"
        ],
        [
         8590971184,
         "2020-11-22T07:07:14.819+0000",
         1606028834,
         "What will next? #USElections #USElectionResults https://t.co/OyRrR3qX5c"
        ],
        [
         8591049416,
         "2020-11-22T07:48:27.431+0000",
         1606031307,
         "@ofctimallen To your stupidity and beyond #TimAllen #USElectionResults"
        ],
        [
         8591033768,
         "2020-11-22T07:38:04.662+0000",
         1606030684,
         "A bit\n#PeruvianLivesMatter\n#USElectionResults https://t.co/eNTjJIW3WT"
        ],
        [
         8591033664,
         "2020-11-22T07:48:02.416+0000",
         1606031282,
         "There you go Ireland 😁 #USElectionResults https://t.co/Xh5MgbOP0D"
        ],
        [
         8590983304,
         "2020-11-22T07:15:39.305+0000",
         1606029339,
         "The truth\n#USElection2020\n#USElectionResults https://t.co/EzKo7NYD9B"
        ],
        [
         8591064496,
         "2020-11-22T07:59:32.849+0000",
         1606031972,
         "@NorbertElekes congrats @JoeBiden @KamalaHarris  #USElectionResults"
        ],
        [
         8591082968,
         "2020-11-22T08:21:18.489+0000",
         1606033278,
         "The truth\n#USElection2020\n#USElectionResults https://t.co/EzKo7NYD9B"
        ],
        [
         8591058992,
         "2020-11-22T07:55:20.210+0000",
         1606031720,
         "Scoreboard: 306 to 232. #USElectionResults https://t.co/wtWD16TE3F"
        ],
        [
         8591005584,
         "2020-11-22T07:19:50.606+0000",
         1606029590,
         "Wisconsin win for Biden\n#USElectionResults https://t.co/rGk1YK1IYt"
        ],
        [
         8591058264,
         "2020-11-22T07:54:40.195+0000",
         1606031680,
         "Final counts are in... #USElectionResults https://t.co/85PBfxuVKO"
        ],
        [
         8591078864,
         "2020-11-22T08:18:15.141+0000",
         1606033095,
         "#USElectionResults \n\n#Elections2020 \n\n\"Democracy is a mirage\""
        ],
        [
         8590979200,
         "2020-11-22T07:12:36.023+0000",
         1606029156,
         "#USElectionResults \n\n#Elections2020 \n\n\"Democracy is a mirage\""
        ],
        [
         8591020720,
         "2020-11-22T07:39:11.029+0000",
         1606030751,
         "Like watching the #USElectionResults https://t.co/X9P1KMPcjT"
        ],
        [
         8591042376,
         "2020-11-22T07:54:25.209+0000",
         1606031665,
         "“Beauuutiful” #USElectionResults https://t.co/HIro0R914t"
        ],
        [
         8591009208,
         "2020-11-22T07:31:58.264+0000",
         1606030318,
         "Cry baby😂 #USElectionResults https://t.co/Qy8mInyY9r"
        ],
        [
         8591091192,
         "2020-11-22T08:17:30.127+0000",
         1606033050,
         "Release the servers!!! #USElectionResults \n\nRCX 🤓"
        ],
        [
         8590993408,
         "2020-11-22T07:11:51.045+0000",
         1606029111,
         "Release the servers!!! #USElectionResults \n\nRCX 🤓"
        ],
        [
         8591058672,
         "2020-11-22T07:55:00.201+0000",
         1606031700,
         "The end #USElectionResults https://t.co/0wKsPMLQoH"
        ],
        [
         8591057800,
         "2020-11-22T07:54:10.208+0000",
         1606031650,
         "#Georgia finally came through! #USElectionResults"
        ],
        [
         8591055072,
         "2020-11-22T07:52:10.190+0000",
         1606031530,
         "Trump is a sore loser. Period. #USElectionResults"
        ],
        [
         8590982128,
         "2020-11-22T07:03:59.787+0000",
         1606028639,
         "Will Trump ever concede? #USElectionResults"
        ]
       ],
       "datasetInfos": [],
       "dbfsResultPath": null,
       "isJsonSchema": true,
       "overflow": true,
       "plotOptions": {
        "customPlotOptions": {},
        "displayType": "table",
        "pivotAggregation": null,
        "pivotColumns": null,
        "xColumns": null,
        "yColumns": null
       },
       "removedWidgets": [],
       "schema": [
        {
         "metadata": "{}",
         "name": "Offset",
         "type": "\"long\""
        },
        {
         "metadata": "{}",
         "name": "TimeReadable",
         "type": "\"timestamp\""
        },
        {
         "metadata": "{}",
         "name": "Timestamp",
         "type": "\"long\""
        },
        {
         "metadata": "{}",
         "name": "Body",
         "type": "\"string\""
        }
       ],
       "type": "table"
      }
     },
     "output_type": "display_data"
    }
   ],
   "source": [
    "%sql\n",
    "select * from uselectionresults;"
   ]
  },
  {
   "cell_type": "code",
   "execution_count": 0,
   "metadata": {
    "application/vnd.databricks.v1+cell": {
     "inputWidgets": {},
     "nuid": "58bf1d74-438c-475b-bc26-5f9ebbbe5191",
     "showTitle": false,
     "title": ""
    }
   },
   "outputs": [
    {
     "data": {
      "text/html": [
       "<style scoped>\n",
       "  .table-result-container {\n",
       "    max-height: 300px;\n",
       "    overflow: auto;\n",
       "  }\n",
       "  table, th, td {\n",
       "    border: 1px solid black;\n",
       "    border-collapse: collapse;\n",
       "  }\n",
       "  th, td {\n",
       "    padding: 5px;\n",
       "  }\n",
       "  th {\n",
       "    text-align: left;\n",
       "  }\n",
       "</style><div class='table-result-container'><table class='table-result'><thead style='background-color: white'><tr><th>count(Offset)</th></tr></thead><tbody><tr><td>24614</td></tr></tbody></table></div>"
      ]
     },
     "metadata": {
      "application/vnd.databricks.v1+output": {
       "addedWidgets": {},
       "aggData": [],
       "aggError": "",
       "aggOverflow": false,
       "aggSchema": [],
       "aggSeriesLimitReached": false,
       "aggType": "",
       "arguments": {},
       "columnCustomDisplayInfos": {},
       "data": [
        [
         24614
        ]
       ],
       "datasetInfos": [],
       "dbfsResultPath": null,
       "isJsonSchema": true,
       "overflow": false,
       "plotOptions": {
        "customPlotOptions": {},
        "displayType": "table",
        "pivotAggregation": null,
        "pivotColumns": null,
        "xColumns": null,
        "yColumns": null
       },
       "removedWidgets": [],
       "schema": [
        {
         "metadata": "{}",
         "name": "count(Offset)",
         "type": "\"long\""
        }
       ],
       "type": "table"
      }
     },
     "output_type": "display_data"
    }
   ],
   "source": [
    "%sql\n",
    "SELECT COUNT (Offset)\n",
    "FROM uselectionresults"
   ]
  }
 ],
 "metadata": {
  "application/vnd.databricks.v1+notebook": {
   "dashboards": [],
   "language": "python",
   "notebookName": "EventHubRepro_ReadTweetsFromEventHub",
   "notebookOrigID": 2708502449484265,
   "widgets": {}
  },
  "kernelspec": {
   "display_name": "Python 3",
   "language": "python",
   "name": "python3"
  },
  "language_info": {
   "codemirror_mode": {
    "name": "ipython",
    "version": 3
   },
   "file_extension": ".py",
   "mimetype": "text/x-python",
   "name": "python",
   "nbconvert_exporter": "python",
   "pygments_lexer": "ipython3",
   "version": "3.7.3"
  }
 },
 "nbformat": 4,
 "nbformat_minor": 1
}
